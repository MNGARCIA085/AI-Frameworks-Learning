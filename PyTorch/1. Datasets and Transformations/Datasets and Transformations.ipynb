{
 "cells": [
  {
   "cell_type": "markdown",
   "id": "04118f27",
   "metadata": {},
   "source": [
    "# <font color='#1a5276'> <b> <center> Datasets and Transformations </center> </b> </font>"
   ]
  },
  {
   "cell_type": "markdown",
   "id": "5a1cfe7b",
   "metadata": {},
   "source": [
    "## <font color='blue'>  Table of Contents </font>\n",
    "\n",
    "1. [Introduction](#1)\n",
    "2. [Setup](#2)\n",
    "3. [Simple Dataset](#3) <br>\n",
    "    3.1. [Transformations](#3.1) <br>\n",
    "    3.2. [Composition](#3.2) <br>\n",
    "4. [Image Dataset](#4) <br>\n",
    "    4.1. [Loading data](#4.1) <br>\n",
    "    4.2. [Create a dataset class](#4.2) <br>\n",
    "    4.3. [Torchvision Transforms](#4.3) <br>\n",
    "5. [Built-in datasets](#5)\n",
    "6. [References](#references)"
   ]
  },
  {
   "cell_type": "markdown",
   "id": "0e901c86",
   "metadata": {},
   "source": [
    "<a name=\"1\"></a>\n",
    "## <font color='blue'> <b> 1. Intro </b> </font>\n",
    "\n",
    "PyTorch provides a powerful framework for building and training machine learning models. One of its key strengths lies in its robust dataset and data transformation utilities, which streamline data preparation and preprocessing workflows.\n",
    "\n",
    "This notebook explores how to work with datasets and transformations in PyTorch."
   ]
  },
  {
   "cell_type": "markdown",
   "id": "2d7dc75e",
   "metadata": {},
   "source": [
    "<a name=\"2\"></a>\n",
    "## <font color='blue'> <b> 2. Setup</b> </font>"
   ]
  },
  {
   "cell_type": "code",
   "execution_count": 26,
   "id": "07d9762f",
   "metadata": {},
   "outputs": [],
   "source": [
    "import torch\n",
    "from torch.utils.data import Dataset\n",
    "torch.manual_seed(1)\n",
    "\n",
    "import os\n",
    "import pandas as pd\n",
    "\n",
    "from PIL import Image\n",
    "import matplotlib.pyplot as plt\n",
    "from matplotlib.pyplot import imshow"
   ]
  },
  {
   "cell_type": "markdown",
   "id": "07884add",
   "metadata": {},
   "source": [
    "<a name=\"3\"></a>\n",
    "## <font color='blue'> <b> 3. Simple Dataset </b> </font>\n",
    "\n",
    "We will create our own dataset class."
   ]
  },
  {
   "cell_type": "code",
   "execution_count": 3,
   "id": "b6e94663",
   "metadata": {},
   "outputs": [],
   "source": [
    "class ExampleSet(Dataset):\n",
    "    \"\"\"\n",
    "    A simple example dataset for illustration.\n",
    "    \n",
    "    Attributes:\n",
    "        len (int): The length of the dataset.\n",
    "        x (Tensor): A tensor of input data.\n",
    "        y (Tensor): A tensor of target labels.\n",
    "        transform (callable, optional): A transform to apply to the data (default is None).\n",
    "    \"\"\"\n",
    "    \n",
    "    def __init__(self, length=10, transform=None):\n",
    "        \"\"\"\n",
    "        Initializes the dataset with the given length (10 by default) and optional transform.\n",
    "        \n",
    "        Args:\n",
    "            length (int): The number of samples in the dataset (default is 10).\n",
    "            transform (callable, optional): A transform to apply to the data (default is None).\n",
    "        \"\"\"\n",
    "        self.len = length\n",
    "        # Create a tensor of shape (length, 2) filled with the value 2 for input data.\n",
    "        self.x = 2 * torch.ones(length, 2)  \n",
    "        # Create a tensor of shape (length, 1) filled with the value 1 for target labels.\n",
    "        self.y = torch.ones(length, 1)  \n",
    "        self.transform = transform\n",
    "        \n",
    "    def __getitem__(self, index):\n",
    "        \"\"\"\n",
    "        Retrieves a sample from the dataset at the specified index.\n",
    "        \n",
    "        Args:\n",
    "            index (int): The index of the sample to retrieve.\n",
    "        \n",
    "        Returns:\n",
    "            tuple: A tuple (input_data, target_label), possibly transformed.\n",
    "        \"\"\"\n",
    "        # Create a sample from x and y tensors\n",
    "        sample = self.x[index], self.y[index]\n",
    "        \n",
    "        # Apply the transform if provided\n",
    "        if self.transform:\n",
    "            sample = self.transform(sample)\n",
    "        \n",
    "        return sample\n",
    "    \n",
    "    def __len__(self):\n",
    "        \"\"\"\n",
    "        Returns the total number of samples in the dataset.\n",
    "        \n",
    "        Returns:\n",
    "            int: The length of the dataset.\n",
    "        \"\"\"\n",
    "        return self.len\n"
   ]
  },
  {
   "cell_type": "markdown",
   "id": "51860237",
   "metadata": {},
   "source": [
    "Let's try this class:"
   ]
  },
  {
   "cell_type": "code",
   "execution_count": 4,
   "id": "3d85a0f0",
   "metadata": {},
   "outputs": [],
   "source": [
    "# create an object\n",
    "example_dataset = ExampleSet()"
   ]
  },
  {
   "cell_type": "code",
   "execution_count": 5,
   "id": "0f7e3a59",
   "metadata": {},
   "outputs": [
    {
     "name": "stdout",
     "output_type": "stream",
     "text": [
      "Our toy_set object: <__main__.ExampleSet object at 0x7d27e0eeb6a0>\n",
      "Value on index 0 of our toy_set object: (tensor([2., 2.]), tensor([1.]))\n",
      "Our toy_set length: 10\n"
     ]
    }
   ],
   "source": [
    "print(f\"Our toy_set object: {example_dataset}\")\n",
    "print(f\"Value on index 0 of our toy_set object: {example_dataset[0]}\")\n",
    "print(f\"Our toy_set length: {len(example_dataset)}\")"
   ]
  },
  {
   "cell_type": "markdown",
   "id": "68d025b9",
   "metadata": {},
   "source": [
    "Let's print the first 3 elements and assign them to x and y:"
   ]
  },
  {
   "cell_type": "code",
   "execution_count": 6,
   "id": "e4e43371",
   "metadata": {},
   "outputs": [
    {
     "name": "stdout",
     "output_type": "stream",
     "text": [
      "index:  0 ; x: tensor([2., 2.]) ; y: tensor([1.])\n",
      "index:  1 ; x: tensor([2., 2.]) ; y: tensor([1.])\n",
      "index:  2 ; x: tensor([2., 2.]) ; y: tensor([1.])\n"
     ]
    }
   ],
   "source": [
    "for i in range(3):\n",
    "    x, y = example_dataset[i]\n",
    "    print(\"index: \", i, '; x:', x, '; y:', y)"
   ]
  },
  {
   "cell_type": "markdown",
   "id": "c6dad695",
   "metadata": {},
   "source": [
    "The dataset object is an iterable:"
   ]
  },
  {
   "cell_type": "code",
   "execution_count": 7,
   "id": "3f109173",
   "metadata": {},
   "outputs": [
    {
     "name": "stdout",
     "output_type": "stream",
     "text": [
      " x: tensor([2., 2.]) y: tensor([1.])\n",
      " x: tensor([2., 2.]) y: tensor([1.])\n",
      " x: tensor([2., 2.]) y: tensor([1.])\n",
      " x: tensor([2., 2.]) y: tensor([1.])\n",
      " x: tensor([2., 2.]) y: tensor([1.])\n",
      " x: tensor([2., 2.]) y: tensor([1.])\n",
      " x: tensor([2., 2.]) y: tensor([1.])\n",
      " x: tensor([2., 2.]) y: tensor([1.])\n",
      " x: tensor([2., 2.]) y: tensor([1.])\n",
      " x: tensor([2., 2.]) y: tensor([1.])\n"
     ]
    }
   ],
   "source": [
    "for x,y in example_dataset:\n",
    "    print(' x:', x, 'y:', y)"
   ]
  },
  {
   "cell_type": "markdown",
   "id": "147832fa",
   "metadata": {},
   "source": [
    "<a name=\"3.1\"></a>\n",
    "### <font color='#2471a3'> <b> 3.1. Transformations </b> </font>\n",
    "\n",
    "We can create a class to transform data."
   ]
  },
  {
   "cell_type": "code",
   "execution_count": 13,
   "id": "b940958a",
   "metadata": {},
   "outputs": [],
   "source": [
    "class AddMult(object):\n",
    "    \"\"\"\n",
    "    A callable class that adds and multiplies values to the input sample.\n",
    "    \n",
    "    Attributes:\n",
    "        addx (int): The value to add to the first element of the sample.\n",
    "        muly (int): The value to mutiply the second element of the sample.\n",
    "    \"\"\"\n",
    "    \n",
    "    def __init__(self, addx=1, muly=2):\n",
    "        \"\"\"\n",
    "        Initializes the AddMult object with specified addition values.\n",
    "        \n",
    "        Args:\n",
    "            addx (int): The value to add to the first element of the sample (default is 1).\n",
    "            muly (int): The value to multiply to the second element of the sample (default is 2).\n",
    "        \"\"\"\n",
    "        self.addx = addx\n",
    "        self.muly = muly\n",
    "        \n",
    "    def __call__(self, sample):\n",
    "        \"\"\"\n",
    "        Adds `addx` to the first element and multiply by `muly` the second element of the sample.\n",
    "        \n",
    "        Args:\n",
    "            sample (tuple): A tuple containing two elements (x, y).\n",
    "        \n",
    "        Returns:\n",
    "            tuple: A new tuple with updated values (x + addx, y * muly).\n",
    "        \"\"\"\n",
    "        # Extract elements from the sample tuple\n",
    "        x = sample[0]\n",
    "        y = sample[1]\n",
    "        \n",
    "        # Add addx to the first element and muly to the second element\n",
    "        x = x + self.addx\n",
    "        y = y * self.muly\n",
    "        \n",
    "        # Return the modified sample as a tuple\n",
    "        sample = x, y\n",
    "        return sample\n"
   ]
  },
  {
   "cell_type": "code",
   "execution_count": 14,
   "id": "d24ed95d",
   "metadata": {},
   "outputs": [],
   "source": [
    "# create an object AddMult\n",
    "a_m = AddMult()\n",
    "\n",
    "# create an object ExampleSet\n",
    "dataset = ExampleSet()"
   ]
  },
  {
   "cell_type": "code",
   "execution_count": 15,
   "id": "b346f3b0",
   "metadata": {},
   "outputs": [
    {
     "name": "stdout",
     "output_type": "stream",
     "text": [
      "Index: 0 | Original x: tensor([2., 2.]) | Original y: tensor([1.])\n",
      "Index: 0 | Transformed x_: tensor([3., 3.]) | Transformed y_: tensor([2.])\n",
      "Index: 1 | Original x: tensor([2., 2.]) | Original y: tensor([1.])\n",
      "Index: 1 | Transformed x_: tensor([3., 3.]) | Transformed y_: tensor([2.])\n",
      "Index: 2 | Original x: tensor([2., 2.]) | Original y: tensor([1.])\n",
      "Index: 2 | Transformed x_: tensor([3., 3.]) | Transformed y_: tensor([2.])\n"
     ]
    }
   ],
   "source": [
    "# Iterate over the first 3 samples in the dataset\n",
    "for i in range(3):\n",
    "    # Get the original sample (x, y) from the dataset at index i\n",
    "    x, y = dataset[i]\n",
    "    \n",
    "    # Print the original values of x and y at the current index\n",
    "    print(f'Index: {i} | Original x: {x} | Original y: {y}')\n",
    "    \n",
    "    # Apply the transformation (via the callable 'a_m') to the sample at index i\n",
    "    x_, y_ = a_m(dataset[i])\n",
    "    \n",
    "    # Print the transformed values of x_ and y_ at the current index\n",
    "    print(f'Index: {i} | Transformed x_: {x_} | Transformed y_: {y_}')\n",
    "\n"
   ]
  },
  {
   "cell_type": "markdown",
   "id": "a635adc5",
   "metadata": {},
   "source": [
    "For example, for index 1:\n",
    "\n",
    "```\n",
    "x_ = x + 1 = [2, 2] + 1 = [3, 3]\n",
    "\n",
    "y_ = y * 2 = [1] * 2 = 2\n",
    "\n"
   ]
  },
  {
   "cell_type": "markdown",
   "id": "5ec1f705",
   "metadata": {},
   "source": [
    "Is it necessary to always apply the transformation every time we create a new ExampleSet object? Remember that in the constructor of the ExampleSet class, we have the parameter transform=None. When we create a new object using the constructor, we can assign the transformation object to the transform parameter as follows:"
   ]
  },
  {
   "cell_type": "code",
   "execution_count": 16,
   "id": "8324cd8b",
   "metadata": {},
   "outputs": [],
   "source": [
    "custom_dataset = ExampleSet(transform = a_m)"
   ]
  },
  {
   "cell_type": "markdown",
   "id": "f15d58f4",
   "metadata": {},
   "source": [
    "This applies the a_m object (transformation method) to each element in custom_dataset when it is initialized. Let's print the first 3 elements:"
   ]
  },
  {
   "cell_type": "code",
   "execution_count": 17,
   "id": "b1c2be1e",
   "metadata": {},
   "outputs": [
    {
     "name": "stdout",
     "output_type": "stream",
     "text": [
      "Index: 0 | Original x: tensor([2., 2.]) | Original y: tensor([1.])\n",
      "Index: 0 | Transformed x_: tensor([3., 3.]) | Transformed y_: tensor([2.])\n",
      "Index: 1 | Original x: tensor([2., 2.]) | Original y: tensor([1.])\n",
      "Index: 1 | Transformed x_: tensor([3., 3.]) | Transformed y_: tensor([2.])\n",
      "Index: 2 | Original x: tensor([2., 2.]) | Original y: tensor([1.])\n",
      "Index: 2 | Transformed x_: tensor([3., 3.]) | Transformed y_: tensor([2.])\n"
     ]
    }
   ],
   "source": [
    "for i in range(3):\n",
    "    x, y = dataset[i]\n",
    "    print(f'Index: {i} | Original x: {x} | Original y: {y}')\n",
    "    x_, y_ = custom_dataset[i]\n",
    "    print(f'Index: {i} | Transformed x_: {x_} | Transformed y_: {y_}')\n"
   ]
  },
  {
   "cell_type": "markdown",
   "id": "a4bc5d26",
   "metadata": {},
   "source": [
    "<a name=\"3.2\"></a>\n",
    "### <font color='#2471a3'> <b> 3.2. Composition </b> </font>\n",
    "\n",
    "We can create a class to transform data.\n",
    "\n",
    "\n",
    "\n",
    "We can combine multiple transformations in a single object dataset."
   ]
  },
  {
   "cell_type": "code",
   "execution_count": 18,
   "id": "6bde0b4d",
   "metadata": {},
   "outputs": [],
   "source": [
    "# Run the command below when you do not have torchvision installed\n",
    "#!conda install -y torchvision\n",
    "#!pip install torchvision"
   ]
  },
  {
   "cell_type": "code",
   "execution_count": 19,
   "id": "f506de12",
   "metadata": {},
   "outputs": [],
   "source": [
    "from torchvision import transforms"
   ]
  },
  {
   "cell_type": "markdown",
   "id": "b7e5cb96",
   "metadata": {},
   "source": [
    "We will create a new class that multiplies each input element by 100."
   ]
  },
  {
   "cell_type": "code",
   "execution_count": 20,
   "id": "d5d54f88",
   "metadata": {},
   "outputs": [],
   "source": [
    "class Mult(object):\n",
    "    \n",
    "    # Constructor\n",
    "    def __init__(self, mult = 100):\n",
    "        self.mult = mult\n",
    "        \n",
    "    # Executor\n",
    "    def __call__(self, sample):\n",
    "        x = sample[0]\n",
    "        y = sample[1]\n",
    "        x = x * self.mult\n",
    "        y = y * self.mult\n",
    "        sample = x, y\n",
    "        return sample"
   ]
  },
  {
   "cell_type": "markdown",
   "id": "09f9a742",
   "metadata": {},
   "source": [
    "Now, we will combine the transformations \"add_mult\" and \"mult\":"
   ]
  },
  {
   "cell_type": "code",
   "execution_count": 21,
   "id": "c72850a7",
   "metadata": {},
   "outputs": [
    {
     "name": "stdout",
     "output_type": "stream",
     "text": [
      "The combination of transforms (Compose):  Compose(\n",
      "    <__main__.AddMult object at 0x7d276f20cee0>\n",
      "    <__main__.Mult object at 0x7d276f20d960>\n",
      ")\n"
     ]
    }
   ],
   "source": [
    "# combine transformations\n",
    "data_transform = transforms.Compose([AddMult(), Mult()])\n",
    "\n",
    "# print\n",
    "print(\"The combination of transforms (Compose): \", data_transform)"
   ]
  },
  {
   "cell_type": "markdown",
   "id": "7f7a49ff",
   "metadata": {},
   "source": [
    "The new compose object will perform the transformations as shown in the following figure:\n",
    "    \n",
    "<img src=\"images/Composition.png\"/>\n",
    "    "
   ]
  },
  {
   "cell_type": "code",
   "execution_count": 22,
   "id": "0ec188c3",
   "metadata": {},
   "outputs": [
    {
     "data": {
      "text/plain": [
       "(tensor([300., 300.]), tensor([200.]))"
      ]
     },
     "execution_count": 22,
     "metadata": {},
     "output_type": "execute_result"
    }
   ],
   "source": [
    "data_transform(dataset[0])"
   ]
  },
  {
   "cell_type": "code",
   "execution_count": 23,
   "id": "14b59dc8",
   "metadata": {},
   "outputs": [
    {
     "name": "stdout",
     "output_type": "stream",
     "text": [
      "Original x:  tensor([2., 2.]) Original y:  tensor([1.])\n",
      "Transformed x_: tensor([300., 300.]) Transformed y_: tensor([200.])\n"
     ]
    }
   ],
   "source": [
    "x,y = dataset[0]\n",
    "x_,y_= data_transform(dataset[0])\n",
    "\n",
    "print( 'Original x: ', x, 'Original y: ', y)\n",
    "print( 'Transformed x_:', x_, 'Transformed y_:', y_)"
   ]
  },
  {
   "cell_type": "markdown",
   "id": "5caf0d6d",
   "metadata": {},
   "source": [
    "We can use this transformation directly:"
   ]
  },
  {
   "cell_type": "code",
   "execution_count": 24,
   "id": "c1e95935",
   "metadata": {},
   "outputs": [],
   "source": [
    "compose_dataset = ExampleSet(transform = data_transform)"
   ]
  },
  {
   "cell_type": "code",
   "execution_count": 25,
   "id": "84e9da87",
   "metadata": {},
   "outputs": [
    {
     "name": "stdout",
     "output_type": "stream",
     "text": [
      "Index: 0 | Original x: tensor([2., 2.]) | Original y: tensor([1.])\n",
      "Index: 0 | Transformed x_: tensor([3., 3.]) | Transformed y_: tensor([2.])\n",
      "Index: 0 | Compose Transformed x_co: tensor([300., 300.]) | Compose Transformed y_co: tensor([200.])\n",
      "Index: 1 | Original x: tensor([2., 2.]) | Original y: tensor([1.])\n",
      "Index: 1 | Transformed x_: tensor([3., 3.]) | Transformed y_: tensor([2.])\n",
      "Index: 1 | Compose Transformed x_co: tensor([300., 300.]) | Compose Transformed y_co: tensor([200.])\n",
      "Index: 2 | Original x: tensor([2., 2.]) | Original y: tensor([1.])\n",
      "Index: 2 | Transformed x_: tensor([3., 3.]) | Transformed y_: tensor([2.])\n",
      "Index: 2 | Compose Transformed x_co: tensor([300., 300.]) | Compose Transformed y_co: tensor([200.])\n"
     ]
    }
   ],
   "source": [
    "# Print first 3 elements\n",
    "\n",
    "for i in range(3):\n",
    "    # Retrieve the original sample from data_set\n",
    "    x, y = dataset[i]\n",
    "    print(f'Index: {i} | Original x: {x} | Original y: {y}')\n",
    "    \n",
    "    # Retrieve the transformed sample from cust_data_set\n",
    "    x_, y_ = custom_dataset[i]\n",
    "    print(f'Index: {i} | Transformed x_: {x_} | Transformed y_: {y_}')\n",
    "    \n",
    "    # Retrieve the compose-transformed sample from compose_data_set\n",
    "    x_co, y_co = compose_dataset[i]\n",
    "    print(f'Index: {i} | Compose Transformed x_co: {x_co} | Compose Transformed y_co: {y_co}')\n"
   ]
  },
  {
   "cell_type": "markdown",
   "id": "9f24250c",
   "metadata": {},
   "source": [
    "<a name=\"4\"></a>\n",
    "## <font color='blue'> <b> 4. Image Dataset </b> </font>"
   ]
  },
  {
   "cell_type": "markdown",
   "id": "4c2c56f0",
   "metadata": {},
   "source": [
    "<a name=\"4.1\"></a>\n",
    "### <font color='#2471a3'> <b> 4.1. Loading data </b> </font>"
   ]
  },
  {
   "cell_type": "code",
   "execution_count": 27,
   "id": "783a5e3a",
   "metadata": {},
   "outputs": [],
   "source": [
    "# Read CSV file from the URL and print out the first five samples\n",
    "directory=\"data\"\n",
    "csv_file ='index.csv'\n",
    "csv_path=os.path.join(directory,csv_file)"
   ]
  },
  {
   "cell_type": "code",
   "execution_count": 28,
   "id": "ea52fabb",
   "metadata": {},
   "outputs": [
    {
     "data": {
      "text/html": [
       "<div>\n",
       "<style scoped>\n",
       "    .dataframe tbody tr th:only-of-type {\n",
       "        vertical-align: middle;\n",
       "    }\n",
       "\n",
       "    .dataframe tbody tr th {\n",
       "        vertical-align: top;\n",
       "    }\n",
       "\n",
       "    .dataframe thead th {\n",
       "        text-align: right;\n",
       "    }\n",
       "</style>\n",
       "<table border=\"1\" class=\"dataframe\">\n",
       "  <thead>\n",
       "    <tr style=\"text-align: right;\">\n",
       "      <th></th>\n",
       "      <th>category</th>\n",
       "      <th>image</th>\n",
       "    </tr>\n",
       "  </thead>\n",
       "  <tbody>\n",
       "    <tr>\n",
       "      <th>0</th>\n",
       "      <td>Ankle boot</td>\n",
       "      <td>img/fashion0.png</td>\n",
       "    </tr>\n",
       "    <tr>\n",
       "      <th>1</th>\n",
       "      <td>T-shirt</td>\n",
       "      <td>img/fashion1.png</td>\n",
       "    </tr>\n",
       "    <tr>\n",
       "      <th>2</th>\n",
       "      <td>T-shirt</td>\n",
       "      <td>img/fashion2.png</td>\n",
       "    </tr>\n",
       "    <tr>\n",
       "      <th>3</th>\n",
       "      <td>Dress</td>\n",
       "      <td>img/fashion3.png</td>\n",
       "    </tr>\n",
       "    <tr>\n",
       "      <th>4</th>\n",
       "      <td>T-shirt</td>\n",
       "      <td>img/fashion4.png</td>\n",
       "    </tr>\n",
       "  </tbody>\n",
       "</table>\n",
       "</div>"
      ],
      "text/plain": [
       "     category             image\n",
       "0  Ankle boot  img/fashion0.png\n",
       "1     T-shirt  img/fashion1.png\n",
       "2     T-shirt  img/fashion2.png\n",
       "3       Dress  img/fashion3.png\n",
       "4     T-shirt  img/fashion4.png"
      ]
     },
     "execution_count": 28,
     "metadata": {},
     "output_type": "execute_result"
    }
   ],
   "source": [
    "data_name = pd.read_csv(csv_path)\n",
    "data_name.head()"
   ]
  },
  {
   "cell_type": "markdown",
   "id": "0387f44e",
   "metadata": {},
   "source": [
    "The first column of the dataframe corresponds to the type of clothing. The second column is the name of the image file corresponding to the clothing. You can obtain the path of the first file by using the method  <code> <i>DATAFRAME</i>.iloc[0, 1]</code>. The first argument corresponds to the sample number, and the second input corresponds to the column index. \n"
   ]
  },
  {
   "cell_type": "code",
   "execution_count": 29,
   "id": "b1173c0f",
   "metadata": {},
   "outputs": [
    {
     "name": "stdout",
     "output_type": "stream",
     "text": [
      "File name: img/fashion0.png\n"
     ]
    }
   ],
   "source": [
    "# Get the value on location row 0, column 1 (Notice that index starts at 0)\n",
    "# remember this dataset has only 100 samples to make the download faster  \n",
    "print('File name:', data_name.iloc[0, 1])"
   ]
  },
  {
   "cell_type": "markdown",
   "id": "80fe5691",
   "metadata": {},
   "source": [
    "As the class of the sample is in the first column, you can also obtain the class value as follows."
   ]
  },
  {
   "cell_type": "code",
   "execution_count": 30,
   "id": "43433bfc",
   "metadata": {},
   "outputs": [
    {
     "name": "stdout",
     "output_type": "stream",
     "text": [
      "y: Ankle boot\n"
     ]
    }
   ],
   "source": [
    "# Get the value on location row 0, column 0 (Notice that index starts at 0.)\n",
    "print('y:', data_name.iloc[0, 0])"
   ]
  },
  {
   "cell_type": "markdown",
   "id": "926ea678",
   "metadata": {},
   "source": [
    "Similarly, You can obtain the file name of the second image file and class type:"
   ]
  },
  {
   "cell_type": "code",
   "execution_count": 32,
   "id": "1a248ddc",
   "metadata": {},
   "outputs": [
    {
     "name": "stdout",
     "output_type": "stream",
     "text": [
      "File name: img/fashion1.png\n",
      "class or y: T-shirt\n"
     ]
    }
   ],
   "source": [
    "# Print out the file name and the class number of the element on row 1 (the second row)\n",
    "print('File name:', data_name.iloc[1, 1])\n",
    "print('class or y:', data_name.iloc[1, 0])"
   ]
  },
  {
   "cell_type": "code",
   "execution_count": 33,
   "id": "e54bfde8",
   "metadata": {},
   "outputs": [
    {
     "name": "stdout",
     "output_type": "stream",
     "text": [
      "The number of rows:  60000\n"
     ]
    }
   ],
   "source": [
    "# Print out the total number of rows in traing dataset\n",
    "print('The number of rows: ', data_name.shape[0])"
   ]
  },
  {
   "cell_type": "markdown",
   "id": "7d6e3735",
   "metadata": {},
   "source": [
    "#### Load an image"
   ]
  },
  {
   "cell_type": "code",
   "execution_count": 34,
   "id": "5eb35600",
   "metadata": {},
   "outputs": [
    {
     "data": {
      "text/plain": [
       "'img/fashion1.png'"
      ]
     },
     "execution_count": 34,
     "metadata": {},
     "output_type": "execute_result"
    }
   ],
   "source": [
    "# To load the image, you need the directory and the image name.\n",
    "# Combine the directory path with file name\n",
    "image_name = data_name.iloc[1, 1]\n",
    "image_name"
   ]
  },
  {
   "cell_type": "code",
   "execution_count": 35,
   "id": "a333f13f",
   "metadata": {},
   "outputs": [
    {
     "data": {
      "text/plain": [
       "'data/img/fashion1.png'"
      ]
     },
     "execution_count": 35,
     "metadata": {},
     "output_type": "execute_result"
    }
   ],
   "source": [
    "image_path = os.path.join(directory,image_name)\n",
    "image_path"
   ]
  },
  {
   "cell_type": "markdown",
   "id": "fd6814d7",
   "metadata": {},
   "source": [
    "You can then use the function <code>Image.open</code> to store the image to the variable <code>image</code> and display the image and class ."
   ]
  },
  {
   "cell_type": "code",
   "execution_count": 36,
   "id": "d8566a8d",
   "metadata": {},
   "outputs": [
    {
     "data": {
      "image/png": "[encoded data removed]",
      "text/plain": [
       "<Figure size 640x480 with 1 Axes>"
      ]
     },
     "metadata": {},
     "output_type": "display_data"
    }
   ],
   "source": [
    "# Plot the second training image\n",
    "\n",
    "image = Image.open(image_path)\n",
    "plt.imshow(image,cmap='gray', vmin=0, vmax=255)\n",
    "plt.title(data_name.iloc[1, 0])\n",
    "plt.show()"
   ]
  },
  {
   "cell_type": "markdown",
   "id": "7b7dc07d",
   "metadata": {},
   "source": [
    "<a name=\"4.2\"></a>\n",
    "### <font color='#2471a3'> <b> 4.2. Create a dataset class </b> </font>\n",
    "\n",
    "We will use the components in the last section to build a dataset class and then create an object."
   ]
  },
  {
   "cell_type": "code",
   "execution_count": 37,
   "id": "6508b0d8",
   "metadata": {},
   "outputs": [],
   "source": [
    "class Dataset(Dataset):\n",
    "    \"\"\"\n",
    "    A custom dataset class for loading images and applying transformations.\n",
    "    \"\"\"\n",
    "    \n",
    "    # constructor\n",
    "    def __init__(self, csv_file, data_dir, transform=None):\n",
    "        \"\"\"\n",
    "        Initialize the dataset.\n",
    "        \n",
    "        Args:\n",
    "            csv_file (str): Name of the CSV file containing image information.\n",
    "            data_dir (str): Directory where the images are stored.\n",
    "            transform (callable, optional): A function/transform to apply to the images.\n",
    "        \"\"\"\n",
    "        \n",
    "        # Image directory\n",
    "        self.data_dir = data_dir\n",
    "        \n",
    "        # The transform is going to be used on image\n",
    "        self.transform = transform\n",
    "        \n",
    "        data_dircsv_file = os.path.join(self.data_dir, csv_file)\n",
    "        \n",
    "        # load CSV file that contains image info\n",
    "        self.data_name = pd.read_csv(data_dircsv_file)\n",
    "        \n",
    "        # number of images in the dataset\n",
    "        self.len = self.data_name.shape[0]\n",
    "        \n",
    "        \n",
    "    # get the length\n",
    "    def __len__(self):\n",
    "        \"\"\"\n",
    "        Return the number of samples in the dataset.\n",
    "        \"\"\"\n",
    "        return self.len\n",
    "    \n",
    "    # getter\n",
    "    def __getitem__(self, idx):\n",
    "        \"\"\"\n",
    "        Retrieve an image and its corresponding label.\n",
    "        \n",
    "        Args:\n",
    "            idx (int): Index of the sample to retrieve.\n",
    "        \n",
    "        Returns:\n",
    "            tuple: (image, label)\n",
    "        \"\"\"\n",
    "        \n",
    "        # image file path\n",
    "        img_name = os.path.join(self.data_dir, self.data_name.iloc[idx, 1])\n",
    "        \n",
    "        # open image file\n",
    "        image = Image.open(img_name)\n",
    "        \n",
    "        # The class label for the image\n",
    "        y = self.data_name.iloc[idx, 0]\n",
    "        \n",
    "        # if there is any transform method, apply it onto the image\n",
    "        if self.transform:\n",
    "            image = self.transform(image)\n",
    "            \n",
    "        return image, y\n",
    "    \n"
   ]
  },
  {
   "cell_type": "code",
   "execution_count": 38,
   "id": "805edd4b",
   "metadata": {},
   "outputs": [
    {
     "data": {
      "text/plain": [
       "('index.csv', 'data')"
      ]
     },
     "execution_count": 38,
     "metadata": {},
     "output_type": "execute_result"
    }
   ],
   "source": [
    "csv_file, directory"
   ]
  },
  {
   "cell_type": "code",
   "execution_count": 39,
   "id": "06e79136",
   "metadata": {},
   "outputs": [],
   "source": [
    "# create a dataset object\n",
    "dataset = Dataset(csv_file=csv_file, data_dir=directory)"
   ]
  },
  {
   "cell_type": "markdown",
   "id": "81ae553c",
   "metadata": {},
   "source": [
    "Each sample of the image and the class y is stored in a tuple <code> dataset[sample]</code> . The image is the first element in the tuple <code> dataset[sample][0]</code> the label or class is the second element in the tuple <code> dataset[sample][1]</code>. For example you can plot the first image and class."
   ]
  },
  {
   "cell_type": "code",
   "execution_count": 40,
   "id": "2b73a976",
   "metadata": {},
   "outputs": [
    {
     "data": {
      "image/png": "[encoded data removed]",
      "text/plain": [
       "<Figure size 640x480 with 1 Axes>"
      ]
     },
     "metadata": {},
     "output_type": "display_data"
    }
   ],
   "source": [
    "image = dataset[0][0]\n",
    "y = dataset[0][1]\n",
    "\n",
    "plt.imshow(image,cmap='gray', vmin=0, vmax=255)\n",
    "plt.title(y)\n",
    "plt.show()"
   ]
  },
  {
   "cell_type": "markdown",
   "id": "3e687f58",
   "metadata": {},
   "source": [
    "<a name=\"4.3\"></a>\n",
    "### <font color='#2471a3'> <b> 4.3. Torchvision transforms </b> </font>"
   ]
  },
  {
   "cell_type": "code",
   "execution_count": 41,
   "id": "46529513",
   "metadata": {},
   "outputs": [],
   "source": [
    "import torchvision.transforms as transforms"
   ]
  },
  {
   "cell_type": "markdown",
   "id": "3a8491a1",
   "metadata": {},
   "source": [
    "We can apply some image transform functions on the dataset object. \n",
    "\n",
    "For example, the image can be:\n",
    "\n",
    "- cropped\n",
    "- converted to a tensor. \n",
    "\n",
    "We can use <code>transform.Compose</code> to combine the two transform functions."
   ]
  },
  {
   "cell_type": "code",
   "execution_count": 42,
   "id": "7df68653",
   "metadata": {},
   "outputs": [
    {
     "name": "stdout",
     "output_type": "stream",
     "text": [
      "The shape of the first element tensor:  torch.Size([1, 20, 20])\n"
     ]
    }
   ],
   "source": [
    "# Combine two transforms: crop and convert to tensor. Apply the compose to MNIST dataset\n",
    "\n",
    "croptensor_data_transform = transforms.Compose([transforms.CenterCrop(20), transforms.ToTensor()])\n",
    "dataset = Dataset(csv_file=csv_file , data_dir=directory,transform=croptensor_data_transform )\n",
    "print(\"The shape of the first element tensor: \", dataset[0][0].shape)"
   ]
  },
  {
   "cell_type": "markdown",
   "id": "f22d9e44",
   "metadata": {},
   "source": [
    "We can see the image is now 20 x 20."
   ]
  },
  {
   "cell_type": "code",
   "execution_count": 52,
   "id": "d067b39d",
   "metadata": {},
   "outputs": [],
   "source": [
    "def show_data(data_sample, shape = (28, 28)):\n",
    "    plt.imshow(data_sample[0].numpy().reshape(shape), cmap='gray')\n",
    "    plt.title('y = ' + data_sample[1])"
   ]
  },
  {
   "cell_type": "code",
   "execution_count": 44,
   "id": "7e4840f3",
   "metadata": {},
   "outputs": [
    {
     "data": {
      "image/png": "[encoded data removed]",
      "text/plain": [
       "<Figure size 640x480 with 1 Axes>"
      ]
     },
     "metadata": {},
     "output_type": "display_data"
    }
   ],
   "source": [
    "show_data(dataset[0],shape = (20, 20))"
   ]
  },
  {
   "cell_type": "markdown",
   "id": "0b842980",
   "metadata": {},
   "source": [
    "In the below example, we Vertically flip the image, and then convert it to a tensor. Use <code>transforms.Compose()</code> to combine these two transform functions. Plot the flipped image."
   ]
  },
  {
   "cell_type": "code",
   "execution_count": 45,
   "id": "79406925",
   "metadata": {},
   "outputs": [
    {
     "data": {
      "image/png": "[encoded data removed]",
      "text/plain": [
       "<Figure size 640x480 with 1 Axes>"
      ]
     },
     "metadata": {},
     "output_type": "display_data"
    }
   ],
   "source": [
    "# Construct the compose. Apply it on MNIST dataset. Plot the image out.\n",
    "fliptensor_data_transform = transforms.Compose([transforms.RandomVerticalFlip(p=1),transforms.ToTensor()])\n",
    "dataset = Dataset(csv_file=csv_file , data_dir=directory,transform=fliptensor_data_transform )\n",
    "\n",
    "show_data(dataset[1])"
   ]
  },
  {
   "cell_type": "markdown",
   "id": "98f679d1",
   "metadata": {},
   "source": [
    "<a name=\"5\"></a>\n",
    "## <font color='blue'> <b> 5. Built-in datasets </b> </font>\n",
    "\n",
    "Torchvision provides many built-in datasets. In this example we will use the MNIST dataset."
   ]
  },
  {
   "cell_type": "code",
   "execution_count": 46,
   "id": "8e1827c4",
   "metadata": {},
   "outputs": [],
   "source": [
    "import torchvision.datasets as dsets"
   ]
  },
  {
   "cell_type": "code",
   "execution_count": 56,
   "id": "d822623c",
   "metadata": {},
   "outputs": [],
   "source": [
    "dataset = dsets.MNIST(\n",
    "    root = './data', \n",
    "    train = False, \n",
    "    download = True, \n",
    "    transform = transforms.ToTensor()\n",
    ")"
   ]
  },
  {
   "cell_type": "code",
   "execution_count": 57,
   "id": "ab223b0e",
   "metadata": {},
   "outputs": [
    {
     "name": "stdout",
     "output_type": "stream",
     "text": [
      "Type of the first element: <class 'tuple'>\n",
      "The length of the tuple: 2\n",
      "The shape of the first element in the tuple: torch.Size([1, 28, 28])\n",
      "The type of the first element in the tuple: <class 'torch.Tensor'>\n",
      "The second element in the tuple: 7\n",
      "The type of the second element in the tuple: <class 'int'>\n",
      "As a result, the structure of the first element in the dataset is (tensor([1, 28, 28]), tensor(7)).\n"
     ]
    }
   ],
   "source": [
    "# Examine whether the elements in dataset MNIST are tuples, and what is in the tuple?\n",
    "\n",
    "print(f\"Type of the first element: {type(dataset[0])}\")\n",
    "print(f\"The length of the tuple: {len(dataset[0])}\")\n",
    "print(f\"The shape of the first element in the tuple: {dataset[0][0].shape}\")\n",
    "print(f\"The type of the first element in the tuple: {type(dataset[0][0])}\")\n",
    "print(f\"The second element in the tuple: {dataset[0][1]}\")\n",
    "print(f\"The type of the second element in the tuple: {type(dataset[0][1])}\")\n",
    "print(\"As a result, the structure of the first element in the dataset is (tensor([1, 28, 28]), tensor(7)).\")\n"
   ]
  },
  {
   "cell_type": "code",
   "execution_count": 58,
   "id": "cd3a9ad5",
   "metadata": {},
   "outputs": [
    {
     "data": {
      "image/png": "[encoded data removed]",
      "text/plain": [
       "<Figure size 640x480 with 1 Axes>"
      ]
     },
     "metadata": {},
     "output_type": "display_data"
    }
   ],
   "source": [
    "def show_data(data_sample, shape = (28, 28)):\n",
    "    plt.imshow(data_sample[0].numpy().reshape(shape), cmap='gray')\n",
    "    plt.title('y = ' + str(data_sample[1])) #.item()\n",
    "\n",
    "show_data(dataset[0])"
   ]
  },
  {
   "cell_type": "code",
   "execution_count": 59,
   "id": "8cfa3b52",
   "metadata": {},
   "outputs": [
    {
     "name": "stdout",
     "output_type": "stream",
     "text": [
      "The shape of the first element in the first tuple:  torch.Size([1, 20, 20])\n"
     ]
    }
   ],
   "source": [
    "# Combine two transforms: crop and convert to tensor. Apply the compose to MNIST dataset\n",
    "\n",
    "croptensor_data_transform = transforms.Compose([transforms.CenterCrop(20), transforms.ToTensor()])\n",
    "dataset = dsets.MNIST(root = './data', train = False, download = True, transform = croptensor_data_transform)\n",
    "print(\"The shape of the first element in the first tuple: \", dataset[0][0].shape)"
   ]
  },
  {
   "cell_type": "code",
   "execution_count": 60,
   "id": "f3a31fee",
   "metadata": {},
   "outputs": [
    {
     "data": {
      "image/png": "[encoded data removed]",
      "text/plain": [
       "<Figure size 640x480 with 1 Axes>"
      ]
     },
     "metadata": {},
     "output_type": "display_data"
    }
   ],
   "source": [
    "show_data(dataset[0],shape = (20, 20))"
   ]
  },
  {
   "cell_type": "markdown",
   "id": "8ef8c113",
   "metadata": {},
   "source": [
    "<a name=\"references\"></a>\n",
    "## <font color='blue'> <b> References </b> </font>\n",
    "\n",
    "[IBM AI Engineering Professional Certificate](https://www.coursera.org/professional-certificates/ai-engineer)"
   ]
  }
 ],
 "metadata": {
  "kernelspec": {
   "display_name": "Python 3 (ipykernel)",
   "language": "python",
   "name": "python3"
  },
  "language_info": {
   "codemirror_mode": {
    "name": "ipython",
    "version": 3
   },
   "file_extension": ".py",
   "mimetype": "text/x-python",
   "name": "python",
   "nbconvert_exporter": "python",
   "pygments_lexer": "ipython3",
   "version": "3.10.12"
  }
 },
 "nbformat": 4,
 "nbformat_minor": 5
}
