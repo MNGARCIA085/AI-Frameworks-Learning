{
 "cells": [
  {
   "cell_type": "markdown",
   "id": "0e0c006e",
   "metadata": {},
   "source": [
    "# <div style=\"text-align: center; color: #1a5276;\">Hyperparameter Tunning</div>"
   ]
  },
  {
   "cell_type": "markdown",
   "id": "a0379482",
   "metadata": {},
   "source": [
    "## <font color='blue'>  Table of Contents </font>\n",
    "\n",
    "1. [Introduction](#1)\n",
    "2. [Setup](#2)\n",
    "3. [Helper Functions](#3) \n",
    "4. [Data](#4) \n",
    "5. [Model](#5)\n",
    "6. [Training Functions](#6)\n",
    "7. [Hyperparameter Tunning](#7)\n",
    "8. [References](#references)"
   ]
  },
  {
   "cell_type": "markdown",
   "id": "da7d558d",
   "metadata": {},
   "source": [
    "<a name=\"1\"></a>\n",
    "## <font color='blue'> 1. Introduction </font>\n",
    "\n",
    "In this notebook, we demonstrate how to perform hyperparameter tuning for a PyTorch model using Ray Tune. We will define a training function compatible with Ray Tune’s API, specify a search space for key hyperparameters (e.g., learning rate, batch size, network size), and leverage Ray Tune’s schedulers to efficiently explore and optimize the configuration. The goal is to identify the best set of hyperparameters that minimize validation loss while maintaining good generalization performance."
   ]
  },
  {
   "cell_type": "markdown",
   "id": "617b3499",
   "metadata": {},
   "source": [
    "<a name=\"2\"></a>\n",
    "## <font color='blue'> 2. Setup </font>"
   ]
  },
  {
   "cell_type": "code",
   "execution_count": 2,
   "id": "fd6b5bf2",
   "metadata": {},
   "outputs": [],
   "source": [
    "#!pip install -U ray"
   ]
  },
  {
   "cell_type": "code",
   "execution_count": 13,
   "id": "3ffb5f99",
   "metadata": {},
   "outputs": [],
   "source": [
    "import numpy as np\n",
    "import torch\n",
    "import torch.nn as nn\n",
    "import torch.optim as optim\n",
    "from sklearn.model_selection import train_test_split\n",
    "from sklearn.preprocessing import StandardScaler\n",
    "from torch.utils.data import TensorDataset, DataLoader\n",
    "\n",
    "from ray import tune\n",
    "from ray.air import session\n",
    "from ray.tune.schedulers import ASHAScheduler\n",
    "\n",
    "import matplotlib.pyplot as plt"
   ]
  },
  {
   "cell_type": "markdown",
   "id": "4e5888d7",
   "metadata": {},
   "source": [
    "<a name=\"3\"></a>\n",
    "## <font color='blue'> 3. Helper Functions </font>"
   ]
  },
  {
   "cell_type": "code",
   "execution_count": 16,
   "id": "b26162eb",
   "metadata": {},
   "outputs": [],
   "source": [
    "import matplotlib.pyplot as plt\n",
    "\n",
    "def plot_data(X_train, y_train):\n",
    "    # Move to numpy for plotting\n",
    "    X = X_train.numpy()\n",
    "    y = y_train.squeeze(1).numpy()\n",
    "\n",
    "    print(f\"Training set size: {X.shape[0]} samples, {X.shape[1]} features\")\n",
    "    print(f\"Validation set size: {len(y)} samples\")\n",
    "    print(f\"Target y mean: {y.mean():.4f}, std: {y.std():.4f}\")\n",
    "\n",
    "    # Create a row of 3 subplots\n",
    "    fig, axes = plt.subplots(1, 3, figsize=(15, 4))\n",
    "\n",
    "    # Scatter: y vs first feature\n",
    "    axes[0].scatter(X[:, 0], y, s=10)\n",
    "    axes[0].set_xlabel(\"Feature X[:,0]\")\n",
    "    axes[0].set_ylabel(\"Target y\")\n",
    "    axes[0].set_title(\"y vs X[:,0]\")\n",
    "\n",
    "    # Scatter: y vs second feature\n",
    "    axes[1].scatter(X[:, 1], y, s=10)\n",
    "    axes[1].set_xlabel(\"Feature X[:,1]\")\n",
    "    axes[1].set_ylabel(\"Target y\")\n",
    "    axes[1].set_title(\"y vs X[:,1]\")\n",
    "\n",
    "    # Histogram of y\n",
    "    axes[2].hist(y, bins=30)\n",
    "    axes[2].set_xlabel(\"Target y\")\n",
    "    axes[2].set_title(\"Distribution of y (training)\")\n",
    "\n",
    "    plt.tight_layout()\n",
    "    plt.show()\n"
   ]
  },
  {
   "cell_type": "markdown",
   "id": "e796460b",
   "metadata": {},
   "source": [
    "<a name=\"4\"></a>\n",
    "## <font color='blue'> 4. Data </font>\n",
    "\n",
    "Let's start by creating synthetic data."
   ]
  },
  {
   "cell_type": "code",
   "execution_count": 8,
   "id": "95e954d9",
   "metadata": {},
   "outputs": [],
   "source": [
    "def get_data():\n",
    "    np.random.seed(0)\n",
    "    X = np.random.rand(1000, 5)\n",
    "    y = 3 * X[:, 0] + 2 * X[:, 1] + np.random.randn(1000) * 0.1\n",
    "\n",
    "    X_train, X_val, y_train, y_val = train_test_split(X, y, test_size=0.2)\n",
    "\n",
    "    scaler = StandardScaler()\n",
    "    X_train = scaler.fit_transform(X_train)\n",
    "    X_val = scaler.transform(X_val)\n",
    "\n",
    "    return (\n",
    "        torch.tensor(X_train, dtype=torch.float32),\n",
    "        torch.tensor(y_train, dtype=torch.float32).unsqueeze(1),\n",
    "        torch.tensor(X_val, dtype=torch.float32),\n",
    "        torch.tensor(y_val, dtype=torch.float32).unsqueeze(1),\n",
    "    )"
   ]
  },
  {
   "cell_type": "code",
   "execution_count": 11,
   "id": "f066504c",
   "metadata": {},
   "outputs": [
    {
     "data": {
      "text/plain": [
       "(torch.Size([800, 5]),\n",
       " torch.Size([800, 1]),\n",
       " torch.Size([200, 5]),\n",
       " torch.Size([200, 1]))"
      ]
     },
     "execution_count": 11,
     "metadata": {},
     "output_type": "execute_result"
    }
   ],
   "source": [
    "X_train, y_train, X_val, y_val = get_data()\n",
    "X_train.shape, y_train.shape, X_val.shape, y_val.shape"
   ]
  },
  {
   "cell_type": "markdown",
   "id": "22a1a927",
   "metadata": {},
   "source": [
    "In this problem, we have 5 features and 1 output label. It is a regression problem."
   ]
  },
  {
   "cell_type": "code",
   "execution_count": 17,
   "id": "fbc3ea33",
   "metadata": {},
   "outputs": [
    {
     "name": "stdout",
     "output_type": "stream",
     "text": [
      "Training set size: 800 samples, 5 features\n",
      "Validation set size: 800 samples\n",
      "Target y mean: 2.4629, std: 1.0346\n"
     ]
    },
    {
     "data": {
      "image/png": "[encoded data removed]",
      "text/plain": [
       "<Figure size 1500x400 with 3 Axes>"
      ]
     },
     "metadata": {},
     "output_type": "display_data"
    }
   ],
   "source": [
    "plot_data(X_train, y_train)"
   ]
  },
  {
   "cell_type": "markdown",
   "id": "8380cf69",
   "metadata": {},
   "source": [
    "<a name=\"5\"></a>\n",
    "## <font color='blue'> 5. Model </font>\n",
    "\n",
    "We will create a simple model for testing purposes."
   ]
  },
  {
   "cell_type": "code",
   "execution_count": 15,
   "id": "42a6fd2d",
   "metadata": {},
   "outputs": [],
   "source": [
    "class SimpleRegressor(nn.Module):\n",
    "    def __init__(self, input_dim, hidden_dim):\n",
    "        super().__init__()\n",
    "        self.net = nn.Sequential(\n",
    "            nn.Linear(input_dim, hidden_dim),\n",
    "            nn.ReLU(),\n",
    "            nn.Linear(hidden_dim, hidden_dim // 2),\n",
    "            nn.ReLU(),\n",
    "            nn.Linear(hidden_dim // 2, 1),\n",
    "        )\n",
    "\n",
    "    def forward(self, x):\n",
    "        return self.net(x)"
   ]
  },
  {
   "cell_type": "markdown",
   "id": "d3fd4515",
   "metadata": {},
   "source": [
    "<a name=\"6\"></a>\n",
    "## <font color='blue'> 6. Training Functions </font>"
   ]
  },
  {
   "cell_type": "code",
   "execution_count": 19,
   "id": "8485cc91",
   "metadata": {},
   "outputs": [],
   "source": [
    "# custom metric: R2 score\n",
    "def r2_score(preds, targets):\n",
    "    ss_res = torch.sum((targets - preds) ** 2)\n",
    "    ss_tot = torch.sum((targets - torch.mean(targets)) ** 2)\n",
    "    return 1 - ss_res / ss_tot"
   ]
  },
  {
   "cell_type": "code",
   "execution_count": 23,
   "id": "fa48af96",
   "metadata": {},
   "outputs": [],
   "source": [
    "# Train one epoch\n",
    "def train_one_epoch(model, train_loader, criterion, optimizer):\n",
    "    model.train()\n",
    "    total_loss = 0.0\n",
    "    count = 0\n",
    "    for xb, yb in train_loader:\n",
    "        pred = model(xb)\n",
    "        loss = criterion(pred, yb)\n",
    "        optimizer.zero_grad()\n",
    "        loss.backward()\n",
    "        optimizer.step()\n",
    "\n",
    "        total_loss += loss.item() * xb.size(0)\n",
    "        count += xb.size(0)\n",
    "    return total_loss / count\n",
    "\n",
    "# Validate\n",
    "def validate(model, X_val, y_val, criterion):\n",
    "    model.eval()\n",
    "    with torch.no_grad():\n",
    "        val_pred = model(X_val)\n",
    "        val_loss = criterion(val_pred, y_val).item()\n",
    "        val_r2 = r2_score(val_pred, y_val).item()\n",
    "    return val_loss, val_r2\n"
   ]
  },
  {
   "cell_type": "markdown",
   "id": "bc117186",
   "metadata": {},
   "source": [
    "Note: Since this project uses Ray Tune for hyperparameter tuning, the train_model function is adapted to work with Ray Tune’s API. In particular, it takes a config dictionary as a parameter, which contains the hyperparameters for the current trial (e.g., learning rate, hidden layer size, batch size, number of epochs)."
   ]
  },
  {
   "cell_type": "code",
   "execution_count": 35,
   "id": "f24ee096",
   "metadata": {},
   "outputs": [],
   "source": [
    "# Train function\n",
    "import tempfile\n",
    "from ray import tune\n",
    "from ray.tune import Checkpoint\n",
    "\n",
    "def train_model(config):\n",
    "    \"\"\"\n",
    "    Train a SimpleRegressor model and report metrics/checkpoints to Ray Tune.\n",
    "\n",
    "    Expected keys in `config`:\n",
    "        - \"hidden_dim\": int, hidden layer size for the regressor.\n",
    "        - \"lr\": float, learning rate for the optimizer.\n",
    "        - \"batch_size\": int or convertible, batch size for training loader.\n",
    "        - \"max_num_epochs\": int, number of epochs to run.\n",
    "\n",
    "    Reports the following to Ray Tune each epoch:\n",
    "        - train_loss: training loss for that epoch.\n",
    "        - loss: validation loss.\n",
    "        - val_r2: validation R² score.\n",
    "        - epoch: current epoch index.\n",
    "        - checkpoint: model state saved as a Ray Tune Checkpoint.\n",
    "    \"\"\"\n",
    "    # Fetch data (assumed to return tensors: X_train, y_train, X_val, y_val)\n",
    "    X_train, y_train, X_val, y_val = get_data()\n",
    "\n",
    "    # Instantiate model with hyperparameter from config\n",
    "    model = SimpleRegressor(input_dim=5, hidden_dim=config[\"hidden_dim\"])\n",
    "\n",
    "    # Use mean squared error for regression\n",
    "    criterion = nn.MSELoss()\n",
    "    # Adam optimizer with learning rate from config\n",
    "    optimizer = optim.Adam(model.parameters(), lr=config[\"lr\"])\n",
    "\n",
    "    # Prepare training DataLoader\n",
    "    train_loader = DataLoader(\n",
    "        TensorDataset(X_train, y_train),\n",
    "        batch_size=int(config[\"batch_size\"]),\n",
    "        shuffle=True,\n",
    "    )\n",
    "\n",
    "    # Epoch loop\n",
    "    for epoch in range(config[\"max_num_epochs\"]):\n",
    "        # Train for one epoch and get training loss\n",
    "        train_loss = train_one_epoch(model, train_loader, criterion, optimizer)\n",
    "\n",
    "        # Evaluate on validation set\n",
    "        val_loss, val_r2 = validate(model, X_val, y_val, criterion)\n",
    "\n",
    "        # Save a checkpoint of the current model state in a temporary directory\n",
    "        with tempfile.TemporaryDirectory() as tmpdir:\n",
    "            path = f\"{tmpdir}/model.pth\"\n",
    "            torch.save(model.state_dict(), path)  # persist model weights\n",
    "            ckpt = Checkpoint.from_directory(tmpdir)  # wrap for Ray Tune\n",
    "\n",
    "            # Report metrics and checkpoint to Ray Tune\n",
    "            tune.report(\n",
    "                {\n",
    "                    \"train_loss\": train_loss,\n",
    "                    \"loss\": val_loss,       # Ray Tune expects \"loss\" as the primary objective name by default\n",
    "                    \"val_r2\": val_r2,\n",
    "                    \"epoch\": epoch,\n",
    "                },\n",
    "                checkpoint=ckpt,\n",
    "            )\n"
   ]
  },
  {
   "cell_type": "code",
   "execution_count": 36,
   "id": "f898a90b",
   "metadata": {},
   "outputs": [],
   "source": [
    "# To test the best model\n",
    "def test_best_model(best_result, smoke_test=False):\n",
    "    X_train, y_train, X_val, y_val = get_data()\n",
    "    model = SimpleRegressor(input_dim=5, hidden_dim=best_result.config[\"hidden_dim\"])\n",
    "\n",
    "    # Load checkpoint weights\n",
    "    checkpoint_path = best_result.checkpoint.to_directory()\n",
    "    state_dict = torch.load(f\"{checkpoint_path}/model.pth\",  weights_only=True)\n",
    "    model.load_state_dict(state_dict)\n",
    "\n",
    "    model.eval()\n",
    "    with torch.no_grad():\n",
    "        preds = model(X_val)\n",
    "        mse = nn.MSELoss()(preds, y_val).item()\n",
    "        r2 = 1 - mse / torch.var(y_val).item()\n",
    "        print(f\"[TEST] Final MSE: {mse:.4f}, R²: {r2:.4f}\")"
   ]
  },
  {
   "cell_type": "markdown",
   "id": "4af1180e",
   "metadata": {},
   "source": [
    "<a name=\"7\"></a>\n",
    "## <font color='blue'> 7. Hyperparameter Tunning </font>\n"
   ]
  },
  {
   "cell_type": "code",
   "execution_count": 37,
   "id": "80815ad8",
   "metadata": {},
   "outputs": [],
   "source": [
    "def main(config, gpus_per_trial=1):\n",
    "    \"\"\"\n",
    "    Run a Ray Tune hyperparameter search using ASHA for early stopping,\n",
    "    then evaluate the best-found model.\n",
    "\n",
    "    Args:\n",
    "        config (dict): Configuration / search space for tuning. Expected to contain:\n",
    "            - \"max_num_epochs\": int, max epochs per trial (used by ASHAScheduler).\n",
    "            - \"num_trials\": int, number of sampled trials.\n",
    "            - Any other hyperparameters consumed by `train_model` (e.g., \"lr\", \"hidden_dim\", etc.).\n",
    "            - Optional \"smoke_test\": bool, if True, `test_best_model` will run a quick sanity check.\n",
    "        gpus_per_trial (int): Number of GPUs to allocate to each trial.\n",
    "\n",
    "    Returns:\n",
    "        ray.tune.result_grid.ResultGrid: The full tuning results object.\n",
    "    \"\"\"\n",
    "    # Set up ASHA scheduler for aggressive early stopping of underperforming trials\n",
    "    scheduler = ASHAScheduler(\n",
    "        time_attr=\"training_iteration\",\n",
    "        max_t=config[\"max_num_epochs\"],\n",
    "        grace_period=1,\n",
    "        reduction_factor=2,\n",
    "    )\n",
    "\n",
    "    # Build the tuner, injecting resources and the trainable function\n",
    "    tuner = tune.Tuner(\n",
    "        tune.with_resources(\n",
    "            tune.with_parameters(train_model),  # train_model must accept `config`\n",
    "            resources={\"cpu\": 2, \"gpu\": gpus_per_trial},\n",
    "        ),\n",
    "        tune_config=tune.TuneConfig(\n",
    "            metric=\"loss\",          # objective to minimize\n",
    "            mode=\"min\",\n",
    "            scheduler=scheduler,    # use ASHA for scheduling\n",
    "            num_samples=config[\"num_trials\"],  # how many hyperparameter samples\n",
    "        ),\n",
    "        param_space=config,  # full config/search space passed to each trial\n",
    "    )\n",
    "\n",
    "    # Execute the tuning run\n",
    "    results = tuner.fit()\n",
    "\n",
    "    # Extract best trial according to validation loss\n",
    "    best_result = results.get_best_result(\"loss\", \"min\")\n",
    "\n",
    "    # Report best trial summary\n",
    "    print(f\"\\n✅ Best trial config: {best_result.config}\")\n",
    "    print(f\"✅ Best trial final validation loss: {best_result.metrics['loss']:.4f}\")\n",
    "    print(f\"✅ Best trial final validation R²: {best_result.metrics['val_r2']:.4f}\")\n",
    "\n",
    "    # Run final test / possibly a quick smoke test on the best model\n",
    "    test_best_model(best_result, smoke_test=config.get(\"smoke_test\", False))\n",
    "\n",
    "    return results\n"
   ]
  },
  {
   "cell_type": "markdown",
   "id": "5288d5e2",
   "metadata": {},
   "source": [
    "Define Ray Tune’s search space. "
   ]
  },
  {
   "cell_type": "code",
   "execution_count": 38,
   "id": "c4592f53",
   "metadata": {},
   "outputs": [],
   "source": [
    "search_config = {\n",
    "    \"lr\": tune.loguniform(1e-4, 1e-1),\n",
    "    \"hidden_dim\": tune.choice([16, 32, 64]),\n",
    "    \"batch_size\": tune.choice([16, 32, 64]),\n",
    "    \"max_num_epochs\": 10,\n",
    "    \"num_trials\": 5,\n",
    "    \"smoke_test\": False,\n",
    "}"
   ]
  },
  {
   "cell_type": "markdown",
   "id": "08fecf74",
   "metadata": {},
   "source": [
    "Execute main"
   ]
  },
  {
   "cell_type": "code",
   "execution_count": 39,
   "id": "979e1120",
   "metadata": {},
   "outputs": [
    {
     "data": {
      "text/html": [
       "<div class=\"tuneStatus\">\n",
       "  <div style=\"display: flex;flex-direction: row\">\n",
       "    <div style=\"display: flex;flex-direction: column;\">\n",
       "      <h3>Tune Status</h3>\n",
       "      <table>\n",
       "<tbody>\n",
       "<tr><td>Current time:</td><td>2025-08-01 16:13:32</td></tr>\n",
       "<tr><td>Running for: </td><td>00:00:36.99        </td></tr>\n",
       "<tr><td>Memory:      </td><td>8.7/9.6 GiB        </td></tr>\n",
       "</tbody>\n",
       "</table>\n",
       "    </div>\n",
       "    <div class=\"vDivider\"></div>\n",
       "    <div class=\"systemInfo\">\n",
       "      <h3>System Info</h3>\n",
       "      Using AsyncHyperBand: num_stopped=5<br>Bracket: Iter 8.000: -0.017265543341636658 | Iter 4.000: -0.019932188093662262 | Iter 2.000: -0.07641694881021976 | Iter 1.000: -0.1921655833721161<br>Logical resource usage: 2.0/4 CPUs, 0/0 GPUs\n",
       "    </div>\n",
       "    <div class=\"vDivider\"></div>\n",
       "<div class=\"messages\">\n",
       "  <h3>Messages</h3>\n",
       "  : ***LOW MEMORY*** less than 10% of the memory on this node is available for use. This can cause unexpected crashes. Consider reducing the memory used by your application or reducing the Ray object store size by setting `object_store_memory` when calling `ray.init`.\n",
       "  \n",
       "  \n",
       "</div>\n",
       "<style>\n",
       ".messages {\n",
       "  color: var(--jp-ui-font-color1);\n",
       "  display: flex;\n",
       "  flex-direction: column;\n",
       "  padding-left: 1em;\n",
       "  overflow-y: auto;\n",
       "}\n",
       ".messages h3 {\n",
       "  font-weight: bold;\n",
       "}\n",
       ".vDivider {\n",
       "  border-left-width: var(--jp-border-width);\n",
       "  border-left-color: var(--jp-border-color0);\n",
       "  border-left-style: solid;\n",
       "  margin: 0.5em 1em 0.5em 1em;\n",
       "}\n",
       "</style>\n",
       "\n",
       "  </div>\n",
       "  <div class=\"hDivider\"></div>\n",
       "  <div class=\"trialStatus\">\n",
       "    <h3>Trial Status</h3>\n",
       "    <table>\n",
       "<thead>\n",
       "<tr><th>Trial name             </th><th>status    </th><th>loc                 </th><th style=\"text-align: right;\">  batch_size</th><th style=\"text-align: right;\">  hidden_dim</th><th style=\"text-align: right;\">         lr</th><th style=\"text-align: right;\">  iter</th><th style=\"text-align: right;\">  total time (s)</th><th style=\"text-align: right;\">  train_loss</th><th style=\"text-align: right;\">     loss</th><th style=\"text-align: right;\">   val_r2</th></tr>\n",
       "</thead>\n",
       "<tbody>\n",
       "<tr><td>train_model_8753b_00000</td><td>TERMINATED</td><td>200.40.20.243:496183</td><td style=\"text-align: right;\">          16</td><td style=\"text-align: right;\">          16</td><td style=\"text-align: right;\">0.000135114</td><td style=\"text-align: right;\">     2</td><td style=\"text-align: right;\">         3.10571</td><td style=\"text-align: right;\">   8.80631  </td><td style=\"text-align: right;\">8.74794  </td><td style=\"text-align: right;\">-6.67683 </td></tr>\n",
       "<tr><td>train_model_8753b_00001</td><td>TERMINATED</td><td>200.40.20.243:496184</td><td style=\"text-align: right;\">          32</td><td style=\"text-align: right;\">          64</td><td style=\"text-align: right;\">0.0189052  </td><td style=\"text-align: right;\">    10</td><td style=\"text-align: right;\">         3.36191</td><td style=\"text-align: right;\">   0.011362 </td><td style=\"text-align: right;\">0.0115258</td><td style=\"text-align: right;\"> 0.989885</td></tr>\n",
       "<tr><td>train_model_8753b_00002</td><td>TERMINATED</td><td>200.40.20.243:496337</td><td style=\"text-align: right;\">          32</td><td style=\"text-align: right;\">          16</td><td style=\"text-align: right;\">0.000142155</td><td style=\"text-align: right;\">     1</td><td style=\"text-align: right;\">         3.66905</td><td style=\"text-align: right;\">   5.98506  </td><td style=\"text-align: right;\">6.07514  </td><td style=\"text-align: right;\">-4.3313  </td></tr>\n",
       "<tr><td>train_model_8753b_00003</td><td>TERMINATED</td><td>200.40.20.243:496338</td><td style=\"text-align: right;\">          16</td><td style=\"text-align: right;\">          32</td><td style=\"text-align: right;\">0.00448687 </td><td style=\"text-align: right;\">     4</td><td style=\"text-align: right;\">         3.85106</td><td style=\"text-align: right;\">   0.0532696</td><td style=\"text-align: right;\">0.0338374</td><td style=\"text-align: right;\"> 0.970306</td></tr>\n",
       "<tr><td>train_model_8753b_00004</td><td>TERMINATED</td><td>200.40.20.243:496456</td><td style=\"text-align: right;\">          16</td><td style=\"text-align: right;\">          16</td><td style=\"text-align: right;\">0.022203   </td><td style=\"text-align: right;\">     8</td><td style=\"text-align: right;\">         4.07661</td><td style=\"text-align: right;\">   0.0142449</td><td style=\"text-align: right;\">0.0172918</td><td style=\"text-align: right;\"> 0.984825</td></tr>\n",
       "</tbody>\n",
       "</table>\n",
       "  </div>\n",
       "</div>\n",
       "<style>\n",
       ".tuneStatus {\n",
       "  color: var(--jp-ui-font-color1);\n",
       "}\n",
       ".tuneStatus .systemInfo {\n",
       "  display: flex;\n",
       "  flex-direction: column;\n",
       "}\n",
       ".tuneStatus td {\n",
       "  white-space: nowrap;\n",
       "}\n",
       ".tuneStatus .trialStatus {\n",
       "  display: flex;\n",
       "  flex-direction: column;\n",
       "}\n",
       ".tuneStatus h3 {\n",
       "  font-weight: bold;\n",
       "}\n",
       ".tuneStatus .hDivider {\n",
       "  border-bottom-width: var(--jp-border-width);\n",
       "  border-bottom-color: var(--jp-border-color0);\n",
       "  border-bottom-style: solid;\n",
       "}\n",
       ".tuneStatus .vDivider {\n",
       "  border-left-width: var(--jp-border-width);\n",
       "  border-left-color: var(--jp-border-color0);\n",
       "  border-left-style: solid;\n",
       "  margin: 0.5em 1em 0.5em 1em;\n",
       "}\n",
       "</style>\n"
      ],
      "text/plain": [
       "<IPython.core.display.HTML object>"
      ]
     },
     "metadata": {},
     "output_type": "display_data"
    },
    {
     "name": "stderr",
     "output_type": "stream",
     "text": [
      "\u001b[36m(train_model pid=496184)\u001b[0m Checkpoint successfully created at: Checkpoint(filesystem=local, path=/home/marcos/ray_results/train_model_2025-08-01_16-12-55/train_model_8753b_00001_1_batch_size=32,hidden_dim=64,lr=0.0189_2025-08-01_16-12-55/checkpoint_000000)\n",
      "\u001b[36m(train_model pid=496184)\u001b[0m Checkpoint successfully created at: Checkpoint(filesystem=local, path=/home/marcos/ray_results/train_model_2025-08-01_16-12-55/train_model_8753b_00001_1_batch_size=32,hidden_dim=64,lr=0.0189_2025-08-01_16-12-55/checkpoint_000001)\n",
      "\u001b[36m(train_model pid=496184)\u001b[0m Checkpoint successfully created at: Checkpoint(filesystem=local, path=/home/marcos/ray_results/train_model_2025-08-01_16-12-55/train_model_8753b_00001_1_batch_size=32,hidden_dim=64,lr=0.0189_2025-08-01_16-12-55/checkpoint_000002)\n",
      "\u001b[36m(train_model pid=496338)\u001b[0m Checkpoint successfully created at: Checkpoint(filesystem=local, path=/home/marcos/ray_results/train_model_2025-08-01_16-12-55/train_model_8753b_00003_3_batch_size=16,hidden_dim=32,lr=0.0045_2025-08-01_16-12-55/checkpoint_000000)\u001b[32m [repeated 10x across cluster]\u001b[0m\n",
      "\u001b[36m(train_model pid=496456)\u001b[0m Checkpoint successfully created at: Checkpoint(filesystem=local, path=/home/marcos/ray_results/train_model_2025-08-01_16-12-55/train_model_8753b_00004_4_batch_size=16,hidden_dim=16,lr=0.0222_2025-08-01_16-12-55/checkpoint_000000)\u001b[32m [repeated 5x across cluster]\u001b[0m\n",
      "2025-08-01 16:13:32,413\tINFO tune.py:1009 -- Wrote the latest version of all result files and experiment state to '/home/marcos/ray_results/train_model_2025-08-01_16-12-55' in 0.0131s.\n",
      "2025-08-01 16:13:32,432\tINFO tune.py:1041 -- Total run time: 37.03 seconds (36.97 seconds for the tuning loop).\n"
     ]
    },
    {
     "name": "stdout",
     "output_type": "stream",
     "text": [
      "\n",
      "✅ Best trial config: {'lr': 0.0189051728301868, 'hidden_dim': 64, 'batch_size': 32, 'max_num_epochs': 10, 'num_trials': 5, 'smoke_test': False}\n",
      "✅ Best trial final validation loss: 0.0115\n",
      "✅ Best trial final validation R²: 0.9899\n",
      "[TEST] Final MSE: 0.0115, R²: 0.9899\n"
     ]
    }
   ],
   "source": [
    "r = main(search_config, gpus_per_trial=1 if torch.cuda.is_available() else 0)"
   ]
  },
  {
   "cell_type": "code",
   "execution_count": 40,
   "id": "06c3c2ac",
   "metadata": {},
   "outputs": [
    {
     "data": {
      "text/plain": [
       "{'lr': 0.0189051728301868,\n",
       " 'hidden_dim': 64,\n",
       " 'batch_size': 32,\n",
       " 'max_num_epochs': 10,\n",
       " 'num_trials': 5,\n",
       " 'smoke_test': False}"
      ]
     },
     "execution_count": 40,
     "metadata": {},
     "output_type": "execute_result"
    }
   ],
   "source": [
    "# To see clearly the best hyperparameters\n",
    "r.get_best_result(\"loss\", \"min\").config"
   ]
  },
  {
   "cell_type": "markdown",
   "id": "d9de2d85",
   "metadata": {},
   "source": [
    "<a name=\"references\"></a>\n",
    "## <font color='blue'> References </font>\n",
    "\n",
    "[Ray Tune](https://docs.pytorch.org/tutorials/beginner/hyperparameter_tuning_tutorial.html)"
   ]
  }
 ],
 "metadata": {
  "kernelspec": {
   "display_name": "Python 3 (ipykernel)",
   "language": "python",
   "name": "python3"
  },
  "language_info": {
   "codemirror_mode": {
    "name": "ipython",
    "version": 3
   },
   "file_extension": ".py",
   "mimetype": "text/x-python",
   "name": "python",
   "nbconvert_exporter": "python",
   "pygments_lexer": "ipython3",
   "version": "3.10.12"
  }
 },
 "nbformat": 4,
 "nbformat_minor": 5
}
