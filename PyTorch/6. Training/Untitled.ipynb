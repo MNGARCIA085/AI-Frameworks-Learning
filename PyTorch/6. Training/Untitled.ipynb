{
 "cells": [
  {
   "cell_type": "markdown",
   "id": "78eb9d81-9915-471d-a23f-b05616ba8740",
   "metadata": {},
   "source": [
    "# <div style=\"text-align: center; color: #1a5276;\">Advanced Training</div>"
   ]
  },
  {
   "cell_type": "markdown",
   "id": "49d5100e-592d-4442-ba93-cfa6ddffced0",
   "metadata": {},
   "source": [
    "## <font color='blue'>  Table of Contents </font>\n",
    "\n",
    "1. [Introduction](#1)\n",
    "2. [Setup](#2)\n",
    "3. [Helper Functions](#3) \n",
    "4. [Data](#4) \n",
    "5. [Model](#5)\n",
    "6. [Training](#6) <br>\n",
    "    6.1. [Basic Training](#6.1) <br>\n",
    "    6.2. [Including a progress bar](#6.2) <br>\n",
    "    6.3. [Including a validation set and a custom metric](#6.3) <br>\n",
    "    6.4. [Code improvement](#6.4) <br>\n",
    "8. [References](#references)"
   ]
  },
  {
   "cell_type": "markdown",
   "id": "2536f186-9d07-43d4-a5dd-7f639905a182",
   "metadata": {},
   "source": [
    "<a name=\"1\"></a>\n",
    "## <font color='blue'> 1. Introduction </font>\n",
    "\n",
    "https://gemini.google.com/app/c49f12a5fb1aef13?hl=es"
   ]
  },
  {
   "cell_type": "markdown",
   "id": "4d56b52e-689f-4793-9069-f37776d76270",
   "metadata": {},
   "source": [
    "<a name=\"2\"></a>\n",
    "## <font color='blue'> 2. Setup </font>"
   ]
  },
  {
   "cell_type": "code",
   "execution_count": 1,
   "id": "c47489ce-2423-4eba-a9f9-92725bdbbee8",
   "metadata": {},
   "outputs": [],
   "source": [
    "import torch\n",
    "import torch.nn as nn\n",
    "from torch.utils.data import DataLoader"
   ]
  },
  {
   "cell_type": "markdown",
   "id": "9588c4d2-3390-4b27-80bc-1edc750b4168",
   "metadata": {},
   "source": [
    "<a name=\"3\"></a>\n",
    "## <font color='blue'> 3. Data </font>"
   ]
  },
  {
   "cell_type": "code",
   "execution_count": 2,
   "id": "93c54dda-01ef-4338-88d0-55f4d0d677e8",
   "metadata": {},
   "outputs": [],
   "source": [
    "# binary data\n",
    "from sklearn.datasets import make_classification\n",
    "from sklearn.model_selection import train_test_split\n",
    "from torch.utils.data import TensorDataset\n",
    "\n",
    "# Synthetic binary data\n",
    "X, y = make_classification(n_samples=1000, n_features=20, n_classes=2, random_state=0)\n",
    "X = torch.tensor(X, dtype=torch.float32)\n",
    "y = torch.tensor(y, dtype=torch.long)\n",
    "\n",
    "# Split: 70% train, 15% val, 15% test\n",
    "X_train, X_tmp, y_train, y_tmp = train_test_split(X, y, test_size=0.3, random_state=0)\n",
    "X_val, X_test, y_val, y_test = train_test_split(X_tmp, y_tmp, test_size=0.5, random_state=0)\n",
    "\n",
    "train_loader = DataLoader(TensorDataset(X_train, y_train), batch_size=32, shuffle=True)\n",
    "val_loader = DataLoader(TensorDataset(X_val, y_val), batch_size=32)\n",
    "test_loader = DataLoader(TensorDataset(X_test, y_test), batch_size=32)"
   ]
  },
  {
   "cell_type": "code",
   "execution_count": null,
   "id": "a45a4c7c",
   "metadata": {},
   "outputs": [],
   "source": []
  },
  {
   "cell_type": "code",
   "execution_count": 3,
   "id": "f46b9ce9",
   "metadata": {},
   "outputs": [],
   "source": [
    "from sklearn.datasets import make_classification\n",
    "from sklearn.model_selection import train_test_split\n",
    "from sklearn.preprocessing import StandardScaler\n",
    "from torch.utils.data import TensorDataset, DataLoader\n",
    "import torch\n",
    "\n",
    "# 1. Generate synthetic data\n",
    "X, y = make_classification(n_samples=1000, n_features=20, n_classes=2, random_state=0)\n",
    "\n",
    "# 2. Split data before scaling\n",
    "X_train, X_tmp, y_train, y_tmp = train_test_split(X, y, test_size=0.3, random_state=0)\n",
    "X_val, X_test, y_val, y_test = train_test_split(X_tmp, y_tmp, test_size=0.5, random_state=0)\n",
    "\n",
    "# 3. Fit scaler on training data only\n",
    "scaler = StandardScaler()\n",
    "X_train = scaler.fit_transform(X_train)   # Fit + transform train\n",
    "X_val = scaler.transform(X_val)           # Transform val only\n",
    "X_test = scaler.transform(X_test)         # Transform test only\n",
    "\n",
    "# 4. Convert to torch tensors\n",
    "X_train = torch.tensor(X_train, dtype=torch.float32)\n",
    "y_train = torch.tensor(y_train, dtype=torch.long)\n",
    "\n",
    "X_val = torch.tensor(X_val, dtype=torch.float32)\n",
    "y_val = torch.tensor(y_val, dtype=torch.long)\n",
    "\n",
    "X_test = torch.tensor(X_test, dtype=torch.float32)\n",
    "y_test = torch.tensor(y_test, dtype=torch.long)\n",
    "\n",
    "# 5. Create DataLoaders\n",
    "train_loader = DataLoader(TensorDataset(X_train, y_train), batch_size=32, shuffle=True)\n",
    "val_loader = DataLoader(TensorDataset(X_val, y_val), batch_size=32)\n",
    "test_loader = DataLoader(TensorDataset(X_test, y_test), batch_size=32)\n"
   ]
  },
  {
   "cell_type": "code",
   "execution_count": null,
   "id": "1d887ca1",
   "metadata": {},
   "outputs": [],
   "source": []
  },
  {
   "cell_type": "code",
   "execution_count": null,
   "id": "b60c922c",
   "metadata": {},
   "outputs": [],
   "source": []
  },
  {
   "cell_type": "code",
   "execution_count": null,
   "id": "edab95b9",
   "metadata": {},
   "outputs": [],
   "source": []
  },
  {
   "cell_type": "markdown",
   "id": "54c69c70-1581-4cf3-8367-5657d7d3eb29",
   "metadata": {},
   "source": [
    "### Model"
   ]
  },
  {
   "cell_type": "code",
   "execution_count": 12,
   "id": "fe09fb32",
   "metadata": {},
   "outputs": [
    {
     "data": {
      "text/plain": [
       "'\\n# example: using CrossEntropyLoss (expects integer class labels 0 or 1)\\ncriterion = nn.CrossEntropyLoss()\\n\\n# dummy input and target\\nx = torch.randn(8, 20, device=DEVICE)          # batch of 8\\ny = torch.randint(0, 2, (8,), device=DEVICE)   # labels 0 or 1\\n\\nlogits1 = model1(x)  # shape (8,2)\\nloss1 = criterion(logits1, y)\\n'"
      ]
     },
     "execution_count": 12,
     "metadata": {},
     "output_type": "execute_result"
    }
   ],
   "source": [
    "import torch\n",
    "import torch.nn as nn\n",
    "\n",
    "# device once\n",
    "DEVICE = torch.device(\"cuda\" if torch.cuda.is_available() else \"cpu\")\n",
    "\n",
    "device = torch.device(\"cuda\" if torch.cuda.is_available() else \"cpu\")\n",
    "\n",
    "class BinaryClassifier(nn.Module):\n",
    "    def __init__(self, input_dim=20, hidden=16, output_dim=2):\n",
    "        super().__init__()\n",
    "        self.net = nn.Sequential(\n",
    "            nn.Linear(input_dim, hidden),\n",
    "            nn.ReLU(),\n",
    "            nn.Linear(hidden, output_dim)\n",
    "        )\n",
    "\n",
    "    def forward(self, x):\n",
    "        return self.net(x)\n",
    "\n",
    "# instantiate two separate models\n",
    "model1 = BinaryClassifier().to(DEVICE)\n",
    "model2 = BinaryClassifier().to(DEVICE)\n",
    "\n",
    "\n",
    "\n",
    "\n",
    "\"\"\"\n",
    "# example: using CrossEntropyLoss (expects integer class labels 0 or 1)\n",
    "criterion = nn.CrossEntropyLoss()\n",
    "\n",
    "# dummy input and target\n",
    "x = torch.randn(8, 20, device=DEVICE)          # batch of 8\n",
    "y = torch.randint(0, 2, (8,), device=DEVICE)   # labels 0 or 1\n",
    "\n",
    "logits1 = model1(x)  # shape (8,2)\n",
    "loss1 = criterion(logits1, y)\n",
    "\"\"\""
   ]
  },
  {
   "cell_type": "code",
   "execution_count": null,
   "id": "81f72e5f",
   "metadata": {},
   "outputs": [],
   "source": []
  },
  {
   "cell_type": "code",
   "execution_count": null,
   "id": "81613fdb",
   "metadata": {},
   "outputs": [],
   "source": []
  },
  {
   "cell_type": "code",
   "execution_count": null,
   "id": "f2975490",
   "metadata": {},
   "outputs": [],
   "source": []
  },
  {
   "cell_type": "code",
   "execution_count": 5,
   "id": "7a28a67d-7327-4d34-a4c1-4e08232584b4",
   "metadata": {},
   "outputs": [
    {
     "data": {
      "text/plain": [
       "tensor([0, 0, 0, 1, 0, 0, 0, 1, 1, 1, 0, 0, 1, 0, 0, 0, 0, 1, 0, 1, 1, 1, 0, 1,\n",
       "        1, 0, 1, 1, 1, 0, 1, 0, 0, 1, 0, 0, 1, 1, 1, 1, 1, 1, 1, 0, 1, 0, 1, 0,\n",
       "        0, 0, 0, 0, 0, 0, 0, 0, 1, 1, 1, 0, 0, 1, 1, 1, 1, 0, 0, 0, 0, 0, 1, 1,\n",
       "        0, 1, 0, 1, 1, 0, 1, 0, 1, 1, 0, 1, 1, 0, 1, 1, 1, 0, 0, 1, 1, 0, 1, 1,\n",
       "        1, 1, 1, 1, 1, 1, 1, 1, 0, 1, 1, 0, 0, 0, 1, 0, 1, 0, 1, 0, 1, 1, 1, 0,\n",
       "        0, 1, 0, 0, 1, 1, 1, 0, 0, 1, 1, 0, 1, 0, 0, 1, 1, 0, 0, 0, 0, 0, 0, 0,\n",
       "        1, 0, 1, 0, 1, 1])"
      ]
     },
     "execution_count": 5,
     "metadata": {},
     "output_type": "execute_result"
    }
   ],
   "source": [
    "y_val"
   ]
  },
  {
   "cell_type": "code",
   "execution_count": null,
   "id": "20681a28-46f1-494d-b6d6-2eabb87ac0c6",
   "metadata": {},
   "outputs": [],
   "source": []
  },
  {
   "cell_type": "markdown",
   "id": "34bcae8f-3535-4789-b752-86950a7c29fa",
   "metadata": {},
   "source": [
    "### Simple training\n",
    "\n",
    "\n",
    "que de momento incluye solo el entrenamiento y las metricas\n"
   ]
  },
  {
   "cell_type": "code",
   "execution_count": 6,
   "id": "b964e796-0f2c-4d1e-8a53-7d9a6745e7ce",
   "metadata": {},
   "outputs": [],
   "source": [
    "def train_one_epoch(model, dataloader, criterion, optimizer, device, metric_fn):\n",
    "    model.train()\n",
    "    running_loss, running_metric, total_samples = 0.0, 0.0, 0\n",
    "\n",
    "    for inputs, labels in dataloader:\n",
    "        inputs, labels = inputs.to(device), labels.to(device)\n",
    "        optimizer.zero_grad()\n",
    "        outputs = model(inputs)\n",
    "        loss = criterion(outputs, labels)\n",
    "        loss.backward()\n",
    "        optimizer.step()\n",
    "\n",
    "        batch_size = labels.size(0)\n",
    "        running_loss += loss.item() * batch_size\n",
    "        running_metric += metric_fn(outputs, labels).item() * batch_size\n",
    "        total_samples += batch_size\n",
    "\n",
    "    return running_loss / total_samples, running_metric / total_samples if metric_fn else 0"
   ]
  },
  {
   "cell_type": "code",
   "execution_count": 7,
   "id": "3636f5f7-3337-4ded-a5f4-f71ad97b154d",
   "metadata": {},
   "outputs": [],
   "source": [
    "def validate_one_epoch(model, dataloader, criterion, device, metric_fn=None):\n",
    "    model.eval()\n",
    "    running_loss, running_metric, total_samples = 0.0, 0.0, 0\n",
    "\n",
    "    with torch.no_grad():\n",
    "        for inputs, labels in dataloader:\n",
    "            inputs, labels = inputs.to(device), labels.to(device)\n",
    "            outputs = model(inputs)\n",
    "            loss = criterion(outputs, labels)\n",
    "            batch_size = labels.size(0)\n",
    "            running_loss += loss.item() * batch_size\n",
    "            running_metric += metric_fn(outputs, labels).item() * batch_size\n",
    "            total_samples += batch_size\n",
    "\n",
    "    return running_loss / total_samples, running_metric / total_samples if metric_fn else 0"
   ]
  },
  {
   "cell_type": "code",
   "execution_count": 8,
   "id": "4db64872-df27-4399-9dae-324f9f3e81aa",
   "metadata": {},
   "outputs": [],
   "source": [
    "def train_model(\n",
    "    model, train_loader, val_loader, test_loader,\n",
    "    criterion, optimizer, device,\n",
    "    metric_fn, epochs=10\n",
    "):\n",
    "\n",
    "    history = {'train_loss': [], 'val_loss': [], 'train_metric': [], 'val_metric': []}\n",
    "\n",
    "    for epoch in range(1, epochs + 1):\n",
    "        train_loss, train_metric = train_one_epoch(model, train_loader, criterion, optimizer, device, metric_fn)\n",
    "        val_loss, val_metric = validate_one_epoch(model, val_loader, criterion, device, metric_fn)\n",
    "\n",
    "        history['train_loss'].append(train_loss)\n",
    "        history['val_loss'].append(val_loss)\n",
    "        history['train_metric'].append(train_metric)\n",
    "        history['val_metric'].append(val_metric)\n",
    "\n",
    "        print(f\"Epoch {epoch:02d} | Train Loss: {train_loss:.4f}, Metric: {train_metric:.4f} | \"\n",
    "              f\"Val Loss: {val_loss:.4f}, Metric: {val_metric:.4f}\")\n",
    "\n",
    "    \n",
    "    return model, history"
   ]
  },
  {
   "cell_type": "markdown",
   "id": "8f502cce",
   "metadata": {},
   "source": [
    "test"
   ]
  },
  {
   "cell_type": "code",
   "execution_count": 10,
   "id": "9d1903be",
   "metadata": {},
   "outputs": [],
   "source": [
    "model = BinaryClassifier().to(DEVICE)\n",
    "\n",
    "criterion = torch.nn.CrossEntropyLoss()\n",
    "optimizer = torch.optim.Adam(model.parameters(), lr=0.01)\n",
    "#scheduler = torch.optim.lr_scheduler.ReduceLROnPlateau(optimizer, mode='min', patience=2)\n",
    "\n",
    "def accuracy(outputs, labels):\n",
    "    preds = torch.argmax(outputs, dim=1)\n",
    "    return (preds == labels).float().mean()\n"
   ]
  },
  {
   "cell_type": "code",
   "execution_count": 13,
   "id": "6d9a3758",
   "metadata": {},
   "outputs": [
    {
     "name": "stdout",
     "output_type": "stream",
     "text": [
      "Epoch 01 | Train Loss: 0.5194, Metric: 0.8000 | Val Loss: 0.3028, Metric: 0.9533\n",
      "Epoch 02 | Train Loss: 0.2105, Metric: 0.9329 | Val Loss: 0.1857, Metric: 0.9533\n",
      "Epoch 03 | Train Loss: 0.1399, Metric: 0.9443 | Val Loss: 0.1819, Metric: 0.9467\n",
      "Epoch 04 | Train Loss: 0.1177, Metric: 0.9600 | Val Loss: 0.1838, Metric: 0.9467\n",
      "Epoch 05 | Train Loss: 0.1042, Metric: 0.9671 | Val Loss: 0.1927, Metric: 0.9400\n",
      "Epoch 06 | Train Loss: 0.0933, Metric: 0.9743 | Val Loss: 0.2052, Metric: 0.9467\n",
      "Epoch 07 | Train Loss: 0.0846, Metric: 0.9729 | Val Loss: 0.2001, Metric: 0.9400\n",
      "Epoch 08 | Train Loss: 0.0749, Metric: 0.9800 | Val Loss: 0.2203, Metric: 0.9400\n",
      "Epoch 09 | Train Loss: 0.0690, Metric: 0.9829 | Val Loss: 0.2277, Metric: 0.9533\n",
      "Epoch 10 | Train Loss: 0.0607, Metric: 0.9829 | Val Loss: 0.2340, Metric: 0.9533\n"
     ]
    }
   ],
   "source": [
    "# Train with test set evaluation\n",
    "model, history = train_model(\n",
    "    model, train_loader, val_loader, test_loader,\n",
    "    criterion, optimizer, device,\n",
    "    metric_fn=accuracy,\n",
    "    epochs=10,\n",
    ")"
   ]
  },
  {
   "cell_type": "code",
   "execution_count": 14,
   "id": "a25a7aea",
   "metadata": {},
   "outputs": [
    {
     "name": "stdout",
     "output_type": "stream",
     "text": [
      "\n",
      "Final Test Loss: 0.1481, Test Metric: 0.9667\n"
     ]
    }
   ],
   "source": [
    "# Final test set evaluation (only once)\n",
    "test_loss, test_metric = validate_one_epoch(model, test_loader, criterion, device, accuracy)\n",
    "print(f\"\\nFinal Test Loss: {test_loss:.4f}, Test Metric: {test_metric:.4f}\")\n"
   ]
  },
  {
   "cell_type": "code",
   "execution_count": null,
   "id": "f502497d",
   "metadata": {},
   "outputs": [],
   "source": []
  },
  {
   "cell_type": "code",
   "execution_count": null,
   "id": "c3e158bb",
   "metadata": {},
   "outputs": [],
   "source": []
  },
  {
   "cell_type": "code",
   "execution_count": null,
   "id": "1ae7dde9",
   "metadata": {},
   "outputs": [],
   "source": []
  },
  {
   "cell_type": "code",
   "execution_count": null,
   "id": "dde1c5fa",
   "metadata": {},
   "outputs": [],
   "source": []
  },
  {
   "cell_type": "code",
   "execution_count": null,
   "id": "b77349dd",
   "metadata": {},
   "outputs": [],
   "source": []
  },
  {
   "cell_type": "code",
   "execution_count": null,
   "id": "4e3cfe65",
   "metadata": {},
   "outputs": [],
   "source": []
  },
  {
   "cell_type": "markdown",
   "id": "6300deb3",
   "metadata": {},
   "source": [
    "### Several metrics\n",
    "\n",
    "primero a mano, después con torchmetrics"
   ]
  },
  {
   "cell_type": "code",
   "execution_count": null,
   "id": "21d1beaf",
   "metadata": {},
   "outputs": [],
   "source": []
  },
  {
   "cell_type": "code",
   "execution_count": null,
   "id": "e5fe62a2",
   "metadata": {},
   "outputs": [],
   "source": []
  },
  {
   "cell_type": "code",
   "execution_count": null,
   "id": "7917093d",
   "metadata": {},
   "outputs": [],
   "source": []
  },
  {
   "cell_type": "code",
   "execution_count": null,
   "id": "4585bddc",
   "metadata": {},
   "outputs": [],
   "source": []
  },
  {
   "cell_type": "code",
   "execution_count": 15,
   "id": "9c2aa376",
   "metadata": {},
   "outputs": [],
   "source": [
    "# --- 4. Define multiple metrics ---\n",
    "def accuracy_fn(outputs, labels):\n",
    "    preds = torch.argmax(outputs, dim=1)\n",
    "    return (preds == labels).float().mean()\n",
    "\n",
    "from sklearn.metrics import precision_score\n",
    "\n",
    "def precision_fn(outputs, labels):\n",
    "    preds = torch.argmax(outputs, dim=1).cpu().numpy()\n",
    "    labels = labels.cpu().numpy()\n",
    "    return torch.tensor(precision_score(labels, preds, average='binary'))  # or 'macro'\n",
    "\n",
    "metrics = {\n",
    "    \"accuracy\": accuracy_fn,\n",
    "    \"precision\": precision_fn\n",
    "}\n"
   ]
  },
  {
   "cell_type": "code",
   "execution_count": 16,
   "id": "0f9d9b1d",
   "metadata": {},
   "outputs": [],
   "source": [
    "def train_one_epoch(model, dataloader, criterion, optimizer, device, metrics):\n",
    "    model.train()\n",
    "    running_loss, total_samples = 0.0, 0\n",
    "    metric_totals = {name: 0.0 for name in metrics} if metrics else {}\n",
    "\n",
    "    for inputs, labels in dataloader:\n",
    "        inputs, labels = inputs.to(device), labels.to(device)\n",
    "        optimizer.zero_grad()\n",
    "        outputs = model(inputs)\n",
    "        loss = criterion(outputs, labels)\n",
    "        loss.backward()\n",
    "        optimizer.step()\n",
    "\n",
    "        batch_size = labels.size(0)\n",
    "        running_loss += loss.item() * batch_size\n",
    "        total_samples += batch_size\n",
    "\n",
    "        for name, fn in metrics.items():\n",
    "            metric_totals[name] += fn(outputs, labels).item() * batch_size\n",
    "\n",
    "    avg_loss = running_loss / total_samples\n",
    "    avg_metrics = {name: total / total_samples for name, total in metric_totals.items()}\n",
    "\n",
    "    return avg_loss, avg_metrics"
   ]
  },
  {
   "cell_type": "code",
   "execution_count": 17,
   "id": "6afb2664",
   "metadata": {},
   "outputs": [],
   "source": [
    "def validate_one_epoch(model, dataloader, criterion, device, metrics=None):\n",
    "    model.eval()\n",
    "    running_loss, total_samples = 0.0, 0\n",
    "    metric_totals = {name: 0.0 for name in metrics} if metrics else {}\n",
    "\n",
    "    with torch.no_grad():\n",
    "        for inputs, labels in dataloader:\n",
    "            inputs, labels = inputs.to(device), labels.to(device)\n",
    "            outputs = model(inputs)\n",
    "            loss = criterion(outputs, labels)\n",
    "            batch_size = labels.size(0)\n",
    "            running_loss += loss.item() * batch_size\n",
    "            total_samples += batch_size\n",
    "\n",
    "            for name, fn in metrics.items():\n",
    "                metric_totals[name] += fn(outputs, labels).item() * batch_size\n",
    "\n",
    "    avg_loss = running_loss / total_samples\n",
    "    avg_metrics = {name: total / total_samples for name, total in metric_totals.items()}\n",
    "\n",
    "    return avg_loss, avg_metrics"
   ]
  },
  {
   "cell_type": "code",
   "execution_count": 18,
   "id": "790a5920",
   "metadata": {},
   "outputs": [],
   "source": [
    "def train_model(\n",
    "    model, train_loader, val_loader, test_loader,\n",
    "    criterion, optimizer, device,\n",
    "    metrics, epochs=10\n",
    "):\n",
    "\n",
    "    for epoch in range(1, epochs + 1):\n",
    "        train_loss, train_metrics = train_one_epoch(model, train_loader, criterion, optimizer, device, metrics)\n",
    "        val_loss, val_metrics = validate_one_epoch(model, val_loader, criterion, device, metrics)\n",
    "\n",
    "        print(f\"Epoch {epoch:02d} | Train Loss: {train_loss:.4f} | Val Loss: {val_loss:.4f}\")\n",
    "        for name in train_metrics:\n",
    "            print(f\"  Train {name}: {train_metrics[name]:.4f} | Val {name}: {val_metrics[name]:.4f}\")\n",
    "\n",
    "\n",
    "    return model, history"
   ]
  },
  {
   "cell_type": "markdown",
   "id": "cc87bc6a",
   "metadata": {},
   "source": [
    "---> test"
   ]
  },
  {
   "cell_type": "code",
   "execution_count": 19,
   "id": "20402553",
   "metadata": {},
   "outputs": [],
   "source": [
    "device = torch.device(\"cuda\" if torch.cuda.is_available() else \"cpu\")\n",
    "model4 = BinaryClassifier().to(DEVICE)\n",
    "criterion = torch.nn.CrossEntropyLoss()\n",
    "optimizer = torch.optim.Adam(model4.parameters(), lr=0.01)\n"
   ]
  },
  {
   "cell_type": "code",
   "execution_count": 20,
   "id": "14257e82",
   "metadata": {},
   "outputs": [
    {
     "name": "stdout",
     "output_type": "stream",
     "text": [
      "Epoch 01 | Train Loss: 0.4944 | Val Loss: 0.2810\n",
      "  Train accuracy: 0.8314 | Val accuracy: 0.9333\n",
      "  Train precision: 0.8581 | Val precision: 0.9703\n",
      "Epoch 02 | Train Loss: 0.1950 | Val Loss: 0.1681\n",
      "  Train accuracy: 0.9343 | Val accuracy: 0.9533\n",
      "  Train precision: 0.9353 | Val precision: 0.9732\n",
      "Epoch 03 | Train Loss: 0.1325 | Val Loss: 0.1639\n",
      "  Train accuracy: 0.9500 | Val accuracy: 0.9600\n",
      "  Train precision: 0.9451 | Val precision: 0.9741\n",
      "Epoch 04 | Train Loss: 0.1148 | Val Loss: 0.1630\n",
      "  Train accuracy: 0.9586 | Val accuracy: 0.9533\n",
      "  Train precision: 0.9703 | Val precision: 0.9732\n",
      "Epoch 05 | Train Loss: 0.1004 | Val Loss: 0.1600\n",
      "  Train accuracy: 0.9714 | Val accuracy: 0.9600\n",
      "  Train precision: 0.9772 | Val precision: 0.9621\n",
      "Epoch 06 | Train Loss: 0.0886 | Val Loss: 0.1705\n",
      "  Train accuracy: 0.9786 | Val accuracy: 0.9533\n",
      "  Train precision: 0.9810 | Val precision: 0.9732\n",
      "Epoch 07 | Train Loss: 0.0822 | Val Loss: 0.1619\n",
      "  Train accuracy: 0.9771 | Val accuracy: 0.9600\n",
      "  Train precision: 0.9827 | Val precision: 0.9621\n",
      "Epoch 08 | Train Loss: 0.0727 | Val Loss: 0.1778\n",
      "  Train accuracy: 0.9871 | Val accuracy: 0.9667\n",
      "  Train precision: 0.9861 | Val precision: 0.9858\n",
      "Epoch 09 | Train Loss: 0.0695 | Val Loss: 0.1655\n",
      "  Train accuracy: 0.9843 | Val accuracy: 0.9667\n",
      "  Train precision: 0.9920 | Val precision: 0.9858\n",
      "Epoch 10 | Train Loss: 0.0610 | Val Loss: 0.1959\n",
      "  Train accuracy: 0.9857 | Val accuracy: 0.9600\n",
      "  Train precision: 0.9820 | Val precision: 0.9858\n"
     ]
    }
   ],
   "source": [
    "# --- 7. Run ---\n",
    "trained_model, history = train_model(\n",
    "    model4,\n",
    "    train_loader,\n",
    "    val_loader,\n",
    "    test_loader,\n",
    "    criterion,\n",
    "    optimizer,\n",
    "    device,\n",
    "    metrics=metrics,\n",
    ")"
   ]
  },
  {
   "cell_type": "code",
   "execution_count": 21,
   "id": "cdc96884",
   "metadata": {},
   "outputs": [
    {
     "name": "stdout",
     "output_type": "stream",
     "text": [
      "\n",
      "Final Test Loss: 0.1481, Test Metric: 0.9667\n"
     ]
    }
   ],
   "source": [
    "# Final test set evaluation (only once)\n",
    "test_loss, test_metrics = validate_one_epoch(model, test_loader, criterion, device, metrics)\n",
    "print(f\"\\nFinal Test Loss: {test_loss:.4f}, Test Metric: {test_metrics['accuracy']:.4f}\")"
   ]
  },
  {
   "cell_type": "code",
   "execution_count": null,
   "id": "a1f65962",
   "metadata": {},
   "outputs": [],
   "source": []
  },
  {
   "cell_type": "markdown",
   "id": "3e9f74a5",
   "metadata": {},
   "source": [
    "with torchmetrics"
   ]
  },
  {
   "cell_type": "code",
   "execution_count": 22,
   "id": "e14996c3",
   "metadata": {},
   "outputs": [],
   "source": [
    "#!pip install torchmetrics"
   ]
  },
  {
   "cell_type": "code",
   "execution_count": 23,
   "id": "8faabf1a",
   "metadata": {},
   "outputs": [],
   "source": [
    "from torchmetrics.classification import BinaryAccuracy, BinaryPrecision\n",
    "\n",
    "# 4. Metric setup (torchmetrics)\n",
    "metrics = {\n",
    "    \"accuracy\": BinaryAccuracy().to(device), # necesita que le pase el argmax; poner como nota luego\n",
    "    \"precision\": BinaryPrecision().to(device)\n",
    "}\n",
    "\n",
    "def reset_metrics(metrics):\n",
    "    for metric in metrics.values():\n",
    "        metric.reset()\n",
    "\n",
    "def compute_metrics(metrics, preds, labels):\n",
    "    results = {}\n",
    "    for name, metric in metrics.items():\n",
    "        metric.update(preds, labels)\n",
    "    for name, metric in metrics.items():\n",
    "        results[name] = metric.compute().item()\n",
    "    return results\n",
    "\n",
    "\n",
    "########################################################################\n",
    "\n",
    "\n",
    "from torchmetrics.classification import Accuracy, Precision\n",
    "\n",
    "num_classes = 2\n",
    "is_binary = num_classes == 2\n",
    "metrics = {\n",
    "    \"accuracy\": Accuracy(task=\"binary\" if is_binary else \"multiclass\", num_classes=num_classes).to(device),\n",
    "    \"precision\": Precision(task=\"binary\" if is_binary else \"multiclass\", num_classes=num_classes, average='macro').to(device)\n",
    "}\n",
    "\n",
    "def reset_metrics(metrics):\n",
    "    for metric in metrics.values():\n",
    "        metric.reset()\n",
    "\n",
    "def compute_metrics(metrics):\n",
    "    return {name: metric.compute().item() for name, metric in metrics.items()}\n",
    "\n",
    "\n"
   ]
  },
  {
   "cell_type": "code",
   "execution_count": 24,
   "id": "d0f5df94",
   "metadata": {},
   "outputs": [],
   "source": [
    "def train_one_epoch(model, loader, criterion, optimizer, device, metrics):\n",
    "    model.train()\n",
    "    total_loss, total_samples = 0.0, 0\n",
    "    reset_metrics(metrics)\n",
    "\n",
    "    for inputs, labels in loader:\n",
    "        inputs, labels = inputs.to(device), labels.to(device)\n",
    "        optimizer.zero_grad()\n",
    "        outputs = model(inputs)\n",
    "        loss = criterion(outputs, labels)\n",
    "        loss.backward()\n",
    "        optimizer.step()\n",
    "\n",
    "        total_loss += loss.item() * labels.size(0)\n",
    "        total_samples += labels.size(0)\n",
    "\n",
    "        preds = torch.argmax(outputs, dim=1)\n",
    "        for metric in metrics.values():\n",
    "            metric.update(preds, labels)\n",
    "\n",
    "    avg_loss = total_loss / total_samples\n",
    "    final_metrics = compute_metrics(metrics)\n",
    "    return avg_loss, final_metrics"
   ]
  },
  {
   "cell_type": "code",
   "execution_count": 25,
   "id": "1e2091f9",
   "metadata": {},
   "outputs": [],
   "source": [
    "def validate_one_epoch(model, loader, criterion, device, metrics):\n",
    "    model.eval()\n",
    "    total_loss, total_samples = 0.0, 0\n",
    "    reset_metrics(metrics)\n",
    "\n",
    "    with torch.no_grad():\n",
    "        for inputs, labels in loader:\n",
    "            inputs, labels = inputs.to(device), labels.to(device)\n",
    "            outputs = model(inputs)\n",
    "            loss = criterion(outputs, labels)\n",
    "            total_loss += loss.item() * labels.size(0)\n",
    "            total_samples += labels.size(0)\n",
    "\n",
    "            preds = torch.argmax(outputs, dim=1)\n",
    "            for metric in metrics.values():\n",
    "                metric.update(preds, labels)\n",
    "\n",
    "    avg_loss = total_loss / total_samples\n",
    "    avg_metrics = compute_metrics(metrics)\n",
    "    return avg_loss, avg_metrics"
   ]
  },
  {
   "cell_type": "code",
   "execution_count": 26,
   "id": "b0778397",
   "metadata": {},
   "outputs": [],
   "source": [
    "def train_model(model, train_loader, val_loader,\n",
    "                criterion, optimizer, device,\n",
    "                metrics, epochs=20, early_stopping_patience=3):\n",
    "\n",
    "\n",
    "    for epoch in range(1, epochs + 1):\n",
    "        train_loss, train_metrics = train_one_epoch(model, train_loader, criterion, optimizer, device, metrics)\n",
    "        val_loss, val_metrics = validate_one_epoch(model, val_loader, criterion, device, metrics)\n",
    "\n",
    "        print(f\"Epoch {epoch:02d} | Train Loss: {train_loss:.4f} | Val Loss: {val_loss:.4f}\")\n",
    "        for k in train_metrics:\n",
    "            print(f\"  {k.capitalize()}: Train={train_metrics[k]:.4f}, Val={val_metrics[k]:.4f}\")\n",
    "\n",
    "\n",
    "    return model"
   ]
  },
  {
   "cell_type": "code",
   "execution_count": 27,
   "id": "162c5425",
   "metadata": {},
   "outputs": [
    {
     "name": "stdout",
     "output_type": "stream",
     "text": [
      "Epoch 01 | Train Loss: 0.5262 | Val Loss: 0.2994\n",
      "  Accuracy: Train=0.7957, Val=0.9200\n",
      "  Precision: Train=0.8006, Val=0.9714\n",
      "Epoch 02 | Train Loss: 0.1951 | Val Loss: 0.1616\n",
      "  Accuracy: Train=0.9414, Val=0.9600\n",
      "  Precision: Train=0.9435, Val=0.9737\n",
      "Epoch 03 | Train Loss: 0.1310 | Val Loss: 0.1664\n",
      "  Accuracy: Train=0.9529, Val=0.9600\n",
      "  Precision: Train=0.9448, Val=0.9737\n",
      "Epoch 04 | Train Loss: 0.1139 | Val Loss: 0.1710\n",
      "  Accuracy: Train=0.9571, Val=0.9400\n",
      "  Precision: Train=0.9612, Val=0.9726\n",
      "Epoch 05 | Train Loss: 0.0999 | Val Loss: 0.1717\n",
      "  Accuracy: Train=0.9686, Val=0.9400\n",
      "  Precision: Train=0.9676, Val=0.9726\n",
      "Epoch 06 | Train Loss: 0.0874 | Val Loss: 0.1791\n",
      "  Accuracy: Train=0.9700, Val=0.9400\n",
      "  Precision: Train=0.9789, Val=0.9726\n",
      "Epoch 07 | Train Loss: 0.0793 | Val Loss: 0.1916\n",
      "  Accuracy: Train=0.9786, Val=0.9467\n",
      "  Precision: Train=0.9765, Val=0.9730\n",
      "Epoch 08 | Train Loss: 0.0704 | Val Loss: 0.1956\n",
      "  Accuracy: Train=0.9814, Val=0.9467\n",
      "  Precision: Train=0.9880, Val=0.9730\n",
      "Epoch 09 | Train Loss: 0.0631 | Val Loss: 0.2084\n",
      "  Accuracy: Train=0.9800, Val=0.9467\n",
      "  Precision: Train=0.9765, Val=0.9730\n",
      "Epoch 10 | Train Loss: 0.0571 | Val Loss: 0.2108\n",
      "  Accuracy: Train=0.9871, Val=0.9467\n",
      "  Precision: Train=0.9882, Val=0.9730\n",
      "Epoch 11 | Train Loss: 0.0486 | Val Loss: 0.2379\n",
      "  Accuracy: Train=0.9900, Val=0.9467\n",
      "  Precision: Train=0.9911, Val=0.9730\n",
      "Epoch 12 | Train Loss: 0.0444 | Val Loss: 0.2434\n",
      "  Accuracy: Train=0.9929, Val=0.9333\n",
      "  Precision: Train=0.9941, Val=0.9595\n",
      "Epoch 13 | Train Loss: 0.0398 | Val Loss: 0.2450\n",
      "  Accuracy: Train=0.9929, Val=0.9467\n",
      "  Precision: Train=0.9941, Val=0.9730\n",
      "Epoch 14 | Train Loss: 0.0351 | Val Loss: 0.2675\n",
      "  Accuracy: Train=0.9929, Val=0.9467\n",
      "  Precision: Train=0.9912, Val=0.9730\n",
      "Epoch 15 | Train Loss: 0.0296 | Val Loss: 0.2605\n",
      "  Accuracy: Train=0.9929, Val=0.9400\n",
      "  Precision: Train=1.0000, Val=0.9600\n",
      "Epoch 16 | Train Loss: 0.0282 | Val Loss: 0.2982\n",
      "  Accuracy: Train=0.9943, Val=0.9467\n",
      "  Precision: Train=0.9941, Val=0.9730\n",
      "Epoch 17 | Train Loss: 0.0256 | Val Loss: 0.3057\n",
      "  Accuracy: Train=0.9957, Val=0.9400\n",
      "  Precision: Train=0.9970, Val=0.9600\n",
      "Epoch 18 | Train Loss: 0.0198 | Val Loss: 0.3031\n",
      "  Accuracy: Train=0.9986, Val=0.9467\n",
      "  Precision: Train=1.0000, Val=0.9605\n",
      "Epoch 19 | Train Loss: 0.0172 | Val Loss: 0.3305\n",
      "  Accuracy: Train=0.9986, Val=0.9533\n",
      "  Precision: Train=0.9971, Val=0.9733\n",
      "Epoch 20 | Train Loss: 0.0141 | Val Loss: 0.3354\n",
      "  Accuracy: Train=1.0000, Val=0.9533\n",
      "  Precision: Train=1.0000, Val=0.9610\n"
     ]
    }
   ],
   "source": [
    "model = BinaryClassifier().to(DEVICE)\n",
    "criterion = torch.nn.CrossEntropyLoss()\n",
    "optimizer = torch.optim.Adam(model.parameters(), lr=0.01)\n",
    "\n",
    "\n",
    "# --- 7. Run ---\n",
    "trained_model = train_model(\n",
    "    model,\n",
    "    train_loader,\n",
    "    val_loader,\n",
    "    criterion,\n",
    "    optimizer,\n",
    "    device,\n",
    "    metrics=metrics,\n",
    ")\n"
   ]
  },
  {
   "cell_type": "code",
   "execution_count": 28,
   "id": "c0ba1b47",
   "metadata": {},
   "outputs": [
    {
     "name": "stdout",
     "output_type": "stream",
     "text": [
      "\n",
      "Test Results: Loss=0.1890\n",
      "  Test Accuracy: 0.9733\n",
      "  Test Precision: 0.9753\n"
     ]
    }
   ],
   "source": [
    "# Final test eval\n",
    "test_loss, test_metrics = validate_one_epoch(model, test_loader, criterion, device, metrics)\n",
    "print(f\"\\nTest Results: Loss={test_loss:.4f}\")\n",
    "for k, v in test_metrics.items():\n",
    "    print(f\"  Test {k.capitalize()}: {v:.4f}\")"
   ]
  },
  {
   "cell_type": "code",
   "execution_count": null,
   "id": "e1106238",
   "metadata": {},
   "outputs": [],
   "source": []
  },
  {
   "cell_type": "code",
   "execution_count": null,
   "id": "2da2cbf3",
   "metadata": {},
   "outputs": [],
   "source": []
  },
  {
   "cell_type": "markdown",
   "id": "729f873b",
   "metadata": {},
   "source": [
    "### Tracking history"
   ]
  },
  {
   "cell_type": "code",
   "execution_count": 29,
   "id": "94862200",
   "metadata": {},
   "outputs": [],
   "source": [
    "def train_model(model, train_loader, val_loader,\n",
    "                criterion, optimizer, device,\n",
    "                metrics, epochs=20):\n",
    "\n",
    "    best_val_loss = float('inf')\n",
    "    best_model_state = None\n",
    "    wait = 0\n",
    "    history = {\n",
    "        \"train_loss\": [], \"val_loss\": [],\n",
    "        **{f\"train_{k}\": [] for k in metrics},\n",
    "        **{f\"val_{k}\": [] for k in metrics}\n",
    "    }\n",
    "\n",
    "    for epoch in range(1, epochs + 1):\n",
    "        train_loss, train_metrics = train_one_epoch(model, train_loader, criterion, optimizer, device, metrics)\n",
    "        val_loss, val_metrics = validate_one_epoch(model, val_loader, criterion, device, metrics)\n",
    "        \n",
    "\n",
    "        # Logging\n",
    "        history[\"train_loss\"].append(train_loss)\n",
    "        history[\"val_loss\"].append(val_loss)\n",
    "        for k in train_metrics:\n",
    "            history[f\"train_{k}\"].append(train_metrics[k])\n",
    "            history[f\"val_{k}\"].append(val_metrics[k])\n",
    "\n",
    "        print(f\"Epoch {epoch:02d} | Train Loss: {train_loss:.4f} | Val Loss: {val_loss:.4f}\")\n",
    "        for k in train_metrics:\n",
    "            print(f\"  {k.capitalize()}: Train={train_metrics[k]:.4f}, Val={val_metrics[k]:.4f}\")\n",
    "\n",
    "\n",
    "    return model, history\n",
    "\n"
   ]
  },
  {
   "cell_type": "code",
   "execution_count": 30,
   "id": "0917cbb9",
   "metadata": {},
   "outputs": [
    {
     "name": "stdout",
     "output_type": "stream",
     "text": [
      "Epoch 01 | Train Loss: 0.5510 | Val Loss: 0.3305\n",
      "  Accuracy: Train=0.7614, Val=0.9333\n",
      "  Precision: Train=0.7376, Val=0.9722\n",
      "Epoch 02 | Train Loss: 0.2172 | Val Loss: 0.1744\n",
      "  Accuracy: Train=0.9371, Val=0.9533\n",
      "  Precision: Train=0.9511, Val=0.9733\n",
      "Epoch 03 | Train Loss: 0.1380 | Val Loss: 0.1573\n",
      "  Accuracy: Train=0.9471, Val=0.9467\n",
      "  Precision: Train=0.9467, Val=0.9730\n",
      "Epoch 04 | Train Loss: 0.1179 | Val Loss: 0.1597\n",
      "  Accuracy: Train=0.9543, Val=0.9600\n",
      "  Precision: Train=0.9610, Val=0.9737\n",
      "Epoch 05 | Train Loss: 0.1055 | Val Loss: 0.1595\n",
      "  Accuracy: Train=0.9671, Val=0.9600\n",
      "  Precision: Train=0.9593, Val=0.9737\n",
      "Epoch 06 | Train Loss: 0.0934 | Val Loss: 0.1644\n",
      "  Accuracy: Train=0.9700, Val=0.9467\n",
      "  Precision: Train=0.9732, Val=0.9730\n",
      "Epoch 07 | Train Loss: 0.0839 | Val Loss: 0.1671\n",
      "  Accuracy: Train=0.9786, Val=0.9667\n",
      "  Precision: Train=0.9821, Val=0.9740\n",
      "Epoch 08 | Train Loss: 0.0772 | Val Loss: 0.1690\n",
      "  Accuracy: Train=0.9771, Val=0.9600\n",
      "  Precision: Train=0.9792, Val=0.9737\n",
      "Epoch 09 | Train Loss: 0.0700 | Val Loss: 0.1837\n",
      "  Accuracy: Train=0.9843, Val=0.9533\n",
      "  Precision: Train=0.9795, Val=0.9733\n",
      "Epoch 10 | Train Loss: 0.0609 | Val Loss: 0.1833\n",
      "  Accuracy: Train=0.9857, Val=0.9600\n",
      "  Precision: Train=0.9881, Val=0.9737\n"
     ]
    }
   ],
   "source": [
    "model = BinaryClassifier().to(DEVICE)\n",
    "criterion = torch.nn.CrossEntropyLoss()\n",
    "optimizer = torch.optim.Adam(model.parameters(), lr=0.01)\n",
    "\n",
    "\n",
    "\n",
    "# 7. Run\n",
    "trained_model, history = train_model(\n",
    "    model, train_loader, val_loader,\n",
    "    criterion, optimizer, device,\n",
    "    metrics=metrics,\n",
    "    epochs=10,\n",
    ")"
   ]
  },
  {
   "cell_type": "code",
   "execution_count": 31,
   "id": "08d62a1e",
   "metadata": {},
   "outputs": [
    {
     "data": {
      "image/png": "[encoded data removed]",
      "text/plain": [
       "<Figure size 1800x500 with 3 Axes>"
      ]
     },
     "metadata": {},
     "output_type": "display_data"
    }
   ],
   "source": [
    "# plotting (and then tensrboard)\n",
    "import matplotlib.pyplot as plt\n",
    "#from torch.utils.tensorboard import SummaryWriter\n",
    "\n",
    "# --- Plotting ---\n",
    "def plot_history(history):\n",
    "    fig, axs = plt.subplots(1, 3, figsize=(18, 5))\n",
    "    \n",
    "    axs[0].plot(history[\"train_loss\"], label=\"Train\")\n",
    "    axs[0].plot(history[\"val_loss\"], label=\"Val\")\n",
    "    axs[0].set_title(\"Loss\")\n",
    "    axs[0].legend()\n",
    "\n",
    "    if \"train_accuracy\" in history:\n",
    "        axs[1].plot(history[\"train_accuracy\"], label=\"Train\")\n",
    "        axs[1].plot(history[\"val_accuracy\"], label=\"Val\")\n",
    "        axs[1].set_title(\"Accuracy\")\n",
    "        axs[1].legend()\n",
    "\n",
    "    if \"train_precision\" in history:\n",
    "        axs[2].plot(history[\"train_precision\"], label=\"Train\")\n",
    "        axs[2].plot(history[\"val_precision\"], label=\"Val\")\n",
    "        axs[2].set_title(\"Precision\")\n",
    "        axs[2].legend()\n",
    "\n",
    "    plt.tight_layout()\n",
    "    plt.show()\n",
    "\n",
    "plot_history(history)\n"
   ]
  },
  {
   "cell_type": "code",
   "execution_count": 32,
   "id": "f448bb14",
   "metadata": {},
   "outputs": [],
   "source": [
    "# better way (implementing a class)"
   ]
  },
  {
   "cell_type": "code",
   "execution_count": 33,
   "id": "9c8f4392",
   "metadata": {},
   "outputs": [],
   "source": [
    "class TrainingLogger:\n",
    "    def __init__(self, metric_names):\n",
    "        # metric_names: list or iterable of metric keys expected in each epoch\n",
    "        self.history = {\n",
    "            'train_loss': [],\n",
    "            'val_loss': [],\n",
    "            **{f\"train_{name}\": [] for name in metric_names},\n",
    "            **{f\"val_{name}\": [] for name in metric_names}\n",
    "        }\n",
    "\n",
    "    def log_epoch(self, train_loss, val_loss, train_metrics=None, val_metrics=None):\n",
    "        self.history['train_loss'].append(train_loss)\n",
    "        self.history['val_loss'].append(val_loss)\n",
    "\n",
    "        if train_metrics:\n",
    "            for name, value in train_metrics.items():\n",
    "                self.history[f'train_{name}'].append(value)\n",
    "        else:\n",
    "            # Append None or skip? Here we append None to keep history lengths consistent\n",
    "            for name in self.metric_names:\n",
    "                self.history[f'train_{name}'].append(None)\n",
    "\n",
    "        if val_metrics:\n",
    "            for name, value in val_metrics.items():\n",
    "                self.history[f'val_{name}'].append(value)\n",
    "        else:\n",
    "            for name in self.metric_names:\n",
    "                self.history[f'val_{name}'].append(None)\n",
    "\n",
    "    def print_epoch(self, epoch):\n",
    "        train_loss = self.history['train_loss'][-1]\n",
    "        val_loss = self.history['val_loss'][-1]\n",
    "\n",
    "        train_metrics_str = \", \".join(\n",
    "            f\"{name}: {self.history[f'train_{name}'][-1]:.4f}\"\n",
    "            for name in self.metric_names\n",
    "            if self.history[f'train_{name}'][-1] is not None\n",
    "        )\n",
    "        val_metrics_str = \", \".join(\n",
    "            f\"{name}: {self.history[f'val_{name}'][-1]:.4f}\"\n",
    "            for name in self.metric_names\n",
    "            if self.history[f'val_{name}'][-1] is not None\n",
    "        )\n",
    "\n",
    "        print(f\"Epoch {epoch:02d} | Train Loss: {train_loss:.4f} {train_metrics_str} | \"\n",
    "              f\"Val Loss: {val_loss:.4f} {val_metrics_str}\")\n",
    "\n",
    "    @property\n",
    "    def metric_names(self):\n",
    "        # Extract metric names from history keys (train_*)\n",
    "        # Assuming all train_ and val_ metrics have the same keys\n",
    "        return [k[6:] for k in self.history if k.startswith('train_')]\n"
   ]
  },
  {
   "cell_type": "code",
   "execution_count": 34,
   "id": "cc57dcd0",
   "metadata": {},
   "outputs": [],
   "source": [
    "def train_model(\n",
    "    model, train_loader, val_loader,\n",
    "    criterion, optimizer, device,\n",
    "    metrics, epochs=10\n",
    "):\n",
    "    \n",
    "\n",
    "    metric_names = list(metrics.keys())  # e.g. ['accuracy', 'f1', 'precision']\n",
    "    logger = TrainingLogger(metric_names)\n",
    "\n",
    "    for epoch in range(1, epochs + 1):\n",
    "        train_loss, train_metrics = train_one_epoch(model, train_loader, criterion, optimizer, device, metrics)\n",
    "        val_loss, val_metrics = validate_one_epoch(model, val_loader, criterion, device, metrics)\n",
    "\n",
    "        # Log\n",
    "        logger.log_epoch(train_loss, val_loss, train_metrics, val_metrics)\n",
    "        logger.print_epoch(epoch)\n",
    "\n",
    "\n",
    "    return model, logger.history\n"
   ]
  },
  {
   "cell_type": "code",
   "execution_count": 35,
   "id": "7440568e",
   "metadata": {},
   "outputs": [
    {
     "name": "stdout",
     "output_type": "stream",
     "text": [
      "Epoch 01 | Train Loss: 0.6772 loss: 0.6772, accuracy: 0.5914, precision: 0.6280 | Val Loss: 0.6609 loss: 0.6609, accuracy: 0.6667, precision: 0.7800\n",
      "Epoch 02 | Train Loss: 0.6404 loss: 0.6404, accuracy: 0.6857, precision: 0.7429 | Val Loss: 0.6251 loss: 0.6251, accuracy: 0.7400, precision: 0.8305\n",
      "Epoch 03 | Train Loss: 0.6016 loss: 0.6016, accuracy: 0.7743, precision: 0.8315 | Val Loss: 0.5860 loss: 0.5860, accuracy: 0.8067, precision: 0.8657\n",
      "Epoch 04 | Train Loss: 0.5567 loss: 0.5567, accuracy: 0.8329, precision: 0.8828 | Val Loss: 0.5396 loss: 0.5396, accuracy: 0.8733, precision: 0.8933\n",
      "Epoch 05 | Train Loss: 0.5053 loss: 0.5053, accuracy: 0.8800, precision: 0.9100 | Val Loss: 0.4853 loss: 0.4853, accuracy: 0.8867, precision: 0.9067\n",
      "Epoch 06 | Train Loss: 0.4486 loss: 0.4486, accuracy: 0.9043, precision: 0.9331 | Val Loss: 0.4292 loss: 0.4292, accuracy: 0.9067, precision: 0.9444\n",
      "Epoch 07 | Train Loss: 0.3931 loss: 0.3931, accuracy: 0.9143, precision: 0.9401 | Val Loss: 0.3742 loss: 0.3742, accuracy: 0.9133, precision: 0.9577\n",
      "Epoch 08 | Train Loss: 0.3415 loss: 0.3415, accuracy: 0.9229, precision: 0.9439 | Val Loss: 0.3267 loss: 0.3267, accuracy: 0.9333, precision: 0.9722\n",
      "Epoch 09 | Train Loss: 0.2988 loss: 0.2988, accuracy: 0.9300, precision: 0.9448 | Val Loss: 0.2867 loss: 0.2867, accuracy: 0.9467, precision: 0.9730\n",
      "Epoch 10 | Train Loss: 0.2643 loss: 0.2643, accuracy: 0.9329, precision: 0.9479 | Val Loss: 0.2561 loss: 0.2561, accuracy: 0.9467, precision: 0.9730\n",
      "Epoch 11 | Train Loss: 0.2376 loss: 0.2376, accuracy: 0.9314, precision: 0.9450 | Val Loss: 0.2316 loss: 0.2316, accuracy: 0.9533, precision: 0.9733\n",
      "Epoch 12 | Train Loss: 0.2161 loss: 0.2161, accuracy: 0.9357, precision: 0.9455 | Val Loss: 0.2143 loss: 0.2143, accuracy: 0.9600, precision: 0.9737\n",
      "Epoch 13 | Train Loss: 0.2002 loss: 0.2002, accuracy: 0.9371, precision: 0.9429 | Val Loss: 0.2018 loss: 0.2018, accuracy: 0.9600, precision: 0.9737\n",
      "Epoch 14 | Train Loss: 0.1878 loss: 0.1878, accuracy: 0.9371, precision: 0.9429 | Val Loss: 0.1907 loss: 0.1907, accuracy: 0.9600, precision: 0.9737\n",
      "Epoch 15 | Train Loss: 0.1777 loss: 0.1777, accuracy: 0.9371, precision: 0.9429 | Val Loss: 0.1842 loss: 0.1842, accuracy: 0.9600, precision: 0.9737\n",
      "Epoch 16 | Train Loss: 0.1693 loss: 0.1693, accuracy: 0.9371, precision: 0.9429 | Val Loss: 0.1784 loss: 0.1784, accuracy: 0.9600, precision: 0.9737\n",
      "Epoch 17 | Train Loss: 0.1622 loss: 0.1622, accuracy: 0.9400, precision: 0.9459 | Val Loss: 0.1742 loss: 0.1742, accuracy: 0.9600, precision: 0.9737\n",
      "Epoch 18 | Train Loss: 0.1565 loss: 0.1565, accuracy: 0.9429, precision: 0.9489 | Val Loss: 0.1710 loss: 0.1710, accuracy: 0.9533, precision: 0.9733\n",
      "Epoch 19 | Train Loss: 0.1509 loss: 0.1509, accuracy: 0.9429, precision: 0.9489 | Val Loss: 0.1678 loss: 0.1678, accuracy: 0.9533, precision: 0.9733\n",
      "Epoch 20 | Train Loss: 0.1466 loss: 0.1466, accuracy: 0.9457, precision: 0.9440 | Val Loss: 0.1648 loss: 0.1648, accuracy: 0.9600, precision: 0.9737\n"
     ]
    }
   ],
   "source": [
    "model = BinaryClassifier().to(DEVICE)\n",
    "\n",
    "criterion = torch.nn.CrossEntropyLoss()\n",
    "optimizer = torch.optim.Adam(model.parameters(), lr=0.001)\n",
    "\n",
    "\n",
    "# 7. Run\n",
    "trained_model, history = train_model(\n",
    "    model, train_loader, val_loader,\n",
    "    criterion, optimizer, device,\n",
    "    metrics=metrics,\n",
    "    epochs=20,\n",
    ")"
   ]
  },
  {
   "cell_type": "code",
   "execution_count": 36,
   "id": "4a625816",
   "metadata": {},
   "outputs": [
    {
     "data": {
      "image/png": "[encoded data removed]",
      "text/plain": [
       "<Figure size 1800x500 with 3 Axes>"
      ]
     },
     "metadata": {},
     "output_type": "display_data"
    }
   ],
   "source": [
    "plot_history(history)"
   ]
  },
  {
   "cell_type": "code",
   "execution_count": null,
   "id": "cc39307e",
   "metadata": {},
   "outputs": [],
   "source": []
  },
  {
   "cell_type": "code",
   "execution_count": null,
   "id": "9d8639fa",
   "metadata": {},
   "outputs": [],
   "source": []
  },
  {
   "cell_type": "markdown",
   "id": "6333b1b3",
   "metadata": {},
   "source": [
    "### Early stopping"
   ]
  },
  {
   "cell_type": "code",
   "execution_count": null,
   "id": "8aa06f4c",
   "metadata": {},
   "outputs": [],
   "source": []
  },
  {
   "cell_type": "code",
   "execution_count": 38,
   "id": "5877708a",
   "metadata": {},
   "outputs": [],
   "source": [
    "def train_model(\n",
    "    model, train_loader, val_loader,\n",
    "    criterion, optimizer, device,\n",
    "    metrics,\n",
    "    early_stopping_patience=10,  # New\n",
    "    epochs=10\n",
    "):\n",
    "    metric_names = list(metrics.keys())\n",
    "    logger = TrainingLogger(metric_names)\n",
    "\n",
    "    best_val_loss = float('inf')\n",
    "    epochs_no_improve = 0\n",
    "    best_model_state = None\n",
    "\n",
    "    for epoch in range(1, epochs + 1):\n",
    "        train_loss, train_metrics = train_one_epoch(model, train_loader, criterion, optimizer, device, metrics)\n",
    "        val_loss, val_metrics = validate_one_epoch(model, val_loader, criterion, device, metrics)\n",
    "\n",
    "        # Logging\n",
    "        logger.log_epoch(train_loss, val_loss, train_metrics, val_metrics)\n",
    "        logger.print_epoch(epoch)\n",
    "\n",
    "        # Early Stopping\n",
    "        if early_stopping_patience is not None:\n",
    "            if val_loss < best_val_loss:\n",
    "                best_val_loss = val_loss\n",
    "                epochs_no_improve = 0\n",
    "                best_model_state = model.state_dict()  # Save best model state\n",
    "            else:\n",
    "                epochs_no_improve += 1\n",
    "                if epochs_no_improve >= early_stopping_patience:\n",
    "                    print(f\"Early stopping triggered at epoch {epoch}.\")\n",
    "                    if best_model_state is not None:\n",
    "                        model.load_state_dict(best_model_state)  # Restore best model\n",
    "                    break\n",
    "\n",
    "    return model, logger.history\n"
   ]
  },
  {
   "cell_type": "code",
   "execution_count": 41,
   "id": "fd3885a0",
   "metadata": {},
   "outputs": [
    {
     "name": "stdout",
     "output_type": "stream",
     "text": [
      "Epoch 01 | Train Loss: 0.6354 loss: 0.6354, accuracy: 0.6700, precision: 0.7842 | Val Loss: 0.6180 loss: 0.6180, accuracy: 0.6867, precision: 0.8163\n",
      "Epoch 02 | Train Loss: 0.5940 loss: 0.5940, accuracy: 0.7786, precision: 0.8333 | Val Loss: 0.5740 loss: 0.5740, accuracy: 0.7600, precision: 0.8182\n",
      "Epoch 03 | Train Loss: 0.5514 loss: 0.5514, accuracy: 0.8600, precision: 0.8685 | Val Loss: 0.5293 loss: 0.5293, accuracy: 0.8400, precision: 0.8462\n",
      "Epoch 04 | Train Loss: 0.5056 loss: 0.5056, accuracy: 0.8986, precision: 0.8918 | Val Loss: 0.4799 loss: 0.4799, accuracy: 0.8867, precision: 0.8675\n",
      "Epoch 05 | Train Loss: 0.4559 loss: 0.4559, accuracy: 0.9257, precision: 0.9088 | Val Loss: 0.4325 loss: 0.4325, accuracy: 0.9200, precision: 0.9125\n",
      "Epoch 06 | Train Loss: 0.4063 loss: 0.4063, accuracy: 0.9371, precision: 0.9226 | Val Loss: 0.3859 loss: 0.3859, accuracy: 0.9400, precision: 0.9481\n",
      "Epoch 07 | Train Loss: 0.3591 loss: 0.3591, accuracy: 0.9386, precision: 0.9302 | Val Loss: 0.3440 loss: 0.3440, accuracy: 0.9533, precision: 0.9733\n",
      "Epoch 08 | Train Loss: 0.3162 loss: 0.3162, accuracy: 0.9414, precision: 0.9382 | Val Loss: 0.3076 loss: 0.3076, accuracy: 0.9467, precision: 0.9730\n",
      "Epoch 09 | Train Loss: 0.2792 loss: 0.2792, accuracy: 0.9429, precision: 0.9410 | Val Loss: 0.2768 loss: 0.2768, accuracy: 0.9467, precision: 0.9730\n",
      "Epoch 10 | Train Loss: 0.2481 loss: 0.2481, accuracy: 0.9429, precision: 0.9436 | Val Loss: 0.2534 loss: 0.2534, accuracy: 0.9533, precision: 0.9733\n",
      "Epoch 11 | Train Loss: 0.2235 loss: 0.2235, accuracy: 0.9414, precision: 0.9461 | Val Loss: 0.2343 loss: 0.2343, accuracy: 0.9467, precision: 0.9730\n",
      "Epoch 12 | Train Loss: 0.2039 loss: 0.2039, accuracy: 0.9386, precision: 0.9458 | Val Loss: 0.2196 loss: 0.2196, accuracy: 0.9467, precision: 0.9730\n",
      "Epoch 13 | Train Loss: 0.1886 loss: 0.1886, accuracy: 0.9429, precision: 0.9463 | Val Loss: 0.2086 loss: 0.2086, accuracy: 0.9467, precision: 0.9730\n",
      "Epoch 14 | Train Loss: 0.1762 loss: 0.1762, accuracy: 0.9443, precision: 0.9491 | Val Loss: 0.2003 loss: 0.2003, accuracy: 0.9467, precision: 0.9730\n",
      "Epoch 15 | Train Loss: 0.1665 loss: 0.1665, accuracy: 0.9457, precision: 0.9493 | Val Loss: 0.1948 loss: 0.1948, accuracy: 0.9467, precision: 0.9730\n",
      "Epoch 16 | Train Loss: 0.1581 loss: 0.1581, accuracy: 0.9471, precision: 0.9521 | Val Loss: 0.1900 loss: 0.1900, accuracy: 0.9467, precision: 0.9730\n",
      "Epoch 17 | Train Loss: 0.1514 loss: 0.1514, accuracy: 0.9471, precision: 0.9521 | Val Loss: 0.1859 loss: 0.1859, accuracy: 0.9467, precision: 0.9730\n",
      "Epoch 18 | Train Loss: 0.1454 loss: 0.1454, accuracy: 0.9471, precision: 0.9521 | Val Loss: 0.1843 loss: 0.1843, accuracy: 0.9467, precision: 0.9730\n",
      "Epoch 19 | Train Loss: 0.1406 loss: 0.1406, accuracy: 0.9486, precision: 0.9550 | Val Loss: 0.1840 loss: 0.1840, accuracy: 0.9467, precision: 0.9730\n",
      "Epoch 20 | Train Loss: 0.1358 loss: 0.1358, accuracy: 0.9529, precision: 0.9554 | Val Loss: 0.1806 loss: 0.1806, accuracy: 0.9467, precision: 0.9730\n",
      "Epoch 21 | Train Loss: 0.1314 loss: 0.1314, accuracy: 0.9529, precision: 0.9554 | Val Loss: 0.1803 loss: 0.1803, accuracy: 0.9467, precision: 0.9730\n",
      "Epoch 22 | Train Loss: 0.1277 loss: 0.1277, accuracy: 0.9557, precision: 0.9583 | Val Loss: 0.1794 loss: 0.1794, accuracy: 0.9467, precision: 0.9730\n",
      "Epoch 23 | Train Loss: 0.1247 loss: 0.1247, accuracy: 0.9529, precision: 0.9608 | Val Loss: 0.1801 loss: 0.1801, accuracy: 0.9467, precision: 0.9730\n",
      "Epoch 24 | Train Loss: 0.1211 loss: 0.1211, accuracy: 0.9571, precision: 0.9640 | Val Loss: 0.1802 loss: 0.1802, accuracy: 0.9467, precision: 0.9730\n",
      "Epoch 25 | Train Loss: 0.1184 loss: 0.1184, accuracy: 0.9586, precision: 0.9613 | Val Loss: 0.1785 loss: 0.1785, accuracy: 0.9467, precision: 0.9730\n",
      "Epoch 26 | Train Loss: 0.1154 loss: 0.1154, accuracy: 0.9643, precision: 0.9645 | Val Loss: 0.1802 loss: 0.1802, accuracy: 0.9400, precision: 0.9726\n",
      "Epoch 27 | Train Loss: 0.1128 loss: 0.1128, accuracy: 0.9629, precision: 0.9644 | Val Loss: 0.1803 loss: 0.1803, accuracy: 0.9400, precision: 0.9726\n",
      "Epoch 28 | Train Loss: 0.1105 loss: 0.1105, accuracy: 0.9643, precision: 0.9618 | Val Loss: 0.1806 loss: 0.1806, accuracy: 0.9400, precision: 0.9726\n",
      "Early stopping triggered at epoch 28.\n"
     ]
    }
   ],
   "source": [
    "model = BinaryClassifier().to(DEVICE)\n",
    "\n",
    "criterion = torch.nn.CrossEntropyLoss()\n",
    "optimizer = torch.optim.Adam(model.parameters(), lr=0.001)\n",
    "\n",
    "\n",
    "# 7. Run\n",
    "trained_model, history = train_model(\n",
    "    model, train_loader, val_loader,\n",
    "    criterion, optimizer, device,\n",
    "    metrics=metrics,\n",
    "    early_stopping_patience=3,\n",
    "    epochs=50,\n",
    ")"
   ]
  },
  {
   "cell_type": "markdown",
   "id": "350d0812",
   "metadata": {},
   "source": [
    "Since train_model saves the best model weights in memory (best_model_state) and restores them before returning, you already get the best model ready to use when training ends."
   ]
  },
  {
   "cell_type": "code",
   "execution_count": null,
   "id": "6710263d",
   "metadata": {},
   "outputs": [],
   "source": []
  },
  {
   "cell_type": "markdown",
   "id": "4bcfd002",
   "metadata": {},
   "source": [
    "### LR Scheduling"
   ]
  },
  {
   "cell_type": "code",
   "execution_count": 44,
   "id": "90c3b686",
   "metadata": {},
   "outputs": [],
   "source": [
    "def train_model(\n",
    "    model, train_loader, val_loader,\n",
    "    criterion, optimizer, device,\n",
    "    metrics,\n",
    "    early_stopping_patience=None,\n",
    "    scheduler=None,\n",
    "    epochs=10\n",
    "):\n",
    "\n",
    "\n",
    "    metric_names = list(metrics.keys())\n",
    "    logger = TrainingLogger(metric_names)\n",
    "\n",
    "    best_val_loss = float('inf')\n",
    "    epochs_no_improve = 0\n",
    "    best_model_state = None\n",
    "\n",
    "    for epoch in range(1, epochs + 1):\n",
    "        model.train()\n",
    "        train_loss, train_metrics = train_one_epoch(model, train_loader, criterion, optimizer, device, metrics)\n",
    "\n",
    "        model.eval()\n",
    "        val_loss, val_metrics = validate_one_epoch(model, val_loader, criterion, device, metrics)\n",
    "\n",
    "        # Log training and validation results\n",
    "        logger.log_epoch(train_loss, val_loss, train_metrics, val_metrics)\n",
    "\n",
    "        # Log learning rate\n",
    "        current_lr = optimizer.param_groups[0]['lr']\n",
    "        print(f\"Epoch {epoch}/{epochs} - LR: {current_lr:.6f}\")\n",
    "        logger.print_epoch(epoch)\n",
    "\n",
    "        # Scheduler step\n",
    "        if scheduler is not None:\n",
    "            if isinstance(scheduler, torch.optim.lr_scheduler.ReduceLROnPlateau):\n",
    "                scheduler.step(val_loss)\n",
    "            else:\n",
    "                scheduler.step()\n",
    "\n",
    "        # Early stopping\n",
    "        if early_stopping_patience is not None:\n",
    "            if val_loss < best_val_loss:\n",
    "                best_val_loss = val_loss\n",
    "                epochs_no_improve = 0\n",
    "                best_model_state = model.state_dict()\n",
    "                torch.save(model.state_dict(), 'best_model.pth')  # Optional: save to disk\n",
    "            else:\n",
    "                epochs_no_improve += 1\n",
    "                if epochs_no_improve >= early_stopping_patience:\n",
    "                    print(f\"Early stopping triggered at epoch {epoch}.\")\n",
    "                    if best_model_state is not None:\n",
    "                        model.load_state_dict(best_model_state)\n",
    "                    break\n",
    "\n",
    "    return model, logger.history\n"
   ]
  },
  {
   "cell_type": "code",
   "execution_count": null,
   "id": "44c31412",
   "metadata": {},
   "outputs": [],
   "source": []
  },
  {
   "cell_type": "code",
   "execution_count": null,
   "id": "3613e9c2",
   "metadata": {},
   "outputs": [],
   "source": []
  },
  {
   "cell_type": "code",
   "execution_count": 49,
   "id": "cce8daac",
   "metadata": {},
   "outputs": [],
   "source": [
    "def train_model(\n",
    "    model, train_loader, val_loader,\n",
    "    criterion, optimizer, device,\n",
    "    metrics,\n",
    "    early_stopping_patience=None,\n",
    "    scheduler=None,\n",
    "    epochs=10\n",
    "):\n",
    "    import torch\n",
    "\n",
    "    metric_names = list(metrics.keys())\n",
    "    logger = TrainingLogger(metric_names)\n",
    "\n",
    "    best_val_loss = float('inf')\n",
    "    epochs_no_improve = 0\n",
    "    best_model_state = None\n",
    "\n",
    "    for epoch in range(1, epochs + 1):\n",
    "        model.train()\n",
    "        train_loss, train_metrics = train_one_epoch(model, train_loader, criterion, optimizer, device, metrics)\n",
    "\n",
    "        model.eval()\n",
    "        val_loss, val_metrics = validate_one_epoch(model, val_loader, criterion, device, metrics)\n",
    "\n",
    "        # Log training and validation results\n",
    "        logger.log_epoch(train_loss, val_loss, train_metrics, val_metrics)\n",
    "\n",
    "        # Log learning rate\n",
    "        current_lr = optimizer.param_groups[0]['lr']\n",
    "        print(f\"Epoch {epoch}/{epochs} - LR: {current_lr:.6f}\")\n",
    "        logger.print_epoch(epoch)\n",
    "\n",
    "        # Scheduler step (standard schedulers like StepLR, CosineAnnealingLR, etc.)\n",
    "        if scheduler is not None:\n",
    "            scheduler.step()\n",
    "\n",
    "        # Early stopping based on val_loss\n",
    "        if early_stopping_patience is not None:\n",
    "            if val_loss < best_val_loss:\n",
    "                best_val_loss = val_loss\n",
    "                epochs_no_improve = 0\n",
    "                best_model_state = model.state_dict()\n",
    "                torch.save(model.state_dict(), 'best_model.pth')  # Optional\n",
    "            else:\n",
    "                epochs_no_improve += 1\n",
    "                if epochs_no_improve >= early_stopping_patience:\n",
    "                    print(f\"Early stopping triggered at epoch {epoch}.\")\n",
    "                    if best_model_state is not None:\n",
    "                        model.load_state_dict(best_model_state)\n",
    "                    break\n",
    "\n",
    "    return model, logger.history\n"
   ]
  },
  {
   "cell_type": "code",
   "execution_count": 54,
   "id": "e8f6c088",
   "metadata": {},
   "outputs": [
    {
     "name": "stdout",
     "output_type": "stream",
     "text": [
      "Epoch 1/50 - LR: 0.010000\n",
      "Epoch 01 | Train Loss: 0.5289 loss: 0.5289, accuracy: 0.7529, precision: 0.6886 | Val Loss: 0.3159 loss: 0.3159, accuracy: 0.9267, precision: 0.9718\n",
      "Epoch 2/50 - LR: 0.010000\n",
      "Epoch 02 | Train Loss: 0.2179 loss: 0.2179, accuracy: 0.9257, precision: 0.9527 | Val Loss: 0.1734 loss: 0.1734, accuracy: 0.9600, precision: 0.9737\n",
      "Epoch 3/50 - LR: 0.010000\n",
      "Epoch 03 | Train Loss: 0.1423 loss: 0.1423, accuracy: 0.9386, precision: 0.9405 | Val Loss: 0.1740 loss: 0.1740, accuracy: 0.9533, precision: 0.9733\n",
      "Epoch 4/50 - LR: 0.010000\n",
      "Epoch 04 | Train Loss: 0.1227 loss: 0.1227, accuracy: 0.9557, precision: 0.9695 | Val Loss: 0.1675 loss: 0.1675, accuracy: 0.9533, precision: 0.9733\n",
      "Epoch 5/50 - LR: 0.010000\n",
      "Epoch 05 | Train Loss: 0.1043 loss: 0.1043, accuracy: 0.9686, precision: 0.9703 | Val Loss: 0.1709 loss: 0.1709, accuracy: 0.9533, precision: 0.9733\n",
      "Epoch 6/50 - LR: 0.001000\n",
      "Epoch 06 | Train Loss: 0.0905 loss: 0.0905, accuracy: 0.9743, precision: 0.9791 | Val Loss: 0.1719 loss: 0.1719, accuracy: 0.9533, precision: 0.9733\n",
      "Epoch 7/50 - LR: 0.001000\n",
      "Epoch 07 | Train Loss: 0.0890 loss: 0.0890, accuracy: 0.9743, precision: 0.9791 | Val Loss: 0.1734 loss: 0.1734, accuracy: 0.9533, precision: 0.9733\n",
      "Epoch 8/50 - LR: 0.001000\n",
      "Epoch 08 | Train Loss: 0.0879 loss: 0.0879, accuracy: 0.9757, precision: 0.9820 | Val Loss: 0.1744 loss: 0.1744, accuracy: 0.9533, precision: 0.9733\n",
      "Epoch 9/50 - LR: 0.001000\n",
      "Epoch 09 | Train Loss: 0.0866 loss: 0.0866, accuracy: 0.9757, precision: 0.9820 | Val Loss: 0.1750 loss: 0.1750, accuracy: 0.9533, precision: 0.9733\n",
      "Epoch 10/50 - LR: 0.001000\n",
      "Epoch 10 | Train Loss: 0.0855 loss: 0.0855, accuracy: 0.9771, precision: 0.9821 | Val Loss: 0.1760 loss: 0.1760, accuracy: 0.9533, precision: 0.9733\n",
      "Epoch 11/50 - LR: 0.000100\n",
      "Epoch 11 | Train Loss: 0.0841 loss: 0.0841, accuracy: 0.9786, precision: 0.9821 | Val Loss: 0.1761 loss: 0.1761, accuracy: 0.9533, precision: 0.9733\n",
      "Epoch 12/50 - LR: 0.000100\n",
      "Epoch 12 | Train Loss: 0.0840 loss: 0.0840, accuracy: 0.9786, precision: 0.9821 | Val Loss: 0.1764 loss: 0.1764, accuracy: 0.9533, precision: 0.9733\n",
      "Epoch 13/50 - LR: 0.000100\n",
      "Epoch 13 | Train Loss: 0.0839 loss: 0.0839, accuracy: 0.9786, precision: 0.9821 | Val Loss: 0.1764 loss: 0.1764, accuracy: 0.9533, precision: 0.9733\n",
      "Epoch 14/50 - LR: 0.000100\n",
      "Epoch 14 | Train Loss: 0.0837 loss: 0.0837, accuracy: 0.9786, precision: 0.9821 | Val Loss: 0.1765 loss: 0.1765, accuracy: 0.9533, precision: 0.9733\n",
      "Epoch 15/50 - LR: 0.000100\n",
      "Epoch 15 | Train Loss: 0.0836 loss: 0.0836, accuracy: 0.9786, precision: 0.9821 | Val Loss: 0.1767 loss: 0.1767, accuracy: 0.9533, precision: 0.9733\n",
      "Epoch 16/50 - LR: 0.000010\n",
      "Epoch 16 | Train Loss: 0.0835 loss: 0.0835, accuracy: 0.9786, precision: 0.9821 | Val Loss: 0.1767 loss: 0.1767, accuracy: 0.9533, precision: 0.9733\n",
      "Epoch 17/50 - LR: 0.000010\n",
      "Epoch 17 | Train Loss: 0.0834 loss: 0.0834, accuracy: 0.9786, precision: 0.9821 | Val Loss: 0.1767 loss: 0.1767, accuracy: 0.9533, precision: 0.9733\n",
      "Epoch 18/50 - LR: 0.000010\n",
      "Epoch 18 | Train Loss: 0.0834 loss: 0.0834, accuracy: 0.9786, precision: 0.9821 | Val Loss: 0.1767 loss: 0.1767, accuracy: 0.9533, precision: 0.9733\n",
      "Epoch 19/50 - LR: 0.000010\n",
      "Epoch 19 | Train Loss: 0.0834 loss: 0.0834, accuracy: 0.9786, precision: 0.9821 | Val Loss: 0.1767 loss: 0.1767, accuracy: 0.9533, precision: 0.9733\n",
      "Epoch 20/50 - LR: 0.000010\n",
      "Epoch 20 | Train Loss: 0.0834 loss: 0.0834, accuracy: 0.9786, precision: 0.9821 | Val Loss: 0.1768 loss: 0.1768, accuracy: 0.9533, precision: 0.9733\n",
      "Epoch 21/50 - LR: 0.000001\n",
      "Epoch 21 | Train Loss: 0.0834 loss: 0.0834, accuracy: 0.9786, precision: 0.9821 | Val Loss: 0.1768 loss: 0.1768, accuracy: 0.9533, precision: 0.9733\n",
      "Epoch 22/50 - LR: 0.000001\n",
      "Epoch 22 | Train Loss: 0.0834 loss: 0.0834, accuracy: 0.9786, precision: 0.9821 | Val Loss: 0.1768 loss: 0.1768, accuracy: 0.9533, precision: 0.9733\n",
      "Epoch 23/50 - LR: 0.000001\n",
      "Epoch 23 | Train Loss: 0.0834 loss: 0.0834, accuracy: 0.9786, precision: 0.9821 | Val Loss: 0.1768 loss: 0.1768, accuracy: 0.9533, precision: 0.9733\n",
      "Epoch 24/50 - LR: 0.000001\n",
      "Epoch 24 | Train Loss: 0.0834 loss: 0.0834, accuracy: 0.9786, precision: 0.9821 | Val Loss: 0.1768 loss: 0.1768, accuracy: 0.9533, precision: 0.9733\n",
      "Early stopping triggered at epoch 24.\n"
     ]
    }
   ],
   "source": [
    "\n",
    "model = BinaryClassifier().to(DEVICE)\n",
    "\n",
    "#scheduler = torch.optim.lr_scheduler.ReduceLROnPlateau(optimizer, mode='min', patience=2)\n",
    "\n",
    "\n",
    "criterion = torch.nn.CrossEntropyLoss()\n",
    "optimizer = torch.optim.Adam(model.parameters(), lr=0.01) # to prove lr scheulder\n",
    "scheduler = torch.optim.lr_scheduler.StepLR(optimizer, step_size=5, gamma=0.1)\n",
    "\n",
    "#The StepLR scheduler adjusts the learning rate every step_size epochs\n",
    "\n",
    "# 7. Run\n",
    "trained_model, history = train_model(\n",
    "    model, train_loader, val_loader,\n",
    "    criterion, optimizer, device,\n",
    "    metrics=metrics,\n",
    "    early_stopping_patience=20,\n",
    "    scheduler=scheduler,\n",
    "    epochs=50,\n",
    ")\n",
    "\n"
   ]
  },
  {
   "cell_type": "code",
   "execution_count": null,
   "id": "8a72eded",
   "metadata": {},
   "outputs": [],
   "source": []
  },
  {
   "cell_type": "code",
   "execution_count": null,
   "id": "b8e8b590",
   "metadata": {},
   "outputs": [],
   "source": []
  },
  {
   "cell_type": "code",
   "execution_count": null,
   "id": "80361315",
   "metadata": {},
   "outputs": [],
   "source": []
  },
  {
   "cell_type": "markdown",
   "id": "7a16d952",
   "metadata": {},
   "source": [
    "### Training in detail"
   ]
  },
  {
   "cell_type": "code",
   "execution_count": null,
   "id": "47d9f025",
   "metadata": {},
   "outputs": [],
   "source": []
  },
  {
   "cell_type": "code",
   "execution_count": null,
   "id": "86f85ca7",
   "metadata": {},
   "outputs": [],
   "source": []
  },
  {
   "cell_type": "code",
   "execution_count": 62,
   "id": "3ae6255c",
   "metadata": {},
   "outputs": [
    {
     "name": "stdout",
     "output_type": "stream",
     "text": [
      "Average loss: 2.1125\n",
      "Running loss: 8.4500\n",
      "Weight after first batch update: 1.1000\n"
     ]
    }
   ],
   "source": [
    "import torch\n",
    "import torch.nn as nn\n",
    "import torch.optim as optim\n",
    "from torch.utils.data import DataLoader, TensorDataset\n",
    "\n",
    "class SimpleLinearModel(nn.Module):\n",
    "    def __init__(self):\n",
    "        super().__init__()\n",
    "        self.linear = nn.Linear(1, 1, bias=False)  # 1 weight\n",
    "\n",
    "    def forward(self, x):\n",
    "        return self.linear(x)\n",
    "\n",
    "criterion = nn.MSELoss(reduction='mean')\n",
    "\n",
    "inputs = torch.tensor([[1.0], [2.0], [3.0], [4.0]])\n",
    "labels = torch.tensor([[2.0], [2.0], [2.0], [2.0]])\n",
    "\n",
    "dataset = TensorDataset(inputs, labels)\n",
    "dataloader = DataLoader(dataset, batch_size=2)  # batch size 2\n",
    "\n",
    "device = torch.device(\"cpu\")\n",
    "\n",
    "model = SimpleLinearModel().to(device)\n",
    "with torch.no_grad():\n",
    "    model.linear.weight.fill_(1.0)  # w = 1.0\n",
    "\n",
    "optimizer = optim.SGD(model.parameters(), lr=0.1)\n",
    "\n",
    "def train_one_epoch(model, dataloader, criterion, optimizer, device, metrics=None):\n",
    "    model.train()\n",
    "    running_loss, total_samples = 0.0, 0\n",
    "    weight_after_first_batch = None\n",
    "\n",
    "    for i, (inputs, labels) in enumerate(dataloader):\n",
    "        inputs, labels = inputs.to(device), labels.to(device)\n",
    "        optimizer.zero_grad()\n",
    "        outputs = model(inputs)\n",
    "        loss = criterion(outputs, labels)\n",
    "        loss.backward()\n",
    "        optimizer.step()\n",
    "\n",
    "        batch_size = labels.size(0)\n",
    "        running_loss += loss.item() * batch_size\n",
    "        total_samples += batch_size\n",
    "\n",
    "        if i == 0:\n",
    "            # Capture the weight right after first batch update\n",
    "            weight_after_first_batch = model.linear.weight.item()\n",
    "\n",
    "    avg_loss = running_loss / total_samples\n",
    "    return avg_loss, running_loss, weight_after_first_batch\n",
    "\n",
    "avg_loss, rl, w_after_first = train_one_epoch(model, dataloader, criterion, optimizer, device)\n",
    "print(f\"Average loss: {avg_loss:.4f}\")\n",
    "print(f\"Running loss: {rl:.4f}\")\n",
    "print(f\"Weight after first batch update: {w_after_first:.4f}\")\n"
   ]
  },
  {
   "cell_type": "code",
   "execution_count": null,
   "id": "fb71fa5f",
   "metadata": {},
   "outputs": [],
   "source": [
    "#https://chatgpt.com/c/68929274-fe08-832f-86e9-11dedb9b6e68\n",
    "\n",
    "# y_pred = w*x"
   ]
  },
  {
   "cell_type": "markdown",
   "id": "e23f0914",
   "metadata": {},
   "source": [
    "### Add a test performance\n",
    "\n",
    "let's remember the purpose of the val and test sets\n",
    "\n",
    "|                              | **Validation Set**                                     | **Test Set**                           |\n",
    "| ---------------------------- | ------------------------------------------------------ | -------------------------------------- |\n",
    "| ✅ **Purpose**                | Tune model (monitor overfitting, early stopping, etc.) | Final performance evaluation           |\n",
    "| 🔁 **Used During Training?** | Yes (after each epoch)                                 | ❌ Never used during training or tuning |\n",
    "| 📉 **Affects Learning?**     | Yes (e.g., early stopping, LR sched)                   | No — used **once at the end**          |\n",
    "| 📌 **Best Practice**         | Used for model selection                               | Used for final reporting only          |"
   ]
  },
  {
   "cell_type": "code",
   "execution_count": null,
   "id": "529c7f73",
   "metadata": {},
   "outputs": [],
   "source": []
  }
 ],
 "metadata": {
  "kernelspec": {
   "display_name": "Python 3 (ipykernel)",
   "language": "python",
   "name": "python3"
  },
  "language_info": {
   "codemirror_mode": {
    "name": "ipython",
    "version": 3
   },
   "file_extension": ".py",
   "mimetype": "text/x-python",
   "name": "python",
   "nbconvert_exporter": "python",
   "pygments_lexer": "ipython3",
   "version": "3.10.12"
  }
 },
 "nbformat": 4,
 "nbformat_minor": 5
}
