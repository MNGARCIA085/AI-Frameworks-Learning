{
 "cells": [
  {
   "cell_type": "markdown",
   "id": "78eb9d81-9915-471d-a23f-b05616ba8740",
   "metadata": {},
   "source": [
    "# <div style=\"text-align: center; color: #1a5276;\">Advanced Training</div>"
   ]
  },
  {
   "cell_type": "markdown",
   "id": "49d5100e-592d-4442-ba93-cfa6ddffced0",
   "metadata": {},
   "source": [
    "## <font color='blue'>  Table of Contents </font>\n",
    "\n",
    "1. [Introduction](#1)\n",
    "2. [Setup](#2)\n",
    "3. [Helper Functions](#3) \n",
    "4. [Data](#4) \n",
    "5. [Model](#5)\n",
    "6. [Training](#6) <br>\n",
    "    6.1. [Basic Training](#6.1) <br>\n",
    "    6.2. [Including a progress bar](#6.2) <br>\n",
    "    6.3. [Including a validation set and a custom metric](#6.3) <br>\n",
    "    6.4. [Code improvement](#6.4) <br>\n",
    "8. [References](#references)"
   ]
  },
  {
   "cell_type": "markdown",
   "id": "2536f186-9d07-43d4-a5dd-7f639905a182",
   "metadata": {},
   "source": [
    "<a name=\"1\"></a>\n",
    "## <font color='blue'> 1. Introduction </font>\n",
    "\n",
    "https://gemini.google.com/app/c49f12a5fb1aef13?hl=es"
   ]
  },
  {
   "cell_type": "markdown",
   "id": "4d56b52e-689f-4793-9069-f37776d76270",
   "metadata": {},
   "source": [
    "<a name=\"2\"></a>\n",
    "## <font color='blue'> 2. Setup </font>"
   ]
  },
  {
   "cell_type": "code",
   "execution_count": 1,
   "id": "c47489ce-2423-4eba-a9f9-92725bdbbee8",
   "metadata": {},
   "outputs": [],
   "source": [
    "import torch\n",
    "import torch.nn as nn\n",
    "from torch.utils.data import DataLoader"
   ]
  },
  {
   "cell_type": "markdown",
   "id": "9588c4d2-3390-4b27-80bc-1edc750b4168",
   "metadata": {},
   "source": [
    "<a name=\"3\"></a>\n",
    "## <font color='blue'> 3. Data </font>"
   ]
  },
  {
   "cell_type": "code",
   "execution_count": 2,
   "id": "93c54dda-01ef-4338-88d0-55f4d0d677e8",
   "metadata": {},
   "outputs": [],
   "source": [
    "# binary data\n",
    "from sklearn.datasets import make_classification\n",
    "from sklearn.model_selection import train_test_split\n",
    "from torch.utils.data import TensorDataset\n",
    "\n",
    "# Synthetic binary data\n",
    "X, y = make_classification(n_samples=1000, n_features=20, n_classes=2, random_state=0)\n",
    "X = torch.tensor(X, dtype=torch.float32)\n",
    "y = torch.tensor(y, dtype=torch.long)\n",
    "\n",
    "# Split: 70% train, 15% val, 15% test\n",
    "X_train, X_tmp, y_train, y_tmp = train_test_split(X, y, test_size=0.3, random_state=0)\n",
    "X_val, X_test, y_val, y_test = train_test_split(X_tmp, y_tmp, test_size=0.5, random_state=0)\n",
    "\n",
    "train_loader = DataLoader(TensorDataset(X_train, y_train), batch_size=32, shuffle=True)\n",
    "val_loader = DataLoader(TensorDataset(X_val, y_val), batch_size=32)\n",
    "test_loader = DataLoader(TensorDataset(X_test, y_test), batch_size=32)"
   ]
  },
  {
   "cell_type": "code",
   "execution_count": null,
   "id": "a45a4c7c",
   "metadata": {},
   "outputs": [],
   "source": []
  },
  {
   "cell_type": "code",
   "execution_count": null,
   "id": "f46b9ce9",
   "metadata": {},
   "outputs": [],
   "source": [
    "from sklearn.datasets import make_classification\n",
    "from sklearn.model_selection import train_test_split\n",
    "from sklearn.preprocessing import StandardScaler\n",
    "from torch.utils.data import TensorDataset, DataLoader\n",
    "import torch\n",
    "\n",
    "# 1. Generate synthetic data\n",
    "X, y = make_classification(n_samples=1000, n_features=20, n_classes=2, random_state=0)\n",
    "\n",
    "# 2. Split data before scaling\n",
    "X_train, X_tmp, y_train, y_tmp = train_test_split(X, y, test_size=0.3, random_state=0)\n",
    "X_val, X_test, y_val, y_test = train_test_split(X_tmp, y_tmp, test_size=0.5, random_state=0)\n",
    "\n",
    "# 3. Fit scaler on training data only\n",
    "scaler = StandardScaler()\n",
    "X_train = scaler.fit_transform(X_train)   # Fit + transform train\n",
    "X_val = scaler.transform(X_val)           # Transform val only\n",
    "X_test = scaler.transform(X_test)         # Transform test only\n",
    "\n",
    "# 4. Convert to torch tensors\n",
    "X_train = torch.tensor(X_train, dtype=torch.float32)\n",
    "y_train = torch.tensor(y_train, dtype=torch.long)\n",
    "\n",
    "X_val = torch.tensor(X_val, dtype=torch.float32)\n",
    "y_val = torch.tensor(y_val, dtype=torch.long)\n",
    "\n",
    "X_test = torch.tensor(X_test, dtype=torch.float32)\n",
    "y_test = torch.tensor(y_test, dtype=torch.long)\n",
    "\n",
    "# 5. Create DataLoaders\n",
    "train_loader = DataLoader(TensorDataset(X_train, y_train), batch_size=32, shuffle=True)\n",
    "val_loader = DataLoader(TensorDataset(X_val, y_val), batch_size=32)\n",
    "test_loader = DataLoader(TensorDataset(X_test, y_test), batch_size=32)\n"
   ]
  },
  {
   "cell_type": "code",
   "execution_count": null,
   "id": "1d887ca1",
   "metadata": {},
   "outputs": [],
   "source": []
  },
  {
   "cell_type": "code",
   "execution_count": null,
   "id": "b60c922c",
   "metadata": {},
   "outputs": [],
   "source": []
  },
  {
   "cell_type": "code",
   "execution_count": null,
   "id": "edab95b9",
   "metadata": {},
   "outputs": [],
   "source": []
  },
  {
   "cell_type": "markdown",
   "id": "54c69c70-1581-4cf3-8367-5657d7d3eb29",
   "metadata": {},
   "source": [
    "### Model"
   ]
  },
  {
   "cell_type": "code",
   "execution_count": 3,
   "id": "fe09fb32",
   "metadata": {},
   "outputs": [
    {
     "data": {
      "text/plain": [
       "'\\n# example: using CrossEntropyLoss (expects integer class labels 0 or 1)\\ncriterion = nn.CrossEntropyLoss()\\n\\n# dummy input and target\\nx = torch.randn(8, 20, device=DEVICE)          # batch of 8\\ny = torch.randint(0, 2, (8,), device=DEVICE)   # labels 0 or 1\\n\\nlogits1 = model1(x)  # shape (8,2)\\nloss1 = criterion(logits1, y)\\n'"
      ]
     },
     "execution_count": 3,
     "metadata": {},
     "output_type": "execute_result"
    }
   ],
   "source": [
    "import torch\n",
    "import torch.nn as nn\n",
    "\n",
    "# device once\n",
    "DEVICE = torch.device(\"cuda\" if torch.cuda.is_available() else \"cpu\")\n",
    "\n",
    "class BinaryClassifier(nn.Module):\n",
    "    def __init__(self, input_dim=20, hidden=16, output_dim=2):\n",
    "        super().__init__()\n",
    "        self.net = nn.Sequential(\n",
    "            nn.Linear(input_dim, hidden),\n",
    "            nn.ReLU(),\n",
    "            nn.Linear(hidden, output_dim)\n",
    "        )\n",
    "\n",
    "    def forward(self, x):\n",
    "        return self.net(x)\n",
    "\n",
    "# instantiate two separate models\n",
    "model1 = BinaryClassifier().to(DEVICE)\n",
    "model2 = BinaryClassifier().to(DEVICE)\n",
    "\n",
    "\n",
    "\n",
    "\n",
    "\"\"\"\n",
    "# example: using CrossEntropyLoss (expects integer class labels 0 or 1)\n",
    "criterion = nn.CrossEntropyLoss()\n",
    "\n",
    "# dummy input and target\n",
    "x = torch.randn(8, 20, device=DEVICE)          # batch of 8\n",
    "y = torch.randint(0, 2, (8,), device=DEVICE)   # labels 0 or 1\n",
    "\n",
    "logits1 = model1(x)  # shape (8,2)\n",
    "loss1 = criterion(logits1, y)\n",
    "\"\"\""
   ]
  },
  {
   "cell_type": "code",
   "execution_count": null,
   "id": "81f72e5f",
   "metadata": {},
   "outputs": [],
   "source": []
  },
  {
   "cell_type": "code",
   "execution_count": null,
   "id": "81613fdb",
   "metadata": {},
   "outputs": [],
   "source": []
  },
  {
   "cell_type": "code",
   "execution_count": null,
   "id": "f2975490",
   "metadata": {},
   "outputs": [],
   "source": []
  },
  {
   "cell_type": "code",
   "execution_count": null,
   "id": "7a28a67d-7327-4d34-a4c1-4e08232584b4",
   "metadata": {},
   "outputs": [],
   "source": [
    "y_val"
   ]
  },
  {
   "cell_type": "code",
   "execution_count": null,
   "id": "20681a28-46f1-494d-b6d6-2eabb87ac0c6",
   "metadata": {},
   "outputs": [],
   "source": []
  },
  {
   "cell_type": "markdown",
   "id": "34bcae8f-3535-4789-b752-86950a7c29fa",
   "metadata": {},
   "source": [
    "### Simple training\n",
    "\n",
    "\n",
    "que de momento incluye solo el entrenamiento y las metricas\n"
   ]
  },
  {
   "cell_type": "code",
   "execution_count": null,
   "id": "b964e796-0f2c-4d1e-8a53-7d9a6745e7ce",
   "metadata": {},
   "outputs": [],
   "source": [
    "def train_one_epoch(model, dataloader, criterion, optimizer, device, metric_fn):\n",
    "    model.train()\n",
    "    running_loss, running_metric, total_samples = 0.0, 0.0, 0\n",
    "\n",
    "    for inputs, labels in dataloader:\n",
    "        inputs, labels = inputs.to(device), labels.to(device)\n",
    "        optimizer.zero_grad()\n",
    "        outputs = model(inputs)\n",
    "        loss = criterion(outputs, labels)\n",
    "        loss.backward()\n",
    "        optimizer.step()\n",
    "\n",
    "        batch_size = labels.size(0)\n",
    "        running_loss += loss.item() * batch_size\n",
    "        running_metric += metric_fn(outputs, labels).item() * batch_size\n",
    "        total_samples += batch_size\n",
    "\n",
    "    return running_loss / total_samples, running_metric / total_samples if metric_fn else 0"
   ]
  },
  {
   "cell_type": "code",
   "execution_count": null,
   "id": "3636f5f7-3337-4ded-a5f4-f71ad97b154d",
   "metadata": {},
   "outputs": [],
   "source": [
    "def validate_one_epoch(model, dataloader, criterion, device, metric_fn=None):\n",
    "    model.eval()\n",
    "    running_loss, running_metric, total_samples = 0.0, 0.0, 0\n",
    "\n",
    "    with torch.no_grad():\n",
    "        for inputs, labels in dataloader:\n",
    "            inputs, labels = inputs.to(device), labels.to(device)\n",
    "            outputs = model(inputs)\n",
    "            loss = criterion(outputs, labels)\n",
    "            batch_size = labels.size(0)\n",
    "            running_loss += loss.item() * batch_size\n",
    "            running_metric += metric_fn(outputs, labels).item() * batch_size\n",
    "            total_samples += batch_size\n",
    "\n",
    "    return running_loss / total_samples, running_metric / total_samples if metric_fn else 0"
   ]
  },
  {
   "cell_type": "code",
   "execution_count": null,
   "id": "4db64872-df27-4399-9dae-324f9f3e81aa",
   "metadata": {},
   "outputs": [],
   "source": [
    "def train_model(\n",
    "    model, train_loader, val_loader, test_loader,\n",
    "    criterion, optimizer, device,\n",
    "    metric_fn, epochs=10\n",
    "):\n",
    "\n",
    "    history = {'train_loss': [], 'val_loss': [], 'train_metric': [], 'val_metric': []}\n",
    "\n",
    "    for epoch in range(1, epochs + 1):\n",
    "        train_loss, train_metric = train_one_epoch(model, train_loader, criterion, optimizer, device, metric_fn)\n",
    "        val_loss, val_metric = validate_one_epoch(model, val_loader, criterion, device, metric_fn)\n",
    "\n",
    "        history['train_loss'].append(train_loss)\n",
    "        history['val_loss'].append(val_loss)\n",
    "        history['train_metric'].append(train_metric)\n",
    "        history['val_metric'].append(val_metric)\n",
    "\n",
    "        print(f\"Epoch {epoch:02d} | Train Loss: {train_loss:.4f}, Metric: {train_metric:.4f} | \"\n",
    "              f\"Val Loss: {val_loss:.4f}, Metric: {val_metric:.4f}\")\n",
    "\n",
    "    \n",
    "    return model, history"
   ]
  },
  {
   "cell_type": "markdown",
   "id": "8f502cce",
   "metadata": {},
   "source": [
    "test"
   ]
  },
  {
   "cell_type": "code",
   "execution_count": null,
   "id": "9d1903be",
   "metadata": {},
   "outputs": [],
   "source": [
    "criterion = torch.nn.CrossEntropyLoss()\n",
    "optimizer = torch.optim.Adam(model.parameters(), lr=0.01)\n",
    "#scheduler = torch.optim.lr_scheduler.ReduceLROnPlateau(optimizer, mode='min', patience=2)\n",
    "\n",
    "def accuracy(outputs, labels):\n",
    "    preds = torch.argmax(outputs, dim=1)\n",
    "    return (preds == labels).float().mean()\n"
   ]
  },
  {
   "cell_type": "code",
   "execution_count": null,
   "id": "6d9a3758",
   "metadata": {},
   "outputs": [],
   "source": [
    "# Train with test set evaluation\n",
    "model, history = train_model(\n",
    "    model, train_loader, val_loader, test_loader,\n",
    "    criterion, optimizer, device,\n",
    "    metric_fn=accuracy,\n",
    "    epochs=10,\n",
    ")"
   ]
  },
  {
   "cell_type": "code",
   "execution_count": null,
   "id": "a25a7aea",
   "metadata": {},
   "outputs": [],
   "source": [
    "# Final test set evaluation (only once)\n",
    "test_loss, test_metric = validate_one_epoch(model, test_loader, criterion, device, accuracy)\n",
    "print(f\"\\nFinal Test Loss: {test_loss:.4f}, Test Metric: {test_metric:.4f}\")\n"
   ]
  },
  {
   "cell_type": "code",
   "execution_count": null,
   "id": "f502497d",
   "metadata": {},
   "outputs": [],
   "source": []
  },
  {
   "cell_type": "code",
   "execution_count": null,
   "id": "c3e158bb",
   "metadata": {},
   "outputs": [],
   "source": []
  },
  {
   "cell_type": "code",
   "execution_count": null,
   "id": "1ae7dde9",
   "metadata": {},
   "outputs": [],
   "source": []
  },
  {
   "cell_type": "code",
   "execution_count": null,
   "id": "dde1c5fa",
   "metadata": {},
   "outputs": [],
   "source": []
  },
  {
   "cell_type": "code",
   "execution_count": null,
   "id": "b77349dd",
   "metadata": {},
   "outputs": [],
   "source": []
  },
  {
   "cell_type": "code",
   "execution_count": null,
   "id": "4e3cfe65",
   "metadata": {},
   "outputs": [],
   "source": []
  },
  {
   "cell_type": "markdown",
   "id": "6300deb3",
   "metadata": {},
   "source": [
    "### Several metrics\n",
    "\n",
    "primero a mano, después con torchmetrics"
   ]
  },
  {
   "cell_type": "code",
   "execution_count": 39,
   "id": "461fdd2a",
   "metadata": {},
   "outputs": [],
   "source": [
    "device = torch.device(\"cuda\" if torch.cuda.is_available() else \"cpu\")"
   ]
  },
  {
   "cell_type": "code",
   "execution_count": null,
   "id": "21d1beaf",
   "metadata": {},
   "outputs": [],
   "source": []
  },
  {
   "cell_type": "code",
   "execution_count": null,
   "id": "e5fe62a2",
   "metadata": {},
   "outputs": [],
   "source": []
  },
  {
   "cell_type": "code",
   "execution_count": null,
   "id": "7917093d",
   "metadata": {},
   "outputs": [],
   "source": []
  },
  {
   "cell_type": "code",
   "execution_count": null,
   "id": "4585bddc",
   "metadata": {},
   "outputs": [],
   "source": []
  },
  {
   "cell_type": "code",
   "execution_count": 4,
   "id": "9c2aa376",
   "metadata": {},
   "outputs": [],
   "source": [
    "# --- 4. Define multiple metrics ---\n",
    "def accuracy_fn(outputs, labels):\n",
    "    preds = torch.argmax(outputs, dim=1)\n",
    "    return (preds == labels).float().mean()\n",
    "\n",
    "from sklearn.metrics import precision_score\n",
    "\n",
    "def precision_fn(outputs, labels):\n",
    "    preds = torch.argmax(outputs, dim=1).cpu().numpy()\n",
    "    labels = labels.cpu().numpy()\n",
    "    return torch.tensor(precision_score(labels, preds, average='binary'))  # or 'macro'\n",
    "\n",
    "metrics = {\n",
    "    \"accuracy\": accuracy_fn,\n",
    "    \"precision\": precision_fn\n",
    "}\n"
   ]
  },
  {
   "cell_type": "code",
   "execution_count": 5,
   "id": "0f9d9b1d",
   "metadata": {},
   "outputs": [],
   "source": [
    "def train_one_epoch(model, dataloader, criterion, optimizer, device, metrics):\n",
    "    model.train()\n",
    "    running_loss, total_samples = 0.0, 0\n",
    "    metric_totals = {name: 0.0 for name in metrics} if metrics else {}\n",
    "\n",
    "    for inputs, labels in dataloader:\n",
    "        inputs, labels = inputs.to(device), labels.to(device)\n",
    "        optimizer.zero_grad()\n",
    "        outputs = model(inputs)\n",
    "        loss = criterion(outputs, labels)\n",
    "        loss.backward()\n",
    "        optimizer.step()\n",
    "\n",
    "        batch_size = labels.size(0)\n",
    "        running_loss += loss.item() * batch_size\n",
    "        total_samples += batch_size\n",
    "\n",
    "        for name, fn in metrics.items():\n",
    "            metric_totals[name] += fn(outputs, labels).item() * batch_size\n",
    "\n",
    "    avg_loss = running_loss / total_samples\n",
    "    avg_metrics = {name: total / total_samples for name, total in metric_totals.items()}\n",
    "\n",
    "    return avg_loss, avg_metrics"
   ]
  },
  {
   "cell_type": "code",
   "execution_count": 6,
   "id": "6afb2664",
   "metadata": {},
   "outputs": [],
   "source": [
    "def validate_one_epoch(model, dataloader, criterion, device, metrics=None):\n",
    "    model.eval()\n",
    "    running_loss, total_samples = 0.0, 0\n",
    "    metric_totals = {name: 0.0 for name in metrics} if metrics else {}\n",
    "\n",
    "    with torch.no_grad():\n",
    "        for inputs, labels in dataloader:\n",
    "            inputs, labels = inputs.to(device), labels.to(device)\n",
    "            outputs = model(inputs)\n",
    "            loss = criterion(outputs, labels)\n",
    "            batch_size = labels.size(0)\n",
    "            running_loss += loss.item() * batch_size\n",
    "            total_samples += batch_size\n",
    "\n",
    "            for name, fn in metrics.items():\n",
    "                metric_totals[name] += fn(outputs, labels).item() * batch_size\n",
    "\n",
    "    avg_loss = running_loss / total_samples\n",
    "    avg_metrics = {name: total / total_samples for name, total in metric_totals.items()}\n",
    "\n",
    "    return avg_loss, avg_metrics"
   ]
  },
  {
   "cell_type": "code",
   "execution_count": 8,
   "id": "790a5920",
   "metadata": {},
   "outputs": [],
   "source": [
    "def train_model(\n",
    "    model, train_loader, val_loader, test_loader,\n",
    "    criterion, optimizer, device,\n",
    "    metrics, epochs=10\n",
    "):\n",
    "\n",
    "    for epoch in range(1, epochs + 1):\n",
    "        train_loss, train_metrics = train_one_epoch(model, train_loader, criterion, optimizer, device, metrics)\n",
    "        val_loss, val_metrics = validate_one_epoch(model, val_loader, criterion, device, metrics)\n",
    "\n",
    "        print(f\"Epoch {epoch:02d} | Train Loss: {train_loss:.4f} | Val Loss: {val_loss:.4f}\")\n",
    "        for name in train_metrics:\n",
    "            print(f\"  Train {name}: {train_metrics[name]:.4f} | Val {name}: {val_metrics[name]:.4f}\")\n",
    "\n",
    "\n",
    "    return model, history"
   ]
  },
  {
   "cell_type": "markdown",
   "id": "cc87bc6a",
   "metadata": {},
   "source": [
    "---> test"
   ]
  },
  {
   "cell_type": "code",
   "execution_count": 15,
   "id": "20402553",
   "metadata": {},
   "outputs": [],
   "source": [
    "device = torch.device(\"cuda\" if torch.cuda.is_available() else \"cpu\")\n",
    "model4 = BinaryClassifier().to(DEVICE)\n",
    "criterion = torch.nn.CrossEntropyLoss()\n",
    "optimizer = torch.optim.Adam(model4.parameters(), lr=0.01)\n"
   ]
  },
  {
   "cell_type": "code",
   "execution_count": 16,
   "id": "14257e82",
   "metadata": {},
   "outputs": [
    {
     "name": "stdout",
     "output_type": "stream",
     "text": [
      "Epoch 01 | Train Loss: 0.5311 | Val Loss: 0.3098\n",
      "  Train accuracy: 0.7743 | Val accuracy: 0.9400\n",
      "  Train precision: 0.7339 | Val precision: 0.9425\n",
      "Epoch 02 | Train Loss: 0.2111 | Val Loss: 0.1800\n",
      "  Train accuracy: 0.9314 | Val accuracy: 0.9600\n",
      "  Train precision: 0.9425 | Val precision: 0.9732\n",
      "Epoch 03 | Train Loss: 0.1435 | Val Loss: 0.1767\n",
      "  Train accuracy: 0.9429 | Val accuracy: 0.9600\n",
      "  Train precision: 0.9551 | Val precision: 0.9732\n",
      "Epoch 04 | Train Loss: 0.1191 | Val Loss: 0.1779\n",
      "  Train accuracy: 0.9543 | Val accuracy: 0.9600\n",
      "  Train precision: 0.9527 | Val precision: 0.9732\n",
      "Epoch 05 | Train Loss: 0.1035 | Val Loss: 0.1877\n",
      "  Train accuracy: 0.9643 | Val accuracy: 0.9467\n",
      "  Train precision: 0.9651 | Val precision: 0.9722\n",
      "Epoch 06 | Train Loss: 0.0948 | Val Loss: 0.1905\n",
      "  Train accuracy: 0.9686 | Val accuracy: 0.9467\n",
      "  Train precision: 0.9799 | Val precision: 0.9590\n",
      "Epoch 07 | Train Loss: 0.0880 | Val Loss: 0.2042\n",
      "  Train accuracy: 0.9714 | Val accuracy: 0.9467\n",
      "  Train precision: 0.9630 | Val precision: 0.9716\n",
      "Epoch 08 | Train Loss: 0.0783 | Val Loss: 0.2036\n",
      "  Train accuracy: 0.9786 | Val accuracy: 0.9533\n",
      "  Train precision: 0.9776 | Val precision: 0.9590\n",
      "Epoch 09 | Train Loss: 0.0717 | Val Loss: 0.2184\n",
      "  Train accuracy: 0.9829 | Val accuracy: 0.9533\n",
      "  Train precision: 0.9820 | Val precision: 0.9716\n",
      "Epoch 10 | Train Loss: 0.0664 | Val Loss: 0.2179\n",
      "  Train accuracy: 0.9857 | Val accuracy: 0.9600\n",
      "  Train precision: 0.9854 | Val precision: 0.9716\n"
     ]
    },
    {
     "ename": "NameError",
     "evalue": "name 'history' is not defined",
     "output_type": "error",
     "traceback": [
      "\u001b[0;31m---------------------------------------------------------------------------\u001b[0m",
      "\u001b[0;31mNameError\u001b[0m                                 Traceback (most recent call last)",
      "Cell \u001b[0;32mIn [16], line 2\u001b[0m\n\u001b[1;32m      1\u001b[0m \u001b[38;5;66;03m# --- 7. Run ---\u001b[39;00m\n\u001b[0;32m----> 2\u001b[0m trained_model, history \u001b[38;5;241m=\u001b[39m \u001b[43mtrain_model\u001b[49m\u001b[43m(\u001b[49m\n\u001b[1;32m      3\u001b[0m \u001b[43m    \u001b[49m\u001b[43mmodel4\u001b[49m\u001b[43m,\u001b[49m\n\u001b[1;32m      4\u001b[0m \u001b[43m    \u001b[49m\u001b[43mtrain_loader\u001b[49m\u001b[43m,\u001b[49m\n\u001b[1;32m      5\u001b[0m \u001b[43m    \u001b[49m\u001b[43mval_loader\u001b[49m\u001b[43m,\u001b[49m\n\u001b[1;32m      6\u001b[0m \u001b[43m    \u001b[49m\u001b[43mtest_loader\u001b[49m\u001b[43m,\u001b[49m\n\u001b[1;32m      7\u001b[0m \u001b[43m    \u001b[49m\u001b[43mcriterion\u001b[49m\u001b[43m,\u001b[49m\n\u001b[1;32m      8\u001b[0m \u001b[43m    \u001b[49m\u001b[43moptimizer\u001b[49m\u001b[43m,\u001b[49m\n\u001b[1;32m      9\u001b[0m \u001b[43m    \u001b[49m\u001b[43mdevice\u001b[49m\u001b[43m,\u001b[49m\n\u001b[1;32m     10\u001b[0m \u001b[43m    \u001b[49m\u001b[43mmetrics\u001b[49m\u001b[38;5;241;43m=\u001b[39;49m\u001b[43mmetrics\u001b[49m\u001b[43m,\u001b[49m\n\u001b[1;32m     11\u001b[0m \u001b[43m)\u001b[49m\n",
      "Cell \u001b[0;32mIn [8], line 16\u001b[0m, in \u001b[0;36mtrain_model\u001b[0;34m(model, train_loader, val_loader, test_loader, criterion, optimizer, device, metrics, epochs)\u001b[0m\n\u001b[1;32m     12\u001b[0m     \u001b[38;5;28;01mfor\u001b[39;00m name \u001b[38;5;129;01min\u001b[39;00m train_metrics:\n\u001b[1;32m     13\u001b[0m         \u001b[38;5;28mprint\u001b[39m(\u001b[38;5;124mf\u001b[39m\u001b[38;5;124m\"\u001b[39m\u001b[38;5;124m  Train \u001b[39m\u001b[38;5;132;01m{\u001b[39;00mname\u001b[38;5;132;01m}\u001b[39;00m\u001b[38;5;124m: \u001b[39m\u001b[38;5;132;01m{\u001b[39;00mtrain_metrics[name]\u001b[38;5;132;01m:\u001b[39;00m\u001b[38;5;124m.4f\u001b[39m\u001b[38;5;132;01m}\u001b[39;00m\u001b[38;5;124m | Val \u001b[39m\u001b[38;5;132;01m{\u001b[39;00mname\u001b[38;5;132;01m}\u001b[39;00m\u001b[38;5;124m: \u001b[39m\u001b[38;5;132;01m{\u001b[39;00mval_metrics[name]\u001b[38;5;132;01m:\u001b[39;00m\u001b[38;5;124m.4f\u001b[39m\u001b[38;5;132;01m}\u001b[39;00m\u001b[38;5;124m\"\u001b[39m)\n\u001b[0;32m---> 16\u001b[0m \u001b[38;5;28;01mreturn\u001b[39;00m model, \u001b[43mhistory\u001b[49m\n",
      "\u001b[0;31mNameError\u001b[0m: name 'history' is not defined"
     ]
    }
   ],
   "source": [
    "# --- 7. Run ---\n",
    "trained_model, history = train_model(\n",
    "    model4,\n",
    "    train_loader,\n",
    "    val_loader,\n",
    "    test_loader,\n",
    "    criterion,\n",
    "    optimizer,\n",
    "    device,\n",
    "    metrics=metrics,\n",
    ")"
   ]
  },
  {
   "cell_type": "code",
   "execution_count": null,
   "id": "cdc96884",
   "metadata": {},
   "outputs": [],
   "source": [
    "# Final test set evaluation (only once)\n",
    "test_loss, test_metrics = validate_one_epoch(model, test_loader, criterion, device, metrics)\n",
    "print(f\"\\nFinal Test Loss: {test_loss:.4f}, Test Metric: {test_metrics['accuracy']:.4f}\")"
   ]
  },
  {
   "cell_type": "code",
   "execution_count": null,
   "id": "a1f65962",
   "metadata": {},
   "outputs": [],
   "source": []
  },
  {
   "cell_type": "markdown",
   "id": "3e9f74a5",
   "metadata": {},
   "source": [
    "with torchmetrics"
   ]
  },
  {
   "cell_type": "code",
   "execution_count": null,
   "id": "e14996c3",
   "metadata": {},
   "outputs": [],
   "source": [
    "#!pip install torchmetrics"
   ]
  },
  {
   "cell_type": "code",
   "execution_count": 17,
   "id": "8faabf1a",
   "metadata": {},
   "outputs": [],
   "source": [
    "from torchmetrics.classification import BinaryAccuracy, BinaryPrecision\n",
    "\n",
    "# 4. Metric setup (torchmetrics)\n",
    "metrics = {\n",
    "    \"accuracy\": BinaryAccuracy().to(device), # necesita que le pase el argmax; poner como nota luego\n",
    "    \"precision\": BinaryPrecision().to(device)\n",
    "}\n",
    "\n",
    "def reset_metrics(metrics):\n",
    "    for metric in metrics.values():\n",
    "        metric.reset()\n",
    "\n",
    "def compute_metrics(metrics, preds, labels):\n",
    "    results = {}\n",
    "    for name, metric in metrics.items():\n",
    "        metric.update(preds, labels)\n",
    "    for name, metric in metrics.items():\n",
    "        results[name] = metric.compute().item()\n",
    "    return results\n",
    "\n",
    "\n",
    "########################################################################\n",
    "\n",
    "\n",
    "from torchmetrics.classification import Accuracy, Precision\n",
    "\n",
    "num_classes = 2\n",
    "is_binary = num_classes == 2\n",
    "metrics = {\n",
    "    \"accuracy\": Accuracy(task=\"binary\" if is_binary else \"multiclass\", num_classes=num_classes).to(device),\n",
    "    \"precision\": Precision(task=\"binary\" if is_binary else \"multiclass\", num_classes=num_classes, average='macro').to(device)\n",
    "}\n",
    "\n",
    "def reset_metrics(metrics):\n",
    "    for metric in metrics.values():\n",
    "        metric.reset()\n",
    "\n",
    "def compute_metrics(metrics):\n",
    "    return {name: metric.compute().item() for name, metric in metrics.items()}\n",
    "\n",
    "\n"
   ]
  },
  {
   "cell_type": "code",
   "execution_count": 18,
   "id": "d0f5df94",
   "metadata": {},
   "outputs": [],
   "source": [
    "def train_one_epoch(model, loader, criterion, optimizer, device, metrics):\n",
    "    model.train()\n",
    "    total_loss, total_samples = 0.0, 0\n",
    "    reset_metrics(metrics)\n",
    "\n",
    "    for inputs, labels in loader:\n",
    "        inputs, labels = inputs.to(device), labels.to(device)\n",
    "        optimizer.zero_grad()\n",
    "        outputs = model(inputs)\n",
    "        loss = criterion(outputs, labels)\n",
    "        loss.backward()\n",
    "        optimizer.step()\n",
    "\n",
    "        total_loss += loss.item() * labels.size(0)\n",
    "        total_samples += labels.size(0)\n",
    "\n",
    "        preds = torch.argmax(outputs, dim=1)\n",
    "        for metric in metrics.values():\n",
    "            metric.update(preds, labels)\n",
    "\n",
    "    avg_loss = total_loss / total_samples\n",
    "    final_metrics = compute_metrics(metrics)\n",
    "    return avg_loss, final_metrics"
   ]
  },
  {
   "cell_type": "code",
   "execution_count": 19,
   "id": "1e2091f9",
   "metadata": {},
   "outputs": [],
   "source": [
    "def validate_one_epoch(model, loader, criterion, device, metrics):\n",
    "    model.eval()\n",
    "    total_loss, total_samples = 0.0, 0\n",
    "    reset_metrics(metrics)\n",
    "\n",
    "    with torch.no_grad():\n",
    "        for inputs, labels in loader:\n",
    "            inputs, labels = inputs.to(device), labels.to(device)\n",
    "            outputs = model(inputs)\n",
    "            loss = criterion(outputs, labels)\n",
    "            total_loss += loss.item() * labels.size(0)\n",
    "            total_samples += labels.size(0)\n",
    "\n",
    "            preds = torch.argmax(outputs, dim=1)\n",
    "            for metric in metrics.values():\n",
    "                metric.update(preds, labels)\n",
    "\n",
    "    avg_loss = total_loss / total_samples\n",
    "    avg_metrics = compute_metrics(metrics)\n",
    "    return avg_loss, avg_metrics"
   ]
  },
  {
   "cell_type": "code",
   "execution_count": 22,
   "id": "b0778397",
   "metadata": {},
   "outputs": [],
   "source": [
    "def train_model(model, train_loader, val_loader,\n",
    "                criterion, optimizer, device,\n",
    "                metrics, epochs=20, early_stopping_patience=3):\n",
    "\n",
    "\n",
    "    for epoch in range(1, epochs + 1):\n",
    "        train_loss, train_metrics = train_one_epoch(model, train_loader, criterion, optimizer, device, metrics)\n",
    "        val_loss, val_metrics = validate_one_epoch(model, val_loader, criterion, device, metrics)\n",
    "\n",
    "        print(f\"Epoch {epoch:02d} | Train Loss: {train_loss:.4f} | Val Loss: {val_loss:.4f}\")\n",
    "        for k in train_metrics:\n",
    "            print(f\"  {k.capitalize()}: Train={train_metrics[k]:.4f}, Val={val_metrics[k]:.4f}\")\n",
    "\n",
    "\n",
    "    return model"
   ]
  },
  {
   "cell_type": "code",
   "execution_count": 24,
   "id": "162c5425",
   "metadata": {},
   "outputs": [
    {
     "name": "stdout",
     "output_type": "stream",
     "text": [
      "Epoch 01 | Train Loss: 0.4980 | Val Loss: 0.2703\n",
      "  Accuracy: Train=0.8143, Val=0.9333\n",
      "  Precision: Train=0.7459, Val=0.9474\n",
      "Epoch 02 | Train Loss: 0.1861 | Val Loss: 0.1751\n",
      "  Accuracy: Train=0.9300, Val=0.9533\n",
      "  Precision: Train=0.9448, Val=0.9733\n",
      "Epoch 03 | Train Loss: 0.1401 | Val Loss: 0.1686\n",
      "  Accuracy: Train=0.9414, Val=0.9600\n",
      "  Precision: Train=0.9543, Val=0.9737\n",
      "Epoch 04 | Train Loss: 0.1187 | Val Loss: 0.1745\n",
      "  Accuracy: Train=0.9529, Val=0.9533\n",
      "  Precision: Train=0.9397, Val=0.9610\n",
      "Epoch 05 | Train Loss: 0.1099 | Val Loss: 0.1754\n",
      "  Accuracy: Train=0.9543, Val=0.9533\n",
      "  Precision: Train=0.9501, Val=0.9733\n",
      "Epoch 06 | Train Loss: 0.0989 | Val Loss: 0.1863\n",
      "  Accuracy: Train=0.9657, Val=0.9467\n",
      "  Precision: Train=0.9539, Val=0.9605\n",
      "Epoch 07 | Train Loss: 0.0922 | Val Loss: 0.1921\n",
      "  Accuracy: Train=0.9700, Val=0.9533\n",
      "  Precision: Train=0.9676, Val=0.9733\n",
      "Epoch 08 | Train Loss: 0.0819 | Val Loss: 0.1989\n",
      "  Accuracy: Train=0.9771, Val=0.9533\n",
      "  Precision: Train=0.9736, Val=0.9733\n",
      "Epoch 09 | Train Loss: 0.0743 | Val Loss: 0.2025\n",
      "  Accuracy: Train=0.9814, Val=0.9600\n",
      "  Precision: Train=0.9880, Val=0.9737\n",
      "Epoch 10 | Train Loss: 0.0711 | Val Loss: 0.2109\n",
      "  Accuracy: Train=0.9814, Val=0.9533\n",
      "  Precision: Train=0.9822, Val=0.9733\n",
      "Epoch 11 | Train Loss: 0.0631 | Val Loss: 0.2217\n",
      "  Accuracy: Train=0.9843, Val=0.9600\n",
      "  Precision: Train=0.9824, Val=0.9865\n",
      "Epoch 12 | Train Loss: 0.0554 | Val Loss: 0.2440\n",
      "  Accuracy: Train=0.9857, Val=0.9533\n",
      "  Precision: Train=0.9853, Val=0.9863\n",
      "Epoch 13 | Train Loss: 0.0496 | Val Loss: 0.2381\n",
      "  Accuracy: Train=0.9943, Val=0.9667\n",
      "  Precision: Train=0.9970, Val=0.9867\n",
      "Epoch 14 | Train Loss: 0.0472 | Val Loss: 0.2711\n",
      "  Accuracy: Train=0.9843, Val=0.9600\n",
      "  Precision: Train=0.9824, Val=0.9865\n",
      "Epoch 15 | Train Loss: 0.0399 | Val Loss: 0.2667\n",
      "  Accuracy: Train=0.9971, Val=0.9667\n",
      "  Precision: Train=0.9971, Val=0.9867\n",
      "Epoch 16 | Train Loss: 0.0363 | Val Loss: 0.2880\n",
      "  Accuracy: Train=0.9943, Val=0.9600\n",
      "  Precision: Train=0.9941, Val=0.9865\n",
      "Epoch 17 | Train Loss: 0.0325 | Val Loss: 0.3050\n",
      "  Accuracy: Train=0.9929, Val=0.9600\n",
      "  Precision: Train=0.9883, Val=0.9865\n",
      "Epoch 18 | Train Loss: 0.0311 | Val Loss: 0.2922\n",
      "  Accuracy: Train=0.9957, Val=0.9667\n",
      "  Precision: Train=0.9970, Val=0.9867\n",
      "Epoch 19 | Train Loss: 0.0295 | Val Loss: 0.3234\n",
      "  Accuracy: Train=0.9943, Val=0.9533\n",
      "  Precision: Train=0.9912, Val=0.9863\n",
      "Epoch 20 | Train Loss: 0.0267 | Val Loss: 0.3282\n",
      "  Accuracy: Train=0.9971, Val=0.9533\n",
      "  Precision: Train=0.9971, Val=0.9863\n"
     ]
    }
   ],
   "source": [
    "model = BinaryClassifier().to(DEVICE)\n",
    "criterion = torch.nn.CrossEntropyLoss()\n",
    "optimizer = torch.optim.Adam(model.parameters(), lr=0.01)\n",
    "\n",
    "\n",
    "# --- 7. Run ---\n",
    "trained_model = train_model(\n",
    "    model,\n",
    "    train_loader,\n",
    "    val_loader,\n",
    "    criterion,\n",
    "    optimizer,\n",
    "    device,\n",
    "    metrics=metrics,\n",
    ")\n"
   ]
  },
  {
   "cell_type": "code",
   "execution_count": 25,
   "id": "c0ba1b47",
   "metadata": {},
   "outputs": [
    {
     "name": "stdout",
     "output_type": "stream",
     "text": [
      "\n",
      "Test Results: Loss=0.1944\n",
      "  Test Accuracy: 0.9600\n",
      "  Test Precision: 0.9747\n"
     ]
    }
   ],
   "source": [
    "# Final test eval\n",
    "test_loss, test_metrics = validate_one_epoch(model, test_loader, criterion, device, metrics)\n",
    "print(f\"\\nTest Results: Loss={test_loss:.4f}\")\n",
    "for k, v in test_metrics.items():\n",
    "    print(f\"  Test {k.capitalize()}: {v:.4f}\")"
   ]
  },
  {
   "cell_type": "code",
   "execution_count": null,
   "id": "e1106238",
   "metadata": {},
   "outputs": [],
   "source": []
  },
  {
   "cell_type": "code",
   "execution_count": null,
   "id": "2da2cbf3",
   "metadata": {},
   "outputs": [],
   "source": []
  },
  {
   "cell_type": "markdown",
   "id": "729f873b",
   "metadata": {},
   "source": [
    "### Tracking history"
   ]
  },
  {
   "cell_type": "code",
   "execution_count": 26,
   "id": "94862200",
   "metadata": {},
   "outputs": [],
   "source": [
    "def train_model(model, train_loader, val_loader,\n",
    "                criterion, optimizer, device,\n",
    "                metrics, epochs=20):\n",
    "\n",
    "    best_val_loss = float('inf')\n",
    "    best_model_state = None\n",
    "    wait = 0\n",
    "    history = {\n",
    "        \"train_loss\": [], \"val_loss\": [],\n",
    "        **{f\"train_{k}\": [] for k in metrics},\n",
    "        **{f\"val_{k}\": [] for k in metrics}\n",
    "    }\n",
    "\n",
    "    for epoch in range(1, epochs + 1):\n",
    "        train_loss, train_metrics = train_one_epoch(model, train_loader, criterion, optimizer, device, metrics)\n",
    "        val_loss, val_metrics = validate_one_epoch(model, val_loader, criterion, device, metrics)\n",
    "        \n",
    "\n",
    "        # Logging\n",
    "        history[\"train_loss\"].append(train_loss)\n",
    "        history[\"val_loss\"].append(val_loss)\n",
    "        for k in train_metrics:\n",
    "            history[f\"train_{k}\"].append(train_metrics[k])\n",
    "            history[f\"val_{k}\"].append(val_metrics[k])\n",
    "\n",
    "        print(f\"Epoch {epoch:02d} | Train Loss: {train_loss:.4f} | Val Loss: {val_loss:.4f}\")\n",
    "        for k in train_metrics:\n",
    "            print(f\"  {k.capitalize()}: Train={train_metrics[k]:.4f}, Val={val_metrics[k]:.4f}\")\n",
    "\n",
    "\n",
    "    return model, history\n",
    "\n"
   ]
  },
  {
   "cell_type": "code",
   "execution_count": 27,
   "id": "0917cbb9",
   "metadata": {},
   "outputs": [
    {
     "name": "stdout",
     "output_type": "stream",
     "text": [
      "Epoch 01 | Train Loss: 0.5058 | Val Loss: 0.2841\n",
      "  Accuracy: Train=0.8200, Val=0.9533\n",
      "  Precision: Train=0.8685, Val=0.9610\n",
      "Epoch 02 | Train Loss: 0.1878 | Val Loss: 0.1549\n",
      "  Accuracy: Train=0.9386, Val=0.9667\n",
      "  Precision: Train=0.9405, Val=0.9740\n",
      "Epoch 03 | Train Loss: 0.1317 | Val Loss: 0.1556\n",
      "  Accuracy: Train=0.9471, Val=0.9533\n",
      "  Precision: Train=0.9467, Val=0.9733\n",
      "Epoch 04 | Train Loss: 0.1079 | Val Loss: 0.1548\n",
      "  Accuracy: Train=0.9600, Val=0.9467\n",
      "  Precision: Train=0.9587, Val=0.9730\n",
      "Epoch 05 | Train Loss: 0.0944 | Val Loss: 0.1674\n",
      "  Accuracy: Train=0.9671, Val=0.9400\n",
      "  Precision: Train=0.9702, Val=0.9726\n",
      "Epoch 06 | Train Loss: 0.0813 | Val Loss: 0.1662\n",
      "  Accuracy: Train=0.9814, Val=0.9533\n",
      "  Precision: Train=0.9851, Val=0.9733\n",
      "Epoch 07 | Train Loss: 0.0713 | Val Loss: 0.1963\n",
      "  Accuracy: Train=0.9786, Val=0.9467\n",
      "  Precision: Train=0.9765, Val=0.9861\n",
      "Epoch 08 | Train Loss: 0.0612 | Val Loss: 0.1897\n",
      "  Accuracy: Train=0.9857, Val=0.9400\n",
      "  Precision: Train=0.9853, Val=0.9726\n",
      "Epoch 09 | Train Loss: 0.0559 | Val Loss: 0.2112\n",
      "  Accuracy: Train=0.9857, Val=0.9400\n",
      "  Precision: Train=0.9853, Val=0.9726\n",
      "Epoch 10 | Train Loss: 0.0519 | Val Loss: 0.2178\n",
      "  Accuracy: Train=0.9857, Val=0.9400\n",
      "  Precision: Train=0.9853, Val=0.9726\n"
     ]
    }
   ],
   "source": [
    "model = BinaryClassifier().to(DEVICE)\n",
    "criterion = torch.nn.CrossEntropyLoss()\n",
    "optimizer = torch.optim.Adam(model.parameters(), lr=0.01)\n",
    "\n",
    "\n",
    "\n",
    "# 7. Run\n",
    "trained_model, history = train_model(\n",
    "    model, train_loader, val_loader,\n",
    "    criterion, optimizer, device,\n",
    "    metrics=metrics,\n",
    "    epochs=10,\n",
    ")"
   ]
  },
  {
   "cell_type": "code",
   "execution_count": 29,
   "id": "08d62a1e",
   "metadata": {},
   "outputs": [
    {
     "data": {
      "image/png": "[encoded data removed]",
      "text/plain": [
       "<Figure size 1800x500 with 3 Axes>"
      ]
     },
     "metadata": {},
     "output_type": "display_data"
    }
   ],
   "source": [
    "# plotting (and then tensrboard)\n",
    "import matplotlib.pyplot as plt\n",
    "#from torch.utils.tensorboard import SummaryWriter\n",
    "\n",
    "# --- Plotting ---\n",
    "def plot_history(history):\n",
    "    fig, axs = plt.subplots(1, 3, figsize=(18, 5))\n",
    "    \n",
    "    axs[0].plot(history[\"train_loss\"], label=\"Train\")\n",
    "    axs[0].plot(history[\"val_loss\"], label=\"Val\")\n",
    "    axs[0].set_title(\"Loss\")\n",
    "    axs[0].legend()\n",
    "\n",
    "    if \"train_accuracy\" in history:\n",
    "        axs[1].plot(history[\"train_accuracy\"], label=\"Train\")\n",
    "        axs[1].plot(history[\"val_accuracy\"], label=\"Val\")\n",
    "        axs[1].set_title(\"Accuracy\")\n",
    "        axs[1].legend()\n",
    "\n",
    "    if \"train_precision\" in history:\n",
    "        axs[2].plot(history[\"train_precision\"], label=\"Train\")\n",
    "        axs[2].plot(history[\"val_precision\"], label=\"Val\")\n",
    "        axs[2].set_title(\"Precision\")\n",
    "        axs[2].legend()\n",
    "\n",
    "    plt.tight_layout()\n",
    "    plt.show()\n",
    "\n",
    "plot_history(history)\n"
   ]
  },
  {
   "cell_type": "code",
   "execution_count": 30,
   "id": "f448bb14",
   "metadata": {},
   "outputs": [],
   "source": [
    "# better way (implementing a class)"
   ]
  },
  {
   "cell_type": "code",
   "execution_count": 31,
   "id": "9c8f4392",
   "metadata": {},
   "outputs": [],
   "source": [
    "class TrainingLogger:\n",
    "    def __init__(self, metric_names):\n",
    "        # metric_names: list or iterable of metric keys expected in each epoch\n",
    "        self.history = {\n",
    "            'train_loss': [],\n",
    "            'val_loss': [],\n",
    "            **{f\"train_{name}\": [] for name in metric_names},\n",
    "            **{f\"val_{name}\": [] for name in metric_names}\n",
    "        }\n",
    "\n",
    "    def log_epoch(self, train_loss, val_loss, train_metrics=None, val_metrics=None):\n",
    "        self.history['train_loss'].append(train_loss)\n",
    "        self.history['val_loss'].append(val_loss)\n",
    "\n",
    "        if train_metrics:\n",
    "            for name, value in train_metrics.items():\n",
    "                self.history[f'train_{name}'].append(value)\n",
    "        else:\n",
    "            # Append None or skip? Here we append None to keep history lengths consistent\n",
    "            for name in self.metric_names:\n",
    "                self.history[f'train_{name}'].append(None)\n",
    "\n",
    "        if val_metrics:\n",
    "            for name, value in val_metrics.items():\n",
    "                self.history[f'val_{name}'].append(value)\n",
    "        else:\n",
    "            for name in self.metric_names:\n",
    "                self.history[f'val_{name}'].append(None)\n",
    "\n",
    "    def print_epoch(self, epoch):\n",
    "        train_loss = self.history['train_loss'][-1]\n",
    "        val_loss = self.history['val_loss'][-1]\n",
    "\n",
    "        train_metrics_str = \", \".join(\n",
    "            f\"{name}: {self.history[f'train_{name}'][-1]:.4f}\"\n",
    "            for name in self.metric_names\n",
    "            if self.history[f'train_{name}'][-1] is not None\n",
    "        )\n",
    "        val_metrics_str = \", \".join(\n",
    "            f\"{name}: {self.history[f'val_{name}'][-1]:.4f}\"\n",
    "            for name in self.metric_names\n",
    "            if self.history[f'val_{name}'][-1] is not None\n",
    "        )\n",
    "\n",
    "        print(f\"Epoch {epoch:02d} | Train Loss: {train_loss:.4f} {train_metrics_str} | \"\n",
    "              f\"Val Loss: {val_loss:.4f} {val_metrics_str}\")\n",
    "\n",
    "    @property\n",
    "    def metric_names(self):\n",
    "        # Extract metric names from history keys (train_*)\n",
    "        # Assuming all train_ and val_ metrics have the same keys\n",
    "        return [k[6:] for k in self.history if k.startswith('train_')]\n"
   ]
  },
  {
   "cell_type": "code",
   "execution_count": 32,
   "id": "cc57dcd0",
   "metadata": {},
   "outputs": [],
   "source": [
    "def train_model(\n",
    "    model, train_loader, val_loader,\n",
    "    criterion, optimizer, device,\n",
    "    metrics, epochs=10\n",
    "):\n",
    "    \n",
    "\n",
    "    metric_names = list(metrics.keys())  # e.g. ['accuracy', 'f1', 'precision']\n",
    "    logger = TrainingLogger(metric_names)\n",
    "\n",
    "    for epoch in range(1, epochs + 1):\n",
    "        train_loss, train_metrics = train_one_epoch(model, train_loader, criterion, optimizer, device, metrics)\n",
    "        val_loss, val_metrics = validate_one_epoch(model, val_loader, criterion, device, metrics)\n",
    "\n",
    "        # Log\n",
    "        logger.log_epoch(train_loss, val_loss, train_metrics, val_metrics)\n",
    "        logger.print_epoch(epoch)\n",
    "\n",
    "\n",
    "    return model, logger.history\n"
   ]
  },
  {
   "cell_type": "code",
   "execution_count": 37,
   "id": "7440568e",
   "metadata": {},
   "outputs": [
    {
     "name": "stdout",
     "output_type": "stream",
     "text": [
      "Epoch 01 | Train Loss: 0.6960 loss: 0.6960, accuracy: 0.5343, precision: 0.5107 | Val Loss: 0.6664 loss: 0.6664, accuracy: 0.5867, precision: 0.5645\n",
      "Epoch 02 | Train Loss: 0.6391 loss: 0.6391, accuracy: 0.6900, precision: 0.6255 | Val Loss: 0.6171 loss: 0.6171, accuracy: 0.7333, precision: 0.7021\n",
      "Epoch 03 | Train Loss: 0.5852 loss: 0.5852, accuracy: 0.7900, precision: 0.7513 | Val Loss: 0.5663 loss: 0.5663, accuracy: 0.8333, precision: 0.8442\n",
      "Epoch 04 | Train Loss: 0.5290 loss: 0.5290, accuracy: 0.8643, precision: 0.8697 | Val Loss: 0.5132 loss: 0.5132, accuracy: 0.8600, precision: 0.9014\n",
      "Epoch 05 | Train Loss: 0.4721 loss: 0.4721, accuracy: 0.8843, precision: 0.9135 | Val Loss: 0.4580 loss: 0.4580, accuracy: 0.8600, precision: 0.9130\n",
      "Epoch 06 | Train Loss: 0.4161 loss: 0.4161, accuracy: 0.9071, precision: 0.9419 | Val Loss: 0.4032 loss: 0.4032, accuracy: 0.8867, precision: 0.9552\n",
      "Epoch 07 | Train Loss: 0.3647 loss: 0.3647, accuracy: 0.9129, precision: 0.9455 | Val Loss: 0.3548 loss: 0.3548, accuracy: 0.9133, precision: 0.9577\n",
      "Epoch 08 | Train Loss: 0.3200 loss: 0.3200, accuracy: 0.9200, precision: 0.9464 | Val Loss: 0.3129 loss: 0.3129, accuracy: 0.9333, precision: 0.9722\n",
      "Epoch 09 | Train Loss: 0.2834 loss: 0.2834, accuracy: 0.9257, precision: 0.9498 | Val Loss: 0.2782 loss: 0.2782, accuracy: 0.9333, precision: 0.9722\n",
      "Epoch 10 | Train Loss: 0.2536 loss: 0.2536, accuracy: 0.9300, precision: 0.9503 | Val Loss: 0.2509 loss: 0.2509, accuracy: 0.9400, precision: 0.9726\n",
      "Epoch 11 | Train Loss: 0.2304 loss: 0.2304, accuracy: 0.9314, precision: 0.9505 | Val Loss: 0.2301 loss: 0.2301, accuracy: 0.9400, precision: 0.9726\n",
      "Epoch 12 | Train Loss: 0.2116 loss: 0.2116, accuracy: 0.9357, precision: 0.9509 | Val Loss: 0.2136 loss: 0.2136, accuracy: 0.9533, precision: 0.9733\n",
      "Epoch 13 | Train Loss: 0.1970 loss: 0.1970, accuracy: 0.9371, precision: 0.9511 | Val Loss: 0.2015 loss: 0.2015, accuracy: 0.9533, precision: 0.9733\n",
      "Epoch 14 | Train Loss: 0.1857 loss: 0.1857, accuracy: 0.9371, precision: 0.9511 | Val Loss: 0.1910 loss: 0.1910, accuracy: 0.9467, precision: 0.9730\n",
      "Epoch 15 | Train Loss: 0.1756 loss: 0.1756, accuracy: 0.9386, precision: 0.9512 | Val Loss: 0.1842 loss: 0.1842, accuracy: 0.9533, precision: 0.9733\n",
      "Epoch 16 | Train Loss: 0.1678 loss: 0.1678, accuracy: 0.9386, precision: 0.9512 | Val Loss: 0.1783 loss: 0.1783, accuracy: 0.9533, precision: 0.9733\n",
      "Epoch 17 | Train Loss: 0.1607 loss: 0.1607, accuracy: 0.9414, precision: 0.9515 | Val Loss: 0.1736 loss: 0.1736, accuracy: 0.9533, precision: 0.9733\n",
      "Epoch 18 | Train Loss: 0.1550 loss: 0.1550, accuracy: 0.9429, precision: 0.9517 | Val Loss: 0.1690 loss: 0.1690, accuracy: 0.9533, precision: 0.9733\n",
      "Epoch 19 | Train Loss: 0.1499 loss: 0.1499, accuracy: 0.9443, precision: 0.9518 | Val Loss: 0.1665 loss: 0.1665, accuracy: 0.9533, precision: 0.9733\n",
      "Epoch 20 | Train Loss: 0.1451 loss: 0.1451, accuracy: 0.9457, precision: 0.9520 | Val Loss: 0.1634 loss: 0.1634, accuracy: 0.9533, precision: 0.9733\n"
     ]
    }
   ],
   "source": [
    "model = BinaryClassifier().to(DEVICE)\n",
    "\n",
    "criterion = torch.nn.CrossEntropyLoss()\n",
    "optimizer = torch.optim.Adam(model.parameters(), lr=0.001)\n",
    "\n",
    "\n",
    "# 7. Run\n",
    "trained_model, history = train_model(\n",
    "    model, train_loader, val_loader,\n",
    "    criterion, optimizer, device,\n",
    "    metrics=metrics,\n",
    "    epochs=20,\n",
    ")"
   ]
  },
  {
   "cell_type": "code",
   "execution_count": 38,
   "id": "4a625816",
   "metadata": {},
   "outputs": [
    {
     "data": {
      "image/png": "[encoded data removed]",
      "text/plain": [
       "<Figure size 1800x500 with 3 Axes>"
      ]
     },
     "metadata": {},
     "output_type": "display_data"
    }
   ],
   "source": [
    "plot_history(history)"
   ]
  },
  {
   "cell_type": "code",
   "execution_count": null,
   "id": "cc39307e",
   "metadata": {},
   "outputs": [],
   "source": []
  },
  {
   "cell_type": "code",
   "execution_count": null,
   "id": "9d8639fa",
   "metadata": {},
   "outputs": [],
   "source": []
  },
  {
   "cell_type": "markdown",
   "id": "6333b1b3",
   "metadata": {},
   "source": [
    "### Early stopping"
   ]
  },
  {
   "cell_type": "code",
   "execution_count": null,
   "id": "8aa06f4c",
   "metadata": {},
   "outputs": [],
   "source": []
  },
  {
   "cell_type": "code",
   "execution_count": null,
   "id": "5877708a",
   "metadata": {},
   "outputs": [],
   "source": []
  },
  {
   "cell_type": "code",
   "execution_count": null,
   "id": "fd3885a0",
   "metadata": {},
   "outputs": [],
   "source": []
  }
 ],
 "metadata": {
  "kernelspec": {
   "display_name": "Python 3 (ipykernel)",
   "language": "python",
   "name": "python3"
  },
  "language_info": {
   "codemirror_mode": {
    "name": "ipython",
    "version": 3
   },
   "file_extension": ".py",
   "mimetype": "text/x-python",
   "name": "python",
   "nbconvert_exporter": "python",
   "pygments_lexer": "ipython3",
   "version": "3.10.12"
  }
 },
 "nbformat": 4,
 "nbformat_minor": 5
}
