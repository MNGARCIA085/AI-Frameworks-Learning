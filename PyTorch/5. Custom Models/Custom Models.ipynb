{
 "cells": [
  {
   "cell_type": "markdown",
   "id": "110bf8c9",
   "metadata": {},
   "source": [
    "# <div style=\"text-align: center; color: #1a5276;\">Custom Models</div>"
   ]
  },
  {
   "cell_type": "markdown",
   "id": "588936e1",
   "metadata": {},
   "source": [
    "## <font color='blue'>  Table of Contents </font>\n",
    "\n",
    "1. [Introduction](#1)\n",
    "2. [Setup](#2)\n",
    "3. [Model](#3)\n",
    "4. [References](#references)"
   ]
  },
  {
   "cell_type": "markdown",
   "id": "46daca03",
   "metadata": {},
   "source": [
    "<a name=\"1\"></a>\n",
    "## <font color='blue'> 1. Introduction </font>\n",
    "\n",
    "This notebook demonstrates how to build a custom model in PyTorch, with a focus on creating a Wide & Deep Network. The Wide & Deep architecture combines linear models (for memorization) with deep neural networks (for generalization), making it particularly effective for recommendation systems, tabular data, and structured data problems."
   ]
  },
  {
   "cell_type": "markdown",
   "id": "1cf4913a",
   "metadata": {},
   "source": [
    "<a name=\"2\"></a>\n",
    "## <font color='blue'> 2. Setup </font>"
   ]
  },
  {
   "cell_type": "code",
   "execution_count": 1,
   "id": "c09c192c",
   "metadata": {},
   "outputs": [],
   "source": [
    "#!pip install torchview"
   ]
  },
  {
   "cell_type": "code",
   "execution_count": 2,
   "id": "d7629802",
   "metadata": {},
   "outputs": [],
   "source": [
    "import torch\n",
    "import torch.nn as nn\n",
    "import torch.nn.functional as F\n",
    "import matplotlib.pyplot as plt\n",
    "from torchview import draw_graph"
   ]
  },
  {
   "cell_type": "code",
   "execution_count": 5,
   "id": "4a8d65cf",
   "metadata": {},
   "outputs": [
    {
     "data": {
      "text/plain": [
       "<torch._C.Generator at 0x7a1fc03f9990>"
      ]
     },
     "execution_count": 5,
     "metadata": {},
     "output_type": "execute_result"
    }
   ],
   "source": [
    "torch.manual_seed(42)"
   ]
  },
  {
   "cell_type": "markdown",
   "id": "9b5582ff",
   "metadata": {},
   "source": [
    "<a name=\"3\"></a>\n",
    "## <font color='blue'> 3. Model </font>\n",
    "\n",
    "We will build the following model:\n",
    "    \n",
    "<img src=\"images/wide_deep.png\"/>"
   ]
  },
  {
   "cell_type": "code",
   "execution_count": 8,
   "id": "add50b06",
   "metadata": {},
   "outputs": [],
   "source": [
    "class WideAndDeepModel(nn.Module):\n",
    "    \"\"\"\n",
    "    A custom PyTorch model implementing the Wide & Deep architecture.\n",
    "\n",
    "    This model combines:\n",
    "    - A wide branch (linear model) for memorization.\n",
    "    - A deep branch (multi-layer network) for generalization.\n",
    "    \n",
    "    Parameters:\n",
    "    -----------\n",
    "    num_wide_features : int\n",
    "        Number of input features for the wide branch.\n",
    "    num_deep_features : int\n",
    "        Number of input features for the deep branch.\n",
    "    units : int, optional (default=30)\n",
    "        Number of units in the hidden layers of the deep branch.\n",
    "\n",
    "    Returns:\n",
    "    --------\n",
    "    main_output : torch.Tensor\n",
    "        The primary prediction output (e.g., for classification).\n",
    "    aux_output : torch.Tensor\n",
    "        An auxiliary output, often used for additional supervision or regularization.\n",
    "    \"\"\"\n",
    "\n",
    "    def __init__(self, num_wide_features, num_deep_features, units=30):\n",
    "        super(WideAndDeepModel, self).__init__()\n",
    "        \n",
    "        # Wide branch - linear layer for wide features\n",
    "        self.wide = nn.Linear(num_wide_features, 1)\n",
    "        \n",
    "        # Deep branch - two hidden layers for deep features\n",
    "        self.hidden1 = nn.Linear(num_deep_features, units)\n",
    "        self.hidden2 = nn.Linear(units, units)\n",
    "        \n",
    "        # Main output - combines wide and deep features\n",
    "        self.main_output = nn.Linear(num_wide_features + units, 1)\n",
    "        \n",
    "        # Auxiliary output - based on deep features alone\n",
    "        self.aux_output = nn.Linear(units, 1)\n",
    "\n",
    "    def forward(self, inputs):\n",
    "        \"\"\"\n",
    "        Forward pass of the model.\n",
    "\n",
    "        Parameters:\n",
    "        -----------\n",
    "        inputs : tuple of torch.Tensor\n",
    "            Contains two tensors:\n",
    "            - input_wide: Tensor for the wide branch features.\n",
    "            - input_deep: Tensor for the deep branch features.\n",
    "\n",
    "        Returns:\n",
    "        --------\n",
    "        tuple:\n",
    "            - main_output (torch.Tensor): Primary prediction output.\n",
    "            - aux_output (torch.Tensor): Auxiliary prediction output.\n",
    "        \"\"\"\n",
    "        input_wide, input_deep = inputs\n",
    "        \n",
    "        # Deep branch forward pass with ReLU activation\n",
    "        hidden1 = F.relu(self.hidden1(input_deep))\n",
    "        hidden2 = F.relu(self.hidden2(hidden1))\n",
    "        \n",
    "        # Concatenate wide and deep outputs\n",
    "        concat = torch.cat([input_wide, hidden2], dim=1)\n",
    "        \n",
    "        # Final outputs with sigmoid activation\n",
    "        main_output = torch.sigmoid(self.main_output(concat))\n",
    "        aux_output = torch.sigmoid(self.aux_output(hidden2))\n",
    "        \n",
    "        return main_output, aux_output\n"
   ]
  },
  {
   "cell_type": "markdown",
   "id": "fc402203",
   "metadata": {},
   "source": [
    "Let's try our model:"
   ]
  },
  {
   "cell_type": "code",
   "execution_count": 10,
   "id": "74b274ac",
   "metadata": {},
   "outputs": [
    {
     "name": "stdout",
     "output_type": "stream",
     "text": [
      "Main Output: tensor([[0.5596],\n",
      "        [0.5176],\n",
      "        [0.5808],\n",
      "        [0.5815],\n",
      "        [0.5987]], grad_fn=<SigmoidBackward0>)\n",
      "Aux Output: tensor([[0.5146],\n",
      "        [0.5082],\n",
      "        [0.5182],\n",
      "        [0.4988],\n",
      "        [0.4981]], grad_fn=<SigmoidBackward0>)\n"
     ]
    }
   ],
   "source": [
    "# Example usage\n",
    "input_wide = torch.randn(5, 5)  # Wide features\n",
    "input_deep = torch.randn(5, 10)  # Deep features\n",
    "model = WideAndDeepModel(num_wide_features=5, num_deep_features=10)\n",
    "main_output, aux_output = model((input_wide, input_deep))\n",
    "\n",
    "print(f\"Main Output: {main_output}\")\n",
    "print(f\"Aux Output: {aux_output}\")"
   ]
  },
  {
   "cell_type": "code",
   "execution_count": 15,
   "id": "f051d294",
   "metadata": {},
   "outputs": [
    {
     "data": {
      "text/plain": [
       "'images/wide_and_deep_model.png'"
      ]
     },
     "execution_count": 15,
     "metadata": {},
     "output_type": "execute_result"
    }
   ],
   "source": [
    "# Inline plot of the model\n",
    "model_graph = draw_graph(model, input_data=((input_wide, input_deep),), expand_nested=True)\n",
    "model_graph.visual_graph.render(\"images/wide_and_deep_model\", format=\"png\")"
   ]
  },
  {
   "cell_type": "markdown",
   "id": "eb4620d0",
   "metadata": {},
   "source": [
    "<img src=\"images/wide_and_deep_model.png\"/>"
   ]
  },
  {
   "cell_type": "markdown",
   "id": "02faca0c",
   "metadata": {},
   "source": [
    "Let's implement a couple of unit tests:"
   ]
  },
  {
   "cell_type": "code",
   "execution_count": 16,
   "id": "8624caa4",
   "metadata": {},
   "outputs": [
    {
     "name": "stdout",
     "output_type": "stream",
     "text": [
      "All tests passed!\n"
     ]
    }
   ],
   "source": [
    "# Unit tests\n",
    "def test_model_output_shape():\n",
    "    model = WideAndDeepModel(num_wide_features=5, num_deep_features=10)\n",
    "    main_output, aux_output = model((input_wide, input_deep))\n",
    "    assert main_output.shape == (5, 1), f\"Expected shape (5, 1), got {main_output.shape}\"\n",
    "    assert aux_output.shape == (5, 1), f\"Expected shape (5, 1), got {aux_output.shape}\"\n",
    "\n",
    "def test_forward_pass():\n",
    "    model = WideAndDeepModel(num_wide_features=5, num_deep_features=10)\n",
    "    main_output, aux_output = model((input_wide, input_deep))\n",
    "    assert torch.all((main_output >= 0) & (main_output <= 1)), \"Main output values should be in range [0, 1]\"\n",
    "    assert torch.all((aux_output >= 0) & (aux_output <= 1)), \"Aux output values should be in range [0, 1]\"\n",
    "\n",
    "test_model_output_shape()\n",
    "test_forward_pass()\n",
    "print(\"All tests passed!\")"
   ]
  },
  {
   "cell_type": "markdown",
   "id": "50418346",
   "metadata": {},
   "source": [
    "<a name=\"references\"></a>\n",
    "## <font color='blue'> References </font>\n",
    "\n",
    "[PyTorch Documentation](https://pytorch.org/docs/stable/index.html)"
   ]
  }
 ],
 "metadata": {
  "kernelspec": {
   "display_name": "Python 3 (ipykernel)",
   "language": "python",
   "name": "python3"
  },
  "language_info": {
   "codemirror_mode": {
    "name": "ipython",
    "version": 3
   },
   "file_extension": ".py",
   "mimetype": "text/x-python",
   "name": "python",
   "nbconvert_exporter": "python",
   "pygments_lexer": "ipython3",
   "version": "3.10.12"
  }
 },
 "nbformat": 4,
 "nbformat_minor": 5
}
