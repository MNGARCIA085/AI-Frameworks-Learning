{
 "cells": [
  {
   "cell_type": "markdown",
   "id": "e158470e",
   "metadata": {},
   "source": [
    "# <font color='#1a5276'> <b> <center> Initialization techniques </center> </b> </font>"
   ]
  },
  {
   "cell_type": "markdown",
   "id": "a6c14dfd",
   "metadata": {},
   "source": [
    "## <font color='blue'>  Table of Contents </font>\n",
    "\n",
    "1. [Introduction](#1)\n",
    "2. [Setup](#2)\n",
    "3. [Helper Functions](#3)\n",
    "4. [Data](#4)\n",
    "5. [Model](#5)\n",
    "6. [Initialization methods](#6) <br>\n",
    "    6.1. [PyTroch default initialization](#6.1) <br>\n",
    "    6.2. [Bad initialization](#6.2) <br>\n",
    "7. [Conclusions](#7)\n",
    "8. [References](#references)"
   ]
  },
  {
   "cell_type": "markdown",
   "id": "6d0b0495",
   "metadata": {},
   "source": [
    "<a name=\"1\"></a>\n",
    "## <font color='blue'> <b> 1. Introduction </b> </font>\n",
    "\n",
    "In deep learning, the choice of weight initialization can significantly impact the performance and convergence of neural networks. Proper initialization helps prevent issues like vanishing or exploding gradients, leading to faster training and improved results.\n",
    "\n",
    "This notebook explores different weight initialization techniques, including Xavier and He initialization, demonstrating how they affect the performance of neural networks. By the end, you'll see how selecting the right initialization can improve training stability and model accuracy."
   ]
  },
  {
   "cell_type": "markdown",
   "id": "7684a012",
   "metadata": {},
   "source": [
    "<a name=\"2\"></a>\n",
    "## <font color='blue'> <b> 2. Setup </b> </font>"
   ]
  },
  {
   "cell_type": "code",
   "execution_count": 1,
   "id": "472d113e",
   "metadata": {},
   "outputs": [],
   "source": [
    "import os\n",
    "os.environ['KMP_DUPLICATE_LIB_OK']='True'"
   ]
  },
  {
   "cell_type": "code",
   "execution_count": 2,
   "id": "90bef80b",
   "metadata": {},
   "outputs": [],
   "source": [
    "import torch \n",
    "import torch.nn as nn\n",
    "import torchvision.transforms as transforms\n",
    "import torchvision.datasets as dsets\n",
    "import matplotlib.pylab as plt\n",
    "import numpy as np"
   ]
  },
  {
   "cell_type": "code",
   "execution_count": 3,
   "id": "a55cb3d1",
   "metadata": {},
   "outputs": [
    {
     "data": {
      "text/plain": [
       "<torch._C.Generator at 0x7841282e9250>"
      ]
     },
     "execution_count": 3,
     "metadata": {},
     "output_type": "execute_result"
    }
   ],
   "source": [
    "torch.manual_seed(0)"
   ]
  },
  {
   "cell_type": "markdown",
   "id": "c8d16db0",
   "metadata": {},
   "source": [
    "<a name=\"3\"></a>\n",
    "## <font color='blue'> <b> 3. Helper Functions </b> </font>"
   ]
  },
  {
   "cell_type": "code",
   "execution_count": null,
   "id": "46c5d803",
   "metadata": {},
   "outputs": [],
   "source": []
  },
  {
   "cell_type": "markdown",
   "id": "5ebb6176",
   "metadata": {},
   "source": [
    "<a name=\"4\"></a>\n",
    "## <font color='blue'> <b> 4. Data </b> </font>\n",
    "\n",
    "We will use the MNIST dataset."
   ]
  },
  {
   "cell_type": "code",
   "execution_count": 7,
   "id": "d7f543bd",
   "metadata": {},
   "outputs": [],
   "source": [
    "# Create the train dataset\n",
    "train_dataset = dsets.MNIST(root='data/', train=True, download=True, transform=transforms.ToTensor())"
   ]
  },
  {
   "cell_type": "code",
   "execution_count": 8,
   "id": "18f7ff33",
   "metadata": {},
   "outputs": [],
   "source": [
    "# Create the validation dataset\n",
    "validation_dataset = dsets.MNIST(root='data/', train=False, download=True, transform=transforms.ToTensor())"
   ]
  },
  {
   "cell_type": "code",
   "execution_count": 9,
   "id": "c644d8ed",
   "metadata": {},
   "outputs": [],
   "source": [
    "# Create Dataloader for both train dataset and validation dataset\n",
    "train_loader = torch.utils.data.DataLoader(dataset=train_dataset, batch_size=2000, shuffle=True)\n",
    "validation_loader = torch.utils.data.DataLoader(dataset=validation_dataset, batch_size=5000, shuffle=False)"
   ]
  },
  {
   "cell_type": "markdown",
   "id": "a803e787",
   "metadata": {},
   "source": [
    "<a name=\"5\"></a>\n",
    "## <font color='blue'> <b> 5. Model and training function </b> </font>"
   ]
  },
  {
   "cell_type": "code",
   "execution_count": 18,
   "id": "a849485f",
   "metadata": {},
   "outputs": [],
   "source": [
    "input_dim = 28 * 28 # 28x28 greyscale images\n",
    "output_dim = 10 # 10 classes\n",
    "layers = [input_dim, 100, 10, 100, 10, 100, output_dim]\n",
    "epochs = 15\n",
    "learning_rate = 0.01"
   ]
  },
  {
   "cell_type": "code",
   "execution_count": 11,
   "id": "5d679249",
   "metadata": {},
   "outputs": [
    {
     "data": {
      "text/plain": [
       "'\\n# Example usage\\nLayers = [10, 20, 10, 1]\\n\\n# Using Xavier initialization\\nnet_xavier = DynamicNet(Layers, init_method=torch.nn.init.xavier_uniform_)\\n\\n# Using He initialization\\nnet_he = DynamicNet(Layers, init_method=torch.nn.init.kaiming_uniform_)\\n\\n# Using default initialization\\nnet_default = DynamicNet(Layers)\\n'"
      ]
     },
     "execution_count": 11,
     "metadata": {},
     "output_type": "execute_result"
    }
   ],
   "source": [
    "class Net(nn.Module):\n",
    "    # Constructor\n",
    "    def __init__(self, Layers, init_method=None):\n",
    "        \"\"\"\n",
    "        Parameters:\n",
    "        - Layers: list of integers defining the layer sizes.\n",
    "        - init_method: a callable function for weight initialization (e.g., torch.nn.init.xavier_uniform_).\n",
    "                       If None, uses PyTorch's default initialization.\n",
    "        \"\"\"\n",
    "        super(Net, self).__init__()\n",
    "        self.hidden = nn.ModuleList()\n",
    "\n",
    "        for input_size, output_size in zip(Layers, Layers[1:]):\n",
    "            linear = nn.Linear(input_size, output_size)\n",
    "            \n",
    "            # Apply the custom initialization method if provided\n",
    "            if init_method is not None:\n",
    "                init_method(linear.weight)\n",
    "            \n",
    "            self.hidden.append(linear)\n",
    "    \n",
    "    # Prediction\n",
    "    def forward(self, x):\n",
    "        L = len(self.hidden)\n",
    "        for (l, linear_transform) in zip(range(L), self.hidden):\n",
    "            if l < L - 1:\n",
    "                x = torch.tanh(linear_transform(x))\n",
    "            else:\n",
    "                x = linear_transform(x)\n",
    "        return x\n"
   ]
  },
  {
   "cell_type": "code",
   "execution_count": 14,
   "id": "563d926f",
   "metadata": {},
   "outputs": [],
   "source": [
    "def train(model, criterion, train_loader, validation_loader, optimizer, epochs = 100):\n",
    "    i = 0\n",
    "    loss_accuracy = {'training_loss':[], 'validation_accuracy':[]}  \n",
    "    \n",
    "    for epoch in range(epochs):\n",
    "        for i,(x, y) in enumerate(train_loader):\n",
    "            optimizer.zero_grad()\n",
    "            z = model(x.view(-1, 28 * 28))\n",
    "            loss = criterion(z, y)\n",
    "            loss.backward()\n",
    "            optimizer.step()\n",
    "            loss_accuracy['training_loss'].append(loss.data.item())\n",
    "            \n",
    "        correct = 0\n",
    "        for x, y in validation_loader:\n",
    "            yhat = model(x.view(-1, 28 * 28))\n",
    "            _, label = torch.max(yhat, 1)\n",
    "            correct += (label==y).sum().item()\n",
    "        accuracy = 100 * (correct / len(validation_dataset))\n",
    "        loss_accuracy['validation_accuracy'].append(accuracy)\n",
    "        \n",
    "    return loss_accuracy"
   ]
  },
  {
   "cell_type": "code",
   "execution_count": 15,
   "id": "a36a4c10",
   "metadata": {},
   "outputs": [],
   "source": [
    "# Define criterion function\n",
    "criterion = nn.CrossEntropyLoss()"
   ]
  },
  {
   "cell_type": "markdown",
   "id": "2ae3dbfa",
   "metadata": {},
   "source": [
    "### Model 1: Using default initialization"
   ]
  },
  {
   "cell_type": "code",
   "execution_count": 16,
   "id": "53e9922f",
   "metadata": {},
   "outputs": [],
   "source": [
    "model = Net(layers)\n",
    "optimizer = torch.optim.SGD(model.parameters(), lr=learning_rate)\n",
    "training_results = train(model, criterion, train_loader, validation_loader, optimizer, epochs=epochs)"
   ]
  },
  {
   "cell_type": "code",
   "execution_count": 17,
   "id": "3a7ce877",
   "metadata": {},
   "outputs": [
    {
     "data": {
      "text/plain": [
       "{'training_loss': [2.3059420585632324,\n",
       "  2.3062903881073,\n",
       "  2.30808162689209,\n",
       "  2.3045475482940674,\n",
       "  2.3022868633270264,\n",
       "  2.3094356060028076,\n",
       "  2.3045191764831543,\n",
       "  2.3103110790252686,\n",
       "  2.3094775676727295,\n",
       "  2.302915096282959,\n",
       "  2.308953046798706,\n",
       "  2.3058536052703857,\n",
       "  2.306755304336548,\n",
       "  2.3051533699035645,\n",
       "  2.3052446842193604,\n",
       "  2.3046460151672363,\n",
       "  2.305248498916626,\n",
       "  2.308133125305176,\n",
       "  2.3074605464935303,\n",
       "  2.305445671081543,\n",
       "  2.3004496097564697,\n",
       "  2.3087158203125,\n",
       "  2.306094169616699,\n",
       "  2.3015403747558594,\n",
       "  2.302672863006592,\n",
       "  2.3044092655181885,\n",
       "  2.302786350250244,\n",
       "  2.30069899559021,\n",
       "  2.303025245666504,\n",
       "  2.306601047515869,\n",
       "  2.3046987056732178,\n",
       "  2.303302764892578,\n",
       "  2.305450439453125,\n",
       "  2.3047564029693604,\n",
       "  2.304011821746826,\n",
       "  2.3010337352752686,\n",
       "  2.3010241985321045,\n",
       "  2.3055686950683594,\n",
       "  2.3037686347961426,\n",
       "  2.3071353435516357,\n",
       "  2.3015992641448975,\n",
       "  2.3046817779541016,\n",
       "  2.301118850708008,\n",
       "  2.30355167388916,\n",
       "  2.3038015365600586,\n",
       "  2.3014438152313232,\n",
       "  2.3014512062072754,\n",
       "  2.302863597869873,\n",
       "  2.305393934249878,\n",
       "  2.304683208465576,\n",
       "  2.3017890453338623,\n",
       "  2.301527976989746,\n",
       "  2.299164056777954,\n",
       "  2.3044028282165527,\n",
       "  2.3010454177856445,\n",
       "  2.303147792816162,\n",
       "  2.303818464279175,\n",
       "  2.3019979000091553,\n",
       "  2.3034815788269043,\n",
       "  2.3075320720672607,\n",
       "  2.3003058433532715,\n",
       "  2.3018548488616943,\n",
       "  2.304527521133423,\n",
       "  2.298165798187256,\n",
       "  2.300795793533325,\n",
       "  2.3044450283050537,\n",
       "  2.30281138420105,\n",
       "  2.3025565147399902,\n",
       "  2.3025708198547363,\n",
       "  2.3032023906707764,\n",
       "  2.3035075664520264,\n",
       "  2.3017423152923584,\n",
       "  2.300234794616699,\n",
       "  2.3007383346557617,\n",
       "  2.301187515258789,\n",
       "  2.3027217388153076,\n",
       "  2.3048765659332275,\n",
       "  2.299220085144043,\n",
       "  2.3010284900665283,\n",
       "  2.301875114440918,\n",
       "  2.2970564365386963,\n",
       "  2.3000614643096924,\n",
       "  2.3037569522857666,\n",
       "  2.3000032901763916,\n",
       "  2.301666498184204,\n",
       "  2.300092935562134,\n",
       "  2.300645351409912,\n",
       "  2.3003270626068115,\n",
       "  2.303758144378662,\n",
       "  2.3001790046691895,\n",
       "  2.3008882999420166,\n",
       "  2.297853469848633,\n",
       "  2.3027195930480957,\n",
       "  2.297028064727783,\n",
       "  2.2989866733551025,\n",
       "  2.299541473388672,\n",
       "  2.2990963459014893,\n",
       "  2.304462194442749,\n",
       "  2.2992942333221436,\n",
       "  2.300492763519287,\n",
       "  2.301882266998291,\n",
       "  2.2997710704803467,\n",
       "  2.301506519317627,\n",
       "  2.297578811645508,\n",
       "  2.3010494709014893,\n",
       "  2.2996208667755127,\n",
       "  2.299999952316284,\n",
       "  2.3013758659362793,\n",
       "  2.2990055084228516,\n",
       "  2.3000569343566895,\n",
       "  2.298706293106079,\n",
       "  2.3003089427948,\n",
       "  2.297152280807495,\n",
       "  2.299896240234375,\n",
       "  2.300513744354248,\n",
       "  2.3033792972564697,\n",
       "  2.2991204261779785,\n",
       "  2.301478624343872,\n",
       "  2.295517683029175,\n",
       "  2.301213264465332,\n",
       "  2.3010377883911133,\n",
       "  2.2981555461883545,\n",
       "  2.2998580932617188,\n",
       "  2.2995026111602783,\n",
       "  2.2937734127044678,\n",
       "  2.299753427505493,\n",
       "  2.301342010498047,\n",
       "  2.2991738319396973,\n",
       "  2.299410343170166,\n",
       "  2.2981762886047363,\n",
       "  2.2990431785583496,\n",
       "  2.299833059310913,\n",
       "  2.2977454662323,\n",
       "  2.2957491874694824,\n",
       "  2.3001420497894287,\n",
       "  2.2975099086761475,\n",
       "  2.299377918243408,\n",
       "  2.2977724075317383,\n",
       "  2.2987096309661865,\n",
       "  2.3002548217773438,\n",
       "  2.2952775955200195,\n",
       "  2.296703577041626,\n",
       "  2.298053741455078,\n",
       "  2.302564859390259,\n",
       "  2.2974612712860107,\n",
       "  2.298525810241699,\n",
       "  2.296694278717041,\n",
       "  2.2991464138031006,\n",
       "  2.297351837158203,\n",
       "  2.2984659671783447,\n",
       "  2.29841947555542,\n",
       "  2.2992515563964844,\n",
       "  2.298295259475708,\n",
       "  2.298352003097534,\n",
       "  2.2983176708221436,\n",
       "  2.296505928039551,\n",
       "  2.2972915172576904,\n",
       "  2.297055959701538,\n",
       "  2.2989845275878906,\n",
       "  2.2929940223693848,\n",
       "  2.298722982406616,\n",
       "  2.2962546348571777,\n",
       "  2.2979941368103027,\n",
       "  2.295454978942871,\n",
       "  2.29632568359375,\n",
       "  2.2981536388397217,\n",
       "  2.2970969676971436,\n",
       "  2.2993578910827637,\n",
       "  2.2951760292053223,\n",
       "  2.2943131923675537,\n",
       "  2.3008551597595215,\n",
       "  2.2950522899627686,\n",
       "  2.296388864517212,\n",
       "  2.29598331451416,\n",
       "  2.2950785160064697,\n",
       "  2.2982404232025146,\n",
       "  2.2987775802612305,\n",
       "  2.2988388538360596,\n",
       "  2.296983242034912,\n",
       "  2.2943649291992188,\n",
       "  2.297077178955078,\n",
       "  2.2948224544525146,\n",
       "  2.300250291824341,\n",
       "  2.2945942878723145,\n",
       "  2.297800064086914,\n",
       "  2.2962729930877686,\n",
       "  2.2975549697875977,\n",
       "  2.2947840690612793,\n",
       "  2.2954633235931396,\n",
       "  2.2963759899139404,\n",
       "  2.2957656383514404,\n",
       "  2.2955949306488037,\n",
       "  2.297395944595337,\n",
       "  2.2962045669555664,\n",
       "  2.2923922538757324,\n",
       "  2.293311595916748,\n",
       "  2.2986056804656982,\n",
       "  2.297138214111328,\n",
       "  2.2932469844818115,\n",
       "  2.29473876953125,\n",
       "  2.2963757514953613,\n",
       "  2.2958834171295166,\n",
       "  2.292645215988159,\n",
       "  2.2953786849975586,\n",
       "  2.295062303543091,\n",
       "  2.293734550476074,\n",
       "  2.2939443588256836,\n",
       "  2.2977635860443115,\n",
       "  2.296940326690674,\n",
       "  2.2952356338500977,\n",
       "  2.2973484992980957,\n",
       "  2.292501926422119,\n",
       "  2.297305107116699,\n",
       "  2.29363751411438,\n",
       "  2.2944817543029785,\n",
       "  2.295694351196289,\n",
       "  2.2957205772399902,\n",
       "  2.2926077842712402,\n",
       "  2.294391393661499,\n",
       "  2.294975757598877,\n",
       "  2.2924907207489014,\n",
       "  2.2947182655334473,\n",
       "  2.2958462238311768,\n",
       "  2.2959234714508057,\n",
       "  2.2929255962371826,\n",
       "  2.2915337085723877,\n",
       "  2.2935142517089844,\n",
       "  2.295858860015869,\n",
       "  2.29407000541687,\n",
       "  2.296095848083496,\n",
       "  2.294330358505249,\n",
       "  2.292057514190674,\n",
       "  2.295802593231201,\n",
       "  2.2921383380889893,\n",
       "  2.2936742305755615,\n",
       "  2.2922253608703613,\n",
       "  2.291640281677246,\n",
       "  2.2946510314941406,\n",
       "  2.2963807582855225,\n",
       "  2.292574167251587,\n",
       "  2.2951157093048096,\n",
       "  2.291316270828247,\n",
       "  2.2933120727539062,\n",
       "  2.292558193206787,\n",
       "  2.2934234142303467,\n",
       "  2.2932097911834717,\n",
       "  2.2948243618011475,\n",
       "  2.2941696643829346,\n",
       "  2.29400897026062,\n",
       "  2.291685104370117,\n",
       "  2.2937769889831543,\n",
       "  2.2941341400146484,\n",
       "  2.293175458908081,\n",
       "  2.2905566692352295,\n",
       "  2.292025566101074,\n",
       "  2.2939321994781494,\n",
       "  2.291335105895996,\n",
       "  2.291841745376587,\n",
       "  2.293175220489502,\n",
       "  2.291210889816284,\n",
       "  2.291663646697998,\n",
       "  2.291813850402832,\n",
       "  2.28981351852417,\n",
       "  2.2916245460510254,\n",
       "  2.2922325134277344,\n",
       "  2.2920963764190674,\n",
       "  2.292391061782837,\n",
       "  2.2922959327697754,\n",
       "  2.2934136390686035,\n",
       "  2.2911581993103027,\n",
       "  2.292844295501709,\n",
       "  2.2908389568328857,\n",
       "  2.289337635040283,\n",
       "  2.291339635848999,\n",
       "  2.290058135986328,\n",
       "  2.290904998779297,\n",
       "  2.2929136753082275,\n",
       "  2.2918355464935303,\n",
       "  2.2892837524414062,\n",
       "  2.2954556941986084,\n",
       "  2.290297746658325,\n",
       "  2.2922492027282715,\n",
       "  2.290415048599243,\n",
       "  2.2922251224517822,\n",
       "  2.2891266345977783,\n",
       "  2.288389205932617,\n",
       "  2.2922775745391846,\n",
       "  2.2901551723480225,\n",
       "  2.2899558544158936,\n",
       "  2.2917468547821045,\n",
       "  2.289506435394287,\n",
       "  2.287773847579956,\n",
       "  2.2915358543395996,\n",
       "  2.289473533630371,\n",
       "  2.292769432067871,\n",
       "  2.2900352478027344,\n",
       "  2.2914915084838867,\n",
       "  2.288672685623169,\n",
       "  2.291426658630371,\n",
       "  2.2866368293762207,\n",
       "  2.291013240814209,\n",
       "  2.2913424968719482,\n",
       "  2.2902541160583496,\n",
       "  2.2867531776428223,\n",
       "  2.2886159420013428,\n",
       "  2.287294864654541,\n",
       "  2.290342092514038,\n",
       "  2.2898313999176025,\n",
       "  2.2869083881378174,\n",
       "  2.2866549491882324,\n",
       "  2.2885115146636963,\n",
       "  2.289567470550537,\n",
       "  2.287202835083008,\n",
       "  2.288379192352295,\n",
       "  2.2885072231292725,\n",
       "  2.2874250411987305,\n",
       "  2.2892816066741943,\n",
       "  2.2896182537078857,\n",
       "  2.288515090942383,\n",
       "  2.2887933254241943,\n",
       "  2.28753924369812,\n",
       "  2.2904045581817627,\n",
       "  2.2870781421661377,\n",
       "  2.2891616821289062,\n",
       "  2.28831148147583,\n",
       "  2.2877118587493896,\n",
       "  2.2872445583343506,\n",
       "  2.2891101837158203,\n",
       "  2.2844669818878174,\n",
       "  2.2895119190216064,\n",
       "  2.28783917427063,\n",
       "  2.2871055603027344,\n",
       "  2.2857348918914795,\n",
       "  2.2871134281158447,\n",
       "  2.285872220993042,\n",
       "  2.2874398231506348,\n",
       "  2.286036491394043,\n",
       "  2.2885680198669434,\n",
       "  2.2874693870544434,\n",
       "  2.284118413925171,\n",
       "  2.286639928817749,\n",
       "  2.2862932682037354,\n",
       "  2.2888283729553223,\n",
       "  2.284444808959961,\n",
       "  2.2853550910949707,\n",
       "  2.2838363647460938,\n",
       "  2.2856554985046387,\n",
       "  2.2865638732910156,\n",
       "  2.2849950790405273,\n",
       "  2.2844693660736084,\n",
       "  2.287229299545288,\n",
       "  2.284862518310547,\n",
       "  2.285811185836792,\n",
       "  2.2844793796539307,\n",
       "  2.2872719764709473,\n",
       "  2.2841906547546387,\n",
       "  2.2846128940582275,\n",
       "  2.2857327461242676,\n",
       "  2.2849347591400146,\n",
       "  2.2836740016937256,\n",
       "  2.2827041149139404,\n",
       "  2.2853901386260986,\n",
       "  2.2857744693756104,\n",
       "  2.2826662063598633,\n",
       "  2.2843260765075684,\n",
       "  2.2816858291625977,\n",
       "  2.2810897827148438,\n",
       "  2.282292366027832,\n",
       "  2.282956123352051,\n",
       "  2.2820799350738525,\n",
       "  2.2850794792175293,\n",
       "  2.284318685531616,\n",
       "  2.2815747261047363,\n",
       "  2.2827672958374023,\n",
       "  2.2839231491088867,\n",
       "  2.281480550765991,\n",
       "  2.2839574813842773,\n",
       "  2.2812745571136475,\n",
       "  2.281963348388672,\n",
       "  2.2834811210632324,\n",
       "  2.283496856689453,\n",
       "  2.283405065536499,\n",
       "  2.2810745239257812,\n",
       "  2.2809431552886963,\n",
       "  2.2846899032592773,\n",
       "  2.2826805114746094,\n",
       "  2.278791666030884,\n",
       "  2.283478260040283,\n",
       "  2.281970739364624,\n",
       "  2.280707359313965,\n",
       "  2.2818727493286133,\n",
       "  2.282641649246216,\n",
       "  2.2782230377197266,\n",
       "  2.2775909900665283,\n",
       "  2.281090021133423,\n",
       "  2.2803053855895996,\n",
       "  2.2813737392425537,\n",
       "  2.2780072689056396,\n",
       "  2.2792458534240723,\n",
       "  2.2790868282318115,\n",
       "  2.2783260345458984,\n",
       "  2.280879497528076,\n",
       "  2.2788095474243164,\n",
       "  2.279392957687378,\n",
       "  2.2806594371795654,\n",
       "  2.2830848693847656,\n",
       "  2.2795002460479736,\n",
       "  2.2757070064544678,\n",
       "  2.2784311771392822,\n",
       "  2.2791879177093506,\n",
       "  2.2789347171783447,\n",
       "  2.276346445083618,\n",
       "  2.2780838012695312,\n",
       "  2.276822566986084,\n",
       "  2.279078722000122,\n",
       "  2.277759313583374,\n",
       "  2.2756149768829346,\n",
       "  2.2763612270355225,\n",
       "  2.2737410068511963,\n",
       "  2.2776079177856445,\n",
       "  2.275925874710083,\n",
       "  2.2776663303375244,\n",
       "  2.2776777744293213,\n",
       "  2.275937557220459,\n",
       "  2.2729194164276123,\n",
       "  2.2748637199401855,\n",
       "  2.2739241123199463,\n",
       "  2.275306463241577,\n",
       "  2.274446725845337,\n",
       "  2.272845506668091,\n",
       "  2.2757515907287598,\n",
       "  2.2753446102142334,\n",
       "  2.2760493755340576,\n",
       "  2.275266408920288,\n",
       "  2.275608539581299,\n",
       "  2.275423526763916,\n",
       "  2.2728843688964844,\n",
       "  2.271737575531006,\n",
       "  2.2726142406463623,\n",
       "  2.2699427604675293,\n",
       "  2.274742603302002,\n",
       "  2.2749946117401123,\n",
       "  2.2734408378601074,\n",
       "  2.2733685970306396,\n",
       "  2.2718236446380615,\n",
       "  2.2694199085235596,\n",
       "  2.273395299911499,\n",
       "  2.2693729400634766,\n",
       "  2.270219326019287,\n",
       "  2.270688533782959],\n",
       " 'validation_accuracy': [10.280000000000001,\n",
       "  10.280000000000001,\n",
       "  10.280000000000001,\n",
       "  10.280000000000001,\n",
       "  10.280000000000001,\n",
       "  10.290000000000001,\n",
       "  16.56,\n",
       "  19.52,\n",
       "  18.44,\n",
       "  17.7,\n",
       "  17.52,\n",
       "  17.76,\n",
       "  18.19,\n",
       "  18.89,\n",
       "  20.549999999999997]}"
      ]
     },
     "execution_count": 17,
     "metadata": {},
     "output_type": "execute_result"
    }
   ],
   "source": [
    "training_results"
   ]
  },
  {
   "cell_type": "markdown",
   "id": "4795af0b",
   "metadata": {},
   "source": [
    "### Model 2: Xavier Initialization"
   ]
  },
  {
   "cell_type": "code",
   "execution_count": 24,
   "id": "8ed20863",
   "metadata": {},
   "outputs": [],
   "source": [
    "model_2 = Net(layers, init_method=torch.nn.init.xavier_uniform_)\n",
    "optimizer_2 = torch.optim.SGD(model_2.parameters(), lr=learning_rate)\n",
    "training_results_2 = train(model_2, criterion, train_loader, validation_loader, optimizer_2, epochs=epochs)"
   ]
  },
  {
   "cell_type": "markdown",
   "id": "658b99fb",
   "metadata": {},
   "source": [
    "### Model 3: He Initialization"
   ]
  },
  {
   "cell_type": "code",
   "execution_count": 25,
   "id": "6ad1dfe6",
   "metadata": {},
   "outputs": [],
   "source": [
    "model_he = Net(layers, init_method = torch.nn.init.kaiming_uniform_)\n",
    "\n",
    "\n",
    "# quizás ver los params.\n",
    "\n",
    "optimizer_he = torch.optim.SGD(model_he.parameters(), lr=learning_rate)\n",
    "training_results_he = train(model_he, criterion, train_loader, validation_loader, optimizer_he, epochs=epochs)"
   ]
  },
  {
   "cell_type": "markdown",
   "id": "4ae8231e",
   "metadata": {},
   "source": [
    "### Model 4: Uniform Initialization"
   ]
  },
  {
   "cell_type": "code",
   "execution_count": 30,
   "id": "415663e1",
   "metadata": {},
   "outputs": [],
   "source": [
    "model_uniform = Net(layers, init_method = torch.nn.init.uniform_)\n",
    "optimizer_uniform = torch.optim.SGD(model_uniform.parameters(), lr=learning_rate)\n",
    "training_results_uniform = train(model_uniform, criterion, train_loader, validation_loader, \n",
    "                                 optimizer_uniform, epochs=epochs)"
   ]
  },
  {
   "cell_type": "code",
   "execution_count": null,
   "id": "7a0532dd",
   "metadata": {},
   "outputs": [],
   "source": []
  },
  {
   "cell_type": "code",
   "execution_count": 36,
   "id": "1bc1d4e7",
   "metadata": {},
   "outputs": [
    {
     "name": "stdout",
     "output_type": "stream",
     "text": [
      "tensor([[0.0000e+00, 0.0000e+00, 0.0000e+00, 0.0000e+00, 0.0000e+00],\n",
      "        [0.0000e+00, 0.0000e+00, 0.0000e+00, 1.4013e-45, 0.0000e+00],\n",
      "        [0.0000e+00, 0.0000e+00, 0.0000e+00, 0.0000e+00, 0.0000e+00]])\n",
      "tensor([[0.5946, 0.6474, 0.8462, 0.4766, 0.5640],\n",
      "        [0.7333, 0.7708, 0.0889, 0.7305, 0.6962],\n",
      "        [0.4934, 0.8082, 0.2847, 0.0696, 0.3860]])\n"
     ]
    }
   ],
   "source": [
    "\n",
    "# in an annex, telling a little about the diffrent types\n",
    "\n",
    "w = torch.empty(3, 5)\n",
    "print(w)\n",
    "nn.init.uniform_(w)\n",
    "print(w)"
   ]
  },
  {
   "cell_type": "code",
   "execution_count": null,
   "id": "8e4e8e71",
   "metadata": {},
   "outputs": [],
   "source": []
  },
  {
   "cell_type": "code",
   "execution_count": null,
   "id": "68f9f743",
   "metadata": {},
   "outputs": [],
   "source": []
  },
  {
   "cell_type": "code",
   "execution_count": null,
   "id": "371039a1",
   "metadata": {},
   "outputs": [],
   "source": [
    "# https://pytorch.org/docs/stable/nn.init.html#torch.nn.init.uniform_"
   ]
  },
  {
   "cell_type": "code",
   "execution_count": null,
   "id": "03809917",
   "metadata": {},
   "outputs": [],
   "source": []
  },
  {
   "cell_type": "code",
   "execution_count": null,
   "id": "ad2e3d6e",
   "metadata": {},
   "outputs": [],
   "source": []
  },
  {
   "cell_type": "code",
   "execution_count": null,
   "id": "c4e72498",
   "metadata": {},
   "outputs": [],
   "source": [
    "# el apply de arriba en un anexo; igula que el recorrido de código"
   ]
  },
  {
   "cell_type": "markdown",
   "id": "03536d6e",
   "metadata": {},
   "source": [
    "<a name=\"6\"></a>\n",
    "## <font color='blue'> <b> 6. Comparing results </b> </font>"
   ]
  },
  {
   "cell_type": "code",
   "execution_count": 32,
   "id": "a64ac69e",
   "metadata": {},
   "outputs": [
    {
     "data": {
      "text/plain": [
       "<matplotlib.legend.Legend at 0x7840261da230>"
      ]
     },
     "execution_count": 32,
     "metadata": {},
     "output_type": "execute_result"
    },
    {
     "data": {
      "image/png": "[encoded data removed]",
      "text/plain": [
       "<Figure size 640x480 with 1 Axes>"
      ]
     },
     "metadata": {},
     "output_type": "display_data"
    }
   ],
   "source": [
    "# Plot the loss\n",
    "\n",
    "plt.plot(training_results_2['training_loss'], label='Xavier')\n",
    "plt.plot(training_results['training_loss'], label='Default')\n",
    "plt.plot(training_results_he['training_loss'], label='He')\n",
    "#plt.plot(training_results_uniform['training_loss'], label='Uniform')\n",
    "plt.ylabel('loss')\n",
    "plt.xlabel('iteration ')  \n",
    "plt.title('training loss iterations')\n",
    "plt.legend()"
   ]
  },
  {
   "cell_type": "code",
   "execution_count": 38,
   "id": "d8cdc5f9",
   "metadata": {},
   "outputs": [
    {
     "data": {
      "text/plain": [
       "<matplotlib.legend.Legend at 0x784023ac2a10>"
      ]
     },
     "execution_count": 38,
     "metadata": {},
     "output_type": "execute_result"
    },
    {
     "data": {
      "image/png": "[encoded data removed]",
      "text/plain": [
       "<Figure size 640x480 with 1 Axes>"
      ]
     },
     "metadata": {},
     "output_type": "display_data"
    }
   ],
   "source": [
    "plt.plot(training_results_2['validation_accuracy'], label='Xavier')\n",
    "plt.plot(training_results['validation_accuracy'], label='Default')\n",
    "plt.plot(training_results_he['validation_accuracy'], label='Uniform') \n",
    "plt.ylabel('validation accuracy')\n",
    "plt.xlabel('epochs')   \n",
    "plt.legend()"
   ]
  },
  {
   "cell_type": "code",
   "execution_count": null,
   "id": "064d2d94",
   "metadata": {},
   "outputs": [],
   "source": []
  }
 ],
 "metadata": {
  "kernelspec": {
   "display_name": "Python 3 (ipykernel)",
   "language": "python",
   "name": "python3"
  },
  "language_info": {
   "codemirror_mode": {
    "name": "ipython",
    "version": 3
   },
   "file_extension": ".py",
   "mimetype": "text/x-python",
   "name": "python",
   "nbconvert_exporter": "python",
   "pygments_lexer": "ipython3",
   "version": "3.10.12"
  }
 },
 "nbformat": 4,
 "nbformat_minor": 5
}
