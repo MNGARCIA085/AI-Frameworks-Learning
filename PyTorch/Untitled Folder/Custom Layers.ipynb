{
 "cells": [
  {
   "cell_type": "code",
   "execution_count": 1,
   "id": "fcbfde64",
   "metadata": {},
   "outputs": [],
   "source": [
    "import torch\n",
    "import torch.nn as nn\n",
    "import torch.nn.functional as F\n",
    "\n"
   ]
  },
  {
   "cell_type": "markdown",
   "id": "effe3caf",
   "metadata": {},
   "source": [
    "Here's a simple example of a custom PyTorch layer that performs a weighted sum of inputs followed by a non-linear activation\n",
    "\n",
    "\n",
    "\n",
    "---- DIBUJO"
   ]
  },
  {
   "cell_type": "code",
   "execution_count": 3,
   "id": "bb316847",
   "metadata": {},
   "outputs": [
    {
     "name": "stdout",
     "output_type": "stream",
     "text": [
      "tensor([[0.4789],\n",
      "        [0.0256],\n",
      "        [0.0618],\n",
      "        [0.2644],\n",
      "        [0.2041]], grad_fn=<SigmoidBackward0>)\n"
     ]
    }
   ],
   "source": [
    "\n",
    "# custom layer\n",
    "class CustomLayer(nn.Module):\n",
    "    def __init__(self, input_dim, output_dim):\n",
    "        super(CustomLayer, self).__init__()\n",
    "        self.weight = nn.Parameter(torch.randn(input_dim, output_dim))\n",
    "        self.bias = nn.Parameter(torch.zeros(output_dim))\n",
    "\n",
    "    def forward(self, x):\n",
    "        x = torch.matmul(x, self.weight) + self.bias\n",
    "        return F.relu(x)\n",
    "\n",
    "# Example usage\n",
    "class SimpleModel(nn.Module):\n",
    "    def __init__(self):\n",
    "        super(SimpleModel, self).__init__()\n",
    "        self.layer1 = CustomLayer(10, 20)\n",
    "        self.layer2 = nn.Linear(20, 1)\n",
    "\n",
    "    def forward(self, x):\n",
    "        x = self.layer1(x)\n",
    "        return torch.sigmoid(self.layer2(x))\n",
    "\n",
    "# Testing the model\n",
    "x = torch.randn(5, 10)  # Batch size 5, input size 10\n",
    "model = SimpleModel()\n",
    "output = model(x)\n",
    "print(output)"
   ]
  },
  {
   "cell_type": "markdown",
   "id": "4494a621",
   "metadata": {},
   "source": [
    "This custom layer applies a linear transformation followed by a ReLU activation. Using nn.Parameter allows the layer's weights to be trainable. You can integrate this layer like any other PyTorch module. "
   ]
  },
  {
   "cell_type": "code",
   "execution_count": null,
   "id": "182af00d",
   "metadata": {},
   "outputs": [],
   "source": []
  },
  {
   "cell_type": "markdown",
   "id": "97c3ba3e",
   "metadata": {},
   "source": [
    "This updated example includes batch normalization and dropout for improved training stability and regularization."
   ]
  },
  {
   "cell_type": "code",
   "execution_count": null,
   "id": "612d2e49",
   "metadata": {},
   "outputs": [],
   "source": [
    "class CustomLayer(nn.Module):\n",
    "    def __init__(self, input_dim, output_dim, dropout_rate=0.3):\n",
    "        super(CustomLayer, self).__init__()\n",
    "        self.weight = nn.Parameter(torch.randn(input_dim, output_dim))\n",
    "        self.bias = nn.Parameter(torch.zeros(output_dim))\n",
    "        self.bn = nn.BatchNorm1d(output_dim)\n",
    "        self.dropout = nn.Dropout(dropout_rate)\n",
    "\n",
    "    def forward(self, x):\n",
    "        x = torch.matmul(x, self.weight) + self.bias\n",
    "        x = self.bn(x)\n",
    "        x = F.relu(x)\n",
    "        return self.dropout(x)\n",
    "\n",
    "# Example usage\n",
    "class SimpleModel(nn.Module):\n",
    "    def __init__(self):\n",
    "        super(SimpleModel, self).__init__()\n",
    "        self.layer1 = CustomLayer(10, 20)\n",
    "        self.layer2 = nn.Linear(20, 1)\n",
    "\n",
    "    def forward(self, x):\n",
    "        x = self.layer1(x)\n",
    "        return torch.sigmoid(self.layer2(x))\n",
    "\n",
    "# Testing the model\n",
    "x = torch.randn(5, 10)  # Batch size 5, input size 10\n",
    "model = SimpleModel()\n",
    "output = model(x)\n",
    "print(output)"
   ]
  }
 ],
 "metadata": {
  "kernelspec": {
   "display_name": "Python 3 (ipykernel)",
   "language": "python",
   "name": "python3"
  },
  "language_info": {
   "codemirror_mode": {
    "name": "ipython",
    "version": 3
   },
   "file_extension": ".py",
   "mimetype": "text/x-python",
   "name": "python",
   "nbconvert_exporter": "python",
   "pygments_lexer": "ipython3",
   "version": "3.10.12"
  }
 },
 "nbformat": 4,
 "nbformat_minor": 5
}
