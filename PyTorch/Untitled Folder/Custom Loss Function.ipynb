{
 "cells": [
  {
   "cell_type": "code",
   "execution_count": 1,
   "id": "cb9ac0b3",
   "metadata": {},
   "outputs": [],
   "source": [
    "import torch\n",
    "import torch.nn as nn\n",
    "import torch.nn.functional as F\n",
    "\n",
    "\n"
   ]
  },
  {
   "cell_type": "code",
   "execution_count": null,
   "id": "7dfb1f9b",
   "metadata": {},
   "outputs": [],
   "source": []
  },
  {
   "cell_type": "markdown",
   "id": "a15b3b4e",
   "metadata": {},
   "source": [
    "This simplified example defines a custom MSE loss function and compares it with PyTorch's built-in MSE loss to confirm they produce the same result. "
   ]
  },
  {
   "cell_type": "code",
   "execution_count": null,
   "id": "b060d284",
   "metadata": {},
   "outputs": [],
   "source": [
    "class CustomMSELoss(nn.Module):\n",
    "    def __init__(self):\n",
    "        super(CustomMSELoss, self).__init__()\n",
    "\n",
    "    def forward(self, y_pred, y_true):\n",
    "        return torch.mean((y_pred - y_true) ** 2)\n",
    "\n",
    "# Example usage\n",
    "y_pred = torch.randn(5, 1, requires_grad=True)\n",
    "y_true = torch.randn(5, 1)\n",
    "\n",
    "# Custom MSE\n",
    "custom_mse = CustomMSELoss()(y_pred, y_true)\n",
    "\n",
    "# PyTorch built-in MSE\n",
    "builtin_mse = F.mse_loss(y_pred, y_true)\n",
    "\n",
    "print(f\"Custom MSE: {custom_mse.item():.6f}\")\n",
    "print(f\"Built-in MSE: {builtin_mse.item():.6f}\")"
   ]
  },
  {
   "cell_type": "code",
   "execution_count": null,
   "id": "7da3eab1",
   "metadata": {},
   "outputs": [],
   "source": []
  },
  {
   "cell_type": "code",
   "execution_count": null,
   "id": "e0c0cecf",
   "metadata": {},
   "outputs": [],
   "source": []
  },
  {
   "cell_type": "markdown",
   "id": "96357e83",
   "metadata": {},
   "source": [
    "This custom loss function combines binary cross-entropy and mean squared error, with a weighting factor alpha to balance the two. "
   ]
  },
  {
   "cell_type": "code",
   "execution_count": 2,
   "id": "8fb4962d",
   "metadata": {},
   "outputs": [
    {
     "name": "stdout",
     "output_type": "stream",
     "text": [
      "Loss: 1.0910006761550903\n"
     ]
    }
   ],
   "source": [
    "class CustomLoss(nn.Module):\n",
    "    def __init__(self, alpha=0.5):\n",
    "        super(CustomLoss, self).__init__()\n",
    "        self.alpha = alpha\n",
    "\n",
    "    def forward(self, y_pred, y_true):\n",
    "        bce_loss = F.binary_cross_entropy(y_pred, y_true)\n",
    "        mse_loss = F.mse_loss(y_pred, y_true)\n",
    "        return self.alpha * bce_loss + (1 - self.alpha) * mse_loss\n",
    "\n",
    "# Example usage\n",
    "y_pred = torch.sigmoid(torch.randn(5, 1, requires_grad=True))\n",
    "y_true = torch.randint(0, 2, (5, 1)).float()\n",
    "\n",
    "criterion = CustomLoss(alpha=0.7)\n",
    "loss = criterion(y_pred, y_true)\n",
    "print(f\"Loss: {loss.item()}\")"
   ]
  },
  {
   "cell_type": "code",
   "execution_count": null,
   "id": "c8de3d37",
   "metadata": {},
   "outputs": [],
   "source": []
  }
 ],
 "metadata": {
  "kernelspec": {
   "display_name": "Python 3 (ipykernel)",
   "language": "python",
   "name": "python3"
  },
  "language_info": {
   "codemirror_mode": {
    "name": "ipython",
    "version": 3
   },
   "file_extension": ".py",
   "mimetype": "text/x-python",
   "name": "python",
   "nbconvert_exporter": "python",
   "pygments_lexer": "ipython3",
   "version": "3.10.12"
  }
 },
 "nbformat": 4,
 "nbformat_minor": 5
}
