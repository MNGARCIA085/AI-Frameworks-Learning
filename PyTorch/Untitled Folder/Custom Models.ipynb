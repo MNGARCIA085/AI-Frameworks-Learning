{
 "cells": [
  {
   "cell_type": "code",
   "execution_count": null,
   "id": "73f2f327",
   "metadata": {},
   "outputs": [],
   "source": []
  },
  {
   "cell_type": "code",
   "execution_count": null,
   "id": "d7629802",
   "metadata": {},
   "outputs": [],
   "source": [
    "# dibujo de lo que voy a implementar"
   ]
  },
  {
   "cell_type": "code",
   "execution_count": 11,
   "id": "4a8d65cf",
   "metadata": {},
   "outputs": [],
   "source": [
    "#!pip install torchview"
   ]
  },
  {
   "cell_type": "code",
   "execution_count": 16,
   "id": "0ac65194",
   "metadata": {},
   "outputs": [
    {
     "name": "stdout",
     "output_type": "stream",
     "text": [
      "Main Output: tensor([[0.5746],\n",
      "        [0.4835],\n",
      "        [0.6326],\n",
      "        [0.5687],\n",
      "        [0.6422]], grad_fn=<SigmoidBackward0>)\n",
      "Aux Output: tensor([[0.4528],\n",
      "        [0.4316],\n",
      "        [0.4601],\n",
      "        [0.4760],\n",
      "        [0.4489]], grad_fn=<SigmoidBackward0>)\n",
      "All tests passed!\n"
     ]
    }
   ],
   "source": [
    "import torch\n",
    "import torch.nn as nn\n",
    "import torch.nn.functional as F\n",
    "import matplotlib.pyplot as plt\n",
    "from torchview import draw_graph\n",
    "\n",
    "class WideAndDeepModel(nn.Module):\n",
    "    def __init__(self, num_wide_features, num_deep_features, units=30):\n",
    "        super(WideAndDeepModel, self).__init__()\n",
    "        # Wide branch\n",
    "        self.wide = nn.Linear(num_wide_features, 1)\n",
    "        \n",
    "        # Deep branch\n",
    "        self.hidden1 = nn.Linear(num_deep_features, units)\n",
    "        self.hidden2 = nn.Linear(units, units)\n",
    "        \n",
    "        # Outputs\n",
    "        self.main_output = nn.Linear(num_wide_features + units, 1)\n",
    "        self.aux_output = nn.Linear(units, 1)\n",
    "\n",
    "    def forward(self, inputs):\n",
    "        input_wide, input_deep = inputs\n",
    "        hidden1 = F.relu(self.hidden1(input_deep))\n",
    "        hidden2 = F.relu(self.hidden2(hidden1))\n",
    "        concat = torch.cat([input_wide, hidden2], dim=1)\n",
    "        main_output = torch.sigmoid(self.main_output(concat))\n",
    "        aux_output = torch.sigmoid(self.aux_output(hidden2))\n",
    "        return main_output, aux_output\n",
    "\n",
    "# Example usage\n",
    "input_wide = torch.randn(5, 5)  # Wide features\n",
    "input_deep = torch.randn(5, 10)  # Deep features\n",
    "model = WideAndDeepModel(num_wide_features=5, num_deep_features=10)\n",
    "main_output, aux_output = model((input_wide, input_deep))\n",
    "print(f\"Main Output: {main_output}\")\n",
    "print(f\"Aux Output: {aux_output}\")\n",
    "\n",
    "# Inline plot of the model\n",
    "model_graph = draw_graph(model, input_data=((input_wide, input_deep),), expand_nested=True)\n",
    "model_graph.visual_graph.render(\"wide_and_deep_model\", format=\"png\")\n",
    "\n",
    "# Unit tests\n",
    "def test_model_output_shape():\n",
    "    model = WideAndDeepModel(num_wide_features=5, num_deep_features=10)\n",
    "    main_output, aux_output = model((input_wide, input_deep))\n",
    "    assert main_output.shape == (5, 1), f\"Expected shape (5, 1), got {main_output.shape}\"\n",
    "    assert aux_output.shape == (5, 1), f\"Expected shape (5, 1), got {aux_output.shape}\"\n",
    "\n",
    "def test_forward_pass():\n",
    "    model = WideAndDeepModel(num_wide_features=5, num_deep_features=10)\n",
    "    main_output, aux_output = model((input_wide, input_deep))\n",
    "    assert torch.all((main_output >= 0) & (main_output <= 1)), \"Main output values should be in range [0, 1]\"\n",
    "    assert torch.all((aux_output >= 0) & (aux_output <= 1)), \"Aux output values should be in range [0, 1]\"\n",
    "\n",
    "test_model_output_shape()\n",
    "test_forward_pass()\n",
    "print(\"All tests passed!\")"
   ]
  },
  {
   "cell_type": "markdown",
   "id": "228626cd",
   "metadata": {},
   "source": [
    "<img src=\"wide_and_deep_model.png\"/>"
   ]
  },
  {
   "cell_type": "code",
   "execution_count": null,
   "id": "d40ce756",
   "metadata": {},
   "outputs": [],
   "source": []
  }
 ],
 "metadata": {
  "kernelspec": {
   "display_name": "Python 3 (ipykernel)",
   "language": "python",
   "name": "python3"
  },
  "language_info": {
   "codemirror_mode": {
    "name": "ipython",
    "version": 3
   },
   "file_extension": ".py",
   "mimetype": "text/x-python",
   "name": "python",
   "nbconvert_exporter": "python",
   "pygments_lexer": "ipython3",
   "version": "3.10.12"
  }
 },
 "nbformat": 4,
 "nbformat_minor": 5
}
