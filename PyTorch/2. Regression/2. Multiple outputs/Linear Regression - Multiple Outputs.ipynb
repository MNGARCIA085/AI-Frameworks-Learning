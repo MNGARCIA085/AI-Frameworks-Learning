{
 "cells": [
  {
   "cell_type": "markdown",
   "id": "a74a3bdc",
   "metadata": {},
   "source": [
    "# <font color='#1a5276'> <b> <center> Linear Regression - Multiple output </center> </b> </font>"
   ]
  },
  {
   "cell_type": "markdown",
   "id": "b458fec6",
   "metadata": {},
   "source": [
    "## <font color='blue'>  Table of Contents </font>\n",
    "\n",
    "1. [Introduction](#1)\n",
    "2. [Setup](#2)\n",
    "3. [Data](#3) <br>\n",
    "4. [Model](#4) <br>\n",
    "5. [Training and predictions](#5)\n",
    "6. [References](#references)"
   ]
  },
  {
   "cell_type": "markdown",
   "id": "815adac3",
   "metadata": {},
   "source": [
    "<a name=\"1\"></a>\n",
    "## <font color='blue'> <b> 1. Introduction </b> </font>\n",
    "\n",
    "This project explores the implementation of linear regression models with multiple outputs using PyTorch. Having previously implemented linear regression for scenarios involving a single output—both with one and multiple predictors—this extension will handle cases where the model predicts multiple outputs simultaneously. The project aims to deepen understanding of PyTorch’s flexibility in modeling and optimizing linear regression systems with multi-dimensional output spaces."
   ]
  },
  {
   "cell_type": "markdown",
   "id": "c423d3db",
   "metadata": {},
   "source": [
    "<a name=\"2\"></a>\n",
    "## <font color='blue'> <b> 2. Setup </b> </font>"
   ]
  },
  {
   "cell_type": "code",
   "execution_count": 1,
   "id": "be3c25ad",
   "metadata": {},
   "outputs": [],
   "source": [
    "import os\n",
    "os.environ['KMP_DUPLICATE_LIB_OK']='True'"
   ]
  },
  {
   "cell_type": "code",
   "execution_count": 2,
   "id": "d0e1cc9e",
   "metadata": {},
   "outputs": [],
   "source": [
    "import torch\n",
    "import numpy as np\n",
    "import matplotlib.pyplot as plt\n",
    "from torch import nn,optim\n",
    "from mpl_toolkits.mplot3d import Axes3D\n",
    "from torch.utils.data import Dataset, DataLoader\n",
    "import torchvision.transforms as transforms"
   ]
  },
  {
   "cell_type": "code",
   "execution_count": 3,
   "id": "b717819f",
   "metadata": {},
   "outputs": [
    {
     "data": {
      "text/plain": [
       "<torch._C.Generator at 0x7a29c43dd250>"
      ]
     },
     "execution_count": 3,
     "metadata": {},
     "output_type": "execute_result"
    }
   ],
   "source": [
    "torch.manual_seed(1)"
   ]
  },
  {
   "cell_type": "markdown",
   "id": "43d1f726",
   "metadata": {},
   "source": [
    "<a name=\"3\"></a>\n",
    "## <font color='blue'> <b> 3. Data </b> </font>"
   ]
  },
  {
   "cell_type": "code",
   "execution_count": 4,
   "id": "928d9978",
   "metadata": {},
   "outputs": [],
   "source": [
    "from torch.utils.data import Dataset, DataLoader"
   ]
  },
  {
   "cell_type": "code",
   "execution_count": 5,
   "id": "29c01854",
   "metadata": {},
   "outputs": [],
   "source": [
    "# Define a custom Dataset class\n",
    "class Data(Dataset):\n",
    "    def __init__(self):\n",
    "        # Initialize the feature tensor with zeros of shape (20, 2)\n",
    "        self.x = torch.zeros(20, 2)\n",
    "        \n",
    "        # Set the first column of x with values ranging from -1 to 0.9 (step 0.1)\n",
    "        self.x[:, 0] = torch.arange(-1, 1, 0.1)\n",
    "        \n",
    "        # Set the second column of x with random noise added to the ascending range\n",
    "        self.x[:, 1] = torch.arange(-1, 1, 0.1) + 0.1 * torch.randn(20)\n",
    "        \n",
    "        # Define a weight matrix (2x2) for the linear relationship\n",
    "        self.w = torch.tensor([[1.0, -1.0], [1.0, 3.0]])\n",
    "        \n",
    "        # Define a bias term (1x2) for the linear relationship\n",
    "        self.b = torch.tensor([[1.0, -1.0]])\n",
    "        \n",
    "        # Calculate the linear transformation: f = x * w + b\n",
    "        self.f = torch.mm(self.x, self.w) + self.b\n",
    "        \n",
    "        # Add Gaussian noise to the target values to simulate real-world data\n",
    "        self.y = self.f + 0.001 * torch.randn((self.x.shape[0], 1))\n",
    "        \n",
    "        # Store the number of data points\n",
    "        self.len = self.x.shape[0]\n",
    "\n",
    "    # Method to retrieve a single data point (features and target)\n",
    "    def __getitem__(self, index):\n",
    "        return self.x[index], self.y[index]\n",
    "    \n",
    "    # Method to get the total number of data points in the dataset\n",
    "    def __len__(self):\n",
    "        return self.len\n"
   ]
  },
  {
   "cell_type": "code",
   "execution_count": 6,
   "id": "2556933a",
   "metadata": {},
   "outputs": [],
   "source": [
    "# create a Data object\n",
    "dataset = Data()"
   ]
  },
  {
   "cell_type": "markdown",
   "id": "f9a79973",
   "metadata": {},
   "source": [
    "Let's inspect the data a little bit."
   ]
  },
  {
   "cell_type": "code",
   "execution_count": 7,
   "id": "b8db639c",
   "metadata": {},
   "outputs": [
    {
     "name": "stdout",
     "output_type": "stream",
     "text": [
      "(tensor([-1.0000, -1.1526]), tensor([-1.1524, -3.4575]))\n",
      "(tensor([-0.3000, -0.2193]), tensor([ 0.4794, -1.3591]))\n"
     ]
    }
   ],
   "source": [
    "# let's see a couple of items\n",
    "print(dataset[0])  # Calls dataset.__getitem__(0), returns values of x and y\n",
    "print(dataset[7])"
   ]
  },
  {
   "cell_type": "code",
   "execution_count": 8,
   "id": "ac3a7c28",
   "metadata": {},
   "outputs": [
    {
     "data": {
      "text/plain": [
       "tuple"
      ]
     },
     "execution_count": 8,
     "metadata": {},
     "output_type": "execute_result"
    }
   ],
   "source": [
    "aux = dataset[1]\n",
    "type(aux) # tuple: self.x[index], self.y[index] "
   ]
  },
  {
   "cell_type": "code",
   "execution_count": 9,
   "id": "66c7bfa3",
   "metadata": {},
   "outputs": [
    {
     "name": "stdout",
     "output_type": "stream",
     "text": [
      "<class 'torch.Tensor'>\n",
      "<class 'torch.Tensor'>\n"
     ]
    }
   ],
   "source": [
    "print(type(dataset[0][0]))  # This is the type of self.x[index], which is a tensor\n",
    "print(type(dataset[0][1]))  # This is the type of self.y[index], which is also a tensor"
   ]
  },
  {
   "cell_type": "code",
   "execution_count": 10,
   "id": "b9160f67",
   "metadata": {},
   "outputs": [
    {
     "name": "stdout",
     "output_type": "stream",
     "text": [
      "tensor([-1.0000, -1.1526])\n",
      "tensor([-1.1524, -3.4575])\n"
     ]
    }
   ],
   "source": [
    "print(dataset[0][0])\n",
    "print(dataset[0][1])"
   ]
  },
  {
   "cell_type": "code",
   "execution_count": 11,
   "id": "2fe5e6c8",
   "metadata": {},
   "outputs": [
    {
     "name": "stdout",
     "output_type": "stream",
     "text": [
      "Shape of the input: torch.Size([2])\n",
      "Shape of the output: torch.Size([2])\n"
     ]
    }
   ],
   "source": [
    "print(f\"Shape of the input: {dataset[0][0].shape}\")\n",
    "print(f\"Shape of the output: {dataset[0][1].shape}\")"
   ]
  },
  {
   "cell_type": "markdown",
   "id": "9b16b1c2",
   "metadata": {},
   "source": [
    "<a name=\"4\"></a>\n",
    "## <font color='blue'> <b> 4. Model</b> </font>"
   ]
  },
  {
   "cell_type": "code",
   "execution_count": 12,
   "id": "60252bf5",
   "metadata": {},
   "outputs": [],
   "source": [
    "class linear_regression(nn.Module):\n",
    "    \n",
    "    # constructor\n",
    "    def __init__(self, input_size, output_size):\n",
    "        super(linear_regression, self).__init__()\n",
    "        self.linear = nn.Linear(input_size, output_size)\n",
    "        \n",
    "    # predictions\n",
    "    def forward(self, x):\n",
    "        yhat = self.linear(x)\n",
    "        return yhat\n"
   ]
  },
  {
   "cell_type": "code",
   "execution_count": 13,
   "id": "2c53603d",
   "metadata": {},
   "outputs": [],
   "source": [
    "# model\n",
    "model = linear_regression(2, 2)"
   ]
  },
  {
   "cell_type": "code",
   "execution_count": 14,
   "id": "75c68ea5",
   "metadata": {},
   "outputs": [],
   "source": [
    "# optimizer\n",
    "optimizer = optim.SGD(model.parameters(), lr = 0.1)"
   ]
  },
  {
   "cell_type": "code",
   "execution_count": 15,
   "id": "bdf3b233",
   "metadata": {},
   "outputs": [],
   "source": [
    "# loss function\n",
    "criterion = nn.MSELoss()"
   ]
  },
  {
   "cell_type": "code",
   "execution_count": 16,
   "id": "61bf313d",
   "metadata": {},
   "outputs": [],
   "source": [
    "# train loader\n",
    "train_loader = DataLoader(dataset=dataset, batch_size=5)"
   ]
  },
  {
   "cell_type": "markdown",
   "id": "4731df8b",
   "metadata": {},
   "source": [
    "<a name=\"5\"></a>\n",
    "## <font color='blue'> <b> 5. Training and predictions </b> </font>"
   ]
  },
  {
   "cell_type": "code",
   "execution_count": 17,
   "id": "fc801132",
   "metadata": {},
   "outputs": [],
   "source": [
    "def train(train_loader, epochs=50):\n",
    "    \n",
    "    # to store average loss per epoch\n",
    "    loss_results = []\n",
    "    \n",
    "    for epoch in range(epochs):\n",
    "        epoch_loss = 0.0 # variable to accumulate loss for this epoch\n",
    "        \n",
    "        for x, y in train_loader:\n",
    "            # make a prediction\n",
    "            yhat = model(x)\n",
    "            \n",
    "            # calculate the loss\n",
    "            loss = criterion(yhat, y)\n",
    "            \n",
    "            # accumulate the loss for averaging later\n",
    "            epoch_loss += loss.item()\n",
    "            \n",
    "            # clear gradients\n",
    "            optimizer.zero_grad()\n",
    "            \n",
    "            # backward pass: compute gradients of the loss\n",
    "            loss.backward()\n",
    "            \n",
    "            # update model parameters\n",
    "            optimizer.step()\n",
    "            \n",
    "        # store the average loss for the epoch\n",
    "        avg_epoch_loss = epoch_loss / len(train_loader)\n",
    "        loss_results.append(avg_epoch_loss)\n",
    "        \n",
    "    return loss_results"
   ]
  },
  {
   "cell_type": "code",
   "execution_count": 18,
   "id": "b7563918",
   "metadata": {},
   "outputs": [],
   "source": [
    "results = train(train_loader)"
   ]
  },
  {
   "cell_type": "markdown",
   "id": "06fbdae7",
   "metadata": {},
   "source": [
    "### Plot results"
   ]
  },
  {
   "cell_type": "code",
   "execution_count": 19,
   "id": "39e485bb",
   "metadata": {},
   "outputs": [
    {
     "data": {
      "image/png": "[encoded data removed]",
      "text/plain": [
       "<Figure size 640x480 with 1 Axes>"
      ]
     },
     "metadata": {},
     "output_type": "display_data"
    }
   ],
   "source": [
    "plt.plot(results)\n",
    "plt.xlabel(\"iterations \")\n",
    "plt.ylabel(\"Cost/total loss \")\n",
    "plt.show()"
   ]
  },
  {
   "cell_type": "markdown",
   "id": "1a2ac963",
   "metadata": {},
   "source": [
    "### Predictions"
   ]
  },
  {
   "cell_type": "code",
   "execution_count": 20,
   "id": "7fbebcd5",
   "metadata": {},
   "outputs": [
    {
     "name": "stdout",
     "output_type": "stream",
     "text": [
      "Predicted Output: tensor([[3.8987, 2.3169]])\n"
     ]
    }
   ],
   "source": [
    "# trained model\n",
    "model.eval()  # Set the model to evaluation mode\n",
    "\n",
    "# Input data\n",
    "x = torch.tensor([[1.0, 2.0]])\n",
    "\n",
    "# Make predictions\n",
    "with torch.no_grad():  # Disable gradient calculation\n",
    "    yhat = model(x)  # Pass input through the model to get predictions\n",
    "\n",
    "print(f'Predicted Output: {yhat}')\n"
   ]
  },
  {
   "cell_type": "code",
   "execution_count": 21,
   "id": "1c0795b9",
   "metadata": {},
   "outputs": [
    {
     "data": {
      "text/plain": [
       "torch.Size([1, 2])"
      ]
     },
     "execution_count": 21,
     "metadata": {},
     "output_type": "execute_result"
    }
   ],
   "source": [
    "x.shape"
   ]
  },
  {
   "cell_type": "code",
   "execution_count": 22,
   "id": "514394c3",
   "metadata": {},
   "outputs": [
    {
     "name": "stdout",
     "output_type": "stream",
     "text": [
      "Predicted Output for the Batch: tensor([[ 3.8987,  2.3169],\n",
      "        [ 7.9142,  6.5621],\n",
      "        [11.9297, 10.8073],\n",
      "        [15.9452, 15.0525],\n",
      "        [19.9607, 19.2977],\n",
      "        [23.9761, 23.5429],\n",
      "        [27.9916, 27.7881],\n",
      "        [32.0071, 32.0333],\n",
      "        [36.0226, 36.2785],\n",
      "        [40.0381, 40.5237]])\n"
     ]
    }
   ],
   "source": [
    "# Example batch of input data (x) - let's say it has 10 samples, each with 2 features\n",
    "x_batch = torch.tensor([[1.0, 2.0], [3.0, 4.0], [5.0, 6.0], \n",
    "                       [7.0, 8.0], [9.0, 10.0], [11.0, 12.0],\n",
    "                       [13.0, 14.0], [15.0, 16.0], [17.0, 18.0], [19.0, 20.0]])\n",
    "\n",
    "\n",
    "# Make predictions for the entire batch\n",
    "with torch.no_grad():\n",
    "    yhat_batch = model(x_batch)\n",
    "\n",
    "print(f'Predicted Output for the Batch: {yhat_batch}')\n"
   ]
  },
  {
   "cell_type": "code",
   "execution_count": 24,
   "id": "f4c4d6d0",
   "metadata": {},
   "outputs": [
    {
     "data": {
      "text/plain": [
       "torch.Size([10, 2])"
      ]
     },
     "execution_count": 24,
     "metadata": {},
     "output_type": "execute_result"
    }
   ],
   "source": [
    "yhat_batch.shape"
   ]
  },
  {
   "cell_type": "markdown",
   "id": "e109bfd1",
   "metadata": {},
   "source": [
    "<a name=\"references\"></a>\n",
    "## <font color='blue'> <b> References </b> </font>\n",
    "\n",
    "[IBM AI Engineering Professional Certificate](https://www.coursera.org/professional-certificates/ai-engineer)"
   ]
  }
 ],
 "metadata": {
  "kernelspec": {
   "display_name": "Python 3 (ipykernel)",
   "language": "python",
   "name": "python3"
  },
  "language_info": {
   "codemirror_mode": {
    "name": "ipython",
    "version": 3
   },
   "file_extension": ".py",
   "mimetype": "text/x-python",
   "name": "python",
   "nbconvert_exporter": "python",
   "pygments_lexer": "ipython3",
   "version": "3.10.12"
  }
 },
 "nbformat": 4,
 "nbformat_minor": 5
}
