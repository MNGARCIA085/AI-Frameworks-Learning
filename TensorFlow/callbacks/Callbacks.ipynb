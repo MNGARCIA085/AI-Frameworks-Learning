{
 "cells": [
  {
   "cell_type": "markdown",
   "id": "8459a59f",
   "metadata": {},
   "source": [
    "# <font color='#1a5276'> <b> <center> Callbacks </center> </b> </font>"
   ]
  },
  {
   "cell_type": "markdown",
   "id": "8d59392e",
   "metadata": {},
   "source": [
    "## <font color='blue'>  Table of Contents </font>\n",
    "\n",
    "1. [Introduction](#1)\n",
    "2. [Setup](#2)\n",
    "3. [Helper Functions](#3)\n",
    "4. [Data](#4)\n",
    "5. [Model](#5)\n",
    "6. [Built-in callbacks](#6) <br>\n",
    "    6.1. [TensorBoard](#6.1) <br>\n",
    "    6.2. [ModelCheckpoint](#6.2) <br>\n",
    "    6.3. [EarlyStopping](#6.3) <br>\n",
    "    6.4. [CSVLogger](#6.4) <br>\n",
    "    6.5. [LearningRateScheduler](#6.5) <br>\n",
    "    6.6. [ReduceLROnPlateau](#6.6) <br>\n",
    "7. [Custom callbacks](#Overfitting-Detection) <br>\n",
    "    7.1. [Simple Custom Callback](#7.1) <br>\n",
    "    7.2. [Detect overfitting](#7.2) <br>\n",
    "    7.3. [Visualize Predictions](#7.3) <br>\n",
    "8. [References](#Conclusion)\n"
   ]
  },
  {
   "cell_type": "markdown",
   "id": "5aa63e24",
   "metadata": {},
   "source": [
    "<a name=\"1\"> </a>\n",
    "## <font color='blue'> 1. Introduction </font>\n",
    "\n",
    "In Keras, Callback is a Python class designed to be subclassed for specific functionality.\n",
    "\n",
    "It provides a set of methods that are called at various stages of:\n",
    "\n",
    "- Training (batch/epoch start and end)\n",
    "- Testing\n",
    "- Predicting\n",
    "\n",
    "\n",
    "Callbacks help monitor internal states and statistics during training.\n",
    "\n",
    "The methods of callbacks can be triggered at different stages of:\n",
    "- Training\n",
    "- Evaluation\n",
    "- Inference\n",
    "\n",
    "\n",
    "Users can supply a list of callbacks to the following `tf.keras.Model` methods:\n",
    "\n",
    "- fit()\n",
    "- fit_generator()\n",
    "- evaluate()\n",
    "- evaluate_generator()\n",
    "- predict()\n",
    "- predict_generator()\n",
    "\n",
    "**Note** The difference between fit() and fit_generator() in Keras lies in how they handle data input. model.fit() is used when the entire dataset fits into memory and it takes NumPy arrays or TensorFlow tensors as input; model.fit_generator() is used for large datasets that do not fit into memory and it takes a data generator (yielding batches) instead of NumPy arrays."
   ]
  },
  {
   "cell_type": "markdown",
   "id": "f9860a1e",
   "metadata": {},
   "source": [
    "<a name=\"2\"> </a>\n",
    "## <font color='blue'> 2. Setup </font>"
   ]
  },
  {
   "cell_type": "code",
   "execution_count": 16,
   "id": "d1c5d349",
   "metadata": {},
   "outputs": [],
   "source": [
    "import os\n",
    "import math\n",
    "import io\n",
    "import numpy as np\n",
    "import pandas as pd\n",
    "import tensorflow as tf\n",
    "from tensorflow.keras import layers, models\n",
    "from tensorflow.keras.callbacks import (TensorBoard, EarlyStopping, LearningRateScheduler,\n",
    "                                        ModelCheckpoint, CSVLogger, ReduceLROnPlateau)\n",
    "import matplotlib.pyplot as plt\n",
    "from PIL import Image\n",
    "from IPython.display import Image as IPyImage\n",
    "import imageio"
   ]
  },
  {
   "cell_type": "markdown",
   "id": "b93151d0",
   "metadata": {},
   "source": [
    "<a name=\"3\"> </a>\n",
    "## <font color='blue'> 3. Helper Functions </font>"
   ]
  },
  {
   "cell_type": "code",
   "execution_count": 10,
   "id": "ea1494a3",
   "metadata": {},
   "outputs": [],
   "source": [
    "# plot history\n",
    "def plot_history(history):\n",
    "    plt.plot(history.history['loss'], label='Training Loss')\n",
    "    plt.plot(history.history['val_loss'], label='Validation Loss')\n",
    "    plt.xlabel('Epochs')\n",
    "    plt.ylabel('Loss')\n",
    "    plt.legend()\n",
    "    plt.show()"
   ]
  },
  {
   "cell_type": "code",
   "execution_count": 18,
   "id": "223ed746",
   "metadata": {},
   "outputs": [],
   "source": [
    "# Visualization utilities\n",
    "plt.rc('font', size=20)\n",
    "plt.rc('figure', figsize=(15, 3))\n",
    "\n",
    "def display_digits(inputs, outputs, ground_truth, epoch, n=10):\n",
    "    plt.clf()\n",
    "\n",
    "    plt.yticks([])\n",
    "    plt.grid(None)\n",
    "    inputs = np.reshape(inputs, [n, 28, 28])\n",
    "    inputs = np.swapaxes(inputs, 0, 1)\n",
    "    inputs = np.reshape(inputs, [28, 28*n])\n",
    "    plt.imshow(inputs)\n",
    "    plt.xticks([28*x+14 for x in range(n)], outputs)\n",
    "    for i,t in enumerate(plt.gca().xaxis.get_ticklabels()):\n",
    "        if outputs[i] == ground_truth[i]: \n",
    "            t.set_color('green') \n",
    "        else: \n",
    "            t.set_color('red')\n",
    "    plt.grid(None)"
   ]
  },
  {
   "cell_type": "markdown",
   "id": "fa5ede9f",
   "metadata": {},
   "source": [
    "<a name=\"4\"><a>\n",
    "## <font color='blue'> 4 Data </font>\n",
    "\n",
    "We will use a built-in TensorFlow dataset, specifically the Boston Housing dataset, which predicts house prices based on certain features."
   ]
  },
  {
   "cell_type": "code",
   "execution_count": 6,
   "id": "acbd9d21",
   "metadata": {},
   "outputs": [
    {
     "data": {
      "text/plain": [
       "(numpy.ndarray, numpy.ndarray)"
      ]
     },
     "execution_count": 6,
     "metadata": {},
     "output_type": "execute_result"
    }
   ],
   "source": [
    "# Load dataset\n",
    "(x_train, y_train), (x_test, y_test) = tf.keras.datasets.boston_housing.load_data()\n",
    "\n",
    "type(x_train), type(y_train)"
   ]
  },
  {
   "cell_type": "markdown",
   "id": "273d06f8",
   "metadata": {},
   "source": [
    "<a name=\"5\"> </a>\n",
    "## <font color='blue'> 5. Model </font>\n",
    "\n",
    "We will define a simple model to demonstrate the use of callbacks later."
   ]
  },
  {
   "cell_type": "code",
   "execution_count": 8,
   "id": "f8343a77",
   "metadata": {},
   "outputs": [],
   "source": [
    "# build and compile a model\n",
    "def build_compile_model():\n",
    "    # Build a Sequential model\n",
    "    model = models.Sequential([\n",
    "        layers.Dense(64, activation='relu', input_shape=(x_train.shape[1],)),  # 13 features in input\n",
    "        layers.Dense(32, activation='relu'),\n",
    "        layers.Dense(1)  # Output layer for regression (single continuous value)\n",
    "    ])\n",
    "    \n",
    "    # Compile\n",
    "    model.compile(optimizer='adam', loss='mean_squared_error', metrics=['mae'])\n",
    "    \n",
    "    return model\n"
   ]
  },
  {
   "cell_type": "markdown",
   "id": "1a8e628e",
   "metadata": {},
   "source": [
    "<a name=\"6\"> </a>\n",
    "## <font color='blue'> 6. Built-in Callbacks </font>\n",
    "\n",
    "<a name=\"6.1\"> </a>\n",
    "### <font color='#2874a6'> 6.1. [TensorBoard](https://keras.io/api/callbacks/tensorboard/) </font>\n",
    "\n",
    "Enable visualizations for TensorBoard."
   ]
  },
  {
   "cell_type": "code",
   "execution_count": 11,
   "id": "82c0a7bd",
   "metadata": {},
   "outputs": [],
   "source": [
    "!rm -rf logs"
   ]
  },
  {
   "cell_type": "code",
   "execution_count": 14,
   "id": "ff014eeb",
   "metadata": {},
   "outputs": [],
   "source": [
    "logdir = os.path.join(\"logs\", datetime.datetime.now().strftime(\"%Y%m%d-%H%M%S\"))\n",
    "tensorboard_callback = tf.keras.callbacks.TensorBoard(logdir)"
   ]
  },
  {
   "cell_type": "code",
   "execution_count": 18,
   "id": "93cd5f15",
   "metadata": {},
   "outputs": [],
   "source": [
    "model_1 = build_compile_model()\n",
    "\n",
    "history_1 = model_1.fit(x_train,\n",
    "          y_train,\n",
    "          epochs=50, \n",
    "          verbose=0,\n",
    "          validation_data=(x_test, y_test), \n",
    "          callbacks=[tensorboard_callback])"
   ]
  },
  {
   "cell_type": "code",
   "execution_count": 19,
   "id": "c04542ba",
   "metadata": {},
   "outputs": [
    {
     "data": {
      "image/png": "[encoded data removed]",
      "text/plain": [
       "<Figure size 640x480 with 1 Axes>"
      ]
     },
     "metadata": {},
     "output_type": "display_data"
    }
   ],
   "source": [
    "plot_history(history_1)"
   ]
  },
  {
   "cell_type": "markdown",
   "id": "04baaf20",
   "metadata": {},
   "source": [
    "We can launch TensorBoard with:\n",
    "\n",
    "- %tensorboard --logdir logs\n",
    "\n",
    "or, from the command line:\n",
    "\n",
    "- Navigate to the log directory:\n",
    "    - cd path/to/logs (   in this example)\n",
    "    \n",
    "    \n",
    "- Execute:\n",
    "    - tensorboard --logdir /path/to/logs --port 8080\n",
    "    \n",
    "    \n",
    "- Open the URL provided in the browser (e.g. http://localhost:8080).\n",
    "\n",
    "\n",
    "After doing that, we will see something like this:\n",
    "\n",
    "<br>\n",
    "\n",
    "<img src=\"images/tb1.png\" width=\"400\"/>\n"
   ]
  },
  {
   "cell_type": "markdown",
   "id": "7d0da350",
   "metadata": {},
   "source": [
    "<img src=\"images/tb3.png\" width=\"500\"/>"
   ]
  },
  {
   "cell_type": "markdown",
   "id": "b110384b",
   "metadata": {},
   "source": [
    "<a name=\"6.2\"> </a>\n",
    "### <font color='#2874a6'> 6.2. [ModelCheckpoint](https://keras.io/api/callbacks/model_checkpoint/) </font>\n",
    "\n",
    "Callback to save the Keras model or model weights at some frequency.\n",
    "\n",
    "ModelCheckpoint callback is used in conjunction with training using model.fit() to save a model or weights (in a checkpoint file) at some interval, so the model or weights can be loaded later to continue the training from the state saved.\n",
    "\n",
    "A few important options:\n",
    "\n",
    "- Whether to only keep the model that has achieved the \"best performance\" so far, or whether to save the model at the end of every epoch regardless of performance.\n",
    "\n",
    "- Definition of \"best\"; which quantity to monitor and whether it should be maximized or minimized.\n",
    "\n",
    "- The frequency it should save at. Currently, the callback supports saving at the end of every epoch, or after a fixed number of training batches.\n",
    "\n",
    "- Whether only weights are saved, or the whole model is saved."
   ]
  },
  {
   "cell_type": "markdown",
   "id": "7827fe23",
   "metadata": {},
   "source": [
    "### Basic example"
   ]
  },
  {
   "cell_type": "code",
   "execution_count": 29,
   "id": "da71f17f",
   "metadata": {},
   "outputs": [
    {
     "name": "stdout",
     "output_type": "stream",
     "text": [
      "\n",
      "Epoch 1: saving model to weights.01-167.34.h5\n",
      "\n",
      "Epoch 2: saving model to weights.02-148.53.h5\n",
      "\n",
      "Epoch 3: saving model to weights.03-73.71.h5\n",
      "\n",
      "Epoch 4: saving model to weights.04-80.52.h5\n",
      "\n",
      "Epoch 5: saving model to weights.05-75.27.h5\n"
     ]
    },
    {
     "data": {
      "text/plain": [
       "<keras.src.callbacks.History at 0x7e9459b58520>"
      ]
     },
     "execution_count": 29,
     "metadata": {},
     "output_type": "execute_result"
    }
   ],
   "source": [
    "model_2 = build_compile_model()\n",
    "\n",
    "model_2.fit(x_train,\n",
    "          y_train,\n",
    "          epochs=5, \n",
    "          validation_data=(x_test, y_test), \n",
    "          verbose=0,\n",
    "          callbacks=[ModelCheckpoint('weights.{epoch:02d}-{val_loss:.2f}.h5', verbose=1),\n",
    "          ])"
   ]
  },
  {
   "cell_type": "markdown",
   "id": "3546ff22",
   "metadata": {},
   "source": [
    "In the previous example:\n",
    "\n",
    "- 'weights.{epoch:02d}-{val_loss:.2f}.h5' specifies the filename format for saving the model weights.\n",
    "\n",
    "    - {epoch:02d}: The epoch number, padded to two digits (e.g., 01, 02, etc.).\n",
    "    - {val_loss:.2f}: The validation loss, formatted to two decimal places.\n",
    "    - .h5: The file format for the saved model weights.\n",
    "\n",
    "- Example output filenames:\n",
    "    - weights.01-0.45.h5\n",
    "    - weights.02-0.43.h5\n",
    "\n",
    "- verbose=1: This setting tells the callback to print a message whenever it saves the model weights (e.g., \"Epoch 1: saving model...\")."
   ]
  },
  {
   "cell_type": "markdown",
   "id": "305cc74e",
   "metadata": {},
   "source": [
    "<img src=\"images/weights.png\"/>"
   ]
  },
  {
   "cell_type": "markdown",
   "id": "fdac9798",
   "metadata": {},
   "source": [
    "### Save only the best model"
   ]
  },
  {
   "cell_type": "code",
   "execution_count": 37,
   "id": "ee673efd",
   "metadata": {},
   "outputs": [
    {
     "data": {
      "text/plain": [
       "<keras.src.callbacks.History at 0x7e9454049330>"
      ]
     },
     "execution_count": 37,
     "metadata": {},
     "output_type": "execute_result"
    }
   ],
   "source": [
    "model_checkpoint_callback = ModelCheckpoint(\n",
    "    filepath='models/model.keras',\n",
    "    monitor='mae',\n",
    "    mode='min',\n",
    "    save_best_only=True) #it only saves when the model is considered the \"best\", according to the metric\n",
    "                            # specified\n",
    "\n",
    "model_3 = build_compile_model()\n",
    "\n",
    "model_3.fit(x_train,\n",
    "          y_train,\n",
    "          epochs=5, \n",
    "          validation_data=(x_test, y_test), \n",
    "          verbose=0,\n",
    "          callbacks=[model_checkpoint_callback,])"
   ]
  },
  {
   "cell_type": "code",
   "execution_count": 38,
   "id": "0d521b4b",
   "metadata": {},
   "outputs": [
    {
     "name": "stdout",
     "output_type": "stream",
     "text": [
      "model.keras\r\n"
     ]
    }
   ],
   "source": [
    "!ls models"
   ]
  },
  {
   "cell_type": "markdown",
   "id": "b96b983c",
   "metadata": {},
   "source": [
    "Now, we can resume the training with the best model so far."
   ]
  },
  {
   "cell_type": "code",
   "execution_count": 40,
   "id": "182a3ce6",
   "metadata": {},
   "outputs": [],
   "source": [
    "# load the model\n",
    "\n",
    "from tensorflow.keras.models import load_model\n",
    "\n",
    "model = load_model('models/model.keras')"
   ]
  },
  {
   "cell_type": "code",
   "execution_count": 41,
   "id": "e9aa232b",
   "metadata": {},
   "outputs": [
    {
     "name": "stdout",
     "output_type": "stream",
     "text": [
      "Epoch 1/5\n",
      "13/13 [==============================] - 1s 11ms/step - loss: 82.4574 - mae: 6.7899 - val_loss: 88.9657 - val_mae: 7.1649\n",
      "Epoch 2/5\n",
      "13/13 [==============================] - 0s 4ms/step - loss: 78.3465 - mae: 6.2896 - val_loss: 83.3492 - val_mae: 6.8469\n",
      "Epoch 3/5\n",
      "13/13 [==============================] - 0s 4ms/step - loss: 73.9817 - mae: 6.0651 - val_loss: 81.8693 - val_mae: 6.7522\n",
      "Epoch 4/5\n",
      "13/13 [==============================] - 0s 4ms/step - loss: 72.2758 - mae: 5.9015 - val_loss: 80.4070 - val_mae: 6.7192\n",
      "Epoch 5/5\n",
      "13/13 [==============================] - 0s 4ms/step - loss: 76.1036 - mae: 6.1308 - val_loss: 79.0496 - val_mae: 6.6323\n"
     ]
    },
    {
     "data": {
      "text/plain": [
       "<keras.src.callbacks.History at 0x7e944fb7de10>"
      ]
     },
     "execution_count": 41,
     "metadata": {},
     "output_type": "execute_result"
    }
   ],
   "source": [
    "# resume training\n",
    "model.fit(x_train, y_train, epochs=5, validation_data=(x_test, y_test))"
   ]
  },
  {
   "cell_type": "markdown",
   "id": "d195afb6",
   "metadata": {},
   "source": [
    "<a name=\"6.3\"> </a>\n",
    "### <font color='#2874a6'> 6.3. [EarlyStopping](https://keras.io/api/callbacks/early_stopping/) </font>\n",
    "\n",
    "Stop training when a monitored metric has stopped improving.\n",
    "\n",
    "Is a technique used to prevent overfitting."
   ]
  },
  {
   "cell_type": "code",
   "execution_count": 56,
   "id": "8c268b91",
   "metadata": {},
   "outputs": [],
   "source": [
    "# a model that has likely overfit.\n",
    "def build_compile_model_2():\n",
    "    # Build a Sequential model\n",
    "    model = models.Sequential([\n",
    "        layers.Dense(256, activation='relu', input_shape=(x_train.shape[1],)),\n",
    "        layers.Dense(128, activation='relu'),\n",
    "        layers.Dense(1)\n",
    "    ])\n",
    "    \n",
    "    # Compile\n",
    "    model.compile(optimizer='adam', loss='mean_squared_error', metrics=['mae'])\n",
    "    \n",
    "    return model\n",
    "\n",
    "\n",
    "\n",
    "model_4 = build_compile_model_2()\n",
    "\n",
    "history_4 = model_4.fit(x_train,\n",
    "          y_train,\n",
    "          epochs=200, \n",
    "          verbose=0,\n",
    "          validation_data=(x_test, y_test))"
   ]
  },
  {
   "cell_type": "code",
   "execution_count": 57,
   "id": "c1d47cc4",
   "metadata": {},
   "outputs": [
    {
     "data": {
      "image/png": "[encoded data removed]",
      "text/plain": [
       "<Figure size 640x480 with 1 Axes>"
      ]
     },
     "metadata": {},
     "output_type": "display_data"
    }
   ],
   "source": [
    "plot_history(history_4)"
   ]
  },
  {
   "cell_type": "markdown",
   "id": "131d8712",
   "metadata": {},
   "source": [
    "We can see that train_loss keeps improving, but val_loss remains essentially the same after a certain epoch, indicating overfitting. To address this problem, we will use early stopping."
   ]
  },
  {
   "cell_type": "code",
   "execution_count": 58,
   "id": "3f577aa1",
   "metadata": {},
   "outputs": [
    {
     "name": "stdout",
     "output_type": "stream",
     "text": [
      "Restoring model weights from the end of the best epoch: 135.\n",
      "Epoch 155: early stopping\n"
     ]
    }
   ],
   "source": [
    "model_5 = build_compile_model_2()\n",
    "\n",
    "history_5 = model_5.fit(x_train,\n",
    "          y_train,\n",
    "          epochs=200, \n",
    "          verbose=0,\n",
    "          validation_data=(x_test, y_test), \n",
    "          callbacks=[EarlyStopping(\n",
    "              patience=20,\n",
    "              mode='min',\n",
    "              monitor='mae',\n",
    "              restore_best_weights=True,\n",
    "              verbose=1)\n",
    "          ])"
   ]
  },
  {
   "cell_type": "code",
   "execution_count": 59,
   "id": "cf0c8a91",
   "metadata": {},
   "outputs": [
    {
     "data": {
      "image/png": "[encoded data removed]",
      "text/plain": [
       "<Figure size 640x480 with 1 Axes>"
      ]
     },
     "metadata": {},
     "output_type": "display_data"
    }
   ],
   "source": [
    "plot_history(history_5)"
   ]
  },
  {
   "cell_type": "markdown",
   "id": "0a612b6d",
   "metadata": {},
   "source": [
    "<a name=\"6.4\"> </a>\n",
    "### <font color='#2874a6'> 6.4. [CSVLogger](https://keras.io/api/callbacks/csv_logger/) </font>\n",
    "\n",
    "Callback that streams epoch results to a CSV file."
   ]
  },
  {
   "cell_type": "code",
   "execution_count": 69,
   "id": "ad65acea",
   "metadata": {},
   "outputs": [
    {
     "name": "stdout",
     "output_type": "stream",
     "text": [
      "Epoch 1/5\n",
      "13/13 [==============================] - 1s 11ms/step - loss: 609.0625 - mae: 20.0688 - val_loss: 114.1128 - val_mae: 7.9899\n",
      "Epoch 2/5\n",
      "13/13 [==============================] - 0s 4ms/step - loss: 153.0893 - mae: 8.9472 - val_loss: 125.0509 - val_mae: 9.1971\n",
      "Epoch 3/5\n",
      "13/13 [==============================] - 0s 4ms/step - loss: 99.6982 - mae: 7.1387 - val_loss: 73.3321 - val_mae: 6.3033\n",
      "Epoch 4/5\n",
      "13/13 [==============================] - 0s 3ms/step - loss: 76.4988 - mae: 6.4595 - val_loss: 66.5354 - val_mae: 6.2386\n",
      "Epoch 5/5\n",
      "13/13 [==============================] - 0s 4ms/step - loss: 73.6290 - mae: 6.0481 - val_loss: 65.7098 - val_mae: 6.3835\n"
     ]
    },
    {
     "data": {
      "text/plain": [
       "<keras.src.callbacks.History at 0x7e944dd5c100>"
      ]
     },
     "execution_count": 69,
     "metadata": {},
     "output_type": "execute_result"
    }
   ],
   "source": [
    "csv_file = 'training.csv'\n",
    "\n",
    "model_6 = build_compile_model()\n",
    "\n",
    "model_6.fit(x_train, \n",
    "          y_train,\n",
    "          epochs=5, \n",
    "          validation_data=(x_test, y_test), \n",
    "          callbacks=[CSVLogger(csv_file)\n",
    "          ])"
   ]
  },
  {
   "cell_type": "code",
   "execution_count": 70,
   "id": "71ede829",
   "metadata": {},
   "outputs": [
    {
     "data": {
      "text/html": [
       "<div>\n",
       "<style scoped>\n",
       "    .dataframe tbody tr th:only-of-type {\n",
       "        vertical-align: middle;\n",
       "    }\n",
       "\n",
       "    .dataframe tbody tr th {\n",
       "        vertical-align: top;\n",
       "    }\n",
       "\n",
       "    .dataframe thead th {\n",
       "        text-align: right;\n",
       "    }\n",
       "</style>\n",
       "<table border=\"1\" class=\"dataframe\">\n",
       "  <thead>\n",
       "    <tr style=\"text-align: right;\">\n",
       "      <th></th>\n",
       "      <th>epoch</th>\n",
       "      <th>loss</th>\n",
       "      <th>mae</th>\n",
       "      <th>val_loss</th>\n",
       "      <th>val_mae</th>\n",
       "    </tr>\n",
       "  </thead>\n",
       "  <tbody>\n",
       "    <tr>\n",
       "      <th>0</th>\n",
       "      <td>0</td>\n",
       "      <td>609.062500</td>\n",
       "      <td>20.068777</td>\n",
       "      <td>114.112785</td>\n",
       "      <td>7.989886</td>\n",
       "    </tr>\n",
       "    <tr>\n",
       "      <th>1</th>\n",
       "      <td>1</td>\n",
       "      <td>153.089310</td>\n",
       "      <td>8.947190</td>\n",
       "      <td>125.050896</td>\n",
       "      <td>9.197085</td>\n",
       "    </tr>\n",
       "    <tr>\n",
       "      <th>2</th>\n",
       "      <td>2</td>\n",
       "      <td>99.698242</td>\n",
       "      <td>7.138662</td>\n",
       "      <td>73.332130</td>\n",
       "      <td>6.303286</td>\n",
       "    </tr>\n",
       "    <tr>\n",
       "      <th>3</th>\n",
       "      <td>3</td>\n",
       "      <td>76.498795</td>\n",
       "      <td>6.459521</td>\n",
       "      <td>66.535431</td>\n",
       "      <td>6.238593</td>\n",
       "    </tr>\n",
       "    <tr>\n",
       "      <th>4</th>\n",
       "      <td>4</td>\n",
       "      <td>73.629044</td>\n",
       "      <td>6.048109</td>\n",
       "      <td>65.709793</td>\n",
       "      <td>6.383531</td>\n",
       "    </tr>\n",
       "  </tbody>\n",
       "</table>\n",
       "</div>"
      ],
      "text/plain": [
       "   epoch        loss        mae    val_loss   val_mae\n",
       "0      0  609.062500  20.068777  114.112785  7.989886\n",
       "1      1  153.089310   8.947190  125.050896  9.197085\n",
       "2      2   99.698242   7.138662   73.332130  6.303286\n",
       "3      3   76.498795   6.459521   66.535431  6.238593\n",
       "4      4   73.629044   6.048109   65.709793  6.383531"
      ]
     },
     "execution_count": 70,
     "metadata": {},
     "output_type": "execute_result"
    }
   ],
   "source": [
    "pd.read_csv(csv_file).head()"
   ]
  },
  {
   "cell_type": "markdown",
   "id": "447e6901",
   "metadata": {},
   "source": [
    "<a name=\"6.5\"> </a>\n",
    "### <font color='#2874a6'> 6.5. [LearningRateScheduler](https://keras.io/api/callbacks/learning_rate_scheduler/) </font>\n",
    "\n",
    "At the beginning of every epoch, this callback gets the updated learning rate value from schedule function provided at `__init__`, with the current epoch and current learning rate, and applies the updated learning rate on the optimizer."
   ]
  },
  {
   "cell_type": "code",
   "execution_count": 71,
   "id": "c5ebcb85",
   "metadata": {},
   "outputs": [
    {
     "name": "stdout",
     "output_type": "stream",
     "text": [
      "\n",
      "Epoch 1: LearningRateScheduler setting learning rate to 0.005.\n",
      "Epoch 1/5\n",
      "13/13 [==============================] - 1s 11ms/step - loss: 653.2048 - mae: 19.4462 - val_loss: 169.3789 - val_mae: 11.5986 - lr: 0.0050\n",
      "\n",
      "Epoch 2: LearningRateScheduler setting learning rate to 0.0025.\n",
      "Epoch 2/5\n",
      "13/13 [==============================] - 0s 4ms/step - loss: 109.7638 - mae: 7.7836 - val_loss: 94.2806 - val_mae: 7.5267 - lr: 0.0025\n",
      "\n",
      "Epoch 3: LearningRateScheduler setting learning rate to 0.00125.\n",
      "Epoch 3/5\n",
      "13/13 [==============================] - 0s 5ms/step - loss: 75.9270 - mae: 6.3810 - val_loss: 79.2914 - val_mae: 6.3231 - lr: 0.0012\n",
      "\n",
      "Epoch 4: LearningRateScheduler setting learning rate to 0.000625.\n",
      "Epoch 4/5\n",
      "13/13 [==============================] - 0s 4ms/step - loss: 63.0368 - mae: 5.5482 - val_loss: 70.6670 - val_mae: 6.3127 - lr: 6.2500e-04\n",
      "\n",
      "Epoch 5: LearningRateScheduler setting learning rate to 0.0003125.\n",
      "Epoch 5/5\n",
      "13/13 [==============================] - 0s 4ms/step - loss: 61.0127 - mae: 5.7461 - val_loss: 68.3973 - val_mae: 6.1879 - lr: 3.1250e-04\n"
     ]
    },
    {
     "data": {
      "text/plain": [
       "<keras.src.callbacks.History at 0x7e9465962650>"
      ]
     },
     "execution_count": 71,
     "metadata": {},
     "output_type": "execute_result"
    }
   ],
   "source": [
    "def step_decay(epoch):\n",
    "    \"\"\"\n",
    "    Implements step decay learning rate schedule.\n",
    "\n",
    "    Parameters:\n",
    "    epoch (int): The current training epoch.\n",
    "\n",
    "    Returns:\n",
    "    float: The updated learning rate based on step decay.\n",
    "    \"\"\"\n",
    "    \n",
    "    initial_lr = 0.01  # Initial learning rate\n",
    "    drop = 0.5  # Factor by which the learning rate decreases\n",
    "    epochs_drop = 1  # Number of epochs after which the learning rate drops\n",
    "\n",
    "    # Compute the new learning rate:\n",
    "    # - `math.floor((1+epoch)/epochs_drop)`: Calculates how many times the drop should be applied\n",
    "    # - `math.pow(drop, ...)`: Applies the drop factor\n",
    "    lr = initial_lr * math.pow(drop, math.floor((1 + epoch) / epochs_drop))\n",
    "\n",
    "    return lr  # Return the adjusted learning rate\n",
    "\n",
    "\n",
    "\n",
    "lr_scheduler = LearningRateScheduler(step_decay, verbose=1)\n",
    "\n",
    "\n",
    "model_7 = build_compile_model()\n",
    "\n",
    "\n",
    "\n",
    "model_7.fit(x_train,\n",
    "          y_train,\n",
    "          epochs=5, \n",
    "          validation_data=(x_test, y_test), \n",
    "          callbacks=[lr_scheduler,\n",
    "                    TensorBoard(log_dir='./log_dir')])"
   ]
  },
  {
   "cell_type": "markdown",
   "id": "62e94bb9",
   "metadata": {},
   "source": [
    "<a name=\"6.6\"> </a>\n",
    "### <font color='#2874a6'> 6.6. [ReduceLROnPlateau](https://keras.io/api/callbacks/reduce_lr_on_plateau/) </font>\n",
    "\n",
    "Reduce learning rate when a metric has stopped improving."
   ]
  },
  {
   "cell_type": "code",
   "execution_count": 79,
   "id": "33961a88",
   "metadata": {
    "scrolled": true
   },
   "outputs": [
    {
     "name": "stdout",
     "output_type": "stream",
     "text": [
      "Epoch 1/5\n",
      "13/13 - 1s - loss: 6156.4536 - mae: 62.5782 - val_loss: 134.1384 - val_mae: 8.1418 - lr: 0.0010 - 744ms/epoch - 57ms/step\n",
      "Epoch 2/5\n",
      "13/13 - 0s - loss: 444.6784 - mae: 18.2704 - val_loss: 487.3578 - val_mae: 19.2790 - lr: 0.0010 - 41ms/epoch - 3ms/step\n",
      "Epoch 3/5\n",
      "13/13 - 0s - loss: 199.9634 - mae: 11.6683 - val_loss: 83.8700 - val_mae: 6.6094 - lr: 0.0010 - 45ms/epoch - 3ms/step\n",
      "Epoch 4/5\n",
      "13/13 - 0s - loss: 109.6271 - mae: 7.1106 - val_loss: 92.6744 - val_mae: 6.9231 - lr: 0.0010 - 50ms/epoch - 4ms/step\n",
      "Epoch 5/5\n",
      "13/13 - 0s - loss: 81.7958 - mae: 6.4070 - val_loss: 75.7478 - val_mae: 6.5476 - lr: 0.0010 - 44ms/epoch - 3ms/step\n"
     ]
    },
    {
     "data": {
      "text/plain": [
       "<keras.src.callbacks.History at 0x7e9446933d60>"
      ]
     },
     "execution_count": 79,
     "metadata": {},
     "output_type": "execute_result"
    }
   ],
   "source": [
    "# callback\n",
    "reduce_lr_callback = ReduceLROnPlateau(\n",
    "    monitor='val_mae',  # Monitor validation MAE\n",
    "    factor=0.2,         # Reduce learning rate by 20% when triggered\n",
    "    verbose=1,          # Print a message when the learning rate is reduced\n",
    "    patience=1,         # Wait for 1 epoch before reducing the learning rate if no improvement\n",
    "    min_lr=0.001        # Lower bound for the learning rate\n",
    ")\n",
    "\n",
    "\n",
    "model_8 = build_compile_model()\n",
    "\n",
    "model_8.fit(x_train,\n",
    "            y_train,\n",
    "            epochs=5, \n",
    "            verbose=2,\n",
    "            validation_data=(x_test, y_test), \n",
    "            callbacks = [reduce_lr_callback,\n",
    "                         TensorBoard(log_dir='./log_dir')])"
   ]
  },
  {
   "cell_type": "markdown",
   "id": "d9264d1c",
   "metadata": {},
   "source": [
    "In this very simple example, it wasn't necessary."
   ]
  },
  {
   "cell_type": "markdown",
   "id": "0f590e2b",
   "metadata": {},
   "source": [
    "<a name=\"7\"> </a>\n",
    "## <font color='blue'> 7. Custom callbacks </font>\n",
    "\n",
    "A custom callback is a powerful tool to customize the behavior of a Keras model during training, evaluation, or inference."
   ]
  },
  {
   "cell_type": "markdown",
   "id": "0f566d8b",
   "metadata": {},
   "source": [
    "### **Common Methods for Training/Testing/Predictions**\n",
    "These methods are provided to be overridden for custom behavior during training, testing, and predicting:\n",
    "\n",
    "- **`on_(train|test|predict)_begin(self, logs=None)`**  \n",
    "  - Called at the beginning of `fit`, `evaluate`, or `predict`.\n",
    "\n",
    "- **`on_(train|test|predict)_end(self, logs=None)`**  \n",
    "  - Called at the end of `fit`, `evaluate`, or `predict`.\n",
    "\n",
    "- **`on_(train|test|predict)_batch_begin(self, batch, logs=None)`**  \n",
    "  - Called before processing each batch during training, testing, or predicting.  \n",
    "  - `logs`: Contains `batch` (current batch number) and `size` (batch size).\n",
    "\n",
    "- **`on_(train|test|predict)_batch_end(self, batch, logs=None)`**  \n",
    "  - Called after processing each batch during training, testing, or predicting.  \n",
    "  - `logs`: Contains the stateful metrics results.\n",
    "\n",
    "---\n",
    "\n",
    "### **Training-Specific Methods**\n",
    "These methods are provided specifically for training:\n",
    "\n",
    "- **`on_epoch_begin(self, epoch, logs=None)`**  \n",
    "  - Called at the beginning of each epoch during training.\n",
    "\n",
    "- **`on_epoch_end(self, epoch, logs=None)`**  \n",
    "  - Called at the end of each epoch during training.\n"
   ]
  },
  {
   "cell_type": "markdown",
   "id": "98f12f38",
   "metadata": {},
   "source": [
    "<a name=\"7.1\"> </a>\n",
    "### <font color='#2874a6'> 7.1. Simple Custom Callback </font>\n",
    "\n",
    "Let's define a simple custom callback to track the start and end of every batch of data. During those calls, it prints the index of the current batch."
   ]
  },
  {
   "cell_type": "code",
   "execution_count": 80,
   "id": "6f308228",
   "metadata": {},
   "outputs": [],
   "source": [
    "class MyCustomCallback(tf.keras.callbacks.Callback):\n",
    "\n",
    "    def on_train_batch_begin(self, batch, logs=None):\n",
    "        print('Training: batch {} begins at {}'.format(batch, datetime.datetime.now().time()))\n",
    "\n",
    "    def on_train_batch_end(self, batch, logs=None):\n",
    "        print('Training: batch {} ends at {}'.format(batch, datetime.datetime.now().time()))"
   ]
  },
  {
   "cell_type": "code",
   "execution_count": 88,
   "id": "ea7de1fd",
   "metadata": {},
   "outputs": [
    {
     "name": "stdout",
     "output_type": "stream",
     "text": [
      "Training: batch 0 begins at 16:51:29.269130\n",
      "Training: batch 0 ends at 16:51:29.711019\n",
      "Training: batch 1 begins at 16:51:29.711525\n",
      "Training: batch 1 ends at 16:51:29.712607\n",
      "Training: batch 2 begins at 16:51:29.712793\n",
      "Training: batch 2 ends at 16:51:29.713606\n",
      "Training: batch 3 begins at 16:51:29.713776\n",
      "Training: batch 3 ends at 16:51:29.714580\n",
      "Training: batch 4 begins at 16:51:29.714745\n",
      "Training: batch 4 ends at 16:51:29.715604\n",
      "Training: batch 0 begins at 16:51:29.828727\n",
      "Training: batch 0 ends at 16:51:29.829791\n",
      "Training: batch 1 begins at 16:51:29.829990\n",
      "Training: batch 1 ends at 16:51:29.830813\n",
      "Training: batch 2 begins at 16:51:29.830998\n",
      "Training: batch 2 ends at 16:51:29.831745\n",
      "Training: batch 3 begins at 16:51:29.831928\n",
      "Training: batch 3 ends at 16:51:29.832707\n",
      "Training: batch 4 begins at 16:51:29.832878\n",
      "Training: batch 4 ends at 16:51:29.833637\n",
      "Training: batch 0 begins at 16:51:29.853701\n",
      "Training: batch 0 ends at 16:51:29.854681\n",
      "Training: batch 1 begins at 16:51:29.854855\n",
      "Training: batch 1 ends at 16:51:29.855600\n",
      "Training: batch 2 begins at 16:51:29.855764\n",
      "Training: batch 2 ends at 16:51:29.856518\n",
      "Training: batch 3 begins at 16:51:29.856682\n",
      "Training: batch 3 ends at 16:51:29.857465\n",
      "Training: batch 4 begins at 16:51:29.857628\n",
      "Training: batch 4 ends at 16:51:29.858342\n"
     ]
    }
   ],
   "source": [
    "model_9 = build_compile_model()\n",
    "\n",
    "_ = model_9.fit(x_train, \n",
    "              y_train,\n",
    "              batch_size=64,\n",
    "              epochs=3,\n",
    "              steps_per_epoch=5,\n",
    "              verbose=0,\n",
    "              validation_data=(x_test, y_test),\n",
    "              callbacks=[MyCustomCallback()])"
   ]
  },
  {
   "cell_type": "markdown",
   "id": "e5944535",
   "metadata": {},
   "source": [
    "<a name=\"7.2\"> </a>\n",
    "### <font color='#2874a6'> 7.2. Detect overfitting </font>"
   ]
  },
  {
   "cell_type": "code",
   "execution_count": 97,
   "id": "e6587107",
   "metadata": {},
   "outputs": [],
   "source": [
    "class DetectOverfittingCallback(tf.keras.callbacks.Callback):\n",
    "    def __init__(self, threshold=0.7):  # Default threshold set to 0.9 for detecting overfitting\n",
    "        super(DetectOverfittingCallback, self).__init__()\n",
    "        self.threshold = threshold  # Store the threshold for detecting overfitting\n",
    "\n",
    "    def on_epoch_end(self, epoch, logs=None):\n",
    "        # Calculate the ratio of validation MAE to training MAE at the end of each epoch\n",
    "        ratio = logs[\"val_mae\"] / logs[\"mae\"]\n",
    "        \n",
    "        # Print the epoch and the ratio of validation to training loss (MAE)\n",
    "        print(\"Epoch: {}, Val/Train loss ratio: {:.2f}\".format(epoch, ratio))\n",
    "\n",
    "        # If the ratio exceeds the threshold, consider it as overfitting and stop training\n",
    "        if ratio > self.threshold:\n",
    "            print(\"Stopping training...\")  # Indicate that training is being stopped\n",
    "            self.model.stop_training = True  # Stop the training process\n"
   ]
  },
  {
   "cell_type": "code",
   "execution_count": 98,
   "id": "4d8608d4",
   "metadata": {},
   "outputs": [
    {
     "name": "stdout",
     "output_type": "stream",
     "text": [
      "Epoch: 0, Val/Train loss ratio: 0.55\n",
      "Epoch: 1, Val/Train loss ratio: 0.78\n",
      "Stopping training...\n"
     ]
    }
   ],
   "source": [
    "model_10 = build_compile_model()\n",
    "\n",
    "_ = model_10.fit(x_train, \n",
    "              y_train,\n",
    "              batch_size=64,\n",
    "              epochs=3,\n",
    "              steps_per_epoch=5,\n",
    "              verbose=0,\n",
    "              validation_data=(x_test, y_test),\n",
    "              callbacks=[DetectOverfittingCallback()])"
   ]
  },
  {
   "cell_type": "markdown",
   "id": "12017579",
   "metadata": {},
   "source": [
    "<a name=\"7.3\"> </a>\n",
    "### <font color='#2874a6'> 7.3. Visualize predictions </font>\n",
    "\n",
    "For this example we will use an image dataset."
   ]
  },
  {
   "cell_type": "code",
   "execution_count": 4,
   "id": "3b46e441",
   "metadata": {},
   "outputs": [],
   "source": [
    "# Load example MNIST data and pre-process it\n",
    "(x_train, y_train), (x_test, y_test) = tf.keras.datasets.mnist.load_data()\n",
    "x_train = x_train.reshape(60000, 784).astype('float32') / 255\n",
    "x_test = x_test.reshape(10000, 784).astype('float32') / 255"
   ]
  },
  {
   "cell_type": "code",
   "execution_count": 6,
   "id": "d9382db0",
   "metadata": {},
   "outputs": [],
   "source": [
    "GIF_PATH = './animation.gif'"
   ]
  },
  {
   "cell_type": "code",
   "execution_count": 19,
   "id": "b04341f0",
   "metadata": {},
   "outputs": [],
   "source": [
    "# Define a custom callback for visualizing model predictions during training\n",
    "class VisCallback(tf.keras.callbacks.Callback):\n",
    "    \"\"\"\n",
    "    A custom callback for visualizing model predictions on a random sample of data \n",
    "    after each epoch and saving the results as a GIF.\n",
    "\n",
    "    Attributes:\n",
    "    - inputs (numpy.array): Input data for testing the model.\n",
    "    - ground_truth (numpy.array): True labels for the input data.\n",
    "    - display_freq (int): Frequency (in epochs) at which to display the images.\n",
    "    - n_samples (int): Number of samples to visualize in each epoch.\n",
    "    \"\"\"\n",
    "    \n",
    "    def __init__(self, inputs, ground_truth, display_freq=10, n_samples=10):\n",
    "        \"\"\"\n",
    "        Initializes the VisCallback with the provided parameters.\n",
    "\n",
    "        Parameters:\n",
    "        - inputs (numpy.array): The input data for model predictions.\n",
    "        - ground_truth (numpy.array): The actual labels corresponding to the input data.\n",
    "        - display_freq (int, optional): How frequently (in epochs) to display the visualizations. Default is 10.\n",
    "        - n_samples (int, optional): The number of random samples to display in each epoch. Default is 10.\n",
    "        \"\"\"\n",
    "        self.inputs = inputs\n",
    "        self.ground_truth = ground_truth\n",
    "        self.images = []  # List to store the generated images for the GIF\n",
    "        self.display_freq = display_freq  # Frequency of displaying the results\n",
    "        self.n_samples = n_samples  # Number of random samples to visualize\n",
    "\n",
    "    def on_epoch_end(self, epoch, logs=None):\n",
    "        \"\"\"\n",
    "        Called at the end of each epoch. Randomly samples data, makes predictions, \n",
    "        visualizes the results, and saves the images for later use.\n",
    "\n",
    "        Parameters:\n",
    "        - epoch (int): The current epoch number.\n",
    "        - logs (dict, optional): A dictionary containing logs from the current epoch.\n",
    "        \"\"\"\n",
    "        \n",
    "        # Randomly sample data from the inputs and ground_truth\n",
    "        indexes = np.random.choice(len(self.inputs), size=self.n_samples)\n",
    "        X_test, y_test = self.inputs[indexes], self.ground_truth[indexes]\n",
    "        \n",
    "        # Make predictions using the trained model\n",
    "        predictions = np.argmax(self.model.predict(X_test), axis=1)\n",
    "\n",
    "        # Plot and display the digits along with the predictions and ground truth\n",
    "        display_digits(X_test, predictions, y_test, epoch, n=self.n_samples)\n",
    "\n",
    "        # Save the generated figure to an in-memory buffer\n",
    "        buf = io.BytesIO()  # Create an in-memory binary stream buffer\n",
    "        plt.savefig(buf, format='png')  # Save the current plot as a PNG to the buffer\n",
    "        buf.seek(0)  # Rewind the buffer to the beginning\n",
    "        image = Image.open(buf)  # Open the image from the buffer\n",
    "        self.images.append(np.array(image))  # Append the image to the list for GIF creation\n",
    "\n",
    "        # Display the plot every 'display_freq' epochs\n",
    "        if epoch % self.display_freq == 0:\n",
    "            plt.show()\n",
    "\n",
    "    def on_train_end(self, logs=None):\n",
    "        \"\"\"\n",
    "        Called at the end of training. Saves all the collected images as a GIF.\n",
    "\n",
    "        Parameters:\n",
    "        - logs (dict, optional): A dictionary containing logs from the final training epoch.\n",
    "        \"\"\"\n",
    "        # Save the list of images as a GIF with 1 frame per second\n",
    "        imageio.mimsave(GIF_PATH, self.images, fps=1)\n"
   ]
  },
  {
   "cell_type": "code",
   "execution_count": 20,
   "id": "9a18bcc0",
   "metadata": {},
   "outputs": [],
   "source": [
    "def build_compile_image_model():\n",
    "    model = tf.keras.Sequential()\n",
    "    model.add(tf.keras.layers.Dense(32, activation='linear', input_dim=784))\n",
    "    model.add(tf.keras.layers.Dense(10, activation='softmax'))\n",
    "    model.compile(optimizer=tf.keras.optimizers.RMSprop(learning_rate=1e-4), \n",
    "                  loss='sparse_categorical_crossentropy', \n",
    "                  metrics=['accuracy'])\n",
    "    return model"
   ]
  },
  {
   "cell_type": "markdown",
   "id": "8fdac153",
   "metadata": {},
   "source": [
    "<a name=\"references\"> </a>\n",
    "## <font color='blue'> 8. References </font>\n",
    "\n",
    "[TensorFlow Advanced Techniques Specialization](https://www.coursera.org/specializations/tensorflow-advanced-techniques)\n",
    "\n",
    "[Keras Documentation](https://keras.io/api/)"
   ]
  }
 ],
 "metadata": {
  "kernelspec": {
   "display_name": "Python 3 (ipykernel)",
   "language": "python",
   "name": "python3"
  },
  "language_info": {
   "codemirror_mode": {
    "name": "ipython",
    "version": 3
   },
   "file_extension": ".py",
   "mimetype": "text/x-python",
   "name": "python",
   "nbconvert_exporter": "python",
   "pygments_lexer": "ipython3",
   "version": "3.10.12"
  }
 },
 "nbformat": 4,
 "nbformat_minor": 5
}
