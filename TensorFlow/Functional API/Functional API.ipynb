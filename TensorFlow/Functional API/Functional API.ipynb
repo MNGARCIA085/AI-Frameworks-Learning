{
 "cells": [
  {
   "cell_type": "markdown",
   "id": "c8def56f",
   "metadata": {},
   "source": [
    "# <font color='#154360'> <center> FUNCTIONAL API </center> </font>"
   ]
  },
  {
   "cell_type": "markdown",
   "id": "b7fe0b86",
   "metadata": {},
   "source": [
    "TABLKE OF CONTENTS..."
   ]
  },
  {
   "cell_type": "markdown",
   "id": "ff614588",
   "metadata": {},
   "source": [
    "<a name=\"1\"></a>\n",
    "## <font color='blue'> 1. Introduction </font>\n",
    "\n",
    "This notebook demonstrates how to use the Keras Functional API to build neural networks. Through a few simple examples, we will explore how it provides more flexibility than the Sequential API, allowing for multiple inputs, multiple outputs, and shared layers."
   ]
  },
  {
   "cell_type": "markdown",
   "id": "cf08f108",
   "metadata": {},
   "source": [
    "<a name=\"2\"></a>\n",
    "## <font color='blue'> Setup </font>"
   ]
  },
  {
   "cell_type": "code",
   "execution_count": 94,
   "id": "b7606e04",
   "metadata": {},
   "outputs": [],
   "source": [
    "import tensorflow as tf\n",
    "import numpy as np\n",
    "import matplotlib.pyplot as plt\n",
    "import pandas as pd\n",
    "from tensorflow.keras.models import Model\n",
    "from tensorflow.keras.layers import Dense, Input\n",
    "from sklearn.model_selection import train_test_split\n",
    "from tensorflow.keras.utils import plot_model\n",
    "from tensorflow.keras.models import Sequential\n",
    "import random"
   ]
  },
  {
   "cell_type": "code",
   "execution_count": 95,
   "id": "1e73c7c0",
   "metadata": {},
   "outputs": [],
   "source": [
    "# Set seed for Python’s built-in random module\n",
    "random.seed(42)\n",
    "\n",
    "# Set seed for NumPy\n",
    "np.random.seed(42)\n",
    "\n",
    "# Set seed for TensorFlow\n",
    "tf.random.set_seed(42)"
   ]
  },
  {
   "cell_type": "markdown",
   "id": "ce43a99a",
   "metadata": {},
   "source": [
    "<a name=\"fds\"></a>\n",
    "## <font color='blue'> 3. Basic example </font>\n",
    "\n",
    "We will write a simple Sequential model and then rewrite it using the Functional API."
   ]
  },
  {
   "cell_type": "markdown",
   "id": "2264b8c0",
   "metadata": {},
   "source": [
    "### Sequential model"
   ]
  },
  {
   "cell_type": "code",
   "execution_count": 91,
   "id": "64beb501",
   "metadata": {},
   "outputs": [
    {
     "name": "stdout",
     "output_type": "stream",
     "text": [
      "Model: \"sequential_5\"\n",
      "_________________________________________________________________\n",
      " Layer (type)                Output Shape              Param #   \n",
      "=================================================================\n",
      " dense_33 (Dense)            (None, 128)               768       \n",
      "                                                                 \n",
      " dense_34 (Dense)            (None, 64)                8256      \n",
      "                                                                 \n",
      " dense_35 (Dense)            (None, 1)                 65        \n",
      "                                                                 \n",
      "=================================================================\n",
      "Total params: 9089 (35.50 KB)\n",
      "Trainable params: 9089 (35.50 KB)\n",
      "Non-trainable params: 0 (0.00 Byte)\n",
      "_________________________________________________________________\n"
     ]
    }
   ],
   "source": [
    "# Using Sequential API\n",
    "def sequential_api_model():\n",
    "    model = Sequential([\n",
    "        Input(shape=(5,)),  # Input layer with 5 features\n",
    "        Dense(128, activation='relu'),\n",
    "        Dense(64, activation='relu'),\n",
    "        Dense(1, activation='sigmoid')  # Output layer\n",
    "    ])\n",
    "\n",
    "    # Compile the model\n",
    "    model.compile(optimizer='adam', loss='binary_crossentropy', metrics=['accuracy'])\n",
    "    \n",
    "    return model\n",
    "\n",
    "# instanciate\n",
    "seq_model = sequential_api_model()\n",
    "\n",
    "\n",
    "# Print summary\n",
    "seq_model.summary()"
   ]
  },
  {
   "cell_type": "markdown",
   "id": "33cb1c44",
   "metadata": {},
   "source": [
    "### Functional API"
   ]
  },
  {
   "cell_type": "code",
   "execution_count": 88,
   "id": "a075df83",
   "metadata": {},
   "outputs": [
    {
     "name": "stdout",
     "output_type": "stream",
     "text": [
      "Model: \"model_5\"\n",
      "_________________________________________________________________\n",
      " Layer (type)                Output Shape              Param #   \n",
      "=================================================================\n",
      " input_9 (InputLayer)        [(None, 5)]               0         \n",
      "                                                                 \n",
      " dense_24 (Dense)            (None, 128)               768       \n",
      "                                                                 \n",
      " dense_25 (Dense)            (None, 64)                8256      \n",
      "                                                                 \n",
      " dense_26 (Dense)            (None, 1)                 65        \n",
      "                                                                 \n",
      "=================================================================\n",
      "Total params: 9089 (35.50 KB)\n",
      "Trainable params: 9089 (35.50 KB)\n",
      "Non-trainable params: 0 (0.00 Byte)\n",
      "_________________________________________________________________\n"
     ]
    }
   ],
   "source": [
    "# Using Functional API\n",
    "def functional_api_model():\n",
    "    input_layer = Input(shape=(5,))\n",
    "    x = Dense(128, activation='relu')(input_layer)\n",
    "    x = Dense(64, activation='relu')(x)\n",
    "    output_layer = Dense(1, activation='sigmoid')(x)\n",
    "\n",
    "    model = Model(inputs=input_layer, outputs=output_layer)\n",
    "\n",
    "    # Compile the model\n",
    "    model.compile(optimizer='adam', loss='binary_crossentropy', metrics=['accuracy'])\n",
    "    \n",
    "    return model\n",
    "\n",
    "# instanciate\n",
    "func_model = functional_api_model()\n",
    "\n",
    "# Print summary\n",
    "func_model.summary()"
   ]
  },
  {
   "cell_type": "markdown",
   "id": "c867c55b",
   "metadata": {},
   "source": [
    "Note that with the Functional API the `summary` method also prints the input layer."
   ]
  },
  {
   "cell_type": "markdown",
   "id": "5dc871ff",
   "metadata": {},
   "source": [
    "<a name=\"fds\"></a>\n",
    "## <font color='blue'> 4. Multi-output model </font>"
   ]
  },
  {
   "cell_type": "markdown",
   "id": "fe0be580",
   "metadata": {},
   "source": [
    "### <font color='#1f618d'> Helper Functions </font>"
   ]
  },
  {
   "cell_type": "code",
   "execution_count": 60,
   "id": "67b27082",
   "metadata": {},
   "outputs": [],
   "source": [
    "# plot history\n",
    "def plot_history(history):\n",
    "    # Plot training & validation loss values\n",
    "    plt.figure(figsize=(12, 5))\n",
    "\n",
    "   \n",
    "\n",
    "    # Plot RMSE values\n",
    "    plt.figure(figsize=(12, 5))\n",
    "\n",
    "    plt.subplot(1, 2, 1)\n",
    "    plt.plot(history.history['y1_output_root_mean_squared_error'], label='Train y1 RMSE')\n",
    "    plt.plot(history.history['val_y1_output_root_mean_squared_error'], label='Val y1 RMSE')\n",
    "    plt.xlabel('Epochs')\n",
    "    plt.ylabel('RMSE')\n",
    "    plt.legend()\n",
    "    plt.title('y1 RMSE')\n",
    "\n",
    "    plt.subplot(1, 2, 2)\n",
    "    plt.plot(history.history['y2_output_root_mean_squared_error'], label='Train y2 RMSE')\n",
    "    plt.plot(history.history['val_y2_output_root_mean_squared_error'], label='Val y2 RMSE')\n",
    "    plt.xlabel('Epochs')\n",
    "    plt.ylabel('RMSE')\n",
    "    plt.legend()\n",
    "    plt.title('y2 RMSE')\n",
    "\n",
    "    plt.show()"
   ]
  },
  {
   "cell_type": "markdown",
   "id": "a801689d",
   "metadata": {},
   "source": [
    "### <font color='#1f618d'> Data </font>\n",
    "\n",
    "We will create synthetic data.\n",
    "\n",
    "The data will have:\n",
    "- 5 features\n",
    "- 2 targets"
   ]
  },
  {
   "cell_type": "code",
   "execution_count": 36,
   "id": "5a1ce733",
   "metadata": {},
   "outputs": [
    {
     "name": "stdout",
     "output_type": "stream",
     "text": [
      "X_train shape: (80, 5)\n",
      "X_test shape: (20, 5)\n",
      "y1_train shape: (80,)\n",
      "y1_test shape: (20,)\n",
      "y2_train shape: (80,)\n",
      "y2_test shape: (20,)\n"
     ]
    }
   ],
   "source": [
    "# Generate features and two target variables\n",
    "X = np.random.rand(100, 5)\n",
    "\n",
    "# Generate two target variables for each sample\n",
    "y1 = X[:, 0] * 3 + X[:, 1] * 2 + X[:, 2] * 0.5 + np.random.normal(0, 0.1, 100)  # A random function of X\n",
    "y2 = X[:, 3] * 4 + X[:, 4] * 1.5 + np.random.normal(0, 0.1, 100)  # Another random function of X\n",
    "\n",
    "# Create a DataFrame for features\n",
    "data = pd.DataFrame(X, columns=['X1', 'X2', 'X3', 'X4', 'X5'])\n",
    "data['y1'] = y1\n",
    "data['y2'] = y2\n",
    "\n",
    "# Split the features and targets and convert to numpy arrays\n",
    "X_features = data[['X1', 'X2', 'X3', 'X4', 'X5']].values  # Convert to numpy array\n",
    "y1_target = data['y1'].values  # Convert to numpy array\n",
    "y2_target = data['y2'].values  # Convert to numpy array\n",
    "\n",
    "# Train/test split (80% train, 20% test)\n",
    "X_train, X_test, y1_train, y1_test, y2_train, y2_test = train_test_split(X_features, \n",
    "                                                                          y1_target, \n",
    "                                                                          y2_target, \n",
    "                                                                          test_size=0.2, \n",
    "                                                                          random_state=42)\n",
    "\n",
    "# Verify the split\n",
    "print(\"X_train shape:\", X_train.shape)\n",
    "print(\"X_test shape:\", X_test.shape)\n",
    "print(\"y1_train shape:\", y1_train.shape)\n",
    "print(\"y1_test shape:\", y1_test.shape)\n",
    "print(\"y2_train shape:\", y2_train.shape)\n",
    "print(\"y2_test shape:\", y2_test.shape)\n"
   ]
  },
  {
   "cell_type": "markdown",
   "id": "e22bb08d",
   "metadata": {},
   "source": [
    "### <font color='#1f618d'> Build, compile, train and evaluate the model </font>\n",
    "\n",
    "We will build the following model:\n",
    "\n",
    "\n",
    "<img src=\"images/multiple_outputs.png\"/>"
   ]
  },
  {
   "cell_type": "markdown",
   "id": "b3b4e959",
   "metadata": {},
   "source": [
    "### Build"
   ]
  },
  {
   "cell_type": "code",
   "execution_count": 66,
   "id": "b385a594",
   "metadata": {},
   "outputs": [
    {
     "name": "stdout",
     "output_type": "stream",
     "text": [
      "Model: \"model_3\"\n",
      "__________________________________________________________________________________________________\n",
      " Layer (type)                Output Shape                 Param #   Connected to                  \n",
      "==================================================================================================\n",
      " input_4 (InputLayer)        [(None, 5)]                  0         []                            \n",
      "                                                                                                  \n",
      " dense_9 (Dense)             (None, 128)                  768       ['input_4[0][0]']             \n",
      "                                                                                                  \n",
      " dense_10 (Dense)            (None, 128)                  16512     ['dense_9[0][0]']             \n",
      "                                                                                                  \n",
      " dense_11 (Dense)            (None, 64)                   8256      ['dense_10[0][0]']            \n",
      "                                                                                                  \n",
      " y1_output (Dense)           (None, 1)                    129       ['dense_10[0][0]']            \n",
      "                                                                                                  \n",
      " y2_output (Dense)           (None, 1)                    65        ['dense_11[0][0]']            \n",
      "                                                                                                  \n",
      "==================================================================================================\n",
      "Total params: 25730 (100.51 KB)\n",
      "Trainable params: 25730 (100.51 KB)\n",
      "Non-trainable params: 0 (0.00 Byte)\n",
      "__________________________________________________________________________________________________\n"
     ]
    }
   ],
   "source": [
    "# Build model\n",
    "def build_model(input_shape):\n",
    "    # Define model layers.\n",
    "    input_layer = Input(shape=(input_shape,))\n",
    "    first_dense = Dense(units='128', activation='relu')(input_layer)\n",
    "    second_dense = Dense(units='128', activation='relu')(first_dense)\n",
    "\n",
    "    # Y1 output will be fed directly from the second dense\n",
    "    y1_output = Dense(units='1', name='y1_output')(second_dense)\n",
    "    third_dense = Dense(units='64', activation='relu')(second_dense)\n",
    "\n",
    "    # Y2 output will come via the third dense\n",
    "    y2_output = Dense(units='1', name='y2_output')(third_dense)\n",
    "\n",
    "    # Define the model with the input layer and a list of output layers\n",
    "    model = Model(inputs=input_layer, outputs=[y1_output, y2_output])\n",
    "    \n",
    "    return model\n",
    "\n",
    "model = build_model(X_train.shape[1])\n",
    "\n",
    "model.summary()"
   ]
  },
  {
   "cell_type": "code",
   "execution_count": 67,
   "id": "48b1217b",
   "metadata": {},
   "outputs": [
    {
     "data": {
      "image/png": "[encoded data removed]",
      "text/plain": [
       "<IPython.core.display.Image object>"
      ]
     },
     "execution_count": 67,
     "metadata": {},
     "output_type": "execute_result"
    }
   ],
   "source": [
    "# plot the model\n",
    "plot_model(model, to_file=\"model.png\", show_shapes=True, show_layer_names=True)"
   ]
  },
  {
   "cell_type": "markdown",
   "id": "2cc0e3b1",
   "metadata": {},
   "source": [
    "### Compile"
   ]
  },
  {
   "cell_type": "code",
   "execution_count": 68,
   "id": "e28a2304",
   "metadata": {},
   "outputs": [],
   "source": [
    "# Specify the optimizer, and compile the model with loss functions for both outputs\n",
    "optimizer = tf.keras.optimizers.SGD(learning_rate = 0.001)\n",
    "\n",
    "model.compile(optimizer=optimizer,\n",
    "              loss={'y1_output': 'mse', 'y2_output': 'mse'},\n",
    "              metrics={'y1_output': tf.keras.metrics.RootMeanSquaredError(),\n",
    "                       'y2_output': tf.keras.metrics.RootMeanSquaredError()})"
   ]
  },
  {
   "cell_type": "markdown",
   "id": "45846fbc",
   "metadata": {},
   "source": [
    "### Train"
   ]
  },
  {
   "cell_type": "code",
   "execution_count": 69,
   "id": "04c30019",
   "metadata": {},
   "outputs": [],
   "source": [
    "history = model.fit(X_train, {'y1_output': y1_train, 'y2_output': y2_train}, \n",
    "                    epochs=100, batch_size=32, \n",
    "                    verbose=0,\n",
    "                    validation_data=(X_test, {'y1_output': y1_test, 'y2_output': y2_test}))"
   ]
  },
  {
   "cell_type": "code",
   "execution_count": 70,
   "id": "380d8d62",
   "metadata": {},
   "outputs": [
    {
     "name": "stdout",
     "output_type": "stream",
     "text": [
      "dict_keys(['loss', 'y1_output_loss', 'y2_output_loss', 'y1_output_root_mean_squared_error', 'y2_output_root_mean_squared_error', 'val_loss', 'val_y1_output_loss', 'val_y2_output_loss', 'val_y1_output_root_mean_squared_error', 'val_y2_output_root_mean_squared_error'])\n"
     ]
    }
   ],
   "source": [
    "# keys in history\n",
    "print(history.history.keys())"
   ]
  },
  {
   "cell_type": "code",
   "execution_count": 71,
   "id": "839126ba",
   "metadata": {},
   "outputs": [
    {
     "name": "stdout",
     "output_type": "stream",
     "text": [
      "Last Training Loss: 1.2763093709945679\n",
      "Last Validation Loss: 1.0364199876785278\n",
      "Last y1 Loss: 0.5005489587783813\n",
      "Last y2 Loss: 0.7757604718208313\n",
      "Last y1 RMSE: 0.707494854927063\n",
      "Last y2 RMSE: 0.8807726502418518\n"
     ]
    }
   ],
   "source": [
    "# last values in history\n",
    "\n",
    "last_loss = history.history['loss'][-1]  # Last training loss\n",
    "last_val_loss = history.history['val_loss'][-1]  # Last validation loss\n",
    "\n",
    "last_y1_loss = history.history['y1_output_loss'][-1]  # Last y1 training loss\n",
    "last_y2_loss = history.history['y2_output_loss'][-1]  # Last y2 training loss\n",
    "\n",
    "last_y1_rmse = history.history['y1_output_root_mean_squared_error'][-1]  # Last y1 RMSE\n",
    "last_y2_rmse = history.history['y2_output_root_mean_squared_error'][-1]  # Last y2 RMSE\n",
    "\n",
    "print(\"Last Training Loss:\", last_loss)\n",
    "print(\"Last Validation Loss:\", last_val_loss)\n",
    "print(\"Last y1 Loss:\", last_y1_loss)\n",
    "print(\"Last y2 Loss:\", last_y2_loss)\n",
    "print(\"Last y1 RMSE:\", last_y1_rmse)\n",
    "print(\"Last y2 RMSE:\", last_y2_rmse)\n"
   ]
  },
  {
   "cell_type": "code",
   "execution_count": 72,
   "id": "25f5e70d",
   "metadata": {},
   "outputs": [
    {
     "data": {
      "text/plain": [
       "<Figure size 1200x500 with 0 Axes>"
      ]
     },
     "metadata": {},
     "output_type": "display_data"
    },
    {
     "data": {
      "image/png": "[encoded data removed]",
      "text/plain": [
       "<Figure size 1200x500 with 2 Axes>"
      ]
     },
     "metadata": {},
     "output_type": "display_data"
    }
   ],
   "source": [
    "# Plot history\n",
    "plot_history(history)"
   ]
  },
  {
   "cell_type": "markdown",
   "id": "0d6b9bcd",
   "metadata": {},
   "source": [
    "### Evaluate"
   ]
  },
  {
   "cell_type": "code",
   "execution_count": 73,
   "id": "2c7ed1a5",
   "metadata": {},
   "outputs": [
    {
     "name": "stdout",
     "output_type": "stream",
     "text": [
      "1/1 [==============================] - 0s 21ms/step - loss: 1.0364 - y1_output_loss: 0.3568 - y2_output_loss: 0.6796 - y1_output_root_mean_squared_error: 0.5974 - y2_output_root_mean_squared_error: 0.8244\n",
      "Test Loss: 1.0364199876785278\n",
      "Y1 Output Loss: 0.3568285405635834\n",
      "Y2 Output Loss: 0.6795914769172668\n",
      "Y1 MAE: 0.5973512530326843\n",
      "Y2 MAE: 0.8243733644485474\n"
     ]
    }
   ],
   "source": [
    "# Evaluate the model on the test data\n",
    "loss, y1_loss, y2_loss, y1_mae, y2_mae = model.evaluate(X_test, \n",
    "                                                          {'y1_output': y1_test, 'y2_output': y2_test})\n",
    "\n",
    "# Print the results\n",
    "print(f\"Test Loss: {loss}\")\n",
    "print(f\"Y1 Output Loss: {y1_loss}\")\n",
    "print(f\"Y2 Output Loss: {y2_loss}\")\n",
    "print(f\"Y1 MAE: {y1_mae}\")\n",
    "print(f\"Y2 MAE: {y2_mae}\")"
   ]
  },
  {
   "cell_type": "markdown",
   "id": "d7fbd94e",
   "metadata": {},
   "source": [
    "### <font color='#1f618d'> Making predictions </font>"
   ]
  },
  {
   "cell_type": "code",
   "execution_count": 80,
   "id": "aa0b7d0b",
   "metadata": {},
   "outputs": [
    {
     "name": "stdout",
     "output_type": "stream",
     "text": [
      "1/1 [==============================] - 0s 15ms/step\n",
      "Predicted Y1 for single sample: [[2.7449756]]\n",
      "Predicted Y2 for single sample: [[3.1618426]]\n"
     ]
    }
   ],
   "source": [
    "# Predicting for a single sample (make sure the input is 2D even for one sample)\n",
    "single_sample = X_test[0].reshape(1, -1)  # Reshape to (1, input_shape)\n",
    "\n",
    "# Make a prediction for the single sample\n",
    "y1_single_pred, y2_single_pred = model.predict(single_sample)\n",
    "\n",
    "# Print the predictions for y1 and y2\n",
    "print(\"Predicted Y1 for single sample:\", y1_single_pred)\n",
    "print(\"Predicted Y2 for single sample:\", y2_single_pred)\n"
   ]
  },
  {
   "cell_type": "code",
   "execution_count": 81,
   "id": "1beeeea8",
   "metadata": {},
   "outputs": [
    {
     "name": "stdout",
     "output_type": "stream",
     "text": [
      "1/1 [==============================] - 0s 16ms/step\n"
     ]
    },
    {
     "data": {
      "text/plain": [
       "[array([[2.7449758],\n",
       "        [3.1461146],\n",
       "        [2.8424618]], dtype=float32),\n",
       " array([[3.1618423],\n",
       "        [2.591908 ],\n",
       "        [2.1284838]], dtype=float32)]"
      ]
     },
     "execution_count": 81,
     "metadata": {},
     "output_type": "execute_result"
    }
   ],
   "source": [
    "# batch\n",
    "model.predict(X_test[:3])"
   ]
  },
  {
   "cell_type": "markdown",
   "id": "a6fe0090",
   "metadata": {},
   "source": [
    "<a name=\"5\"></a>\n",
    "## <font color='blue'> 5. Siamese network </font>"
   ]
  },
  {
   "cell_type": "code",
   "execution_count": null,
   "id": "b3a229b8",
   "metadata": {},
   "outputs": [],
   "source": []
  },
  {
   "cell_type": "code",
   "execution_count": null,
   "id": "96b5d943",
   "metadata": {},
   "outputs": [],
   "source": []
  }
 ],
 "metadata": {
  "kernelspec": {
   "display_name": "Python 3 (ipykernel)",
   "language": "python",
   "name": "python3"
  },
  "language_info": {
   "codemirror_mode": {
    "name": "ipython",
    "version": 3
   },
   "file_extension": ".py",
   "mimetype": "text/x-python",
   "name": "python",
   "nbconvert_exporter": "python",
   "pygments_lexer": "ipython3",
   "version": "3.10.12"
  }
 },
 "nbformat": 4,
 "nbformat_minor": 5
}
