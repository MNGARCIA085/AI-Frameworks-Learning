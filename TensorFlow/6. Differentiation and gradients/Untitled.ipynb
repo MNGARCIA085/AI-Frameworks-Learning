{
 "cells": [
  {
   "cell_type": "code",
   "execution_count": null,
   "id": "c5c57d59",
   "metadata": {},
   "outputs": [],
   "source": []
  },
  {
   "cell_type": "code",
   "execution_count": null,
   "id": "4cb23a75",
   "metadata": {},
   "outputs": [],
   "source": []
  },
  {
   "cell_type": "code",
   "execution_count": 2,
   "id": "2ebf880a",
   "metadata": {},
   "outputs": [
    {
     "name": "stderr",
     "output_type": "stream",
     "text": [
      "2025-03-11 16:12:10.758193: E external/local_xla/xla/stream_executor/cuda/cuda_dnn.cc:9261] Unable to register cuDNN factory: Attempting to register factory for plugin cuDNN when one has already been registered\n",
      "2025-03-11 16:12:10.758526: E external/local_xla/xla/stream_executor/cuda/cuda_fft.cc:607] Unable to register cuFFT factory: Attempting to register factory for plugin cuFFT when one has already been registered\n",
      "2025-03-11 16:12:10.925901: E external/local_xla/xla/stream_executor/cuda/cuda_blas.cc:1515] Unable to register cuBLAS factory: Attempting to register factory for plugin cuBLAS when one has already been registered\n",
      "2025-03-11 16:12:11.260254: I tensorflow/core/platform/cpu_feature_guard.cc:182] This TensorFlow binary is optimized to use available CPU instructions in performance-critical operations.\n",
      "To enable the following instructions: AVX2 FMA, in other operations, rebuild TensorFlow with the appropriate compiler flags.\n",
      "2025-03-11 16:12:13.454629: W tensorflow/compiler/tf2tensorrt/utils/py_utils.cc:38] TF-TRT Warning: Could not find TensorRT\n"
     ]
    }
   ],
   "source": [
    "# seetup\n",
    "import tensorflow as tf"
   ]
  },
  {
   "cell_type": "code",
   "execution_count": null,
   "id": "b4f3a944",
   "metadata": {},
   "outputs": [],
   "source": []
  },
  {
   "cell_type": "code",
   "execution_count": null,
   "id": "5e04ae3b",
   "metadata": {},
   "outputs": [],
   "source": []
  },
  {
   "cell_type": "markdown",
   "id": "ccaa26b4",
   "metadata": {},
   "source": [
    "For example, consider the function y = x * x. The gradient at x = 3.0 can be computed as:"
   ]
  },
  {
   "cell_type": "code",
   "execution_count": 21,
   "id": "bf073068",
   "metadata": {},
   "outputs": [
    {
     "name": "stdout",
     "output_type": "stream",
     "text": [
      "tf.Tensor(6.0, shape=(), dtype=float32)\n"
     ]
    }
   ],
   "source": [
    "x = tf.constant(3.0)\n",
    "with tf.GradientTape() as g:\n",
    "  g.watch(x)\n",
    "  y = x * x\n",
    "dy_dx = g.gradient(y, x)\n",
    "print(dy_dx)"
   ]
  },
  {
   "cell_type": "markdown",
   "id": "acc57479",
   "metadata": {},
   "source": [
    " nested gradient\n",
    "\n",
    "derivadas de orden superior\n",
    "\n"
   ]
  },
  {
   "cell_type": "code",
   "execution_count": 22,
   "id": "361831b7",
   "metadata": {},
   "outputs": [
    {
     "name": "stdout",
     "output_type": "stream",
     "text": [
      "tf.Tensor(10.0, shape=(), dtype=float32)\n",
      "tf.Tensor(2.0, shape=(), dtype=float32)\n"
     ]
    }
   ],
   "source": [
    "x = tf.constant(5.0)\n",
    "with tf.GradientTape() as g:\n",
    "  g.watch(x)\n",
    "  with tf.GradientTape() as gg:\n",
    "    gg.watch(x)\n",
    "    y = x * x\n",
    "  dy_dx = gg.gradient(y, x)  # dy_dx = 2 * x\n",
    "d2y_dx2 = g.gradient(dy_dx, x)  # d2y_dx2 = 2\n",
    "print(dy_dx)\n",
    "\n",
    "print(d2y_dx2)"
   ]
  },
  {
   "cell_type": "code",
   "execution_count": null,
   "id": "9c88afa3",
   "metadata": {},
   "outputs": [],
   "source": []
  },
  {
   "cell_type": "code",
   "execution_count": null,
   "id": "9e1e0424",
   "metadata": {},
   "outputs": [],
   "source": []
  },
  {
   "cell_type": "code",
   "execution_count": null,
   "id": "c88828cc",
   "metadata": {},
   "outputs": [],
   "source": []
  },
  {
   "cell_type": "markdown",
   "id": "dc114d54",
   "metadata": {},
   "source": [
    "By default, the resources held by a GradientTape are released as soon as GradientTape.gradient() method is called. To compute multiple gradients over the same computation, create a persistent gradient tape. This allows multiple calls to the gradient() method as resources are released when the tape object is garbage collected.\n",
    "\n",
    "\n",
    "let's see what happens if we do not use persis=true:\n",
    "\n"
   ]
  },
  {
   "cell_type": "code",
   "execution_count": 35,
   "id": "f4d86e50",
   "metadata": {},
   "outputs": [
    {
     "name": "stdout",
     "output_type": "stream",
     "text": [
      "tf.Tensor(108.0, shape=(), dtype=float32)\n"
     ]
    },
    {
     "ename": "RuntimeError",
     "evalue": "A non-persistent GradientTape can only be used to compute one set of gradients (or jacobians)",
     "output_type": "error",
     "traceback": [
      "\u001b[0;31m---------------------------------------------------------------------------\u001b[0m",
      "\u001b[0;31mRuntimeError\u001b[0m                              Traceback (most recent call last)",
      "Cell \u001b[0;32mIn [35], line 9\u001b[0m\n\u001b[1;32m      6\u001b[0m dz_dx \u001b[38;5;241m=\u001b[39m g\u001b[38;5;241m.\u001b[39mgradient(z, x)  \u001b[38;5;66;03m# (4*x^3 at x = 3)\u001b[39;00m\n\u001b[1;32m      7\u001b[0m \u001b[38;5;28mprint\u001b[39m(dz_dx)\n\u001b[0;32m----> 9\u001b[0m dy_dx \u001b[38;5;241m=\u001b[39m \u001b[43mg\u001b[49m\u001b[38;5;241;43m.\u001b[39;49m\u001b[43mgradient\u001b[49m\u001b[43m(\u001b[49m\u001b[43my\u001b[49m\u001b[43m,\u001b[49m\u001b[43m \u001b[49m\u001b[43mx\u001b[49m\u001b[43m)\u001b[49m\n\u001b[1;32m     10\u001b[0m \u001b[38;5;28mprint\u001b[39m(dy_dx)\n",
      "File \u001b[0;32m~/.local/lib/python3.10/site-packages/tensorflow/python/eager/backprop.py:1005\u001b[0m, in \u001b[0;36mGradientTape.gradient\u001b[0;34m(self, target, sources, output_gradients, unconnected_gradients)\u001b[0m\n\u001b[1;32m    965\u001b[0m \u001b[38;5;250m\u001b[39m\u001b[38;5;124;03m\"\"\"Computes the gradient using operations recorded in context of this tape.\u001b[39;00m\n\u001b[1;32m    966\u001b[0m \n\u001b[1;32m    967\u001b[0m \u001b[38;5;124;03mNote: Unless you set `persistent=True` a GradientTape can only be used to\u001b[39;00m\n\u001b[0;32m   (...)\u001b[0m\n\u001b[1;32m   1002\u001b[0m \u001b[38;5;124;03m   called with an unknown value.\u001b[39;00m\n\u001b[1;32m   1003\u001b[0m \u001b[38;5;124;03m\"\"\"\u001b[39;00m\n\u001b[1;32m   1004\u001b[0m \u001b[38;5;28;01mif\u001b[39;00m \u001b[38;5;28mself\u001b[39m\u001b[38;5;241m.\u001b[39m_tape \u001b[38;5;129;01mis\u001b[39;00m \u001b[38;5;28;01mNone\u001b[39;00m:\n\u001b[0;32m-> 1005\u001b[0m   \u001b[38;5;28;01mraise\u001b[39;00m \u001b[38;5;167;01mRuntimeError\u001b[39;00m(\u001b[38;5;124m\"\u001b[39m\u001b[38;5;124mA non-persistent GradientTape can only be used to \u001b[39m\u001b[38;5;124m\"\u001b[39m\n\u001b[1;32m   1006\u001b[0m                      \u001b[38;5;124m\"\u001b[39m\u001b[38;5;124mcompute one set of gradients (or jacobians)\u001b[39m\u001b[38;5;124m\"\u001b[39m)\n\u001b[1;32m   1007\u001b[0m \u001b[38;5;28;01mif\u001b[39;00m \u001b[38;5;28mself\u001b[39m\u001b[38;5;241m.\u001b[39m_recording:\n\u001b[1;32m   1008\u001b[0m   \u001b[38;5;28;01mif\u001b[39;00m \u001b[38;5;129;01mnot\u001b[39;00m \u001b[38;5;28mself\u001b[39m\u001b[38;5;241m.\u001b[39m_persistent:\n",
      "\u001b[0;31mRuntimeError\u001b[0m: A non-persistent GradientTape can only be used to compute one set of gradients (or jacobians)"
     ]
    }
   ],
   "source": [
    "x = tf.constant(3.0)\n",
    "with tf.GradientTape() as g:\n",
    "  g.watch(x)\n",
    "  y = x * x\n",
    "  z = y * y\n",
    "\n",
    "dz_dx = g.gradient(z, x)  # (4*x^3 at x = 3)\n",
    "print(dz_dx)\n",
    "\n",
    "dy_dx = g.gradient(y, x)\n",
    "print(dy_dx)"
   ]
  },
  {
   "cell_type": "markdown",
   "id": "64414978",
   "metadata": {},
   "source": [
    "The error means you're trying to compute gradients twice using the same GradientTape without setting persistent=True.\n",
    "\n",
    "Why?\n",
    "By default, tf.GradientTape is not persistent, meaning it automatically deletes its internal data after calling .gradient() once.\n",
    "If you need multiple gradient calculations, add persistent=True when creating th"
   ]
  },
  {
   "cell_type": "code",
   "execution_count": 34,
   "id": "2b81d224",
   "metadata": {},
   "outputs": [
    {
     "name": "stdout",
     "output_type": "stream",
     "text": [
      "tf.Tensor(108.0, shape=(), dtype=float32)\n",
      "tf.Tensor(6.0, shape=(), dtype=float32)\n"
     ]
    }
   ],
   "source": [
    "x = tf.constant(3.0)\n",
    "with tf.GradientTape(persistent=True) as g:\n",
    "  g.watch(x)\n",
    "  y = x * x\n",
    "  z = y * y\n",
    "dz_dx = g.gradient(z, x)  # (4*x^3 at x = 3)\n",
    "print(dz_dx)\n",
    "\n",
    "\n",
    "# now that is persistent we can reuse it\n",
    "dy_dx = g.gradient(y, x)\n",
    "print(dy_dx)"
   ]
  },
  {
   "cell_type": "code",
   "execution_count": 36,
   "id": "2927791f",
   "metadata": {},
   "outputs": [],
   "source": [
    "# drop referebce\n",
    "del g"
   ]
  },
  {
   "cell_type": "code",
   "execution_count": null,
   "id": "230000cd",
   "metadata": {},
   "outputs": [],
   "source": []
  },
  {
   "cell_type": "code",
   "execution_count": null,
   "id": "32d0486f",
   "metadata": {},
   "outputs": [],
   "source": []
  },
  {
   "cell_type": "code",
   "execution_count": null,
   "id": "a9475fb1",
   "metadata": {},
   "outputs": [],
   "source": []
  },
  {
   "cell_type": "code",
   "execution_count": null,
   "id": "e55aabc4",
   "metadata": {},
   "outputs": [],
   "source": []
  },
  {
   "cell_type": "markdown",
   "id": "9dda093e",
   "metadata": {},
   "source": [
    "Gradient tape for differentiation\n",
    "\n",
    "\n",
    "Let's explore how you can use [tf.GradientTape()](https://www.tensorflow.org/api_docs/python/tf/GradientTape) to do automatic differentiation."
   ]
  },
  {
   "cell_type": "markdown",
   "id": "3e2bcf18",
   "metadata": {},
   "source": [
    "Gradient Calculation: The goal is to compute the gradient of a scalar value (z = y^2) with respect to a tensor x.\n",
    "TensorFlow's GradientTape requires a scalar output to compute gradients. Since y = tf.reduce_sum(x) produces a scalar, this step ensures the function meets that requirement."
   ]
  },
  {
   "cell_type": "markdown",
   "id": "efd071e8",
   "metadata": {},
   "source": [
    "Since:\n",
    "\n",
    "- \\( y = \\text{tf.reduce_sum}(x) \\)  \n",
    "- \\( z = y^2 \\)  \n",
    "\n",
    "\n",
    "$$\n",
    "z = y^2\n",
    "$$\n",
    "\n",
    "\n",
    "\n",
    "By the chain rule:\n",
    "\n",
    "$$\n",
    "\\frac{\\partial z}{\\partial x_{ij}} = \\frac{\\partial z}{\\partial y} \\cdot \\frac{\\partial y}{\\partial x_{ij}}\n",
    "$$\n",
    "\n",
    "Where:\n",
    "\n",
    "- \\( \\frac{\\partial z}{\\partial y} = 2y \\)  \n",
    "- \\( \\frac{\\partial y}{\\partial x_{ij}} = 1 \\)  since y is the sum of elements in x\n",
    "\n",
    "So,\n",
    "\n",
    "$$\n",
    "\\frac{\\partial z}{\\partial x_{ij}} = 2y\n",
    "$$\n",
    "\n",
    "Since \\( y = \\text{tf.reduce_sum}(x) = 4 \\), each element in \\( dz\\_dx \\) will be 8.\n"
   ]
  },
  {
   "cell_type": "markdown",
   "id": "d28685bc",
   "metadata": {},
   "source": [
    "note that in the following example x is not a scalar, so we're gonna have to use reduce_sum to compute the gradient."
   ]
  },
  {
   "cell_type": "code",
   "execution_count": 33,
   "id": "752cb272",
   "metadata": {},
   "outputs": [
    {
     "name": "stdout",
     "output_type": "stream",
     "text": [
      "tf.Tensor(\n",
      "[[1. 1.]\n",
      " [1. 1.]], shape=(2, 2), dtype=float32) \n",
      "\n",
      "tf.Tensor(4.0, shape=(), dtype=float32) \n",
      "\n",
      "tf.Tensor(16.0, shape=(), dtype=float32) \n",
      "\n",
      "tf.Tensor(\n",
      "[[8. 8.]\n",
      " [8. 8.]], shape=(2, 2), dtype=float32)\n"
     ]
    }
   ],
   "source": [
    "# Define a 2x2 array of 1's\n",
    "x = tf.ones((2,2))\n",
    "\n",
    "print(x, '\\n')\n",
    "\n",
    "with tf.GradientTape() as t:\n",
    "    # Record the actions performed on tensor x with `watch`\n",
    "    t.watch(x) \n",
    "\n",
    "    # Define y as the sum of the elements in x\n",
    "    y =  tf.reduce_sum(x)\n",
    "    \n",
    "    #\n",
    "    \n",
    "    print(y, '\\n') # suma de los elementos de la matriz\n",
    "        # 4 pues suma todos los elementos de la matriz, que son 4 y son 1s\n",
    "\n",
    "    # Let z be the square of y\n",
    "    z = tf.square(y) # es y al cuadrado, 4**2\n",
    "    \n",
    "    # \n",
    "    print(z, '\\n')\n",
    "\n",
    "# Get the derivative of z wrt the original input tensor x\n",
    "dz_dx = t.gradient(z, x)\n",
    "\n",
    "# Print our result\n",
    "print(dz_dx)"
   ]
  },
  {
   "cell_type": "code",
   "execution_count": null,
   "id": "36952002",
   "metadata": {},
   "outputs": [],
   "source": []
  },
  {
   "cell_type": "code",
   "execution_count": null,
   "id": "fb93d730",
   "metadata": {},
   "outputs": [],
   "source": []
  },
  {
   "cell_type": "markdown",
   "id": "e1eb2eda",
   "metadata": {},
   "source": [
    "### Nested Gradient tapes\n",
    "Now let's try computing a higher order derivative by nesting the `GradientTapes:`\n",
    "\n",
    "Given:\n",
    "\n",
    "$$\n",
    "y = x^3\n",
    "$$\n",
    "\n",
    "### First Derivative\n",
    "Using the chain rule:\n",
    "\n",
    "$$\n",
    "\\frac{dy}{dx} = 3x^2\n",
    "$$\n",
    "\n",
    "### Second Derivative\n",
    "Differentiating again:\n",
    "\n",
    "$$\n",
    "\\frac{d^2y}{dx^2} = \\frac{d}{dx} (3x^2) = 6x\n",
    "$$\n",
    "\n",
    "At \\(x = 1\\):\n",
    "- $\\frac{dy}{dx} = 3$  \n",
    "- $\\frac{d^2y}{dx^2} = 6$\n",
    "\n"
   ]
  },
  {
   "cell_type": "code",
   "execution_count": 37,
   "id": "aa531226",
   "metadata": {},
   "outputs": [
    {
     "name": "stdout",
     "output_type": "stream",
     "text": [
      "tf.Tensor(3.0, shape=(), dtype=float32)\n",
      "tf.Tensor(6.0, shape=(), dtype=float32)\n"
     ]
    }
   ],
   "source": [
    "x = tf.Variable(1.0)\n",
    "\n",
    "with tf.GradientTape() as tape_2:\n",
    "    with tf.GradientTape() as tape_1:\n",
    "        y = x * x * x\n",
    "\n",
    "        dy_dx = tape_1.gradient(y, x)\n",
    "        \n",
    "        # this is acceptable\n",
    "        d2y_dx2 = tape_2.gradient(dy_dx, x)\n",
    "\n",
    "print(dy_dx)\n",
    "print(d2y_dx2)"
   ]
  },
  {
   "cell_type": "code",
   "execution_count": 38,
   "id": "a9517c4d",
   "metadata": {},
   "outputs": [],
   "source": [
    "#Avoid using - as a bullet point directly before LaTeX; Jupyter won't render it properly."
   ]
  },
  {
   "cell_type": "code",
   "execution_count": null,
   "id": "7d4aa0a8",
   "metadata": {},
   "outputs": [],
   "source": []
  },
  {
   "cell_type": "code",
   "execution_count": null,
   "id": "59e992f7",
   "metadata": {},
   "outputs": [],
   "source": []
  },
  {
   "cell_type": "code",
   "execution_count": null,
   "id": "e484bea7",
   "metadata": {},
   "outputs": [],
   "source": []
  },
  {
   "cell_type": "code",
   "execution_count": 41,
   "id": "cdd9499f",
   "metadata": {},
   "outputs": [],
   "source": [
    "def tf_gradient_tape(x):\n",
    "    \"\"\"\n",
    "    Args:\n",
    "        x (EagerTensor): a tensor.\n",
    "\n",
    "    Returns:\n",
    "        EagerTensor: Derivative of z with respect to the input tensor x.\n",
    "    \"\"\"\n",
    "    with tf.GradientTape() as t:\n",
    "        \n",
    "        # Record the actions performed on tensor x with `watch`\n",
    "        t.watch(x)   \n",
    "\n",
    "        # Define a polynomial of form 3x^3 - 2x^2 + x\n",
    "        y = 4 * x**3 + 7 * x**2 - x\n",
    "\n",
    "        # Obtain the sum of the elements in variable y\n",
    "        z = tf.reduce_sum(y)\n",
    "  \n",
    "    # Get the derivative of z with respect to the original input tensor x\n",
    "    dz_dx = t.gradient(z, x) # 12x**2 + 14*x - 1\n",
    "\n",
    "    \n",
    "    return dz_dx"
   ]
  },
  {
   "cell_type": "code",
   "execution_count": 43,
   "id": "c0f6458d",
   "metadata": {},
   "outputs": [
    {
     "data": {
      "text/plain": [
       "25.0"
      ]
     },
     "execution_count": 43,
     "metadata": {},
     "output_type": "execute_result"
    }
   ],
   "source": [
    "# Check your function\n",
    "tmp_x = tf.constant(1.0)\n",
    "dz_dx = tf_gradient_tape(tmp_x)\n",
    "result = dz_dx.numpy()\n",
    "result"
   ]
  },
  {
   "cell_type": "markdown",
   "id": "b6df0b49",
   "metadata": {},
   "source": [
    "Given:\n",
    "\n",
    "$$\n",
    "z = 5x^4 - 3x^3 + 2x^2 - 4x + 7\n",
    "$$\n",
    "\n",
    "The derivative is:\n",
    "\n",
    "$$\n",
    "\\frac{dz}{dx} = 20x^3 - 9x^2 + 4x - 4\n",
    "$$\n"
   ]
  },
  {
   "cell_type": "code",
   "execution_count": 47,
   "id": "c108874b",
   "metadata": {},
   "outputs": [],
   "source": [
    "import tensorflow as tf\n",
    "\n",
    "def tf_gradient_tape(x):\n",
    "    \"\"\"\n",
    "    Args:\n",
    "        x (EagerTensor): A tensor.\n",
    "\n",
    "    Returns:\n",
    "        EagerTensor: Derivative of z with respect to the input tensor x.\n",
    "    \"\"\"\n",
    "    with tf.GradientTape() as t:\n",
    "        \n",
    "        # Record the actions performed on tensor x with `watch`\n",
    "        t.watch(x)   \n",
    "\n",
    "        # Define a polynomial of form 5x^4 - 3x^3 + 2x^2 - 4x + 7\n",
    "        y = 5 * x**4 - 3 * x**3 + 2 * x**2 - 4 * x + 7\n",
    "\n",
    "        # Obtain the sum of the elements in variable y\n",
    "        z = tf.reduce_sum(y)\n",
    "  \n",
    "    # Get the derivative of z with respect to the original input tensor x\n",
    "    dz_dx = t.gradient(z, x)  # 20x^3 - 9x^2 + 4x - 4\n",
    "\n",
    "    return dz_dx\n"
   ]
  },
  {
   "cell_type": "code",
   "execution_count": 48,
   "id": "1d0ede4b",
   "metadata": {},
   "outputs": [
    {
     "data": {
      "text/plain": [
       "11.0"
      ]
     },
     "execution_count": 48,
     "metadata": {},
     "output_type": "execute_result"
    }
   ],
   "source": [
    "# Check your function\n",
    "tmp_x = tf.constant(1.0)\n",
    "dz_dx = tf_gradient_tape(tmp_x)\n",
    "result = dz_dx.numpy()\n",
    "result"
   ]
  },
  {
   "cell_type": "code",
   "execution_count": null,
   "id": "aafe093b",
   "metadata": {},
   "outputs": [],
   "source": []
  },
  {
   "cell_type": "code",
   "execution_count": null,
   "id": "41e2fc66",
   "metadata": {},
   "outputs": [],
   "source": []
  },
  {
   "cell_type": "code",
   "execution_count": 49,
   "id": "3d4c4fd8",
   "metadata": {},
   "outputs": [
    {
     "data": {
      "image/png": "[encoded data removed]",
      "text/plain": [
       "<Figure size 600x400 with 1 Axes>"
      ]
     },
     "metadata": {},
     "output_type": "display_data"
    }
   ],
   "source": [
    "import tensorflow as tf\n",
    "import numpy as np\n",
    "import matplotlib.pyplot as plt\n",
    "\n",
    "# Define x values\n",
    "x = tf.constant(np.linspace(-3, 3, 100), dtype=tf.float32)\n",
    "\n",
    "# Compute y = x^2 and its derivative\n",
    "with tf.GradientTape() as tape:\n",
    "    tape.watch(x)\n",
    "    y = x**2\n",
    "dy_dx = tape.gradient(y, x)\n",
    "\n",
    "# Plotting\n",
    "plt.figure(figsize=(6, 4))\n",
    "plt.plot(x, y, label='$y = x^2$', linewidth=2)\n",
    "plt.plot(x, dy_dx, label=\"$\\\\frac{dy}{dx} = 2x$\", linestyle='--', linewidth=2)\n",
    "plt.axhline(0, color='black', linewidth=0.5)\n",
    "plt.axvline(0, color='black', linewidth=0.5)\n",
    "plt.legend()\n",
    "plt.grid(True)\n",
    "plt.title(\"Function and Its Derivative\")\n",
    "plt.show()\n"
   ]
  },
  {
   "cell_type": "code",
   "execution_count": 50,
   "id": "0482d4ce",
   "metadata": {},
   "outputs": [
    {
     "data": {
      "text/plain": [
       "TensorShape([100])"
      ]
     },
     "execution_count": 50,
     "metadata": {},
     "output_type": "execute_result"
    }
   ],
   "source": [
    "x.shape"
   ]
  },
  {
   "cell_type": "code",
   "execution_count": null,
   "id": "b565180c",
   "metadata": {},
   "outputs": [],
   "source": []
  },
  {
   "cell_type": "code",
   "execution_count": null,
   "id": "a64014cd",
   "metadata": {},
   "outputs": [],
   "source": []
  },
  {
   "cell_type": "code",
   "execution_count": null,
   "id": "3f11110e",
   "metadata": {},
   "outputs": [],
   "source": []
  },
  {
   "cell_type": "markdown",
   "id": "f230bac2",
   "metadata": {},
   "source": [
    "When calculating derivatives using `tf.GradientTape`, the use of `tf.reduce_sum` is crucial when your loss function is a tensor with more than one element (i.e., a vector or a matrix). Let's break down why and when you need it:\n",
    "\n",
    "**Understanding the Jacobian and Gradient**\n",
    "\n",
    "* **Jacobian:** If your output (the loss) is a vector or matrix, the derivative with respect to your input will be a Jacobian matrix. This matrix contains the partial derivatives of each output element with respect to each input element.\n",
    "* **Gradient:** If your output (the loss) is a scalar, the derivative with respect to your input will be a gradient vector. This vector contains the partial derivatives of the scalar output with respect to each input element.\n",
    "\n",
    "**Why `tf.reduce_sum` is Necessary**\n",
    "\n",
    "`tf.GradientTape` is designed to compute the gradient of a *scalar* output with respect to the input variables. If your loss is a tensor (not a scalar), `tape.gradient` will return the Jacobian.\n",
    "\n",
    "Here's the problem: for most optimization tasks, you want a single scalar value representing the overall loss, so you can then take the gradient of that scalar to update your model's parameters.\n",
    "\n",
    "`tf.reduce_sum` helps you convert a tensor loss into a scalar loss by summing all its elements. This effectively aggregates the individual losses into a single value, allowing `tape.gradient` to compute the desired gradient vector.\n",
    "\n",
    "**When to Use `tf.reduce_sum`**\n",
    "\n",
    "1.  **Loss is a Tensor (Vector or Matrix):**\n",
    "    * If your loss function produces a tensor (e.g., when calculating mean squared error across multiple data points without a prior reduction), you **must** use `tf.reduce_sum` (or another reduction operation like `tf.reduce_mean`) to obtain a scalar loss.\n",
    "    * Example:\n",
    "        ```python\n",
    "        import tensorflow as tf\n",
    "\n",
    "        x = tf.Variable(tf.constant([[1.0, 2.0], [3.0, 4.0]]))\n",
    "        y = tf.constant([[2.0, 3.0], [4.0, 5.0]])\n",
    "\n",
    "        with tf.GradientTape() as tape:\n",
    "            loss = tf.square(x - y)  # loss is a tensor\n",
    "            scalar_loss = tf.reduce_sum(loss)  # reduce to a scalar\n",
    "\n",
    "        gradients = tape.gradient(scalar_loss, x)\n",
    "        print(gradients)\n",
    "        ```\n",
    "\n",
    "2.  **Loss is Already a Scalar:**\n",
    "    * If your loss function directly produces a scalar (e.g., some custom loss functions that already incorporate a reduction), you **do not** need to use `tf.reduce_sum`.\n",
    "    * Example:\n",
    "        ```python\n",
    "        import tensorflow as tf\n",
    "\n",
    "        x = tf.Variable(3.0)\n",
    "        y = tf.constant(5.0)\n",
    "\n",
    "        with tf.GradientTape() as tape:\n",
    "            loss = tf.square(x - y) #loss is already a scalar\n",
    "\n",
    "        gradients = tape.gradient(loss, x)\n",
    "        print(gradients)\n",
    "        ```\n",
    "\n",
    "3.  **When you want the Jacobian:**\n",
    "    * If you specifically need the Jacobian matrix (for advanced use cases like analyzing sensitivity or certain physics-based simulations), you can skip `tf.reduce_sum`. However, this is less common in standard neural network training.\n",
    "    * Example:\n",
    "        ```python\n",
    "        import tensorflow as tf\n",
    "\n",
    "        x = tf.Variable(tf.constant([[1.0, 2.0], [3.0, 4.0]]))\n",
    "        y = tf.constant([[2.0, 3.0], [4.0, 5.0]])\n",
    "\n",
    "        with tf.GradientTape() as tape:\n",
    "            loss = tf.square(x - y) #loss is a tensor\n",
    "\n",
    "        gradients = tape.jacobian(loss, x)\n",
    "        print(gradients)\n",
    "        ```\n",
    "\n",
    "**In summary:**\n",
    "\n",
    "* For typical neural network training with `tf.GradientTape`, use `tf.reduce_sum` (or `tf.reduce_mean`) to convert a tensor loss into a scalar loss before calculating gradients.\n",
    "* If your loss is already a scalar, you don't need to reduce it.\n",
    "* If you need the jacobian, then you do not reduce the tensor."
   ]
  },
  {
   "cell_type": "markdown",
   "id": "c7393923",
   "metadata": {},
   "source": [
    "tf.reduce_sum is necessary when your loss is a tensor (not scalar) to convert it into a scalar so that tape.gradient() computes the gradient vector.\n",
    "\n",
    "✅ No reduction is needed if the loss is already a scalar.\n",
    "\n",
    "✅ If you need the Jacobian, avoid tf.reduce_sum since the Jacobian itself is a tensor (matrix) that maps the relationships between multiple outputs and inputs.\n",
    "\n",
    "This distinction is crucial when designing custom loss functions or working with complex models."
   ]
  },
  {
   "cell_type": "code",
   "execution_count": null,
   "id": "152f12c2",
   "metadata": {},
   "outputs": [],
   "source": []
  },
  {
   "cell_type": "code",
   "execution_count": null,
   "id": "2dae5c81",
   "metadata": {},
   "outputs": [],
   "source": []
  },
  {
   "cell_type": "markdown",
   "id": "cd2c105b",
   "metadata": {},
   "source": [
    "WITH\n",
    "\n",
    " https://realpython.com/python-with-statement/"
   ]
  },
  {
   "cell_type": "markdown",
   "id": "0a659572",
   "metadata": {},
   "source": [
    "The with statement in Python is used to manage resources like files, network connections, or TensorFlow's GradientTape efficiently. It ensures proper setup and teardown, reducing the risk of resource leaks.\n",
    "\n",
    "What is a Context Manager?\n",
    "A context manager is a Python object that defines:\n",
    "\n",
    "__enter__() → Code that runs when entering the context (e.g., opening a file).\n",
    "__exit__() → Code that runs when exiting the context (e.g., closing the file).\n",
    "Why Use with?\n",
    "It simplifies resource management by automatically handling cleanup, even if an error occurs."
   ]
  },
  {
   "cell_type": "code",
   "execution_count": 56,
   "id": "9e3d4385",
   "metadata": {},
   "outputs": [],
   "source": [
    "with open('data.txt', 'r') as file:\n",
    "    content = file.read()  # File is automatically closed after this block\n",
    "\n",
    "# No need to explicitly call file.close() — Python handles it."
   ]
  },
  {
   "cell_type": "code",
   "execution_count": 57,
   "id": "70b3a748",
   "metadata": {},
   "outputs": [
    {
     "data": {
      "text/plain": [
       "'some data\\n'"
      ]
     },
     "execution_count": 57,
     "metadata": {},
     "output_type": "execute_result"
    }
   ],
   "source": [
    "content"
   ]
  },
  {
   "cell_type": "code",
   "execution_count": 53,
   "id": "44e73cb5",
   "metadata": {},
   "outputs": [],
   "source": [
    "# custom context manager\n",
    "class CustomContext:\n",
    "    def __enter__(self):\n",
    "        print(\"Entering the context\")\n",
    "        return self  # Optional, often useful for object references\n",
    "\n",
    "    def __exit__(self, exc_type, exc_value, traceback):\n",
    "        print(\"Exiting the context\")\n",
    "        if exc_type:\n",
    "            print(f\"Error: {exc_value}\")\n",
    "        return True  # Suppresses the exception (not always recommended)\n"
   ]
  },
  {
   "cell_type": "code",
   "execution_count": 54,
   "id": "03ae1b20",
   "metadata": {},
   "outputs": [
    {
     "name": "stdout",
     "output_type": "stream",
     "text": [
      "Entering the context\n",
      "Inside the context\n",
      "Exiting the context\n",
      "Error: Something went wrong!\n",
      "Continuing program...\n"
     ]
    }
   ],
   "source": [
    "with CustomContext() as ctx:\n",
    "    print(\"Inside the context\")\n",
    "    raise ValueError(\"Something went wrong!\")  # Exception is suppressed\n",
    "\n",
    "print(\"Continuing program...\")\n"
   ]
  },
  {
   "cell_type": "code",
   "execution_count": 55,
   "id": "8077f123",
   "metadata": {},
   "outputs": [
    {
     "name": "stdout",
     "output_type": "stream",
     "text": [
      "Entering the context\n",
      "Inside the context\n",
      "Exiting the context\n"
     ]
    }
   ],
   "source": [
    "#Alternative: contextlib for Simpler Context Managers\n",
    "#The contextlib module provides an easier way to create context managers:\n",
    "\n",
    "from contextlib import contextmanager\n",
    "\n",
    "@contextmanager\n",
    "def custom_context():\n",
    "    print(\"Entering the context\")\n",
    "    yield\n",
    "    print(\"Exiting the context\")\n",
    "\n",
    "with custom_context():\n",
    "    print(\"Inside the context\")\n"
   ]
  },
  {
   "cell_type": "markdown",
   "id": "79945b53",
   "metadata": {},
   "source": [
    "Key Use Cases\n",
    "File I/O (open())\n",
    "Database connections\n",
    "Thread locks\n",
    "TensorFlow’s GradientTape or PyTorch’s torch.no_grad()\n",
    "Temporary resource management\n",
    "In short, with ensures clean, efficient code by automatically managing resources."
   ]
  },
  {
   "cell_type": "code",
   "execution_count": null,
   "id": "9a678b0f",
   "metadata": {},
   "outputs": [],
   "source": []
  }
 ],
 "metadata": {
  "kernelspec": {
   "display_name": "Python 3 (ipykernel)",
   "language": "python",
   "name": "python3"
  },
  "language_info": {
   "codemirror_mode": {
    "name": "ipython",
    "version": 3
   },
   "file_extension": ".py",
   "mimetype": "text/x-python",
   "name": "python",
   "nbconvert_exporter": "python",
   "pygments_lexer": "ipython3",
   "version": "3.10.12"
  }
 },
 "nbformat": 4,
 "nbformat_minor": 5
}
