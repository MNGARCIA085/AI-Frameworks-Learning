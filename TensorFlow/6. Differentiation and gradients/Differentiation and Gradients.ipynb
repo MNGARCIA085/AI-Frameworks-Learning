{
 "cells": [
  {
   "cell_type": "markdown",
   "id": "87dafc95",
   "metadata": {},
   "source": [
    "# <div style=\"text-align: center; color: #1a5276;\">Differentiation and Gradients</div>"
   ]
  },
  {
   "cell_type": "markdown",
   "id": "92273ae7",
   "metadata": {},
   "source": [
    "## <font color='blue'> Table of Contents </font>\n",
    "\n",
    "1. [Introduction](#1)\n",
    "2. [Setup](#2)  \n",
    "3. [Gradient Tape for Differentiation](#3)\n",
    "6. [Annex](#annex) <br>\n",
    "    A. [WITH](#A) <br>\n",
    "7. [References](#references)"
   ]
  },
  {
   "cell_type": "markdown",
   "id": "1699b621",
   "metadata": {},
   "source": [
    "<a name=\"1\"></a>\n",
    "## <font color='blue'> 1. Introduction </font>\n",
    "\n",
    "In this notebook, we'll explore how to calculate derivatives and gradients using TensorFlow's GradientTape. Understanding these concepts is crucial for machine learning, especially in tasks involving backpropagation and optimization."
   ]
  },
  {
   "cell_type": "markdown",
   "id": "b9e8139c",
   "metadata": {},
   "source": [
    "<a name=\"2\"></a>\n",
    "## <font color='blue'> 2. Setup </font>"
   ]
  },
  {
   "cell_type": "code",
   "execution_count": 3,
   "id": "2ebf880a",
   "metadata": {},
   "outputs": [],
   "source": [
    "# seetup\n",
    "import tensorflow as tf\n",
    "import numpy as np\n",
    "import matplotlib.pyplot as plt"
   ]
  },
  {
   "cell_type": "markdown",
   "id": "726c83a1",
   "metadata": {},
   "source": [
    "<a name=\"3\"></a>\n",
    "## <font color='blue'> 3. Gradient Tape for Differentiation </font>\n",
    "\n",
    "Let's explore how you can use [tf.GradientTape()](https://www.tensorflow.org/api_docs/python/tf/GradientTape) to do automatic differentiation."
   ]
  },
  {
   "cell_type": "markdown",
   "id": "deba1fcd",
   "metadata": {},
   "source": [
    "### Example 1\n",
    "\n",
    "We want to compute the derivative of the function:\n",
    "\n",
    "$$y = x^2$$\n",
    "\n",
    "Using calculus, the derivative is:\n",
    "\n",
    "$$\\frac{dy}{dx} = 2x$$\n",
    "\n",
    "For example, the derivative at x= 5 is 2*5 = 10.\n"
   ]
  },
  {
   "cell_type": "code",
   "execution_count": 5,
   "id": "cd029f59",
   "metadata": {},
   "outputs": [
    {
     "name": "stdout",
     "output_type": "stream",
     "text": [
      "tf.Tensor(10.0, shape=(), dtype=float32)\n"
     ]
    }
   ],
   "source": [
    "# Define a constant value for x\n",
    "x = tf.constant(5.0)\n",
    "\n",
    "# Create a GradientTape context\n",
    "with tf.GradientTape() as g:\n",
    "    # Manually watch the constant to track gradients\n",
    "    g.watch(x)\n",
    "    \n",
    "    # Define the function y = x^2\n",
    "    y = x * x\n",
    "\n",
    "# Compute the derivative dy/dx\n",
    "dy_dx = g.gradient(y, x)\n",
    "\n",
    "# Display the result\n",
    "print(dy_dx)  # Expected output: 10.0 (since dy/dx = 2x and x = 5)"
   ]
  },
  {
   "cell_type": "markdown",
   "id": "6cae8163",
   "metadata": {},
   "source": [
    "### Example 2\n",
    "\n",
    "By default, the resources held by a GradientTape are released as soon as GradientTape.gradient() method is called.\n",
    "The following code will raise an exception:"
   ]
  },
  {
   "cell_type": "code",
   "execution_count": 6,
   "id": "b2bc29df",
   "metadata": {},
   "outputs": [
    {
     "name": "stdout",
     "output_type": "stream",
     "text": [
      "dz/dx = 108.0\n",
      "An error occurred: A non-persistent GradientTape can only be used to compute one set of gradients (or jacobians)\n"
     ]
    }
   ],
   "source": [
    "try:\n",
    "    # Define a constant value for x\n",
    "    x = tf.constant(3.0)\n",
    "\n",
    "    # Create a GradientTape context\n",
    "    with tf.GradientTape() as g:\n",
    "        g.watch(x)  # Watch the constant to track gradients\n",
    "        y = x * x   # y = x^2\n",
    "        z = y * y   # z = (x^2)^2 = x^4\n",
    "\n",
    "    # Compute dz/dx (should be 4x^3)\n",
    "    dz_dx = g.gradient(z, x)\n",
    "    print(f\"dz/dx = {dz_dx}\")\n",
    "\n",
    "    # Attempt to compute dy/dx (will raise an error)\n",
    "    dy_dx = g.gradient(y, x)\n",
    "    print(f\"dy/dx = {dy_dx}\")\n",
    "\n",
    "except Exception as e:\n",
    "    print(f\"An error occurred: {e}\")\n"
   ]
  },
  {
   "cell_type": "markdown",
   "id": "67db051d",
   "metadata": {},
   "source": [
    "The error means you're trying to compute gradients twice using the same GradientTape without setting persistent=True.\n",
    "\n",
    "Why?\n",
    "By default, tf.GradientTape is not persistent, meaning it automatically deletes its internal data after calling .gradient() once.\n",
    "If you need multiple gradient calculations, add persistent=True."
   ]
  },
  {
   "cell_type": "code",
   "execution_count": 7,
   "id": "3960859a",
   "metadata": {},
   "outputs": [
    {
     "name": "stdout",
     "output_type": "stream",
     "text": [
      "tf.Tensor(108.0, shape=(), dtype=float32)\n",
      "tf.Tensor(6.0, shape=(), dtype=float32)\n"
     ]
    }
   ],
   "source": [
    "x = tf.constant(3.0)\n",
    "\n",
    "with tf.GradientTape(persistent=True) as g:\n",
    "    g.watch(x)\n",
    "    y = x * x\n",
    "    z = y * y\n",
    "\n",
    "dz_dx = g.gradient(z, x)  # (4*x^3 at x = 3)\n",
    "print(dz_dx)\n",
    "\n",
    "# now that is persistent we can reuse it\n",
    "dy_dx = g.gradient(y, x)\n",
    "print(dy_dx)"
   ]
  },
  {
   "cell_type": "markdown",
   "id": "9344bea2",
   "metadata": {},
   "source": [
    "### Example 3, Nested gradients\n",
    "\n",
    "Are useful, for example, when you need to calculate higher-order derivatives.\n"
   ]
  },
  {
   "cell_type": "markdown",
   "id": "530dfe0a",
   "metadata": {},
   "source": [
    "Given the function:\n",
    "\n",
    "$$y = x^2$$\n",
    "\n",
    "The first derivative is:\n",
    "\n",
    "$$\\frac{dy}{dx} = 2x$$\n",
    "\n",
    "The second derivative (derivative of the first derivative) is:\n",
    "\n",
    "$$\\frac{d^2y}{dx^2} = 2$$ \n"
   ]
  },
  {
   "cell_type": "code",
   "execution_count": 8,
   "id": "603b88c6",
   "metadata": {},
   "outputs": [
    {
     "name": "stdout",
     "output_type": "stream",
     "text": [
      "tf.Tensor(10.0, shape=(), dtype=float32)\n",
      "tf.Tensor(2.0, shape=(), dtype=float32)\n"
     ]
    }
   ],
   "source": [
    "x = tf.constant(5.0)\n",
    "\n",
    "with tf.GradientTape() as g:\n",
    "  g.watch(x)\n",
    "  with tf.GradientTape() as gg:\n",
    "    gg.watch(x)\n",
    "    y = x * x\n",
    "  dy_dx = gg.gradient(y, x)  # dy_dx = 2 * x\n",
    "\n",
    "d2y_dx2 = g.gradient(dy_dx, x)  # d2y_dx2 = 2\n",
    "\n",
    "print(dy_dx)\n",
    "print(d2y_dx2)"
   ]
  },
  {
   "cell_type": "markdown",
   "id": "16d990eb",
   "metadata": {},
   "source": [
    "### Example 4,  Gradient of a Scalar Function with Respect to a Tensor"
   ]
  },
  {
   "cell_type": "markdown",
   "id": "583c5d34",
   "metadata": {},
   "source": [
    "Given the input tensor:\n",
    "\n",
    "$$\n",
    "x = \\begin{bmatrix} 1 & 1 \\\\ 1 & 1 \\end{bmatrix}\n",
    "$$\n",
    "\n",
    "#### Step 1: Compute \\(y\\)  \n",
    "Let \\(y\\) be the sum of all elements in \\(x\\):\n",
    "\n",
    "$$\n",
    "y = \\sum_{i,j} x_{i,j} = 1 + 1 + 1 + 1 = 4\n",
    "$$\n",
    "\n",
    "#### Step 2: Compute \\(z\\)  \n",
    "Let \\(z = y^2\\), hence:\n",
    "\n",
    "$$\n",
    "z = 4^2 = 16\n",
    "$$\n",
    "\n",
    "#### Step 3: Compute the Gradient  \n",
    "Using the chain rule:\n",
    "\n",
    "$$\n",
    "\\frac{\\partial z}{\\partial x_{i,j}} = \\frac{\\partial z}{\\partial y} \\cdot \\frac{\\partial y}{\\partial x_{i,j}}\n",
    "$$\n",
    "\n",
    "Since:\n",
    "\n",
    "$$\n",
    "\\frac{\\partial z}{\\partial y} = 2y \\quad \\text{and} \\quad \\frac{\\partial y}{\\partial x_{i,j}} = 1\n",
    "$$\n",
    "\n",
    "The result is:\n",
    "\n",
    "$$\n",
    "\\frac{\\partial z}{\\partial x_{i,j}} = 2y \\cdot 1 = 2 \\times 4 = 8\n",
    "$$\n",
    "\n",
    "Thus,\n",
    "\n",
    "$$\n",
    "\\frac{\\partial z}{\\partial x} = \\begin{bmatrix} 8 & 8 \\\\ 8 & 8 \\end{bmatrix}\n",
    "$$\n"
   ]
  },
  {
   "cell_type": "code",
   "execution_count": 18,
   "id": "db5fae00",
   "metadata": {},
   "outputs": [
    {
     "name": "stdout",
     "output_type": "stream",
     "text": [
      "Input:\n",
      " [[1. 1.]\n",
      " [1. 1.]]\n",
      "\n",
      "y:\n",
      " 4.0\n",
      "\n",
      "z:\n",
      " 16.0\n",
      "\n",
      "dz_dx:\n",
      " [[8. 8.]\n",
      " [8. 8.]]\n"
     ]
    }
   ],
   "source": [
    "# Define a 2x2 array of 1's\n",
    "x = tf.ones((2,2))\n",
    "\n",
    "print(f\"Input:\\n {x}\\n\")\n",
    "\n",
    "with tf.GradientTape() as t:\n",
    "    # Record the actions performed on tensor x with `watch`\n",
    "    t.watch(x) \n",
    "\n",
    "    # Define y as the sum of the elements in x\n",
    "    y =  tf.reduce_sum(x)\n",
    "    \n",
    "    print(f\"y:\\n {y}\\n\")\n",
    "\n",
    "    # Let z be the square of y\n",
    "    z = tf.square(y)\n",
    "    \n",
    "    print(f\"z:\\n {z}\\n\")\n",
    "\n",
    "# Get the derivative of z wrt the original input tensor x\n",
    "dz_dx = t.gradient(z, x)\n",
    "\n",
    "# Print our result\n",
    "print(f\"dz_dx:\\n {dz_dx}\")"
   ]
  },
  {
   "cell_type": "markdown",
   "id": "d506bb3f",
   "metadata": {},
   "source": [
    "Let's see what happens if we do not use tf.reduce_sum:"
   ]
  },
  {
   "cell_type": "markdown",
   "id": "82b9ebb3",
   "metadata": {},
   "source": [
    "### Gradient Without `reduce_sum`\n",
    "\n",
    "Given the input tensor:\n",
    "\n",
    "$$\n",
    "x = \\begin{bmatrix} 1 & 1 \\\\ 1 & 1 \\end{bmatrix}\n",
    "$$\n",
    "\n",
    "#### Step 1: Compute \\(y\\)  \n",
    "Instead of summing the elements, let \\(y = x\\), so:\n",
    "\n",
    "$$\n",
    "y = \\begin{bmatrix} 1 & 1 \\\\ 1 & 1 \\end{bmatrix}\n",
    "$$\n",
    "\n",
    "#### Step 2: Compute \\(z\\)  \n",
    "Let \\(z = y^2\\), hence:\n",
    "\n",
    "$$\n",
    "z = \\begin{bmatrix} 1^2 & 1^2 \\\\ 1^2 & 1^2 \\end{bmatrix}\n",
    "=\n",
    "\\begin{bmatrix} 1 & 1 \\\\ 1 & 1 \\end{bmatrix}\n",
    "$$\n",
    "\n",
    "#### Step 3: Compute the Gradient  \n",
    "Since \\( z = x^2 \\), the derivative is:\n",
    "\n",
    "$$\n",
    "\\frac{\\partial z}{\\partial x} = 2x\n",
    "$$\n",
    "\n",
    "Thus,\n",
    "\n",
    "$$\n",
    "\\frac{\\partial z}{\\partial x} = \\begin{bmatrix} 2 & 2 \\\\ 2 & 2 \\end{bmatrix}\n",
    "$$\n",
    "\n",
    "#### Key Difference\n",
    "- Using `reduce_sum` results in **all elements being 8**.\n",
    "- Without `reduce_sum`, the gradient is **2 at every position**.\n"
   ]
  },
  {
   "cell_type": "code",
   "execution_count": 20,
   "id": "c88828cc",
   "metadata": {},
   "outputs": [
    {
     "name": "stdout",
     "output_type": "stream",
     "text": [
      "Input:\n",
      " [[1. 1.]\n",
      " [1. 1.]]\n",
      "\n",
      "z:\n",
      " [[1. 1.]\n",
      " [1. 1.]]\n",
      "\n",
      "dz_dx:\n",
      " [[2. 2.]\n",
      " [2. 2.]]\n"
     ]
    }
   ],
   "source": [
    "# Define a 2x2 array of 1's\n",
    "x = tf.ones((2,2))\n",
    "\n",
    "print(f\"Input:\\n {x}\\n\")\n",
    "\n",
    "with tf.GradientTape() as t:\n",
    "    # Record the actions performed on tensor x with `watch`\n",
    "    t.watch(x) \n",
    "\n",
    "    # Let z be the square of y\n",
    "    z = tf.square(x)\n",
    "    \n",
    "    print(f\"z:\\n {z}\\n\")\n",
    "\n",
    "# Get the derivative of z wrt the original input tensor x\n",
    "dz_dx = t.gradient(z, x)\n",
    "\n",
    "# Print our result\n",
    "print(f\"dz_dx:\\n {dz_dx}\")"
   ]
  },
  {
   "cell_type": "markdown",
   "id": "6ea51cee",
   "metadata": {},
   "source": [
    "#### Understanding the Difference\n",
    "\n",
    "In both cases, you are computing gradients, but the operations and their effects differ:\n",
    "\n",
    "#### 1. With `reduce_sum`\n",
    "- **What happens?**  \n",
    "  - The function collapses all elements in the tensor into a **single scalar value** by summing them.  \n",
    "  - The gradient reflects how much each element of the original tensor contributes to that scalar's change.  \n",
    "- **Result:** Each element in the gradient will have a value of **8**.\n",
    "\n",
    "#### Why?  \n",
    "- Since \\( z = (\\text{sum of elements})^2 \\), every element indirectly affects the final output.  \n",
    "- The chain rule multiplies the outer derivative by the number of contributing elements.\n",
    "\n",
    "---\n",
    "\n",
    "#### 2. Without `reduce_sum`\n",
    "- **What happens?**  \n",
    "  - Each element operates **independently**, so no summation occurs.  \n",
    "  - The gradient reflects the derivative of each element's squared value.  \n",
    "- **Result:** Each element in the gradient will have a value of **2**.\n",
    "\n",
    "#### Why?  \n",
    "- Since \\( z = x^2 \\), each element is treated as an independent variable, and the derivative of \\(x^2\\) is \\(2x\\).\n",
    "\n",
    "---\n",
    "\n",
    "#### Key Concept\n",
    "- With `reduce_sum` → Global effect (gradient scales with the total sum).\n",
    "- Without `reduce_sum` → Local effect (gradient reflects individual elements).\n"
   ]
  },
  {
   "cell_type": "markdown",
   "id": "c9ea6db7",
   "metadata": {},
   "source": [
    "### Example 5\n",
    "\n",
    "Given:\n",
    "\n",
    "$$\n",
    "y = x^3\n",
    "$$\n",
    "\n",
    "#### First Derivative\n",
    "Using the chain rule:\n",
    "\n",
    "$$\n",
    "\\frac{dy}{dx} = 3x^2\n",
    "$$\n",
    "\n",
    "#### Second Derivative\n",
    "Differentiating again:\n",
    "\n",
    "$$\n",
    "\\frac{d^2y}{dx^2} = \\frac{d}{dx} (3x^2) = 6x\n",
    "$$\n",
    "\n",
    "At \\(x = 1\\):\n",
    "- $\\frac{dy}{dx} = 3$  \n",
    "- $\\frac{d^2y}{dx^2} = 6$"
   ]
  },
  {
   "cell_type": "code",
   "execution_count": 21,
   "id": "acb12936",
   "metadata": {},
   "outputs": [
    {
     "name": "stdout",
     "output_type": "stream",
     "text": [
      "tf.Tensor(3.0, shape=(), dtype=float32)\n",
      "tf.Tensor(6.0, shape=(), dtype=float32)\n"
     ]
    }
   ],
   "source": [
    "# Define a variable x with initial value 1.0\n",
    "x = tf.Variable(1.0)\n",
    "\n",
    "# Outer gradient tape for second-order derivative\n",
    "with tf.GradientTape() as tape_2:\n",
    "    \n",
    "    # Inner gradient tape for first-order derivative\n",
    "    with tf.GradientTape() as tape_1:\n",
    "        \n",
    "        # Define the function y = x^3\n",
    "        y = x * x * x\n",
    "\n",
    "        # Compute the first derivative: dy/dx = 3x^2\n",
    "        dy_dx = tape_1.gradient(y, x)\n",
    "        \n",
    "    # Compute the second derivative: d²y/dx² = 6x\n",
    "    d2y_dx2 = tape_2.gradient(dy_dx, x)\n",
    "\n",
    "# Print results\n",
    "print(dy_dx)     # Expected output: 3.0 (3 * 1^2)\n",
    "print(d2y_dx2)   # Expected output: 6.0 (6 * 1)\n"
   ]
  },
  {
   "cell_type": "markdown",
   "id": "93ba0b0b",
   "metadata": {},
   "source": [
    "### Example 6\n",
    "\n",
    "Given:\n",
    "\n",
    "$$\n",
    "z = 5x^4 - 3x^3 + 2x^2 - 4x + 7\n",
    "$$\n",
    "\n",
    "The derivative is:\n",
    "\n",
    "$$\n",
    "\\frac{dz}{dx} = 20x^3 - 9x^2 + 4x - 4\n",
    "$$\n",
    "\n",
    "\n",
    "Let's implement this using a function:"
   ]
  },
  {
   "cell_type": "code",
   "execution_count": 22,
   "id": "67ba9ece",
   "metadata": {},
   "outputs": [],
   "source": [
    "import tensorflow as tf\n",
    "\n",
    "def tf_gradient_tape(x):\n",
    "    \"\"\"\n",
    "    Args:\n",
    "        x (EagerTensor): A tensor.\n",
    "\n",
    "    Returns:\n",
    "        EagerTensor: Derivative of z with respect to the input tensor x.\n",
    "    \"\"\"\n",
    "    with tf.GradientTape() as t:\n",
    "        \n",
    "        # Record the actions performed on tensor x with `watch`\n",
    "        t.watch(x)   \n",
    "\n",
    "        # Define a polynomial of form 5x^4 - 3x^3 + 2x^2 - 4x + 7\n",
    "        y = 5 * x**4 - 3 * x**3 + 2 * x**2 - 4 * x + 7\n",
    "\n",
    "        # Obtain the sum of the elements in variable y\n",
    "        z = tf.reduce_sum(y)\n",
    "  \n",
    "    # Get the derivative of z with respect to the original input tensor x\n",
    "    dz_dx = t.gradient(z, x)  # 20x^3 - 9x^2 + 4x - 4\n",
    "\n",
    "    return dz_dx\n"
   ]
  },
  {
   "cell_type": "code",
   "execution_count": 23,
   "id": "a9475fb1",
   "metadata": {},
   "outputs": [
    {
     "data": {
      "text/plain": [
       "11.0"
      ]
     },
     "execution_count": 23,
     "metadata": {},
     "output_type": "execute_result"
    }
   ],
   "source": [
    "# check\n",
    "tmp_x = tf.constant(1.0)\n",
    "dz_dx = tf_gradient_tape(tmp_x)\n",
    "result = dz_dx.numpy()\n",
    "result"
   ]
  },
  {
   "cell_type": "markdown",
   "id": "36d67c83",
   "metadata": {},
   "source": [
    "### Example 7\n",
    "\n",
    "Let's calculate the derivative of a function at several points and plot it."
   ]
  },
  {
   "cell_type": "code",
   "execution_count": 26,
   "id": "36952002",
   "metadata": {},
   "outputs": [
    {
     "data": {
      "image/png": "[encoded data removed]",
      "text/plain": [
       "<Figure size 600x400 with 1 Axes>"
      ]
     },
     "metadata": {},
     "output_type": "display_data"
    }
   ],
   "source": [
    "# Define x values\n",
    "x = tf.constant(np.linspace(-3, 3, 100), dtype=tf.float32)\n",
    "\n",
    "# Compute y = x^2 and its derivative\n",
    "with tf.GradientTape() as tape:\n",
    "    tape.watch(x)\n",
    "    y = x**2\n",
    "dy_dx = tape.gradient(y, x)\n",
    "\n",
    "# Plotting\n",
    "plt.figure(figsize=(6, 4))\n",
    "plt.plot(x, y, label='$y = x^2$', linewidth=2)\n",
    "plt.plot(x, dy_dx, label=\"$\\\\frac{dy}{dx} = 2x$\", linewidth=2)\n",
    "plt.axhline(0, color='black', linewidth=0.5)\n",
    "plt.axvline(0, color='black', linewidth=0.5)\n",
    "plt.legend()\n",
    "plt.grid(True)\n",
    "plt.title(\"Function and Its Derivative\")\n",
    "plt.show()"
   ]
  },
  {
   "cell_type": "markdown",
   "id": "d34e5764",
   "metadata": {},
   "source": [
    "<a name=\"annex\"></a>\n",
    "## <font color='blue'> Annex </font>\n",
    "\n",
    "<a name=\"A\"></a>\n",
    "### <font color='#1f618d'> A. WITH </font>\n",
    "\n",
    "The **with** statement in Python is used to manage resources like files, network connections, or TensorFlow's GradientTape efficiently. It ensures proper setup and teardown, reducing the risk of resource leaks.\n",
    "\n",
    "A **context manager** is a Python object that defines:\n",
    "- ```__enter__()``` → Code that runs when entering the context (e.g., opening a file).\n",
    "- ```__exit__()``` → Code that runs when exiting the context (e.g., closing the file).\n",
    "\n",
    "\n",
    "Why Use with?\n",
    "- It simplifies resource management by automatically handling cleanup, even if an error occurs."
   ]
  },
  {
   "cell_type": "code",
   "execution_count": 35,
   "id": "7d4aa0a8",
   "metadata": {},
   "outputs": [],
   "source": [
    "with open('data.txt', 'r') as file:\n",
    "    content = file.read()  # File is automatically closed after this block\n",
    "\n",
    "# No need to explicitly call file.close() — Python handles it."
   ]
  },
  {
   "cell_type": "code",
   "execution_count": 36,
   "id": "59e992f7",
   "metadata": {},
   "outputs": [
    {
     "data": {
      "text/plain": [
       "'some data\\n'"
      ]
     },
     "execution_count": 36,
     "metadata": {},
     "output_type": "execute_result"
    }
   ],
   "source": [
    "content"
   ]
  },
  {
   "cell_type": "code",
   "execution_count": 37,
   "id": "ca2eaece",
   "metadata": {},
   "outputs": [],
   "source": [
    "# custom context manager\n",
    "class CustomContext:\n",
    "    def __enter__(self):\n",
    "        print(\"Entering the context\")\n",
    "        return self  # Optional, often useful for object references\n",
    "\n",
    "    def __exit__(self, exc_type, exc_value, traceback):\n",
    "        print(\"Exiting the context\")\n",
    "        if exc_type:\n",
    "            print(f\"Error: {exc_value}\")\n",
    "        return True  # Suppresses the exception (not always recommended)"
   ]
  },
  {
   "cell_type": "code",
   "execution_count": 38,
   "id": "b565180c",
   "metadata": {},
   "outputs": [
    {
     "name": "stdout",
     "output_type": "stream",
     "text": [
      "Entering the context\n",
      "Inside the context\n",
      "Exiting the context\n",
      "Error: Something went wrong!\n",
      "Continuing program...\n"
     ]
    }
   ],
   "source": [
    "with CustomContext() as ctx:\n",
    "    print(\"Inside the context\")\n",
    "    raise ValueError(\"Something went wrong!\")  # Exception is suppressed\n",
    "\n",
    "print(\"Continuing program...\")"
   ]
  },
  {
   "cell_type": "code",
   "execution_count": 39,
   "id": "a64014cd",
   "metadata": {},
   "outputs": [
    {
     "name": "stdout",
     "output_type": "stream",
     "text": [
      "Entering the context\n",
      "Inside the context\n",
      "Exiting the context\n"
     ]
    }
   ],
   "source": [
    "#Alternative: contextlib for Simpler Context Managers\n",
    "#The contextlib module provides an easier way to create context managers:\n",
    "\n",
    "from contextlib import contextmanager\n",
    "\n",
    "@contextmanager\n",
    "def custom_context():\n",
    "    print(\"Entering the context\")\n",
    "    yield\n",
    "    print(\"Exiting the context\")\n",
    "\n",
    "with custom_context():\n",
    "    print(\"Inside the context\")\n"
   ]
  },
  {
   "cell_type": "markdown",
   "id": "7cccf07c",
   "metadata": {},
   "source": [
    "**Key Use Cases:**\n",
    "\n",
    "- File I/O (open())\n",
    "- Database connections\n",
    "- Thread locks\n",
    "- TensorFlow’s GradientTape or PyTorch’s torch.no_grad()\n",
    "- Temporary resource management\n",
    "\n",
    "In short, `with` ensures clean, efficient code by automatically managing resources."
   ]
  },
  {
   "cell_type": "markdown",
   "id": "1c3ae96d",
   "metadata": {},
   "source": [
    "<a name=\"references\"></a>\n",
    "## <font color='blue'> References </font>\n",
    "\n",
    "[TensorFlow Documentation](https://www.tensorflow.org/guide/autodiff)\n",
    "\n",
    "[TensorFlow Advanced Techniques Specialization](https://www.coursera.org/specializations/tensorflow-advanced-techniques)\n",
    "\n",
    "[Real Python - With](https://realpython.com/python-with-statement/)"
   ]
  }
 ],
 "metadata": {
  "kernelspec": {
   "display_name": "Python 3 (ipykernel)",
   "language": "python",
   "name": "python3"
  },
  "language_info": {
   "codemirror_mode": {
    "name": "ipython",
    "version": 3
   },
   "file_extension": ".py",
   "mimetype": "text/x-python",
   "name": "python",
   "nbconvert_exporter": "python",
   "pygments_lexer": "ipython3",
   "version": "3.10.12"
  }
 },
 "nbformat": 4,
 "nbformat_minor": 5
}
