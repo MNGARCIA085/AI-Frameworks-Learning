{
 "cells": [
  {
   "cell_type": "markdown",
   "id": "70f88cf2",
   "metadata": {},
   "source": [
    "karate"
   ]
  },
  {
   "cell_type": "code",
   "execution_count": 1,
   "id": "5b07ac61",
   "metadata": {},
   "outputs": [],
   "source": [
    "#!pip install spektral"
   ]
  },
  {
   "cell_type": "code",
   "execution_count": 2,
   "id": "de20d1ca",
   "metadata": {},
   "outputs": [
    {
     "name": "stderr",
     "output_type": "stream",
     "text": [
      "2025-02-28 19:39:29.472965: E external/local_xla/xla/stream_executor/cuda/cuda_dnn.cc:9261] Unable to register cuDNN factory: Attempting to register factory for plugin cuDNN when one has already been registered\n",
      "2025-02-28 19:39:29.473372: E external/local_xla/xla/stream_executor/cuda/cuda_fft.cc:607] Unable to register cuFFT factory: Attempting to register factory for plugin cuFFT when one has already been registered\n",
      "2025-02-28 19:39:29.747146: E external/local_xla/xla/stream_executor/cuda/cuda_blas.cc:1515] Unable to register cuBLAS factory: Attempting to register factory for plugin cuBLAS when one has already been registered\n",
      "2025-02-28 19:39:30.205896: I tensorflow/core/platform/cpu_feature_guard.cc:182] This TensorFlow binary is optimized to use available CPU instructions in performance-critical operations.\n",
      "To enable the following instructions: AVX2 FMA, in other operations, rebuild TensorFlow with the appropriate compiler flags.\n",
      "2025-02-28 19:39:32.350844: W tensorflow/compiler/tf2tensorrt/utils/py_utils.cc:38] TF-TRT Warning: Could not find TensorRT\n"
     ]
    }
   ],
   "source": [
    "import numpy as np\n",
    "import networkx as nx\n",
    "import tensorflow as tf\n",
    "from spektral.data import Dataset, Graph\n",
    "from spektral.layers import GCNConv\n",
    "from tensorflow.keras import layers, models\n",
    "import matplotlib.pyplot as plt"
   ]
  },
  {
   "cell_type": "code",
   "execution_count": 3,
   "id": "a5433f5a",
   "metadata": {},
   "outputs": [
    {
     "name": "stdout",
     "output_type": "stream",
     "text": [
      "['AGNNConv', 'APPNPConv', 'ARMAConv', 'AsymCheegerCutPool', 'CensNetConv', 'ChebConv', 'CrystalConv', 'DMoNPool', 'DiffPool', 'DiffusionConv', 'Disjoint2Batch', 'ECCConv', 'EdgeConv', 'GATConv', 'GCNConv', 'GCSConv', 'GINConv', 'GINConvBatch', 'GTVConv', 'GatedGraphConv', 'GeneralConv', 'GlobalAttentionPool', 'GlobalAttnSumPool', 'GlobalAvgPool', 'GlobalMaxPool', 'GlobalSumPool', 'GraphMasking', 'GraphSageConv', 'InnerProduct', 'JustBalancePool', 'K', 'LaPool', 'Layer', 'MessagePassing', 'MinCutPool', 'MinkowskiProduct', 'SAGPool', 'SRCPool', 'SortPool', 'SparseDropout', 'TAGConv', 'TopKPool', 'XENetConv', 'XENetConvBatch', '__builtins__', '__cached__', '__doc__', '__file__', '__loader__', '__name__', '__package__', '__path__', '__spec__', 'activations', 'agnn_conv', 'appnp_conv', 'arma_conv', 'asym_cheeger_cut_pool', 'base', 'censnet_conv', 'cheb_conv', 'constraints', 'conv', 'convolutional', 'crystal_conv', 'diff_pool', 'diffusion_conv', 'dmon_pool', 'ecc_conv', 'edge_conv', 'gat_conv', 'gated_graph_conv', 'gcn_conv', 'gcs_conv', 'general_conv', 'gin_conv', 'global_pool', 'graphsage_conv', 'gtv_conv', 'initializers', 'just_balance_pool', 'la_pool', 'message_passing', 'mincut_pool', 'np', 'ops', 'pooling', 'regularizers', 'sag_pool', 'smart_cond', 'src', 'tag_conv', 'tf', 'topk_pool', 'xenet_conv']\n"
     ]
    }
   ],
   "source": [
    "import spektral.layers\n",
    "print(dir(spektral.layers))\n"
   ]
  },
  {
   "cell_type": "code",
   "execution_count": null,
   "id": "f885b89b",
   "metadata": {},
   "outputs": [],
   "source": []
  },
  {
   "cell_type": "code",
   "execution_count": null,
   "id": "94aa721d",
   "metadata": {},
   "outputs": [],
   "source": []
  },
  {
   "cell_type": "code",
   "execution_count": null,
   "id": "7de43772",
   "metadata": {},
   "outputs": [],
   "source": []
  },
  {
   "cell_type": "markdown",
   "id": "fbc3819e",
   "metadata": {},
   "source": [
    "The Karate Club dataset is a well-known social network dataset that represents friendships in a karate club. It consists of 34 nodes (members of the club) and 78 edges (friendships).\n",
    "\n",
    "Let's inspect the dataset:"
   ]
  },
  {
   "cell_type": "markdown",
   "id": "73366cac",
   "metadata": {},
   "source": [
    "## Data exploration"
   ]
  },
  {
   "cell_type": "code",
   "execution_count": 4,
   "id": "292324a0",
   "metadata": {},
   "outputs": [],
   "source": [
    "# Load the Karate Club dataset (networkx)\n",
    "G = nx.karate_club_graph()"
   ]
  },
  {
   "cell_type": "code",
   "execution_count": 5,
   "id": "b0d0b26b",
   "metadata": {},
   "outputs": [
    {
     "name": "stdout",
     "output_type": "stream",
     "text": [
      "Nodes: 34, Edges: 78\n",
      "[(0, {'club': 'Mr. Hi'}), (1, {'club': 'Mr. Hi'}), (2, {'club': 'Mr. Hi'}), (3, {'club': 'Mr. Hi'}), (4, {'club': 'Mr. Hi'}), (5, {'club': 'Mr. Hi'}), (6, {'club': 'Mr. Hi'}), (7, {'club': 'Mr. Hi'}), (8, {'club': 'Mr. Hi'}), (9, {'club': 'Officer'}), (10, {'club': 'Mr. Hi'}), (11, {'club': 'Mr. Hi'}), (12, {'club': 'Mr. Hi'}), (13, {'club': 'Mr. Hi'}), (14, {'club': 'Officer'}), (15, {'club': 'Officer'}), (16, {'club': 'Mr. Hi'}), (17, {'club': 'Mr. Hi'}), (18, {'club': 'Officer'}), (19, {'club': 'Mr. Hi'}), (20, {'club': 'Officer'}), (21, {'club': 'Mr. Hi'}), (22, {'club': 'Officer'}), (23, {'club': 'Officer'}), (24, {'club': 'Officer'}), (25, {'club': 'Officer'}), (26, {'club': 'Officer'}), (27, {'club': 'Officer'}), (28, {'club': 'Officer'}), (29, {'club': 'Officer'}), (30, {'club': 'Officer'}), (31, {'club': 'Officer'}), (32, {'club': 'Officer'}), (33, {'club': 'Officer'})]\n",
      "[(0, 1), (0, 2), (0, 3), (0, 4), (0, 5), (0, 6), (0, 7), (0, 8), (0, 10), (0, 11)]\n"
     ]
    }
   ],
   "source": [
    "# Number of nodes and edges\n",
    "print(f\"Nodes: {G.number_of_nodes()}, Edges: {G.number_of_edges()}\")\n",
    "\n",
    "# Check node attributes\n",
    "print(G.nodes(data=True))\n",
    "\n",
    "# Check edge list\n",
    "print(list(G.edges)[:10])  # Show first 10 edges"
   ]
  },
  {
   "cell_type": "markdown",
   "id": "6cac587b",
   "metadata": {},
   "source": [
    "Each node has an attribute club, which represents its group:\n",
    "\n",
    "\"Mr. Hi\" (leader of one faction)\n",
    "\"Officer\" (leader of the opposing faction)"
   ]
  },
  {
   "cell_type": "code",
   "execution_count": 6,
   "id": "8e253f3a",
   "metadata": {},
   "outputs": [
    {
     "name": "stdout",
     "output_type": "stream",
     "text": [
      "{0: 'Mr. Hi', 1: 'Mr. Hi', 2: 'Mr. Hi', 3: 'Mr. Hi', 4: 'Mr. Hi', 5: 'Mr. Hi', 6: 'Mr. Hi', 7: 'Mr. Hi', 8: 'Mr. Hi', 9: 'Officer', 10: 'Mr. Hi', 11: 'Mr. Hi', 12: 'Mr. Hi', 13: 'Mr. Hi', 14: 'Officer', 15: 'Officer', 16: 'Mr. Hi', 17: 'Mr. Hi', 18: 'Officer', 19: 'Mr. Hi', 20: 'Officer', 21: 'Mr. Hi', 22: 'Officer', 23: 'Officer', 24: 'Officer', 25: 'Officer', 26: 'Officer', 27: 'Officer', 28: 'Officer', 29: 'Officer', 30: 'Officer', 31: 'Officer', 32: 'Officer', 33: 'Officer'}\n"
     ]
    }
   ],
   "source": [
    "# Check the club membership of each node\n",
    "club_labels = nx.get_node_attributes(G, \"club\")\n",
    "print(club_labels)\n"
   ]
  },
  {
   "cell_type": "markdown",
   "id": "a3984b67",
   "metadata": {},
   "source": [
    "The degree of a node in a graph represents the number of edges connected to it. The degree distribution shows how these degrees are spread across all nodes in the network.\n",
    "\n",
    "\n",
    "If a degree appears often in the histogram, many members have that number of friendships.\n",
    "A few nodes might have high degrees, representing influential members (like the club leaders).\n",
    "Most nodes have low degrees, meaning they are only connected to a few members.\n",
    "This helps analyze the network structure, identifying hubs (high-degree nodes) and isolated individuals (low-degree nodes).\n",
    "\n"
   ]
  },
  {
   "cell_type": "code",
   "execution_count": 7,
   "id": "4a5c4f8f",
   "metadata": {},
   "outputs": [
    {
     "data": {
      "image/png": "[encoded data removed]",
      "text/plain": [
       "<Figure size 640x480 with 1 Axes>"
      ]
     },
     "metadata": {},
     "output_type": "display_data"
    }
   ],
   "source": [
    "# degree distribution\n",
    "import matplotlib.pyplot as plt\n",
    "\n",
    "\n",
    "#This extracts the degree of each node in the graph.\n",
    "#G.degree(n) returns the number of edges connected to node n.\n",
    "#The result is a list of degrees for all nodes.\n",
    "\n",
    "\n",
    "degrees = [G.degree(n) for n in G.nodes()]\n",
    "\n",
    "\n",
    "\n",
    "# histogram\n",
    "plt.hist(degrees, bins=range(1, max(degrees)+2), align='left', rwidth=0.8)\n",
    "plt.xlabel(\"Degree\")\n",
    "plt.ylabel(\"Frequency\")\n",
    "plt.title(\"Degree Distribution\")\n",
    "plt.show()\n"
   ]
  },
  {
   "cell_type": "code",
   "execution_count": 8,
   "id": "9bb61f90",
   "metadata": {},
   "outputs": [
    {
     "data": {
      "image/png": "[encoded data removed]",
      "text/plain": [
       "<Figure size 800x600 with 1 Axes>"
      ]
     },
     "metadata": {},
     "output_type": "display_data"
    }
   ],
   "source": [
    "plt.figure(figsize=(8, 6))\n",
    "nx.draw(G, with_labels=True, node_color=\"lightblue\", edge_color=\"gray\")\n",
    "plt.title(\"Karate Club Graph\")\n",
    "plt.show()\n"
   ]
  },
  {
   "cell_type": "code",
   "execution_count": 9,
   "id": "59495adb",
   "metadata": {},
   "outputs": [
    {
     "data": {
      "text/plain": [
       "networkx.classes.reportviews.NodeView"
      ]
     },
     "execution_count": 9,
     "metadata": {},
     "output_type": "execute_result"
    }
   ],
   "source": [
    "type(G.nodes())"
   ]
  },
  {
   "cell_type": "code",
   "execution_count": 10,
   "id": "052a783a",
   "metadata": {},
   "outputs": [
    {
     "data": {
      "text/plain": [
       "{'club': 'Mr. Hi'}"
      ]
     },
     "execution_count": 10,
     "metadata": {},
     "output_type": "execute_result"
    }
   ],
   "source": [
    "G.nodes[1]"
   ]
  },
  {
   "cell_type": "code",
   "execution_count": 11,
   "id": "6dc6cc2f",
   "metadata": {},
   "outputs": [
    {
     "name": "stdout",
     "output_type": "stream",
     "text": [
      "Node 0: {'club': 'Mr. Hi'}\n",
      "Node 1: {'club': 'Mr. Hi'}\n",
      "Node 2: {'club': 'Mr. Hi'}\n",
      "Node 3: {'club': 'Mr. Hi'}\n",
      "Node 4: {'club': 'Mr. Hi'}\n"
     ]
    }
   ],
   "source": [
    "import networkx as nx\n",
    "\n",
    "# Load dataset\n",
    "G = nx.karate_club_graph()\n",
    "\n",
    "# Print first 5 nodes with their attributes\n",
    "for node, attrs in list(G.nodes(data=True))[:5]:\n",
    "    print(f\"Node {node}: {attrs}\")\n"
   ]
  },
  {
   "cell_type": "code",
   "execution_count": 12,
   "id": "4c04eac8",
   "metadata": {},
   "outputs": [
    {
     "name": "stdout",
     "output_type": "stream",
     "text": [
      "Node 0 (Club: Mr. Hi) is connected to: [1, 2, 3, 4, 5, 6, 7, 8, 10, 11, 12, 13, 17, 19, 21, 31]\n",
      "Node 1 (Club: Mr. Hi) is connected to: [0, 2, 3, 7, 13, 17, 19, 21, 30]\n",
      "Node 2 (Club: Mr. Hi) is connected to: [0, 1, 3, 7, 8, 9, 13, 27, 28, 32]\n",
      "Node 3 (Club: Mr. Hi) is connected to: [0, 1, 2, 7, 12, 13]\n",
      "Node 4 (Club: Mr. Hi) is connected to: [0, 6, 10]\n"
     ]
    }
   ],
   "source": [
    "# Print first 5 nodes and their connections\n",
    "for node in list(G.nodes)[:5]:\n",
    "    print(f\"Node {node} (Club: {G.nodes[node]['club']}) is connected to: {list(G.neighbors(node))}\")\n"
   ]
  },
  {
   "cell_type": "code",
   "execution_count": 13,
   "id": "9d61ddac",
   "metadata": {},
   "outputs": [
    {
     "name": "stdout",
     "output_type": "stream",
     "text": [
      "Node 0 (Club: Mr. Hi) is connected to: [1, 2, 3, 4, 5, 6, 7, 8, 10, 11, 12, 13, 17, 19, 21, 31]\n",
      "Node 1 (Club: Mr. Hi) is connected to: [0, 2, 3, 7, 13, 17, 19, 21, 30]\n",
      "Node 2 (Club: Mr. Hi) is connected to: [0, 1, 3, 7, 8, 9, 13, 27, 28, 32]\n",
      "Node 3 (Club: Mr. Hi) is connected to: [0, 1, 2, 7, 12, 13]\n",
      "Node 4 (Club: Mr. Hi) is connected to: [0, 6, 10]\n"
     ]
    }
   ],
   "source": [
    "club_name = \"Mr. Hi\"  # Change to \"Officer\" to filter the other club\n",
    "\n",
    "# Get nodes that belong to the selected club\n",
    "club_members = [node for node in G.nodes if G.nodes[node][\"club\"] == club_name]\n",
    "\n",
    "# Print a few members with their connections\n",
    "for node in club_members[:5]:  # Show only the first 5 members\n",
    "    print(f\"Node {node} (Club: {G.nodes[node]['club']}) is connected to: {list(G.neighbors(node))}\")\n"
   ]
  },
  {
   "cell_type": "markdown",
   "id": "c4387cd3",
   "metadata": {},
   "source": [
    "To find the most connected members (nodes with the highest degree) in each club, we can:\n",
    "\n",
    "Filter nodes by club\n",
    "Sort them by degree (number of connections)\n",
    "Display the top members for each club"
   ]
  },
  {
   "cell_type": "code",
   "execution_count": 14,
   "id": "1f9e61ba",
   "metadata": {},
   "outputs": [
    {
     "name": "stdout",
     "output_type": "stream",
     "text": [
      "\n",
      "Top 3 most connected members in 'Mr. Hi' club:\n",
      "Node 0 - Degree: 16 - Connections: [1, 2, 3, 4, 5, 6, 7, 8, 10, 11, 12, 13, 17, 19, 21, 31]\n",
      "Node 2 - Degree: 10 - Connections: [0, 1, 3, 7, 8, 9, 13, 27, 28, 32]\n",
      "Node 1 - Degree: 9 - Connections: [0, 2, 3, 7, 13, 17, 19, 21, 30]\n",
      "\n",
      "Top 3 most connected members in 'Officer' club:\n",
      "Node 33 - Degree: 17 - Connections: [8, 9, 13, 14, 15, 18, 19, 20, 23, 26, 27, 28, 29, 30, 31, 32, 22]\n",
      "Node 32 - Degree: 12 - Connections: [2, 8, 14, 15, 18, 20, 22, 23, 29, 30, 31, 33]\n",
      "Node 31 - Degree: 6 - Connections: [0, 24, 25, 28, 32, 33]\n"
     ]
    }
   ],
   "source": [
    "# Find top members for each club\n",
    "for club_name in [\"Mr. Hi\", \"Officer\"]:\n",
    "    # Get nodes from the selected club\n",
    "    club_members = [node for node in G.nodes if G.nodes[node][\"club\"] == club_name]\n",
    "    \n",
    "    # Sort members by degree (most connections first)\n",
    "    sorted_members = sorted(club_members, key=lambda n: G.degree(n), reverse=True)\n",
    "    \n",
    "    # Print top 3 most connected members in this club\n",
    "    print(f\"\\nTop 3 most connected members in '{club_name}' club:\")\n",
    "    for node in sorted_members[:3]:\n",
    "        print(f\"Node {node} - Degree: {G.degree(node)} - Connections: {list(G.neighbors(node))}\")\n"
   ]
  },
  {
   "cell_type": "code",
   "execution_count": 15,
   "id": "ad0ae02d",
   "metadata": {},
   "outputs": [
    {
     "data": {
      "image/png": "[encoded data removed]",
      "text/plain": [
       "<Figure size 800x600 with 1 Axes>"
      ]
     },
     "metadata": {},
     "output_type": "display_data"
    }
   ],
   "source": [
    "\n",
    "# Assign colors based on club membership\n",
    "club_colors = {\"Mr. Hi\": \"blue\", \"Officer\": \"red\"}\n",
    "node_colors = [club_colors[G.nodes[n][\"club\"]] for n in G.nodes]\n",
    "\n",
    "# Draw the graph\n",
    "plt.figure(figsize=(8, 6))\n",
    "nx.draw(G, with_labels=True, node_color=node_colors, edge_color=\"gray\", node_size=500, font_size=10)\n",
    "\n",
    "# Add a legend\n",
    "from matplotlib.patches import Patch\n",
    "legend_handles = [Patch(color=color, label=club) for club, color in club_colors.items()]\n",
    "plt.legend(handles=legend_handles, loc=\"upper right\")\n",
    "\n",
    "plt.title(\"Karate Club Graph - Colored by Club Membership\")\n",
    "plt.show()"
   ]
  },
  {
   "cell_type": "code",
   "execution_count": null,
   "id": "220cbe00",
   "metadata": {},
   "outputs": [],
   "source": []
  },
  {
   "cell_type": "markdown",
   "id": "56503ddf",
   "metadata": {},
   "source": [
    "## Pre-processing"
   ]
  },
  {
   "cell_type": "markdown",
   "id": "5ea27be1",
   "metadata": {},
   "source": [
    "Since the Karate Club dataset is undirected, G.degree(n) just returns the total number of edges connected to node n (i.e., its degree). If we were working with a directed graph, we would need to use G.in_degree(n) for incoming edges and G.out_degree(n) for outgoing edges."
   ]
  },
  {
   "cell_type": "code",
   "execution_count": 16,
   "id": "3b506e12",
   "metadata": {},
   "outputs": [],
   "source": [
    "node_features = np.array([[G.degree(n)] for n in G.nodes])  # Each degree should be wrapped in a list\n",
    "    # node_features will have shape (num_nodes, 1), which is compatible with the input layer."
   ]
  },
  {
   "cell_type": "code",
   "execution_count": 17,
   "id": "14bfc2ba",
   "metadata": {},
   "outputs": [
    {
     "data": {
      "text/plain": [
       "array([[16],\n",
       "       [ 9],\n",
       "       [10]])"
      ]
     },
     "execution_count": 17,
     "metadata": {},
     "output_type": "execute_result"
    }
   ],
   "source": [
    "node_features[:3]"
   ]
  },
  {
   "cell_type": "code",
   "execution_count": 18,
   "id": "8efacc08",
   "metadata": {},
   "outputs": [
    {
     "name": "stdout",
     "output_type": "stream",
     "text": [
      "{(0, 1): 4, (0, 2): 5, (0, 3): 3, (0, 4): 3, (0, 5): 3, (0, 6): 3, (0, 7): 2, (0, 8): 2, (0, 10): 2, (0, 11): 3, (0, 12): 1, (0, 13): 3, (0, 17): 2, (0, 19): 2, (0, 21): 2, (0, 31): 2, (1, 2): 6, (1, 3): 3, (1, 7): 4, (1, 13): 5, (1, 17): 1, (1, 19): 2, (1, 21): 2, (1, 30): 2, (2, 3): 3, (2, 7): 4, (2, 8): 5, (2, 9): 1, (2, 13): 3, (2, 27): 2, (2, 28): 2, (2, 32): 2, (3, 7): 3, (3, 12): 3, (3, 13): 3, (4, 6): 2, (4, 10): 3, (5, 6): 5, (5, 10): 3, (5, 16): 3, (6, 16): 3, (8, 30): 3, (8, 32): 3, (8, 33): 4, (9, 33): 2, (13, 33): 3, (14, 32): 3, (14, 33): 2, (15, 32): 3, (15, 33): 4, (18, 32): 1, (18, 33): 2, (19, 33): 1, (20, 32): 3, (20, 33): 1, (22, 32): 2, (22, 33): 3, (23, 25): 5, (23, 27): 4, (23, 29): 3, (23, 32): 5, (23, 33): 4, (24, 25): 2, (24, 27): 3, (24, 31): 2, (25, 31): 7, (26, 29): 4, (26, 33): 2, (27, 33): 4, (28, 31): 2, (28, 33): 2, (29, 32): 4, (29, 33): 2, (30, 32): 3, (30, 33): 3, (31, 32): 4, (31, 33): 4, (32, 33): 5}\n"
     ]
    }
   ],
   "source": [
    "G = nx.karate_club_graph()\n",
    "print(nx.get_edge_attributes(G, 'weight'))  # Should be an empty dictionary\n"
   ]
  },
  {
   "cell_type": "code",
   "execution_count": 21,
   "id": "17280fea",
   "metadata": {},
   "outputs": [],
   "source": [
    "# definición de esta matriz\n",
    "\n",
    "# Prepare adjacency matrix\n",
    "adj_matrix = nx.to_numpy_array(G) # weighted\n",
    "#adj_matrix = (nx.to_numpy_array(G) > 0).astype(int)  # Converts all nonzero values to 1\n"
   ]
  },
  {
   "cell_type": "code",
   "execution_count": 22,
   "id": "b34bbbf0",
   "metadata": {},
   "outputs": [
    {
     "data": {
      "text/plain": [
       "array([[0., 4., 5., ..., 2., 0., 0.],\n",
       "       [4., 0., 6., ..., 0., 0., 0.],\n",
       "       [5., 6., 0., ..., 0., 2., 0.],\n",
       "       ...,\n",
       "       [2., 0., 0., ..., 0., 4., 4.],\n",
       "       [0., 0., 2., ..., 4., 0., 5.],\n",
       "       [0., 0., 0., ..., 4., 5., 0.]])"
      ]
     },
     "execution_count": 22,
     "metadata": {},
     "output_type": "execute_result"
    }
   ],
   "source": [
    "adj_matrix"
   ]
  },
  {
   "cell_type": "code",
   "execution_count": 23,
   "id": "e33848b9",
   "metadata": {},
   "outputs": [
    {
     "data": {
      "text/plain": [
       "(34, 34)"
      ]
     },
     "execution_count": 23,
     "metadata": {},
     "output_type": "execute_result"
    }
   ],
   "source": [
    "adj_matrix.shape # 34x43 cant. de nodos; 1 si están relacionados"
   ]
  },
  {
   "cell_type": "code",
   "execution_count": 24,
   "id": "1b5db207",
   "metadata": {},
   "outputs": [
    {
     "data": {
      "text/plain": [
       "array([ True,  True,  True,  True,  True,  True,  True,  True,  True,\n",
       "       False,  True,  True,  True,  True, False, False,  True,  True,\n",
       "       False,  True, False,  True, False, False, False, False, False,\n",
       "       False, False, False, False, False, False, False])"
      ]
     },
     "execution_count": 24,
     "metadata": {},
     "output_type": "execute_result"
    }
   ],
   "source": [
    "# Prepare labels (node classification: which faction the user belongs to)\n",
    "labels = np.array([G.nodes[n]['club'] == 'Mr. Hi' for n in G.nodes])  # 1 if in faction Mr. Hi, else 0\n",
    "\n",
    "labels"
   ]
  },
  {
   "cell_type": "code",
   "execution_count": 25,
   "id": "af8dd046",
   "metadata": {},
   "outputs": [],
   "source": [
    "# Split dataset (simple 80-20 split for training and testing)\n",
    "train_mask = np.zeros_like(labels, dtype=bool)\n",
    "train_mask[:int(0.8 * len(labels))] = True\n"
   ]
  },
  {
   "cell_type": "code",
   "execution_count": 26,
   "id": "dffb89bb",
   "metadata": {},
   "outputs": [],
   "source": [
    "# Convert to Spektral Graph object\n",
    "graph = Graph(x=node_features, a=adj_matrix, y=labels)\n",
    "\n",
    "# Create a simple dataset for training\n",
    "class KarateDataset(Dataset):\n",
    "    def read(self):\n",
    "        return [graph]\n",
    "\n",
    "dataset = KarateDataset()"
   ]
  },
  {
   "cell_type": "code",
   "execution_count": 27,
   "id": "d16d3c2d",
   "metadata": {},
   "outputs": [
    {
     "data": {
      "text/plain": [
       "Graph(n_nodes=34, n_node_features=1, n_edge_features=None, n_labels=34)"
      ]
     },
     "execution_count": 27,
     "metadata": {},
     "output_type": "execute_result"
    }
   ],
   "source": [
    "graph"
   ]
  },
  {
   "cell_type": "code",
   "execution_count": 28,
   "id": "aa4343ef",
   "metadata": {},
   "outputs": [
    {
     "data": {
      "text/plain": [
       "KarateDataset(n_graphs=1)"
      ]
     },
     "execution_count": 28,
     "metadata": {},
     "output_type": "execute_result"
    }
   ],
   "source": [
    "dataset"
   ]
  },
  {
   "cell_type": "code",
   "execution_count": null,
   "id": "745ec968",
   "metadata": {},
   "outputs": [],
   "source": []
  },
  {
   "cell_type": "code",
   "execution_count": null,
   "id": "ae6f282c",
   "metadata": {},
   "outputs": [],
   "source": []
  },
  {
   "cell_type": "code",
   "execution_count": null,
   "id": "63cb04dc",
   "metadata": {},
   "outputs": [],
   "source": []
  },
  {
   "cell_type": "code",
   "execution_count": 29,
   "id": "1c13c114",
   "metadata": {},
   "outputs": [
    {
     "name": "stdout",
     "output_type": "stream",
     "text": [
      "(34, 1)\n",
      "(34, 34)\n",
      "(27,)\n"
     ]
    },
    {
     "data": {
      "text/plain": [
       "(None, None, None)"
      ]
     },
     "execution_count": 29,
     "metadata": {},
     "output_type": "execute_result"
    }
   ],
   "source": [
    "# training data\n",
    "\n",
    "# Prepare training data\n",
    "train_graph = dataset[0]\n",
    "train_features = train_graph.x\n",
    "train_adjacency = train_graph.a\n",
    "train_labels = train_graph.y[train_mask]\n",
    "\n",
    "\n",
    "print(train_features.shape), print(train_adjacency.shape), print(train_labels.shape)\n"
   ]
  },
  {
   "cell_type": "code",
   "execution_count": 30,
   "id": "bb3f9e1f",
   "metadata": {},
   "outputs": [],
   "source": [
    "train_features = train_features[train_mask]  # Shape (27, 1)\n",
    "train_adjacency = train_adjacency[train_mask][:, train_mask]  # Shape (27, 27)\n",
    "train_labels = train_labels.reshape(-1, 1)  # Ensure it's (27, 1)"
   ]
  },
  {
   "cell_type": "code",
   "execution_count": 31,
   "id": "0531cb95",
   "metadata": {},
   "outputs": [
    {
     "name": "stdout",
     "output_type": "stream",
     "text": [
      "(27, 1)\n",
      "(27, 27)\n",
      "(27, 1)\n"
     ]
    }
   ],
   "source": [
    "print(train_features.shape)   # Expected (27, 1)\n",
    "print(train_adjacency.shape)  # Expected (27, 27)\n",
    "print(train_labels.shape)     # Expected (27, 1)"
   ]
  },
  {
   "cell_type": "code",
   "execution_count": null,
   "id": "c13a04ba",
   "metadata": {},
   "outputs": [],
   "source": []
  },
  {
   "cell_type": "code",
   "execution_count": null,
   "id": "031c38c4",
   "metadata": {},
   "outputs": [],
   "source": []
  },
  {
   "cell_type": "code",
   "execution_count": null,
   "id": "1bca204b",
   "metadata": {},
   "outputs": [],
   "source": []
  },
  {
   "cell_type": "markdown",
   "id": "6dd56656",
   "metadata": {},
   "source": [
    "## Building the model"
   ]
  },
  {
   "cell_type": "code",
   "execution_count": 34,
   "id": "5b2503d3",
   "metadata": {},
   "outputs": [],
   "source": [
    "# Build the model (using previous code)\n",
    "input_node_features = layers.Input(shape=(node_features.shape[1],))\n",
    "#input_adjacency_matrix = layers.Input(shape=(node_features.shape[0], node_features.shape[0]))\n",
    "input_adjacency_matrix = layers.Input(shape=(None, None))  # Dynamic adjacency shape\n",
    "\n",
    "\n",
    "# Graph convolutional layers\n",
    "x = GCNConv(64, activation='relu')([input_node_features, input_adjacency_matrix])\n",
    "x = GCNConv(32, activation='relu')([x, input_adjacency_matrix])\n",
    "\n",
    "\n",
    "# Fully connected layers for classification\n",
    "\n",
    "x = layers.Dropout(0.5)(x)  # Add dropout before the dense layer\n",
    "x = layers.Dense(64, activation='relu')(x)\n",
    "output = layers.Dense(1, activation='sigmoid')(x)  # Binary classification (faction)\n",
    "\n",
    "model = models.Model(inputs=[input_node_features, input_adjacency_matrix], outputs=output)\n",
    "\n",
    "model.compile(optimizer='adam', loss='binary_crossentropy', metrics=['accuracy'])"
   ]
  },
  {
   "cell_type": "code",
   "execution_count": null,
   "id": "8c7de3c7",
   "metadata": {},
   "outputs": [],
   "source": []
  },
  {
   "cell_type": "code",
   "execution_count": 33,
   "id": "13a1a25b",
   "metadata": {},
   "outputs": [
    {
     "name": "stdout",
     "output_type": "stream",
     "text": [
      "Model: \"model_1\"\n",
      "__________________________________________________________________________________________________\n",
      " Layer (type)                Output Shape                 Param #   Connected to                  \n",
      "==================================================================================================\n",
      " input_3 (InputLayer)        [(None, 1)]                  0         []                            \n",
      "                                                                                                  \n",
      " input_4 (InputLayer)        [(None, None, None)]         0         []                            \n",
      "                                                                                                  \n",
      " gcn_conv_2 (GCNConv)        (None, None, 32)             64        ['input_3[0][0]',             \n",
      "                                                                     'input_4[0][0]']             \n",
      "                                                                                                  \n",
      " gcn_conv_3 (GCNConv)        (None, None, 16)             528       ['gcn_conv_2[0][0]',          \n",
      "                                                                     'input_4[0][0]']             \n",
      "                                                                                                  \n",
      " dropout_1 (Dropout)         (None, None, 16)             0         ['gcn_conv_3[0][0]']          \n",
      "                                                                                                  \n",
      " dense_2 (Dense)             (None, None, 32)             544       ['dropout_1[0][0]']           \n",
      "                                                                                                  \n",
      " dense_3 (Dense)             (None, None, 1)              33        ['dense_2[0][0]']             \n",
      "                                                                                                  \n",
      "==================================================================================================\n",
      "Total params: 1169 (4.57 KB)\n",
      "Trainable params: 1169 (4.57 KB)\n",
      "Non-trainable params: 0 (0.00 Byte)\n",
      "__________________________________________________________________________________________________\n"
     ]
    }
   ],
   "source": [
    "# Inputs\n",
    "input_node_features = layers.Input(shape=(node_features.shape[1],))\n",
    "input_adjacency_matrix = layers.Input(shape=(None, None))  # Dynamic adjacency shape\n",
    "\n",
    "# Graph convolutional layers (reduced size)\n",
    "x = GCNConv(32, activation='relu')([input_node_features, input_adjacency_matrix])\n",
    "x = GCNConv(16, activation='relu')([x, input_adjacency_matrix])\n",
    "\n",
    "# Fully connected layers for classification\n",
    "x = layers.Dropout(0.3)(x)  # Lower dropout due to small dataset\n",
    "x = layers.Dense(32, activation='relu', kernel_regularizer=tf.keras.regularizers.l2(0.01))(x)\n",
    "output = layers.Dense(1, activation='sigmoid')(x)  # Binary classification\n",
    "\n",
    "# Build & Compile Model\n",
    "model = models.Model(inputs=[input_node_features, input_adjacency_matrix], outputs=output)\n",
    "model.compile(optimizer='adam', loss='binary_crossentropy', metrics=['accuracy'])\n",
    "\n",
    "# Summary\n",
    "model.summary()"
   ]
  },
  {
   "cell_type": "code",
   "execution_count": null,
   "id": "1646648d",
   "metadata": {},
   "outputs": [],
   "source": []
  },
  {
   "cell_type": "code",
   "execution_count": 40,
   "id": "3f095b1e",
   "metadata": {},
   "outputs": [],
   "source": [
    "val_features = test_features\n",
    "val_adjacency = test_adjacency\n",
    "val_labels = test_labels"
   ]
  },
  {
   "cell_type": "code",
   "execution_count": 42,
   "id": "fa93c390",
   "metadata": {},
   "outputs": [
    {
     "name": "stdout",
     "output_type": "stream",
     "text": [
      "Epoch 1/20\n",
      "1/1 [==============================] - 0s 67ms/step - loss: 0.6228 - accuracy: 0.8889 - val_loss: 182.6489 - val_accuracy: 0.0000e+00\n",
      "Epoch 2/20\n",
      "1/1 [==============================] - 0s 26ms/step - loss: 2.0204 - accuracy: 0.7037 - val_loss: 184.0393 - val_accuracy: 0.0000e+00\n",
      "Epoch 3/20\n",
      "1/1 [==============================] - 0s 31ms/step - loss: 1.3677 - accuracy: 0.8148 - val_loss: 186.8070 - val_accuracy: 0.0000e+00\n",
      "Epoch 4/20\n",
      "1/1 [==============================] - 0s 29ms/step - loss: 1.6589 - accuracy: 0.7778 - val_loss: 188.5062 - val_accuracy: 0.0000e+00\n",
      "Epoch 5/20\n",
      "1/1 [==============================] - 0s 28ms/step - loss: 0.3392 - accuracy: 0.8889 - val_loss: 189.8965 - val_accuracy: 0.0000e+00\n",
      "Epoch 6/20\n",
      "1/1 [==============================] - 0s 28ms/step - loss: 4.3873 - accuracy: 0.8148 - val_loss: 188.7020 - val_accuracy: 0.0000e+00\n",
      "Epoch 7/20\n",
      "1/1 [==============================] - 0s 34ms/step - loss: 3.5883 - accuracy: 0.8148 - val_loss: 186.2088 - val_accuracy: 0.0000e+00\n",
      "Epoch 8/20\n",
      "1/1 [==============================] - 0s 34ms/step - loss: 2.4769 - accuracy: 0.8519 - val_loss: 183.0362 - val_accuracy: 0.0000e+00\n",
      "Epoch 9/20\n",
      "1/1 [==============================] - 0s 30ms/step - loss: 5.5475 - accuracy: 0.8519 - val_loss: 178.1335 - val_accuracy: 0.0000e+00\n",
      "Epoch 10/20\n",
      "1/1 [==============================] - 0s 27ms/step - loss: 1.0279 - accuracy: 0.8519 - val_loss: 173.3404 - val_accuracy: 0.0000e+00\n",
      "Epoch 11/20\n",
      "1/1 [==============================] - 0s 28ms/step - loss: 1.3905 - accuracy: 0.8889 - val_loss: 167.9106 - val_accuracy: 0.0000e+00\n",
      "Epoch 12/20\n",
      "1/1 [==============================] - 0s 27ms/step - loss: 0.7973 - accuracy: 0.8148 - val_loss: 162.9139 - val_accuracy: 0.0000e+00\n",
      "Epoch 13/20\n",
      "1/1 [==============================] - 0s 29ms/step - loss: 1.8419 - accuracy: 0.8519 - val_loss: 157.1882 - val_accuracy: 0.0000e+00\n",
      "Epoch 14/20\n",
      "1/1 [==============================] - 0s 30ms/step - loss: 1.7962 - accuracy: 0.8148 - val_loss: 151.1386 - val_accuracy: 0.0000e+00\n",
      "Epoch 15/20\n",
      "1/1 [==============================] - 0s 28ms/step - loss: 1.2725 - accuracy: 0.8148 - val_loss: 145.1101 - val_accuracy: 0.0000e+00\n",
      "Epoch 16/20\n",
      "1/1 [==============================] - 0s 30ms/step - loss: 1.0872 - accuracy: 0.8519 - val_loss: 139.0778 - val_accuracy: 0.0000e+00\n",
      "Epoch 17/20\n",
      "1/1 [==============================] - 0s 27ms/step - loss: 2.6412 - accuracy: 0.8148 - val_loss: 132.8902 - val_accuracy: 0.0000e+00\n",
      "Epoch 18/20\n",
      "1/1 [==============================] - 0s 28ms/step - loss: 0.7516 - accuracy: 0.8148 - val_loss: 126.9011 - val_accuracy: 0.0000e+00\n",
      "Epoch 19/20\n",
      "1/1 [==============================] - 0s 28ms/step - loss: 2.4383 - accuracy: 0.8519 - val_loss: 119.5212 - val_accuracy: 0.0000e+00\n",
      "Epoch 20/20\n",
      "1/1 [==============================] - 0s 29ms/step - loss: 1.8779 - accuracy: 0.8519 - val_loss: 111.8975 - val_accuracy: 0.0000e+00\n"
     ]
    },
    {
     "data": {
      "text/plain": [
       "<keras.src.callbacks.History at 0x7af6c8d41120>"
      ]
     },
     "execution_count": 42,
     "metadata": {},
     "output_type": "execute_result"
    }
   ],
   "source": [
    "# Train the model\n",
    "model.fit([train_features, train_adjacency], train_labels, \n",
    "          validation_data=([val_features, val_adjacency], val_labels),epochs=20)"
   ]
  },
  {
   "cell_type": "code",
   "execution_count": 93,
   "id": "185ea69e",
   "metadata": {},
   "outputs": [
    {
     "data": {
      "text/plain": [
       "array([ True,  True,  True,  True,  True,  True,  True,  True,  True,\n",
       "        True,  True,  True,  True,  True,  True,  True,  True,  True,\n",
       "        True,  True,  True,  True,  True,  True,  True,  True,  True,\n",
       "       False, False, False, False, False, False, False])"
      ]
     },
     "execution_count": 93,
     "metadata": {},
     "output_type": "execute_result"
    }
   ],
   "source": [
    "train_mask"
   ]
  },
  {
   "cell_type": "code",
   "execution_count": 94,
   "id": "2c0dfc95",
   "metadata": {},
   "outputs": [
    {
     "data": {
      "text/plain": [
       "array([False, False, False, False, False, False, False, False, False,\n",
       "       False, False, False, False, False, False, False, False, False,\n",
       "       False, False, False, False, False, False, False, False, False,\n",
       "        True,  True,  True,  True,  True,  True,  True])"
      ]
     },
     "execution_count": 94,
     "metadata": {},
     "output_type": "execute_result"
    }
   ],
   "source": [
    "test_mask"
   ]
  },
  {
   "cell_type": "code",
   "execution_count": null,
   "id": "dd006101",
   "metadata": {},
   "outputs": [],
   "source": []
  },
  {
   "cell_type": "code",
   "execution_count": 95,
   "id": "aec0c293",
   "metadata": {},
   "outputs": [
    {
     "data": {
      "text/plain": [
       "array([[0, 1, 1, 1, 1, 1, 1, 1, 1, 0, 1, 1, 1, 1, 0, 0, 0, 1, 0, 1, 0, 1,\n",
       "        0, 0, 0, 0, 0],\n",
       "       [1, 0, 1, 1, 0, 0, 0, 1, 0, 0, 0, 0, 0, 1, 0, 0, 0, 1, 0, 1, 0, 1,\n",
       "        0, 0, 0, 0, 0],\n",
       "       [1, 1, 0, 1, 0, 0, 0, 1, 1, 1, 0, 0, 0, 1, 0, 0, 0, 0, 0, 0, 0, 0,\n",
       "        0, 0, 0, 0, 0],\n",
       "       [1, 1, 1, 0, 0, 0, 0, 1, 0, 0, 0, 0, 1, 1, 0, 0, 0, 0, 0, 0, 0, 0,\n",
       "        0, 0, 0, 0, 0],\n",
       "       [1, 0, 0, 0, 0, 0, 1, 0, 0, 0, 1, 0, 0, 0, 0, 0, 0, 0, 0, 0, 0, 0,\n",
       "        0, 0, 0, 0, 0],\n",
       "       [1, 0, 0, 0, 0, 0, 1, 0, 0, 0, 1, 0, 0, 0, 0, 0, 1, 0, 0, 0, 0, 0,\n",
       "        0, 0, 0, 0, 0],\n",
       "       [1, 0, 0, 0, 1, 1, 0, 0, 0, 0, 0, 0, 0, 0, 0, 0, 1, 0, 0, 0, 0, 0,\n",
       "        0, 0, 0, 0, 0],\n",
       "       [1, 1, 1, 1, 0, 0, 0, 0, 0, 0, 0, 0, 0, 0, 0, 0, 0, 0, 0, 0, 0, 0,\n",
       "        0, 0, 0, 0, 0],\n",
       "       [1, 0, 1, 0, 0, 0, 0, 0, 0, 0, 0, 0, 0, 0, 0, 0, 0, 0, 0, 0, 0, 0,\n",
       "        0, 0, 0, 0, 0],\n",
       "       [0, 0, 1, 0, 0, 0, 0, 0, 0, 0, 0, 0, 0, 0, 0, 0, 0, 0, 0, 0, 0, 0,\n",
       "        0, 0, 0, 0, 0],\n",
       "       [1, 0, 0, 0, 1, 1, 0, 0, 0, 0, 0, 0, 0, 0, 0, 0, 0, 0, 0, 0, 0, 0,\n",
       "        0, 0, 0, 0, 0],\n",
       "       [1, 0, 0, 0, 0, 0, 0, 0, 0, 0, 0, 0, 0, 0, 0, 0, 0, 0, 0, 0, 0, 0,\n",
       "        0, 0, 0, 0, 0],\n",
       "       [1, 0, 0, 1, 0, 0, 0, 0, 0, 0, 0, 0, 0, 0, 0, 0, 0, 0, 0, 0, 0, 0,\n",
       "        0, 0, 0, 0, 0],\n",
       "       [1, 1, 1, 1, 0, 0, 0, 0, 0, 0, 0, 0, 0, 0, 0, 0, 0, 0, 0, 0, 0, 0,\n",
       "        0, 0, 0, 0, 0],\n",
       "       [0, 0, 0, 0, 0, 0, 0, 0, 0, 0, 0, 0, 0, 0, 0, 0, 0, 0, 0, 0, 0, 0,\n",
       "        0, 0, 0, 0, 0],\n",
       "       [0, 0, 0, 0, 0, 0, 0, 0, 0, 0, 0, 0, 0, 0, 0, 0, 0, 0, 0, 0, 0, 0,\n",
       "        0, 0, 0, 0, 0],\n",
       "       [0, 0, 0, 0, 0, 1, 1, 0, 0, 0, 0, 0, 0, 0, 0, 0, 0, 0, 0, 0, 0, 0,\n",
       "        0, 0, 0, 0, 0],\n",
       "       [1, 1, 0, 0, 0, 0, 0, 0, 0, 0, 0, 0, 0, 0, 0, 0, 0, 0, 0, 0, 0, 0,\n",
       "        0, 0, 0, 0, 0],\n",
       "       [0, 0, 0, 0, 0, 0, 0, 0, 0, 0, 0, 0, 0, 0, 0, 0, 0, 0, 0, 0, 0, 0,\n",
       "        0, 0, 0, 0, 0],\n",
       "       [1, 1, 0, 0, 0, 0, 0, 0, 0, 0, 0, 0, 0, 0, 0, 0, 0, 0, 0, 0, 0, 0,\n",
       "        0, 0, 0, 0, 0],\n",
       "       [0, 0, 0, 0, 0, 0, 0, 0, 0, 0, 0, 0, 0, 0, 0, 0, 0, 0, 0, 0, 0, 0,\n",
       "        0, 0, 0, 0, 0],\n",
       "       [1, 1, 0, 0, 0, 0, 0, 0, 0, 0, 0, 0, 0, 0, 0, 0, 0, 0, 0, 0, 0, 0,\n",
       "        0, 0, 0, 0, 0],\n",
       "       [0, 0, 0, 0, 0, 0, 0, 0, 0, 0, 0, 0, 0, 0, 0, 0, 0, 0, 0, 0, 0, 0,\n",
       "        0, 0, 0, 0, 0],\n",
       "       [0, 0, 0, 0, 0, 0, 0, 0, 0, 0, 0, 0, 0, 0, 0, 0, 0, 0, 0, 0, 0, 0,\n",
       "        0, 0, 0, 1, 0],\n",
       "       [0, 0, 0, 0, 0, 0, 0, 0, 0, 0, 0, 0, 0, 0, 0, 0, 0, 0, 0, 0, 0, 0,\n",
       "        0, 0, 0, 1, 0],\n",
       "       [0, 0, 0, 0, 0, 0, 0, 0, 0, 0, 0, 0, 0, 0, 0, 0, 0, 0, 0, 0, 0, 0,\n",
       "        0, 1, 1, 0, 0],\n",
       "       [0, 0, 0, 0, 0, 0, 0, 0, 0, 0, 0, 0, 0, 0, 0, 0, 0, 0, 0, 0, 0, 0,\n",
       "        0, 0, 0, 0, 0]])"
      ]
     },
     "execution_count": 95,
     "metadata": {},
     "output_type": "execute_result"
    }
   ],
   "source": [
    "train_adjacency"
   ]
  },
  {
   "cell_type": "code",
   "execution_count": 96,
   "id": "df801087",
   "metadata": {},
   "outputs": [
    {
     "data": {
      "text/plain": [
       "array([[0, 0, 0, 0, 0, 0, 1],\n",
       "       [0, 0, 0, 0, 1, 0, 1],\n",
       "       [0, 0, 0, 0, 0, 1, 1],\n",
       "       [0, 0, 0, 0, 0, 1, 1],\n",
       "       [0, 1, 0, 0, 0, 1, 1],\n",
       "       [0, 0, 1, 1, 1, 0, 1],\n",
       "       [1, 1, 1, 1, 1, 1, 0]])"
      ]
     },
     "execution_count": 96,
     "metadata": {},
     "output_type": "execute_result"
    }
   ],
   "source": [
    "test_adjacency"
   ]
  },
  {
   "cell_type": "code",
   "execution_count": null,
   "id": "64ec2fb7",
   "metadata": {},
   "outputs": [],
   "source": []
  },
  {
   "cell_type": "code",
   "execution_count": 36,
   "id": "c52caf6c",
   "metadata": {},
   "outputs": [],
   "source": [
    "test_mask = ~train_mask  # Remaining 20% for testing"
   ]
  },
  {
   "cell_type": "code",
   "execution_count": 37,
   "id": "937faa92",
   "metadata": {},
   "outputs": [],
   "source": [
    "test_features = node_features[test_mask]    # Shape (7, 1)\n",
    "test_labels = labels[test_mask].reshape(-1, 1)    # Shape (7, 1)"
   ]
  },
  {
   "cell_type": "code",
   "execution_count": 38,
   "id": "0f72f534",
   "metadata": {},
   "outputs": [],
   "source": [
    "#\n",
    "test_adjacency =  adj_matrix[test_mask][:, test_mask] "
   ]
  },
  {
   "cell_type": "code",
   "execution_count": 39,
   "id": "361ae661",
   "metadata": {},
   "outputs": [
    {
     "data": {
      "text/plain": [
       "((7, 1), (7, 1), (7, 7))"
      ]
     },
     "execution_count": 39,
     "metadata": {},
     "output_type": "execute_result"
    }
   ],
   "source": [
    "test_features.shape, test_labels.shape, test_adjacency.shape"
   ]
  },
  {
   "cell_type": "code",
   "execution_count": 132,
   "id": "45c361a7",
   "metadata": {},
   "outputs": [
    {
     "name": "stdout",
     "output_type": "stream",
     "text": [
      "1/1 [==============================] - 0s 18ms/step - loss: 0.2101 - accuracy: 1.0000\n",
      "Test Loss: 0.2101\n",
      "Test Accuracy: 1.0000\n"
     ]
    }
   ],
   "source": [
    "# Evaluate model (returns loss and accuracy)\n",
    "loss, accuracy = model.evaluate([test_features, test_adjacency], test_labels)\n",
    "\n",
    "print(f\"Test Loss: {loss:.4f}\")\n",
    "print(f\"Test Accuracy: {accuracy:.4f}\")\n"
   ]
  },
  {
   "cell_type": "code",
   "execution_count": null,
   "id": "b5acb46d",
   "metadata": {},
   "outputs": [],
   "source": []
  },
  {
   "cell_type": "code",
   "execution_count": 131,
   "id": "74c02e8a",
   "metadata": {},
   "outputs": [
    {
     "name": "stdout",
     "output_type": "stream",
     "text": [
      "1/1 [==============================] - 0s 54ms/step\n",
      "Predictions: [0 0 0 0 0 0 0]\n",
      "True Labels: [False False False False False False False]\n",
      "Test Accuracy: 1.0\n"
     ]
    }
   ],
   "source": [
    "# Make predictions\n",
    "predictions = model.predict([test_features, test_adjacency])\n",
    "\n",
    "# Convert to binary classification (threshold at 0.5)\n",
    "predictions = (predictions > 0.1).astype(int)\n",
    "\n",
    "# Evaluate accuracy\n",
    "accuracy = np.mean(predictions == test_labels)\n",
    "\n",
    "# Print results\n",
    "print(\"Predictions:\", predictions.flatten())\n",
    "print(\"True Labels:\", test_labels.flatten())\n",
    "print(\"Test Accuracy:\", accuracy)"
   ]
  },
  {
   "cell_type": "code",
   "execution_count": null,
   "id": "a8ec9459",
   "metadata": {},
   "outputs": [],
   "source": []
  },
  {
   "cell_type": "code",
   "execution_count": null,
   "id": "eb1e25fc",
   "metadata": {},
   "outputs": [],
   "source": []
  },
  {
   "cell_type": "code",
   "execution_count": null,
   "id": "38f983e1",
   "metadata": {},
   "outputs": [],
   "source": [
    "\n",
    "plt.scatter(np.arange(len(predictions)), predictions, label='Predictions')\n",
    "plt.scatter(np.arange(len(test_labels)), test_labels, label='True Labels', alpha=0.6)\n",
    "plt.legend()\n",
    "plt.show()"
   ]
  },
  {
   "cell_type": "code",
   "execution_count": null,
   "id": "ce9d9737",
   "metadata": {},
   "outputs": [],
   "source": []
  },
  {
   "cell_type": "markdown",
   "id": "e8e1c0cc",
   "metadata": {},
   "source": [
    "### Predicting a node's club membership (\"Mr. Hi\" or \"Officer\") based on its connections."
   ]
  },
  {
   "cell_type": "code",
   "execution_count": null,
   "id": "6f66d888",
   "metadata": {},
   "outputs": [],
   "source": []
  },
  {
   "cell_type": "code",
   "execution_count": 50,
   "id": "91fbe8c5",
   "metadata": {},
   "outputs": [
    {
     "data": {
      "text/plain": [
       "'\\nnormalize adj matrix\\n\\nimport scipy.sparse as sp\\n\\nadj = nx.adjacency_matrix(G).astype(np.float32)\\nadj += sp.eye(adj.shape[0])  # Add self-loops\\ndegree_matrix = np.array(adj.sum(axis=1)).flatten()\\nD_inv_sqrt = np.diag(1.0 / np.sqrt(degree_matrix))\\nadj_normalized = D_inv_sqrt @ adj @ D_inv_sqrt  # Symmetric normalization\\n\\nadj = tf.convert_to_tensor(adj_normalized, dtype=tf.float32)\\n\\n\\n'"
      ]
     },
     "execution_count": 50,
     "metadata": {},
     "output_type": "execute_result"
    }
   ],
   "source": [
    "adj\n",
    "\n",
    "\"\"\"\n",
    "normalize adj matrix\n",
    "\n",
    "import scipy.sparse as sp\n",
    "\n",
    "adj = nx.adjacency_matrix(G).astype(np.float32)\n",
    "adj += sp.eye(adj.shape[0])  # Add self-loops\n",
    "degree_matrix = np.array(adj.sum(axis=1)).flatten()\n",
    "D_inv_sqrt = np.diag(1.0 / np.sqrt(degree_matrix))\n",
    "adj_normalized = D_inv_sqrt @ adj @ D_inv_sqrt  # Symmetric normalization\n",
    "\n",
    "adj = tf.convert_to_tensor(adj_normalized, dtype=tf.float32)\n",
    "\n",
    "\n",
    "\"\"\""
   ]
  },
  {
   "cell_type": "code",
   "execution_count": null,
   "id": "d653b586",
   "metadata": {},
   "outputs": [],
   "source": []
  },
  {
   "cell_type": "code",
   "execution_count": 54,
   "id": "cff6b97d",
   "metadata": {},
   "outputs": [
    {
     "name": "stdout",
     "output_type": "stream",
     "text": [
      "Epoch 0, Loss: 95.07674407958984\n",
      "Epoch 10, Loss: 0.05319088697433472\n",
      "Epoch 20, Loss: 1.1617978811264038\n",
      "Epoch 30, Loss: 0.9894177913665771\n",
      "Epoch 40, Loss: 2.036013126373291\n",
      "Epoch 50, Loss: 3.5061546554970846e-08\n",
      "Epoch 60, Loss: 1.2502515316009521\n",
      "Epoch 70, Loss: 0.062270332127809525\n",
      "Epoch 80, Loss: 0.0\n",
      "Epoch 90, Loss: 1.0763792991638184\n",
      "Epoch 100, Loss: 1.3323376890639338e-07\n",
      "Epoch 110, Loss: 0.00864916667342186\n",
      "Epoch 120, Loss: 0.0010441920021548867\n",
      "Epoch 130, Loss: 8.064102985372301e-07\n",
      "Epoch 140, Loss: 0.0\n",
      "Epoch 150, Loss: 0.0\n",
      "Epoch 160, Loss: 0.6039879322052002\n",
      "Epoch 170, Loss: 0.006938281934708357\n",
      "Epoch 180, Loss: 0.38793158531188965\n",
      "Epoch 190, Loss: 0.045562274754047394\n",
      "Test Accuracy: 0.6470588445663452\n"
     ]
    },
    {
     "name": "stderr",
     "output_type": "stream",
     "text": [
      "/home/marcos/.local/lib/python3.10/site-packages/sklearn/manifold/_t_sne.py:800: FutureWarning: The default initialization in TSNE will change from 'random' to 'pca' in 1.2.\n",
      "  warnings.warn(\n",
      "/home/marcos/.local/lib/python3.10/site-packages/sklearn/manifold/_t_sne.py:810: FutureWarning: The default learning rate in TSNE will change from 200.0 to 'auto' in 1.2.\n",
      "  warnings.warn(\n"
     ]
    },
    {
     "data": {
      "image/png": "[encoded data removed]",
      "text/plain": [
       "<Figure size 640x480 with 1 Axes>"
      ]
     },
     "metadata": {},
     "output_type": "display_data"
    }
   ],
   "source": [
    "import tensorflow as tf\n",
    "import numpy as np\n",
    "import networkx as nx\n",
    "from tensorflow.keras.layers import Layer\n",
    "from sklearn.preprocessing import StandardScaler\n",
    "\n",
    "# 1. Load and preprocess the Karate Club dataset\n",
    "G = nx.karate_club_graph()\n",
    "adj = nx.adjacency_matrix(G).todense()\n",
    "\n",
    "\n",
    "\n",
    "\"\"\"\n",
    "import scipy.sparse as sp\n",
    "\n",
    "adj = nx.adjacency_matrix(G).astype(np.float32)\n",
    "adj += sp.eye(adj.shape[0])  # Add self-loops\n",
    "degree_matrix = np.array(adj.sum(axis=1)).flatten()\n",
    "D_inv_sqrt = np.diag(1.0 / np.sqrt(degree_matrix))\n",
    "adj_normalized = D_inv_sqrt @ adj @ D_inv_sqrt  # Symmetric normalization\n",
    "\n",
    "adj = tf.convert_to_tensor(adj_normalized, dtype=tf.float32)\n",
    "\"\"\"\n",
    "\n",
    "\n",
    "\n",
    "\n",
    "features = np.identity(len(G))  # Use identity matrix as initial features\n",
    "\n",
    "# Normalize features\n",
    "scaler = StandardScaler()\n",
    "features = scaler.fit_transform(features)\n",
    "\n",
    "labels = np.array([G.nodes[i]['club'] != 'Mr. Hi' for i in range(len(G))], dtype=np.int32)\n",
    "\n",
    "# Create train and test masks (simplified for demonstration)\n",
    "train_mask = np.zeros(len(G), dtype=bool)\n",
    "train_mask[0:17] = True  # Arbitrary train/test split\n",
    "test_mask = ~train_mask\n",
    "\n",
    "# Convert data to TensorFlow tensors\n",
    "adj = tf.convert_to_tensor(adj, dtype=tf.float32)\n",
    "features = tf.convert_to_tensor(features, dtype=tf.float32)\n",
    "labels = tf.convert_to_tensor(labels, dtype=tf.int32)\n",
    "train_mask = tf.convert_to_tensor(train_mask)\n",
    "test_mask = tf.convert_to_tensor(test_mask)\n",
    "\n",
    "# 2. Define the GCN layer\n",
    "class GCNLayer(Layer):\n",
    "    def __init__(self, units, activation=None, **kwargs):\n",
    "        super(GCNLayer, self).__init__(**kwargs)\n",
    "        self.units = units\n",
    "        self.activation = tf.keras.activations.get(activation)\n",
    "\n",
    "    def build(self, input_shape):\n",
    "        # input_shape is a tuple of (features_shape, adj_shape)\n",
    "        features_shape, _ = input_shape  # Unpack the tuple\n",
    "        num_features = features_shape[-1] # Get the number of features from the features shape\n",
    "        self.w = self.add_weight(shape=(num_features, self.units),\n",
    "                                 initializer='glorot_uniform',\n",
    "                                 trainable=True)\n",
    "        self.b = self.add_weight(shape=(self.units,),\n",
    "                                 initializer='zeros',\n",
    "                                 trainable=True)\n",
    "\n",
    "    def call(self, inputs):\n",
    "        features, adj = inputs\n",
    "        support = tf.matmul(features, self.w)\n",
    "        adj_features = tf.matmul(adj, support)\n",
    "        output = adj_features + self.b\n",
    "        if self.activation:\n",
    "            output = self.activation(output)\n",
    "        return output\n",
    "\n",
    "# 3. Define the GCN model\n",
    "class GCNModel(tf.keras.Model):\n",
    "    def __init__(self, hidden_units, num_classes):\n",
    "        super(GCNModel, self).__init__()\n",
    "        self.gcn1 = GCNLayer(hidden_units, activation='relu')\n",
    "        self.gcn2 = GCNLayer(num_classes)\n",
    "\n",
    "    def call(self, inputs):\n",
    "        features, adj = inputs\n",
    "        x = self.gcn1((features, adj))\n",
    "        x = tf.nn.dropout(x, rate=0.5)\n",
    "        x = self.gcn2((x, adj))\n",
    "        return tf.nn.log_softmax(x, axis=1)\n",
    "\n",
    "model = GCNModel(hidden_units=16, num_classes=2)\n",
    "\n",
    "# 4. Define the loss function and optimizer\n",
    "loss_fn = tf.keras.losses.SparseCategoricalCrossentropy(from_logits=True)\n",
    "#loss_fn = tf.keras.losses.SparseCategoricalCrossentropy(from_logits=False)\n",
    "\n",
    "\n",
    "\n",
    "optimizer = tf.keras.optimizers.Adam(learning_rate=0.01)\n",
    "\n",
    "# 5. Training loop\n",
    "epochs = 200\n",
    "for epoch in range(epochs):\n",
    "    with tf.GradientTape() as tape:\n",
    "        logits = model((features, adj))\n",
    "        loss_value = loss_fn(labels[train_mask], logits[train_mask])\n",
    "    grads = tape.gradient(loss_value, model.trainable_variables)\n",
    "    optimizer.apply_gradients(zip(grads, model.trainable_variables))\n",
    "\n",
    "    if epoch % 10 == 0:\n",
    "        print(f\"Epoch {epoch}, Loss: {loss_value.numpy()}\")\n",
    "\n",
    "# 6. Evaluation\n",
    "logits = model((features, adj))\n",
    "predictions = tf.cast(tf.argmax(logits, axis=1), tf.int64) #added cast\n",
    "correct_predictions = tf.equal(predictions[test_mask], tf.cast(labels[test_mask], tf.int64)) #added cast here too for safety\n",
    "accuracy = tf.reduce_mean(tf.cast(correct_predictions, tf.float32))\n",
    "print(f\"Test Accuracy: {accuracy.numpy()}\")\n",
    "\n",
    "# 7. (Optional) Visualization (requires matplotlib and sklearn)\n",
    "try:\n",
    "    import matplotlib.pyplot as plt\n",
    "    from sklearn.manifold import TSNE\n",
    "\n",
    "    embeddings = model.gcn1((features,adj))\n",
    "    embeddings = embeddings.numpy()\n",
    "\n",
    "    tsne = TSNE(n_components=2)\n",
    "    embeddings_2d = tsne.fit_transform(embeddings)\n",
    "\n",
    "    plt.scatter(embeddings_2d[:, 0], embeddings_2d[:, 1], c=labels)\n",
    "    plt.show()\n",
    "\n",
    "except ImportError:\n",
    "    print(\"Visualization requires matplotlib and sklearn. Install them to visualize embeddings.\")"
   ]
  },
  {
   "cell_type": "code",
   "execution_count": 45,
   "id": "b2cd3772",
   "metadata": {},
   "outputs": [
    {
     "data": {
      "text/plain": [
       "<tf.Tensor: shape=(34,), dtype=int32, numpy=\n",
       "array([0, 0, 0, 0, 0, 0, 0, 0, 0, 1, 0, 0, 0, 0, 1, 1, 0, 0, 1, 0, 1, 0,\n",
       "       1, 1, 1, 1, 1, 1, 1, 1, 1, 1, 1, 1], dtype=int32)>"
      ]
     },
     "execution_count": 45,
     "metadata": {},
     "output_type": "execute_result"
    }
   ],
   "source": [
    "labels"
   ]
  },
  {
   "cell_type": "code",
   "execution_count": null,
   "id": "8fd41651",
   "metadata": {},
   "outputs": [],
   "source": []
  },
  {
   "cell_type": "code",
   "execution_count": null,
   "id": "481cb124",
   "metadata": {},
   "outputs": [],
   "source": []
  },
  {
   "cell_type": "code",
   "execution_count": null,
   "id": "bdd265c3",
   "metadata": {},
   "outputs": [],
   "source": []
  },
  {
   "cell_type": "code",
   "execution_count": null,
   "id": "fdd88264",
   "metadata": {},
   "outputs": [],
   "source": []
  },
  {
   "cell_type": "code",
   "execution_count": 55,
   "id": "0d0de835",
   "metadata": {},
   "outputs": [
    {
     "name": "stdout",
     "output_type": "stream",
     "text": [
      "Epoch 0, Loss: 0.7417075634002686\n",
      "Epoch 10, Loss: 0.3229388892650604\n",
      "Epoch 20, Loss: 0.15869387984275818\n",
      "Epoch 30, Loss: 0.12627078592777252\n",
      "Epoch 40, Loss: 0.04664545878767967\n",
      "Epoch 50, Loss: 0.03269624337553978\n",
      "Epoch 60, Loss: 0.056192733347415924\n",
      "Epoch 70, Loss: 0.015738531947135925\n",
      "Epoch 80, Loss: 0.01905663311481476\n",
      "Epoch 90, Loss: 0.017489472404122353\n",
      "Epoch 100, Loss: 0.017424026504158974\n",
      "Epoch 110, Loss: 0.0051550474017858505\n",
      "Epoch 120, Loss: 0.005129312165081501\n",
      "Epoch 130, Loss: 0.013614985160529613\n",
      "Epoch 140, Loss: 0.014903934672474861\n",
      "Epoch 150, Loss: 0.034706395119428635\n",
      "Epoch 160, Loss: 0.045869212597608566\n",
      "Epoch 170, Loss: 0.014335288666188717\n",
      "Epoch 180, Loss: 0.00014642502355854958\n",
      "Epoch 190, Loss: 0.011366779915988445\n",
      "Test Accuracy: 0.9411764740943909\n"
     ]
    },
    {
     "name": "stderr",
     "output_type": "stream",
     "text": [
      "/home/marcos/.local/lib/python3.10/site-packages/sklearn/manifold/_t_sne.py:800: FutureWarning: The default initialization in TSNE will change from 'random' to 'pca' in 1.2.\n",
      "  warnings.warn(\n",
      "/home/marcos/.local/lib/python3.10/site-packages/sklearn/manifold/_t_sne.py:810: FutureWarning: The default learning rate in TSNE will change from 200.0 to 'auto' in 1.2.\n",
      "  warnings.warn(\n"
     ]
    },
    {
     "data": {
      "image/png": "[encoded data removed]",
      "text/plain": [
       "<Figure size 640x480 with 1 Axes>"
      ]
     },
     "metadata": {},
     "output_type": "display_data"
    }
   ],
   "source": [
    "import tensorflow as tf\n",
    "import numpy as np\n",
    "import networkx as nx\n",
    "from tensorflow.keras.layers import Layer\n",
    "from sklearn.preprocessing import StandardScaler\n",
    "import scipy.sparse as sp\n",
    "\n",
    "# Load and preprocess the Karate Club dataset\n",
    "G = nx.karate_club_graph()\n",
    "\n",
    "adj = nx.adjacency_matrix(G).astype(np.float32).todense()  # Ensure it's dense\n",
    "adj += np.eye(adj.shape[0])  # Add self-loops\n",
    "degree_matrix = np.array(adj.sum(axis=1)).flatten()\n",
    "D_inv_sqrt = np.diag(1.0 / np.sqrt(degree_matrix))\n",
    "adj_normalized = D_inv_sqrt @ adj @ D_inv_sqrt  # Symmetric normalization\n",
    "\n",
    "adj = tf.convert_to_tensor(adj_normalized, dtype=tf.float32)\n",
    "\n",
    "features = np.identity(len(G))  # Identity matrix as features\n",
    "scaler = StandardScaler()\n",
    "features = scaler.fit_transform(features)\n",
    "\n",
    "labels = np.array([G.nodes[i]['club'] != 'Mr. Hi' for i in range(len(G))], dtype=np.int32)\n",
    "\n",
    "train_mask = np.zeros(len(G), dtype=bool)\n",
    "train_mask[0:17] = True  \n",
    "test_mask = ~train_mask\n",
    "\n",
    "# Convert to TensorFlow tensors\n",
    "features = tf.convert_to_tensor(features, dtype=tf.float32)\n",
    "labels = tf.convert_to_tensor(labels, dtype=tf.int32)\n",
    "train_mask = tf.convert_to_tensor(train_mask)\n",
    "test_mask = tf.convert_to_tensor(test_mask)\n",
    "\n",
    "# Define GCN Layer\n",
    "class GCNLayer(Layer):\n",
    "    def __init__(self, units, activation=None, **kwargs):\n",
    "        super(GCNLayer, self).__init__(**kwargs)\n",
    "        self.units = units\n",
    "        self.activation = tf.keras.activations.get(activation)\n",
    "\n",
    "    def build(self, input_shape):\n",
    "        features_shape, _ = input_shape  \n",
    "        num_features = features_shape[-1]\n",
    "        self.w = self.add_weight(shape=(num_features, self.units), initializer='glorot_uniform', trainable=True)\n",
    "        self.b = self.add_weight(shape=(self.units,), initializer='zeros', trainable=True)\n",
    "\n",
    "    def call(self, inputs):\n",
    "        features, adj = inputs\n",
    "        support = tf.matmul(features, self.w)\n",
    "        adj_features = tf.matmul(adj, support)\n",
    "        output = adj_features + self.b\n",
    "        if self.activation:\n",
    "            output = self.activation(output)\n",
    "        return output\n",
    "\n",
    "# Define GCN Model\n",
    "class GCNModel(tf.keras.Model):\n",
    "    def __init__(self, hidden_units, num_classes):\n",
    "        super(GCNModel, self).__init__()\n",
    "        self.gcn1 = GCNLayer(hidden_units, activation='relu')\n",
    "        self.gcn2 = GCNLayer(num_classes)\n",
    "\n",
    "    def call(self, inputs):\n",
    "        features, adj = inputs\n",
    "        x = self.gcn1((features, adj))\n",
    "        x = tf.nn.dropout(x, rate=0.5)\n",
    "        x = self.gcn2((x, adj))\n",
    "        return tf.nn.log_softmax(x, axis=1)\n",
    "\n",
    "model = GCNModel(hidden_units=16, num_classes=2)\n",
    "\n",
    "# Loss and Optimizer\n",
    "loss = tf.keras.losses.SparseCategoricalCrossentropy(from_logits=True)  # Corrected\n",
    "optimizer = tf.keras.optimizers.Adam(learning_rate=0.01)\n",
    "\n",
    "# Training loop\n",
    "epochs = 200\n",
    "for epoch in range(epochs):\n",
    "    with tf.GradientTape() as tape:\n",
    "        logits = model((features, adj))\n",
    "        loss_value = loss(labels[train_mask], logits[train_mask])  # Fixed loss_fn name\n",
    "    grads = tape.gradient(loss_value, model.trainable_variables)\n",
    "    optimizer.apply_gradients(zip(grads, model.trainable_variables))\n",
    "\n",
    "    if epoch % 10 == 0:\n",
    "        print(f\"Epoch {epoch}, Loss: {loss_value.numpy()}\")\n",
    "\n",
    "# Evaluation\n",
    "logits = model((features, adj))\n",
    "predictions = tf.cast(tf.argmax(logits, axis=1), tf.int64)\n",
    "correct_predictions = tf.equal(predictions[test_mask], tf.cast(labels[test_mask], tf.int64))\n",
    "accuracy = tf.reduce_mean(tf.cast(correct_predictions, tf.float32))\n",
    "print(f\"Test Accuracy: {accuracy.numpy()}\")\n",
    "\n",
    "# Optional Visualization\n",
    "try:\n",
    "    import matplotlib.pyplot as plt\n",
    "    from sklearn.manifold import TSNE\n",
    "\n",
    "    embeddings = model.gcn1((features, adj)).numpy()\n",
    "    tsne = TSNE(n_components=2)\n",
    "    embeddings_2d = tsne.fit_transform(embeddings)\n",
    "\n",
    "    plt.scatter(embeddings_2d[:, 0], embeddings_2d[:, 1], c=labels)\n",
    "    plt.show()\n",
    "\n",
    "except ImportError:\n",
    "    print(\"Visualization requires matplotlib and sklearn.\")\n"
   ]
  },
  {
   "cell_type": "code",
   "execution_count": null,
   "id": "2a61ed08",
   "metadata": {},
   "outputs": [],
   "source": []
  },
  {
   "cell_type": "code",
   "execution_count": null,
   "id": "7b1de20a",
   "metadata": {},
   "outputs": [],
   "source": []
  },
  {
   "cell_type": "code",
   "execution_count": 58,
   "id": "65f3f2b4",
   "metadata": {},
   "outputs": [
    {
     "data": {
      "text/plain": [
       "<tf.Tensor: shape=(34, 2), dtype=float32, numpy=\n",
       "array([[ 0.00000000e+00, -3.16098442e+01],\n",
       "       [ 0.00000000e+00, -2.11140633e+01],\n",
       "       [ 0.00000000e+00, -1.83206367e+01],\n",
       "       [-1.19209275e-07, -1.64608307e+01],\n",
       "       [-3.57627783e-07, -1.49324780e+01],\n",
       "       [ 0.00000000e+00, -2.11037865e+01],\n",
       "       [ 0.00000000e+00, -2.47584133e+01],\n",
       "       [ 0.00000000e+00, -1.76720123e+01],\n",
       "       [-5.99017087e-03, -5.12063265e+00],\n",
       "       [-1.73156846e+00, -1.94807082e-01],\n",
       "       [ 0.00000000e+00, -1.87837849e+01],\n",
       "       [-4.88746155e-05, -9.92644978e+00],\n",
       "       [-1.32321429e-05, -1.12319469e+01],\n",
       "       [ 0.00000000e+00, -1.67477837e+01],\n",
       "       [-6.31974077e+00, -1.80201198e-03],\n",
       "       [-6.46025372e+00, -1.56566070e-03],\n",
       "       [-1.19209275e-07, -1.63947105e+01],\n",
       "       [-6.91411469e-06, -1.18855886e+01],\n",
       "       [-3.25781631e+00, -3.92319113e-02],\n",
       "       [-2.33647479e-05, -1.06667118e+01],\n",
       "       [-4.31389189e+00, -1.34716481e-02],\n",
       "       [-7.15255510e-07, -1.41583757e+01],\n",
       "       [-4.47643137e+00, -1.14390934e-02],\n",
       "       [-1.05063286e+01, -2.74177601e-05],\n",
       "       [-4.23848629e+00, -1.45345489e-02],\n",
       "       [-2.88057685e+00, -5.77375554e-02],\n",
       "       [-9.61044693e+00, -6.69933797e-05],\n",
       "       [-2.69541192e+00, -6.99017718e-02],\n",
       "       [-9.71048057e-01, -4.75918651e-01],\n",
       "       [-9.64810276e+00, -6.46093467e-05],\n",
       "       [-4.75893775e-03, -5.35011387e+00],\n",
       "       [-4.95521164e+00, -7.07158493e-03],\n",
       "       [-5.13598871e+00, -5.89856878e-03],\n",
       "       [-6.35843515e+00, -1.73358771e-03]], dtype=float32)>"
      ]
     },
     "execution_count": 58,
     "metadata": {},
     "output_type": "execute_result"
    }
   ],
   "source": [
    "logits = model((features, adj))\n",
    "logits"
   ]
  },
  {
   "cell_type": "code",
   "execution_count": null,
   "id": "9a82399c",
   "metadata": {},
   "outputs": [],
   "source": []
  },
  {
   "cell_type": "code",
   "execution_count": null,
   "id": "a578a450",
   "metadata": {},
   "outputs": [],
   "source": []
  },
  {
   "cell_type": "code",
   "execution_count": 56,
   "id": "315d18b5",
   "metadata": {},
   "outputs": [
    {
     "name": "stdout",
     "output_type": "stream",
     "text": [
      "Predicted class for node 5: 0\n"
     ]
    }
   ],
   "source": [
    "# Get model predictions (log-softmax outputs)\n",
    "logits = model((features, adj))  # Shape: (num_nodes, num_classes)\n",
    "\n",
    "# Convert log-softmax to class predictions (argmax)\n",
    "predictions = tf.argmax(logits, axis=1)  # Shape: (num_nodes,)\n",
    "\n",
    "# Example: Predict the class of node 5\n",
    "node_id = 5\n",
    "predicted_class = predictions[node_id].numpy()\n",
    "\n",
    "print(f\"Predicted class for node {node_id}: {predicted_class}\")\n"
   ]
  },
  {
   "cell_type": "code",
   "execution_count": 57,
   "id": "2cdbe213",
   "metadata": {},
   "outputs": [
    {
     "name": "stdout",
     "output_type": "stream",
     "text": [
      "True class for node 5: 0\n"
     ]
    }
   ],
   "source": [
    "true_class = labels[node_id].numpy()\n",
    "print(f\"True class for node {node_id}: {true_class}\")\n"
   ]
  },
  {
   "cell_type": "code",
   "execution_count": null,
   "id": "1952ccb1",
   "metadata": {},
   "outputs": [],
   "source": []
  },
  {
   "cell_type": "code",
   "execution_count": null,
   "id": "87a7b5e3",
   "metadata": {},
   "outputs": [],
   "source": []
  },
  {
   "cell_type": "code",
   "execution_count": null,
   "id": "0454207a",
   "metadata": {},
   "outputs": [],
   "source": []
  },
  {
   "cell_type": "code",
   "execution_count": null,
   "id": "e901aa59",
   "metadata": {},
   "outputs": [],
   "source": []
  },
  {
   "cell_type": "code",
   "execution_count": null,
   "id": "7cac3014",
   "metadata": {},
   "outputs": [],
   "source": [
    "#https://towardsdatascience.com/softmax-activation-function-how-it-actually-works-d292d335bd78/"
   ]
  },
  {
   "cell_type": "code",
   "execution_count": 59,
   "id": "124a9902",
   "metadata": {},
   "outputs": [
    {
     "name": "stdout",
     "output_type": "stream",
     "text": [
      "Epoch 0, Loss: 0.6931471824645996\n",
      "Epoch 10, Loss: 0.6931471824645996\n",
      "Epoch 20, Loss: 0.6931471824645996\n",
      "Epoch 30, Loss: 0.6931471824645996\n",
      "Epoch 40, Loss: 0.6931471824645996\n",
      "Epoch 50, Loss: 0.6931471824645996\n",
      "Epoch 60, Loss: 0.6931471824645996\n",
      "Epoch 70, Loss: 0.6931471824645996\n",
      "Epoch 80, Loss: 0.6931471824645996\n",
      "Epoch 90, Loss: 0.6931471824645996\n",
      "Epoch 100, Loss: 0.6931471824645996\n",
      "Epoch 110, Loss: 0.6931471824645996\n",
      "Epoch 120, Loss: 0.6931471824645996\n",
      "Epoch 130, Loss: 0.6931471824645996\n",
      "Epoch 140, Loss: 0.6931471824645996\n",
      "Epoch 150, Loss: 0.6931471824645996\n",
      "Epoch 160, Loss: 0.6931471824645996\n",
      "Epoch 170, Loss: 0.6931471824645996\n",
      "Epoch 180, Loss: 0.6931471824645996\n",
      "Epoch 190, Loss: 0.6931471824645996\n",
      "Test Accuracy: 0.1764705926179886\n"
     ]
    },
    {
     "name": "stderr",
     "output_type": "stream",
     "text": [
      "/home/marcos/.local/lib/python3.10/site-packages/sklearn/manifold/_t_sne.py:800: FutureWarning: The default initialization in TSNE will change from 'random' to 'pca' in 1.2.\n",
      "  warnings.warn(\n",
      "/home/marcos/.local/lib/python3.10/site-packages/sklearn/manifold/_t_sne.py:810: FutureWarning: The default learning rate in TSNE will change from 200.0 to 'auto' in 1.2.\n",
      "  warnings.warn(\n"
     ]
    },
    {
     "data": {
      "image/png": "[encoded data removed]",
      "text/plain": [
       "<Figure size 640x480 with 2 Axes>"
      ]
     },
     "metadata": {},
     "output_type": "display_data"
    }
   ],
   "source": [
    "import tensorflow as tf\n",
    "import numpy as np\n",
    "import networkx as nx\n",
    "import scipy.sparse as sp\n",
    "from tensorflow.keras.layers import Layer\n",
    "from sklearn.preprocessing import StandardScaler\n",
    "\n",
    "# 1. Load and preprocess the Karate Club dataset\n",
    "G = nx.karate_club_graph()\n",
    "\n",
    "# Compute adjacency matrix and normalize it\n",
    "adj = nx.adjacency_matrix(G).astype(np.float32)\n",
    "adj += sp.eye(adj.shape[0])  # Add self-loops\n",
    "degree_matrix = np.array(adj.sum(axis=1)).flatten()\n",
    "D_inv_sqrt = np.diag(1.0 / np.sqrt(degree_matrix))\n",
    "adj_normalized = D_inv_sqrt @ adj @ D_inv_sqrt  # Symmetric normalization\n",
    "\n",
    "adj = tf.convert_to_tensor(adj_normalized, dtype=tf.float32)\n",
    "\n",
    "# Compute node degree as features\n",
    "degrees = np.array([G.degree(n) for n in G.nodes()], dtype=np.float32).reshape(-1, 1)\n",
    "\n",
    "# Normalize features\n",
    "scaler = StandardScaler()\n",
    "features = scaler.fit_transform(degrees)\n",
    "\n",
    "# Convert labels (0 for 'Mr. Hi' club, 1 for 'Officer' club)\n",
    "labels = np.array([G.nodes[i]['club'] != 'Mr. Hi' for i in range(len(G))], dtype=np.int32)\n",
    "\n",
    "# Create train and test masks (simplified split)\n",
    "train_mask = np.zeros(len(G), dtype=bool)\n",
    "train_mask[0:17] = True  # First 17 nodes for training\n",
    "test_mask = ~train_mask\n",
    "\n",
    "# Convert data to TensorFlow tensors\n",
    "features = tf.convert_to_tensor(features, dtype=tf.float32)\n",
    "labels = tf.convert_to_tensor(labels, dtype=tf.int32)\n",
    "train_mask = tf.convert_to_tensor(train_mask)\n",
    "test_mask = tf.convert_to_tensor(test_mask)\n",
    "\n",
    "# 2. Define the GCN layer\n",
    "class GCNLayer(Layer):\n",
    "    def __init__(self, units, activation=None, **kwargs):\n",
    "        super(GCNLayer, self).__init__(**kwargs)\n",
    "        self.units = units\n",
    "        self.activation = tf.keras.activations.get(activation)\n",
    "\n",
    "    def build(self, input_shape):\n",
    "        num_features = input_shape[0][-1]  # Number of input features\n",
    "        self.w = self.add_weight(shape=(num_features, self.units),\n",
    "                                 initializer='glorot_uniform',\n",
    "                                 trainable=True)\n",
    "        self.b = self.add_weight(shape=(self.units,),\n",
    "                                 initializer='zeros',\n",
    "                                 trainable=True)\n",
    "\n",
    "    def call(self, inputs):\n",
    "        features, adj = inputs\n",
    "        support = tf.matmul(features, self.w)\n",
    "        adj_features = tf.matmul(adj, support)\n",
    "        output = adj_features + self.b\n",
    "        return self.activation(output) if self.activation else output\n",
    "\n",
    "# 3. Define the GCN model\n",
    "class GCNModel(tf.keras.Model):\n",
    "    def __init__(self, hidden_units, num_classes):\n",
    "        super(GCNModel, self).__init__()\n",
    "        self.gcn1 = GCNLayer(hidden_units, activation='relu')\n",
    "        self.gcn2 = GCNLayer(num_classes)\n",
    "\n",
    "    def call(self, inputs):\n",
    "        features, adj = inputs\n",
    "        x = self.gcn1((features, adj))\n",
    "        x = tf.nn.dropout(x, rate=0.5)\n",
    "        x = self.gcn2((x, adj))\n",
    "        return tf.nn.log_softmax(x, axis=1)  # Output log-softmax for classification\n",
    "\n",
    "model = GCNModel(hidden_units=16, num_classes=2)\n",
    "\n",
    "# 4. Define the loss function and optimizer\n",
    "loss_fn = tf.keras.losses.SparseCategoricalCrossentropy(from_logits=False)  # Log-softmax output\n",
    "optimizer = tf.keras.optimizers.Adam(learning_rate=0.01)\n",
    "\n",
    "# 5. Training loop\n",
    "epochs = 200\n",
    "for epoch in range(epochs):\n",
    "    with tf.GradientTape() as tape:\n",
    "        logits = model((features, adj))\n",
    "        loss_value = loss_fn(labels[train_mask], logits[train_mask])\n",
    "    grads = tape.gradient(loss_value, model.trainable_variables)\n",
    "    optimizer.apply_gradients(zip(grads, model.trainable_variables))\n",
    "\n",
    "    if epoch % 10 == 0:\n",
    "        print(f\"Epoch {epoch}, Loss: {loss_value.numpy()}\")\n",
    "\n",
    "# 6. Evaluation\n",
    "logits = model((features, adj))\n",
    "predictions = tf.argmax(logits, axis=1, output_type=tf.int32)\n",
    "correct_predictions = tf.equal(predictions[test_mask], labels[test_mask])\n",
    "accuracy = tf.reduce_mean(tf.cast(correct_predictions, tf.float32))\n",
    "print(f\"Test Accuracy: {accuracy.numpy()}\")\n",
    "\n",
    "# 7. (Optional) Visualization\n",
    "try:\n",
    "    import matplotlib.pyplot as plt\n",
    "    from sklearn.manifold import TSNE\n",
    "\n",
    "    embeddings = model.gcn1((features, adj)).numpy()\n",
    "    tsne = TSNE(n_components=2)\n",
    "    embeddings_2d = tsne.fit_transform(embeddings)\n",
    "\n",
    "    plt.scatter(embeddings_2d[:, 0], embeddings_2d[:, 1], c=labels.numpy(), cmap='coolwarm')\n",
    "    plt.colorbar()\n",
    "    plt.show()\n",
    "\n",
    "except ImportError:\n",
    "    print(\"Visualization requires matplotlib and sklearn. Install them to visualize embeddings.\")\n"
   ]
  },
  {
   "cell_type": "code",
   "execution_count": null,
   "id": "dbaee1e3",
   "metadata": {},
   "outputs": [],
   "source": []
  },
  {
   "cell_type": "code",
   "execution_count": null,
   "id": "44839314",
   "metadata": {},
   "outputs": [],
   "source": []
  },
  {
   "cell_type": "code",
   "execution_count": 62,
   "id": "76fc6174",
   "metadata": {},
   "outputs": [
    {
     "name": "stdout",
     "output_type": "stream",
     "text": [
      "Epoch 0, Loss: 0.6260215044021606\n",
      "Epoch 10, Loss: 0.40955856442451477\n",
      "Epoch 20, Loss: 0.2578500211238861\n",
      "Epoch 30, Loss: 0.21667346358299255\n",
      "Epoch 40, Loss: 0.15858328342437744\n",
      "Epoch 50, Loss: 0.13455383479595184\n",
      "Epoch 60, Loss: 0.11263490468263626\n",
      "Epoch 70, Loss: 0.10456793755292892\n",
      "Epoch 80, Loss: 0.07293979078531265\n",
      "Epoch 90, Loss: 0.10416360944509506\n",
      "Epoch 100, Loss: 0.06018536910414696\n",
      "Epoch 110, Loss: 0.08503933995962143\n",
      "Epoch 120, Loss: 0.04991859570145607\n",
      "Epoch 130, Loss: 0.05961369723081589\n",
      "Epoch 140, Loss: 0.05328712612390518\n",
      "Epoch 150, Loss: 0.08404215425252914\n",
      "Epoch 160, Loss: 0.06341034173965454\n",
      "Epoch 170, Loss: 0.06004537642002106\n",
      "Epoch 180, Loss: 0.04123087227344513\n",
      "Epoch 190, Loss: 0.05092784762382507\n",
      "Test Accuracy: 0.9411764740943909\n"
     ]
    },
    {
     "name": "stderr",
     "output_type": "stream",
     "text": [
      "/home/marcos/.local/lib/python3.10/site-packages/sklearn/manifold/_t_sne.py:800: FutureWarning: The default initialization in TSNE will change from 'random' to 'pca' in 1.2.\n",
      "  warnings.warn(\n",
      "/home/marcos/.local/lib/python3.10/site-packages/sklearn/manifold/_t_sne.py:810: FutureWarning: The default learning rate in TSNE will change from 200.0 to 'auto' in 1.2.\n",
      "  warnings.warn(\n"
     ]
    },
    {
     "data": {
      "image/png": "[encoded data removed]",
      "text/plain": [
       "<Figure size 640x480 with 2 Axes>"
      ]
     },
     "metadata": {},
     "output_type": "display_data"
    }
   ],
   "source": [
    "import tensorflow as tf\n",
    "import numpy as np\n",
    "import networkx as nx\n",
    "import scipy.sparse as sp\n",
    "from tensorflow.keras.layers import Layer\n",
    "from sklearn.preprocessing import OneHotEncoder\n",
    "\n",
    "# 1. Load and preprocess the Karate Club dataset\n",
    "G = nx.karate_club_graph()\n",
    "\n",
    "# Compute adjacency matrix and normalize it\n",
    "adj = nx.adjacency_matrix(G).astype(np.float32)\n",
    "adj += sp.eye(adj.shape[0])  # Add self-loops\n",
    "degree_matrix = np.array(adj.sum(axis=1)).flatten()\n",
    "D_inv_sqrt = np.diag(1.0 / np.sqrt(degree_matrix))\n",
    "adj_normalized = D_inv_sqrt @ adj @ D_inv_sqrt  # Symmetric normalization\n",
    "\n",
    "adj = tf.convert_to_tensor(adj_normalized, dtype=tf.float32)\n",
    "\n",
    "# Use community labels ('Mr. Hi' or 'Officer') as one-hot encoded features\n",
    "communities = np.array([G.nodes[i]['club'] for i in range(len(G))]).reshape(-1, 1)\n",
    "encoder = OneHotEncoder(sparse=False, dtype=np.float32)\n",
    "features = encoder.fit_transform(communities)\n",
    "\n",
    "# Convert labels (0 for 'Mr. Hi' club, 1 for 'Officer' club)\n",
    "labels = np.array([G.nodes[i]['club'] != 'Mr. Hi' for i in range(len(G))], dtype=np.int32)\n",
    "\n",
    "# Create train and test masks (simplified split)\n",
    "train_mask = np.zeros(len(G), dtype=bool)\n",
    "train_mask[0:17] = True  # First 17 nodes for training\n",
    "test_mask = ~train_mask\n",
    "\n",
    "# Convert data to TensorFlow tensors\n",
    "features = tf.convert_to_tensor(features, dtype=tf.float32)\n",
    "labels = tf.convert_to_tensor(labels, dtype=tf.int32)\n",
    "train_mask = tf.convert_to_tensor(train_mask)\n",
    "test_mask = tf.convert_to_tensor(test_mask)\n",
    "\n",
    "# 2. Define the GCN layer\n",
    "class GCNLayer(Layer):\n",
    "    def __init__(self, units, activation=None, **kwargs):\n",
    "        super(GCNLayer, self).__init__(**kwargs)\n",
    "        self.units = units\n",
    "        self.activation = tf.keras.activations.get(activation)\n",
    "\n",
    "    def build(self, input_shape):\n",
    "        num_features = input_shape[0][-1]  # Number of input features\n",
    "        self.w = self.add_weight(shape=(num_features, self.units),\n",
    "                                 initializer='glorot_uniform',\n",
    "                                 trainable=True)\n",
    "        self.b = self.add_weight(shape=(self.units,),\n",
    "                                 initializer='zeros',\n",
    "                                 trainable=True)\n",
    "\n",
    "    def call(self, inputs):\n",
    "        features, adj = inputs\n",
    "        support = tf.matmul(features, self.w)\n",
    "        adj_features = tf.matmul(adj, support)\n",
    "        output = adj_features + self.b\n",
    "        return self.activation(output) if self.activation else output\n",
    "\n",
    "# 3. Define the GCN model\n",
    "class GCNModel(tf.keras.Model):\n",
    "    def __init__(self, hidden_units, num_classes):\n",
    "        super(GCNModel, self).__init__()\n",
    "        self.gcn1 = GCNLayer(hidden_units, activation='relu')\n",
    "        self.gcn2 = GCNLayer(num_classes)\n",
    "\n",
    "    def call(self, inputs):\n",
    "        features, adj = inputs\n",
    "        x = self.gcn1((features, adj))\n",
    "        x = tf.nn.dropout(x, rate=0.5)\n",
    "        x = self.gcn2((x, adj))\n",
    "        return tf.nn.log_softmax(x, axis=1)  # Output log-softmax for classification\n",
    "\n",
    "model = GCNModel(hidden_units=16, num_classes=2)\n",
    "\n",
    "# 4. Define the loss function and optimizer\n",
    "loss_fn = tf.keras.losses.SparseCategoricalCrossentropy(from_logits=True)  # Log-softmax output\n",
    "optimizer = tf.keras.optimizers.Adam(learning_rate=0.01)\n",
    "\n",
    "# 5. Training loop\n",
    "epochs = 200\n",
    "for epoch in range(epochs):\n",
    "    with tf.GradientTape() as tape:\n",
    "        logits = model((features, adj))\n",
    "        loss_value = loss_fn(labels[train_mask], logits[train_mask])\n",
    "    grads = tape.gradient(loss_value, model.trainable_variables)\n",
    "    optimizer.apply_gradients(zip(grads, model.trainable_variables))\n",
    "\n",
    "    if epoch % 10 == 0:\n",
    "        print(f\"Epoch {epoch}, Loss: {loss_value.numpy()}\")\n",
    "\n",
    "# 6. Evaluation\n",
    "logits = model((features, adj))\n",
    "predictions = tf.argmax(logits, axis=1, output_type=tf.int32)\n",
    "correct_predictions = tf.equal(predictions[test_mask], labels[test_mask])\n",
    "accuracy = tf.reduce_mean(tf.cast(correct_predictions, tf.float32))\n",
    "print(f\"Test Accuracy: {accuracy.numpy()}\")\n",
    "\n",
    "# 7. (Optional) Visualization\n",
    "try:\n",
    "    import matplotlib.pyplot as plt\n",
    "    from sklearn.manifold import TSNE\n",
    "\n",
    "    embeddings = model.gcn1((features, adj)).numpy()\n",
    "    tsne = TSNE(n_components=2)\n",
    "    embeddings_2d = tsne.fit_transform(embeddings)\n",
    "\n",
    "    plt.scatter(embeddings_2d[:, 0], embeddings_2d[:, 1], c=labels.numpy(), cmap='coolwarm')\n",
    "    plt.colorbar()\n",
    "    plt.show()\n",
    "\n",
    "except ImportError:\n",
    "    print(\"Visualization requires matplotlib and sklearn. Install them to visualize embeddings.\")\n"
   ]
  },
  {
   "cell_type": "code",
   "execution_count": null,
   "id": "e85de0d2",
   "metadata": {},
   "outputs": [],
   "source": []
  },
  {
   "cell_type": "code",
   "execution_count": 65,
   "id": "749f9f79",
   "metadata": {},
   "outputs": [
    {
     "data": {
      "text/plain": [
       "<tf.Tensor: shape=(34, 2), dtype=float32, numpy=\n",
       "array([[ 0.00000000e+00, -1.79146976e+01],\n",
       "       [-4.76837045e-07, -1.45950699e+01],\n",
       "       [-2.47952248e-05, -1.06054420e+01],\n",
       "       [-8.58303247e-06, -1.16589079e+01],\n",
       "       [-4.20720258e-04, -7.77381325e+00],\n",
       "       [-7.41454351e-05, -9.50987339e+00],\n",
       "       [-2.02655565e-06, -1.30860662e+01],\n",
       "       [-5.73380203e-05, -9.76583290e+00],\n",
       "       [-2.28908490e-02, -3.78843951e+00],\n",
       "       [-5.72925806e-01, -8.29822421e-01],\n",
       "       [-1.28745205e-05, -1.12601633e+01],\n",
       "       [-1.72168750e-03, -6.36528492e+00],\n",
       "       [-3.54602304e-03, -5.64370489e+00],\n",
       "       [-8.48734126e-05, -9.37500191e+00],\n",
       "       [-2.20495272e+00, -1.16821274e-01],\n",
       "       [-2.19989491e+00, -1.17449731e-01],\n",
       "       [-6.23389496e-04, -7.38059568e+00],\n",
       "       [-3.45051347e-04, -7.97206974e+00],\n",
       "       [-1.82736504e+00, -1.75350040e-01],\n",
       "       [-9.50480578e-04, -6.95905972e+00],\n",
       "       [-1.96851778e+00, -1.50431976e-01],\n",
       "       [-5.16757951e-04, -7.56825399e+00],\n",
       "       [-1.58574212e+00, -2.29156271e-01],\n",
       "       [-5.08272791e+00, -6.22228114e-03],\n",
       "       [-3.74601483e+00, -2.38949079e-02],\n",
       "       [-3.98669958e+00, -1.87352318e-02],\n",
       "       [-3.48451018e+00, -3.11488975e-02],\n",
       "       [-2.04269361e+00, -1.38893083e-01],\n",
       "       [-6.44264579e-01, -7.44542718e-01],\n",
       "       [-2.85842562e+00, -5.90697043e-02],\n",
       "       [-1.74682662e-01, -1.83085430e+00],\n",
       "       [-1.92332649e+00, -1.57964662e-01],\n",
       "       [-2.95168018e+00, -5.36664724e-02],\n",
       "       [-2.84985662e+00, -5.95935620e-02]], dtype=float32)>"
      ]
     },
     "execution_count": 65,
     "metadata": {},
     "output_type": "execute_result"
    }
   ],
   "source": [
    "logits = model((features, adj))\n",
    "logits"
   ]
  },
  {
   "cell_type": "code",
   "execution_count": 63,
   "id": "306fc2cd",
   "metadata": {},
   "outputs": [
    {
     "name": "stdout",
     "output_type": "stream",
     "text": [
      "Node 0: Predicted class 0\n",
      "Node 1: Predicted class 0\n",
      "Node 2: Predicted class 0\n",
      "Node 3: Predicted class 0\n",
      "Node 4: Predicted class 0\n",
      "Node 5: Predicted class 0\n",
      "Node 6: Predicted class 0\n",
      "Node 7: Predicted class 0\n",
      "Node 8: Predicted class 0\n",
      "Node 9: Predicted class 1\n",
      "Node 10: Predicted class 0\n",
      "Node 11: Predicted class 0\n",
      "Node 12: Predicted class 0\n",
      "Node 13: Predicted class 0\n",
      "Node 14: Predicted class 1\n",
      "Node 15: Predicted class 1\n",
      "Node 16: Predicted class 0\n",
      "Node 17: Predicted class 0\n",
      "Node 18: Predicted class 1\n",
      "Node 19: Predicted class 0\n",
      "Node 20: Predicted class 1\n",
      "Node 21: Predicted class 0\n",
      "Node 22: Predicted class 1\n",
      "Node 23: Predicted class 1\n",
      "Node 24: Predicted class 1\n",
      "Node 25: Predicted class 1\n",
      "Node 26: Predicted class 1\n",
      "Node 27: Predicted class 1\n",
      "Node 28: Predicted class 1\n",
      "Node 29: Predicted class 1\n",
      "Node 30: Predicted class 0\n",
      "Node 31: Predicted class 1\n",
      "Node 32: Predicted class 1\n",
      "Node 33: Predicted class 1\n",
      "Node 5: Predicted class 0\n"
     ]
    }
   ],
   "source": [
    "# Get model predictions\n",
    "logits = model((features, adj))\n",
    "predictions = tf.argmax(logits, axis=1, output_type=tf.int32)\n",
    "\n",
    "# Print predictions for all nodes\n",
    "for node, pred in enumerate(predictions.numpy()):\n",
    "    print(f\"Node {node}: Predicted class {pred}\")\n",
    "\n",
    "node_id = 5  # Change this to any node ID\n",
    "print(f\"Node {node_id}: Predicted class {predictions[node_id].numpy()}\")"
   ]
  },
  {
   "cell_type": "code",
   "execution_count": null,
   "id": "8d084e21",
   "metadata": {},
   "outputs": [],
   "source": []
  },
  {
   "cell_type": "code",
   "execution_count": null,
   "id": "7b037050",
   "metadata": {},
   "outputs": [],
   "source": []
  },
  {
   "cell_type": "code",
   "execution_count": null,
   "id": "853ca750",
   "metadata": {},
   "outputs": [],
   "source": []
  },
  {
   "cell_type": "code",
   "execution_count": null,
   "id": "516a9eda",
   "metadata": {},
   "outputs": [],
   "source": []
  },
  {
   "cell_type": "code",
   "execution_count": null,
   "id": "4a435082",
   "metadata": {},
   "outputs": [],
   "source": []
  },
  {
   "cell_type": "code",
   "execution_count": 88,
   "id": "5550688d",
   "metadata": {},
   "outputs": [
    {
     "name": "stdout",
     "output_type": "stream",
     "text": [
      "Epoch 0, Loss: 0.9658761024475098, Test Accuracy: 0.4117647111415863\n",
      "Epoch 10, Loss: 0.29389649629592896, Test Accuracy: 0.1764705926179886\n",
      "Epoch 20, Loss: 0.19180291891098022, Test Accuracy: 0.1764705926179886\n",
      "Epoch 30, Loss: 0.10114803165197372, Test Accuracy: 0.1764705926179886\n",
      "Epoch 40, Loss: 0.15556323528289795, Test Accuracy: 0.1764705926179886\n",
      "Epoch 50, Loss: 0.09631139785051346, Test Accuracy: 0.1764705926179886\n",
      "Epoch 60, Loss: 0.1620120108127594, Test Accuracy: 0.1764705926179886\n",
      "Epoch 70, Loss: 0.11092886328697205, Test Accuracy: 0.1764705926179886\n",
      "Epoch 80, Loss: 0.04231027886271477, Test Accuracy: 0.1764705926179886\n",
      "Epoch 90, Loss: 0.07896269112825394, Test Accuracy: 0.1764705926179886\n",
      "Epoch 100, Loss: 0.06178728863596916, Test Accuracy: 0.1764705926179886\n",
      "Epoch 110, Loss: 0.011882925406098366, Test Accuracy: 0.1764705926179886\n",
      "Epoch 120, Loss: 0.01847132295370102, Test Accuracy: 0.1764705926179886\n",
      "Epoch 130, Loss: 0.005766233429312706, Test Accuracy: 0.1764705926179886\n",
      "Epoch 140, Loss: 0.01169909443706274, Test Accuracy: 0.1764705926179886\n",
      "Epoch 150, Loss: 0.011229203082621098, Test Accuracy: 0.1764705926179886\n",
      "Epoch 160, Loss: 0.04782995581626892, Test Accuracy: 0.1764705926179886\n",
      "Epoch 170, Loss: 0.05427625775337219, Test Accuracy: 0.1764705926179886\n",
      "Epoch 180, Loss: 0.0852927714586258, Test Accuracy: 0.29411765933036804\n",
      "Epoch 190, Loss: 0.04287925362586975, Test Accuracy: 0.4117647111415863\n",
      "Epoch 200, Loss: 0.04939189925789833, Test Accuracy: 0.4117647111415863\n",
      "Epoch 210, Loss: 0.015595071017742157, Test Accuracy: 0.47058823704719543\n",
      "Epoch 220, Loss: 0.043129194527864456, Test Accuracy: 0.47058823704719543\n",
      "Epoch 230, Loss: 0.013237583450973034, Test Accuracy: 0.47058823704719543\n",
      "Epoch 240, Loss: 0.042889852076768875, Test Accuracy: 0.529411792755127\n",
      "Epoch 250, Loss: 0.0022323783487081528, Test Accuracy: 0.5882353186607361\n",
      "Epoch 260, Loss: 0.04861430451273918, Test Accuracy: 0.6470588445663452\n",
      "Epoch 270, Loss: 0.009891023859381676, Test Accuracy: 0.6470588445663452\n",
      "Epoch 280, Loss: 0.04237329587340355, Test Accuracy: 0.7058823704719543\n",
      "Epoch 290, Loss: 0.04130541905760765, Test Accuracy: 0.7058823704719543\n",
      "Epoch 300, Loss: 0.12242569774389267, Test Accuracy: 0.7058823704719543\n",
      "Epoch 310, Loss: 0.043004512786865234, Test Accuracy: 0.7058823704719543\n",
      "Epoch 320, Loss: 0.0031365850009024143, Test Accuracy: 0.7647058963775635\n",
      "Epoch 330, Loss: 0.0056964922696352005, Test Accuracy: 0.7647058963775635\n",
      "Epoch 340, Loss: 0.08755996823310852, Test Accuracy: 0.7647058963775635\n",
      "Epoch 350, Loss: 0.044423338025808334, Test Accuracy: 0.7647058963775635\n",
      "Epoch 360, Loss: 0.0010098099010065198, Test Accuracy: 0.8235294222831726\n",
      "Epoch 370, Loss: 0.004524292424321175, Test Accuracy: 0.8235294222831726\n",
      "Epoch 380, Loss: 0.041082147508859634, Test Accuracy: 0.8235294222831726\n",
      "Epoch 390, Loss: 0.01442047767341137, Test Accuracy: 0.8235294222831726\n",
      "Epoch 400, Loss: 0.0442562997341156, Test Accuracy: 0.8823529481887817\n",
      "Epoch 410, Loss: 0.001000730087980628, Test Accuracy: 0.8823529481887817\n",
      "Epoch 420, Loss: 0.04125561565160751, Test Accuracy: 0.8823529481887817\n",
      "Epoch 430, Loss: 0.08206915110349655, Test Accuracy: 0.8823529481887817\n",
      "Epoch 440, Loss: 0.0017135841771960258, Test Accuracy: 0.8823529481887817\n",
      "Epoch 450, Loss: 0.00040792766958475113, Test Accuracy: 0.8823529481887817\n",
      "Epoch 460, Loss: 0.08229441940784454, Test Accuracy: 0.8823529481887817\n",
      "Epoch 470, Loss: 0.00013674661749973893, Test Accuracy: 0.8823529481887817\n",
      "Epoch 480, Loss: 0.00023941966355778277, Test Accuracy: 0.8823529481887817\n",
      "Epoch 490, Loss: 0.00011530096526257694, Test Accuracy: 0.8823529481887817\n",
      "Final Test Accuracy: 0.8823529481887817\n"
     ]
    }
   ],
   "source": [
    "import tensorflow as tf\n",
    "import numpy as np\n",
    "import networkx as nx\n",
    "import scipy.sparse as sp\n",
    "from tensorflow.keras.layers import Layer\n",
    "from sklearn.preprocessing import StandardScaler\n",
    "\n",
    "# Load the Karate Club dataset\n",
    "G = nx.karate_club_graph()\n",
    "num_nodes = len(G)\n",
    "\n",
    "# Compute adjacency matrix and normalize it\n",
    "adj = nx.adjacency_matrix(G).astype(np.float32)\n",
    "adj += sp.eye(adj.shape[0])  # Add self-loops\n",
    "degree_matrix = np.array(adj.sum(axis=1)).flatten()\n",
    "D_inv_sqrt = np.diag(1.0 / np.sqrt(degree_matrix))\n",
    "adj_normalized = D_inv_sqrt @ adj @ D_inv_sqrt\n",
    "adj = tf.convert_to_tensor(adj_normalized, dtype=tf.float32)\n",
    "\n",
    "# One-hot encoding for node features\n",
    "features = np.eye(num_nodes, dtype=np.float32)\n",
    "features = tf.convert_to_tensor(features, dtype=tf.float32)\n",
    "\n",
    "# Convert labels (0 for 'Mr. Hi' club, 1 for 'Officer' club)\n",
    "labels = np.array([G.nodes[i]['club'] != 'Mr. Hi' for i in range(num_nodes)], dtype=np.int32)\n",
    "\n",
    "# Train/test split\n",
    "train_mask = np.zeros(num_nodes, dtype=bool)\n",
    "train_mask[:17] = True  # First 17 nodes for training\n",
    "test_mask = ~train_mask\n",
    "train_mask = tf.convert_to_tensor(train_mask)\n",
    "test_mask = tf.convert_to_tensor(test_mask)\n",
    "\n",
    "# Define GCN layer with L2 regularization\n",
    "class GCNLayer(Layer):\n",
    "    def __init__(self, units, activation=None, l2_reg=1e-3, **kwargs):\n",
    "        super(GCNLayer, self).__init__(**kwargs)\n",
    "        self.units = units\n",
    "        self.activation = tf.keras.activations.get(activation)\n",
    "        self.l2_reg = l2_reg\n",
    "\n",
    "    def build(self, input_shape):\n",
    "        num_features = input_shape[0][-1]\n",
    "        self.w = self.add_weight(shape=(num_features, self.units),\n",
    "                                 initializer='glorot_uniform',\n",
    "                                 regularizer=tf.keras.regularizers.l2(self.l2_reg),\n",
    "                                 trainable=True)\n",
    "        self.b = self.add_weight(shape=(self.units,),\n",
    "                                 initializer='zeros',\n",
    "                                 trainable=True)\n",
    "\n",
    "    def call(self, inputs):\n",
    "        features, adj = inputs\n",
    "        support = tf.matmul(features, self.w)\n",
    "        adj_features = tf.matmul(adj, support)\n",
    "        output = adj_features + self.b\n",
    "        return self.activation(output) if self.activation else output\n",
    "\n",
    "# Define GCN Model with reduced dropout\n",
    "class GCNModel(tf.keras.Model):\n",
    "    def __init__(self, hidden_units, num_classes, dropout_rate=0.2):\n",
    "        super(GCNModel, self).__init__()\n",
    "        self.gcn1 = GCNLayer(hidden_units, activation='relu')\n",
    "        self.dropout1 = tf.keras.layers.Dropout(dropout_rate)\n",
    "        self.gcn2 = GCNLayer(num_classes)  # Raw logits\n",
    "        self.dropout2 = tf.keras.layers.Dropout(dropout_rate)\n",
    "        self.batch_norm = tf.keras.layers.BatchNormalization()\n",
    "\n",
    "    def call(self, inputs, training=False):\n",
    "        features, adj = inputs\n",
    "        x = self.gcn1((features, adj))\n",
    "        x = self.batch_norm(x, training=training)\n",
    "        x = self.dropout1(x, training=training)\n",
    "        x = self.gcn2((x, adj))\n",
    "        x = self.dropout2(x, training=training)\n",
    "        return x\n",
    "\n",
    "# Instantiate model\n",
    "model = GCNModel(hidden_units=16, num_classes=2, dropout_rate=0.2)\n",
    "\n",
    "# Define loss function and optimizer\n",
    "loss_fn = tf.keras.losses.SparseCategoricalCrossentropy(from_logits=True)\n",
    "optimizer = tf.keras.optimizers.Adam(learning_rate=0.005)\n",
    "\n",
    "# Training loop with early stopping\n",
    "epochs = 500\n",
    "best_accuracy = 0\n",
    "patience = 20\n",
    "wait = 0\n",
    "\n",
    "for epoch in range(epochs):\n",
    "    with tf.GradientTape() as tape:\n",
    "        logits = model((features, adj), training=True)\n",
    "        loss_value = loss_fn(labels[train_mask], logits[train_mask])\n",
    "\n",
    "    grads = tape.gradient(loss_value, model.trainable_variables)\n",
    "    optimizer.apply_gradients(zip(grads, model.trainable_variables))\n",
    "\n",
    "    # Compute test accuracy\n",
    "    logits = model((features, adj), training=False)\n",
    "    predictions = tf.argmax(logits, axis=1, output_type=tf.int32)\n",
    "    correct_predictions = tf.equal(predictions[test_mask], labels[test_mask])\n",
    "    accuracy = tf.reduce_mean(tf.cast(correct_predictions, tf.float32)).numpy()\n",
    "\n",
    "    \n",
    "    if accuracy > best_accuracy:\n",
    "        best_accuracy = accuracy\n",
    "    \n",
    "    \"\"\"\n",
    "    if accuracy > best_accuracy:\n",
    "        best_accuracy = accuracy\n",
    "        wait = 0\n",
    "    else:\n",
    "        wait += 1\n",
    "\n",
    "    if wait >= patience:\n",
    "        print(\"Early stopping triggered\")\n",
    "        break\n",
    "    \"\"\"\n",
    "\n",
    "    if epoch % 10 == 0:\n",
    "        print(f\"Epoch {epoch}, Loss: {loss_value.numpy()}, Test Accuracy: {accuracy}\")\n",
    "\n",
    "print(f\"Final Test Accuracy: {best_accuracy}\")\n"
   ]
  },
  {
   "cell_type": "code",
   "execution_count": null,
   "id": "607e4791",
   "metadata": {},
   "outputs": [],
   "source": []
  },
  {
   "cell_type": "markdown",
   "id": "e770bb6c",
   "metadata": {},
   "source": [
    "This code uses two types of node features:\n",
    "\n",
    "One-hot encoding: Each node gets a unique binary vector where only one element is 1, indicating its index.\n",
    "Node degree: The number of edges connected to each node, normalized using StandardScaler().\n",
    "This adds some structural information to the features, helping the model distinguish nodes based on their connectivity.\n",
    "\n",
    "\n",
    "Yes, this feature set differentiates nodes based on:\n",
    "\n",
    "Structure (Uniqueness of Nodes) – The one-hot encoding ensures that each node has a distinct representation, helping the model distinguish them.\n",
    "Number of Ingoing Edges (Degree Centrality) – The degree feature captures how many connections (edges) each node has, reflecting its importance in the network.\n",
    "However, the degree feature in an undirected graph (like Karate Club) represents both ingoing and outgoing edges, since all edges are bidirectional. If you want to distinguish between ingoing vs. outgoing edges, you’d need a directed graph and compute in-degree and out-degree separately.\n",
    "\n",
    "Would you like to try more features, such as clustering coefficient, betweenness centrality, or personalized PageRank? These could help the model learn better!"
   ]
  },
  {
   "cell_type": "code",
   "execution_count": 90,
   "id": "d76aa22b",
   "metadata": {},
   "outputs": [
    {
     "name": "stdout",
     "output_type": "stream",
     "text": [
      "Epoch 0, Loss: 0.6188504695892334, Test Accuracy: 0.8235294222831726\n",
      "Epoch 10, Loss: 0.20591221749782562, Test Accuracy: 0.6470588445663452\n",
      "Epoch 20, Loss: 0.1480216234922409, Test Accuracy: 0.29411765933036804\n",
      "Epoch 30, Loss: 0.09220340102910995, Test Accuracy: 0.23529411852359772\n",
      "Epoch 40, Loss: 0.23677298426628113, Test Accuracy: 0.23529411852359772\n",
      "Epoch 50, Loss: 0.05336316302418709, Test Accuracy: 0.29411765933036804\n",
      "Epoch 60, Loss: 0.040404606610536575, Test Accuracy: 0.29411765933036804\n",
      "Epoch 70, Loss: 0.10469454526901245, Test Accuracy: 0.29411765933036804\n",
      "Epoch 80, Loss: 0.05522683262825012, Test Accuracy: 0.29411765933036804\n",
      "Epoch 90, Loss: 0.05661575496196747, Test Accuracy: 0.3529411852359772\n",
      "Epoch 100, Loss: 0.050229281187057495, Test Accuracy: 0.4117647111415863\n",
      "Epoch 110, Loss: 0.011436465196311474, Test Accuracy: 0.4117647111415863\n",
      "Epoch 120, Loss: 0.04438059404492378, Test Accuracy: 0.47058823704719543\n",
      "Epoch 130, Loss: 0.05011783540248871, Test Accuracy: 0.47058823704719543\n",
      "Epoch 140, Loss: 0.01188008300960064, Test Accuracy: 0.529411792755127\n",
      "Epoch 150, Loss: 0.042036980390548706, Test Accuracy: 0.7058823704719543\n",
      "Epoch 160, Loss: 0.04507675766944885, Test Accuracy: 0.7647058963775635\n",
      "Epoch 170, Loss: 0.00516305910423398, Test Accuracy: 0.7647058963775635\n",
      "Epoch 180, Loss: 0.044616058468818665, Test Accuracy: 0.7647058963775635\n",
      "Epoch 190, Loss: 0.04297701641917229, Test Accuracy: 0.7647058963775635\n",
      "Epoch 200, Loss: 0.001847534440457821, Test Accuracy: 0.7647058963775635\n",
      "Epoch 210, Loss: 0.016990020871162415, Test Accuracy: 0.7647058963775635\n",
      "Epoch 220, Loss: 0.08202683925628662, Test Accuracy: 0.7647058963775635\n",
      "Epoch 230, Loss: 0.04174073785543442, Test Accuracy: 0.8235294222831726\n",
      "Epoch 240, Loss: 0.00519780395552516, Test Accuracy: 0.8823529481887817\n",
      "Epoch 250, Loss: 0.0036860406398773193, Test Accuracy: 0.8823529481887817\n",
      "Epoch 260, Loss: 0.0034732907079160213, Test Accuracy: 0.8823529481887817\n",
      "Epoch 270, Loss: 0.00020157202379778028, Test Accuracy: 0.8823529481887817\n",
      "Epoch 280, Loss: 0.004109678324311972, Test Accuracy: 0.8823529481887817\n",
      "Epoch 290, Loss: 0.0006852456135675311, Test Accuracy: 0.8823529481887817\n",
      "Epoch 300, Loss: 0.04226793721318245, Test Accuracy: 0.8823529481887817\n",
      "Epoch 310, Loss: 0.0419190414249897, Test Accuracy: 0.8823529481887817\n",
      "Epoch 320, Loss: 0.0018669632263481617, Test Accuracy: 0.8823529481887817\n",
      "Epoch 330, Loss: 0.003188761416822672, Test Accuracy: 0.8823529481887817\n",
      "Epoch 340, Loss: 0.0016751221846789122, Test Accuracy: 0.8823529481887817\n",
      "Epoch 350, Loss: 0.041223831474781036, Test Accuracy: 0.8823529481887817\n",
      "Epoch 360, Loss: 0.0011625365586951375, Test Accuracy: 0.8823529481887817\n",
      "Epoch 370, Loss: 0.0015405589947476983, Test Accuracy: 0.8823529481887817\n",
      "Epoch 380, Loss: 0.0005379603826440871, Test Accuracy: 0.8823529481887817\n",
      "Epoch 390, Loss: 0.04097074642777443, Test Accuracy: 0.8823529481887817\n",
      "Epoch 400, Loss: 0.0816163420677185, Test Accuracy: 0.8823529481887817\n",
      "Epoch 410, Loss: 0.12311819195747375, Test Accuracy: 0.8823529481887817\n",
      "Epoch 420, Loss: 0.08341570198535919, Test Accuracy: 0.8823529481887817\n",
      "Epoch 430, Loss: 0.00029345881193876266, Test Accuracy: 0.8823529481887817\n",
      "Epoch 440, Loss: 0.0010413513518869877, Test Accuracy: 0.8823529481887817\n",
      "Epoch 450, Loss: 0.0006239751819521189, Test Accuracy: 0.8823529481887817\n",
      "Epoch 460, Loss: 0.0028003009501844645, Test Accuracy: 0.8823529481887817\n",
      "Epoch 470, Loss: 0.04088312014937401, Test Accuracy: 0.8823529481887817\n",
      "Epoch 480, Loss: 0.00025267881574109197, Test Accuracy: 0.8823529481887817\n",
      "Epoch 490, Loss: 0.041357655078172684, Test Accuracy: 0.8823529481887817\n",
      "Final Test Accuracy: 0.9411764740943909\n"
     ]
    }
   ],
   "source": [
    "import tensorflow as tf\n",
    "import numpy as np\n",
    "import networkx as nx\n",
    "import scipy.sparse as sp\n",
    "from tensorflow.keras.layers import Layer\n",
    "from sklearn.preprocessing import StandardScaler\n",
    "\n",
    "# Load the Karate Club dataset\n",
    "G = nx.karate_club_graph()\n",
    "num_nodes = len(G)\n",
    "\n",
    "# Compute adjacency matrix and normalize it\n",
    "adj = nx.adjacency_matrix(G).astype(np.float32)\n",
    "adj += sp.eye(adj.shape[0])  # Add self-loops\n",
    "degree_matrix = np.array(adj.sum(axis=1)).flatten()\n",
    "D_inv_sqrt = np.diag(1.0 / np.sqrt(degree_matrix))\n",
    "adj_normalized = D_inv_sqrt @ adj @ D_inv_sqrt\n",
    "adj = tf.convert_to_tensor(adj_normalized, dtype=tf.float32)\n",
    "\n",
    "# One-hot encoding for node features\n",
    "one_hot_features = np.eye(num_nodes, dtype=np.float32)\n",
    "\n",
    "# Compute node degree\n",
    "degrees = np.array([G.degree(n) for n in G.nodes()], dtype=np.float32).reshape(-1, 1)\n",
    "scaler = StandardScaler()\n",
    "degrees = scaler.fit_transform(degrees)\n",
    "\n",
    "# Concatenate one-hot encoding with degree\n",
    "features = np.concatenate([one_hot_features, degrees], axis=1)\n",
    "features = tf.convert_to_tensor(features, dtype=tf.float32)\n",
    "\n",
    "# Convert labels (0 for 'Mr. Hi' club, 1 for 'Officer' club)\n",
    "labels = np.array([G.nodes[i]['club'] != 'Mr. Hi' for i in range(num_nodes)], dtype=np.int32)\n",
    "\n",
    "# Train/test split\n",
    "train_mask = np.zeros(num_nodes, dtype=bool)\n",
    "train_mask[:17] = True  # First 17 nodes for training\n",
    "test_mask = ~train_mask\n",
    "train_mask = tf.convert_to_tensor(train_mask)\n",
    "test_mask = tf.convert_to_tensor(test_mask)\n",
    "\n",
    "# Define GCN layer with L2 regularization\n",
    "class GCNLayer(Layer):\n",
    "    def __init__(self, units, activation=None, l2_reg=1e-3, **kwargs):\n",
    "        super(GCNLayer, self).__init__(**kwargs)\n",
    "        self.units = units\n",
    "        self.activation = tf.keras.activations.get(activation)\n",
    "        self.l2_reg = l2_reg\n",
    "\n",
    "    def build(self, input_shape):\n",
    "        num_features = input_shape[0][-1]\n",
    "        self.w = self.add_weight(shape=(num_features, self.units),\n",
    "                                 initializer='glorot_uniform',\n",
    "                                 regularizer=tf.keras.regularizers.l2(self.l2_reg),\n",
    "                                 trainable=True)\n",
    "        self.b = self.add_weight(shape=(self.units,),\n",
    "                                 initializer='zeros',\n",
    "                                 trainable=True)\n",
    "\n",
    "    def call(self, inputs):\n",
    "        features, adj = inputs\n",
    "        support = tf.matmul(features, self.w)\n",
    "        adj_features = tf.matmul(adj, support)\n",
    "        output = adj_features + self.b\n",
    "        return self.activation(output) if self.activation else output\n",
    "\n",
    "# Define GCN Model with reduced dropout\n",
    "class GCNModel(tf.keras.Model):\n",
    "    def __init__(self, hidden_units, num_classes, dropout_rate=0.2):\n",
    "        super(GCNModel, self).__init__()\n",
    "        self.gcn1 = GCNLayer(hidden_units, activation='relu')\n",
    "        self.dropout1 = tf.keras.layers.Dropout(dropout_rate)\n",
    "        self.gcn2 = GCNLayer(num_classes)  # Raw logits\n",
    "        self.dropout2 = tf.keras.layers.Dropout(dropout_rate)\n",
    "        self.batch_norm = tf.keras.layers.BatchNormalization()\n",
    "\n",
    "    def call(self, inputs, training=False):\n",
    "        features, adj = inputs\n",
    "        x = self.gcn1((features, adj))\n",
    "        x = self.batch_norm(x, training=training)\n",
    "        x = self.dropout1(x, training=training)\n",
    "        x = self.gcn2((x, adj))\n",
    "        x = self.dropout2(x, training=training)\n",
    "        return x\n",
    "\n",
    "# Instantiate model\n",
    "model = GCNModel(hidden_units=16, num_classes=2, dropout_rate=0.2)\n",
    "\n",
    "# Define loss function and optimizer\n",
    "loss_fn = tf.keras.losses.SparseCategoricalCrossentropy(from_logits=True)\n",
    "optimizer = tf.keras.optimizers.Adam(learning_rate=0.005)\n",
    "\n",
    "# Training loop with early stopping\n",
    "epochs = 500\n",
    "best_accuracy = 0\n",
    "patience = 20\n",
    "wait = 0\n",
    "\n",
    "for epoch in range(epochs):\n",
    "    with tf.GradientTape() as tape:\n",
    "        logits = model((features, adj), training=True)\n",
    "        loss_value = loss_fn(labels[train_mask], logits[train_mask])\n",
    "\n",
    "    grads = tape.gradient(loss_value, model.trainable_variables)\n",
    "    optimizer.apply_gradients(zip(grads, model.trainable_variables))\n",
    "\n",
    "    # Compute test accuracy\n",
    "    logits = model((features, adj), training=False)\n",
    "    predictions = tf.argmax(logits, axis=1, output_type=tf.int32)\n",
    "    correct_predictions = tf.equal(predictions[test_mask], labels[test_mask])\n",
    "    accuracy = tf.reduce_mean(tf.cast(correct_predictions, tf.float32)).numpy()\n",
    "\n",
    "    if accuracy > best_accuracy:\n",
    "        best_accuracy = accuracy\n",
    "\n",
    "    if epoch % 10 == 0:\n",
    "        print(f\"Epoch {epoch}, Loss: {loss_value.numpy()}, Test Accuracy: {accuracy}\")\n",
    "\n",
    "print(f\"Final Test Accuracy: {best_accuracy}\")\n"
   ]
  },
  {
   "cell_type": "code",
   "execution_count": null,
   "id": "ea00e0df",
   "metadata": {},
   "outputs": [],
   "source": []
  },
  {
   "cell_type": "code",
   "execution_count": null,
   "id": "a2922d23",
   "metadata": {},
   "outputs": [],
   "source": []
  },
  {
   "cell_type": "code",
   "execution_count": 91,
   "id": "f0f091ae",
   "metadata": {},
   "outputs": [
    {
     "name": "stdout",
     "output_type": "stream",
     "text": [
      "Epoch 0, Loss: 0.8277952671051025, Test Accuracy: 0.8235294222831726\n",
      "Epoch 10, Loss: 0.2788771688938141, Test Accuracy: 0.29411765933036804\n",
      "Epoch 20, Loss: 0.1691722869873047, Test Accuracy: 0.1764705926179886\n",
      "Epoch 30, Loss: 0.12330774962902069, Test Accuracy: 0.1764705926179886\n",
      "Epoch 40, Loss: 0.146169513463974, Test Accuracy: 0.1764705926179886\n",
      "Epoch 50, Loss: 0.0760304257273674, Test Accuracy: 0.1764705926179886\n",
      "Epoch 60, Loss: 0.09054353833198547, Test Accuracy: 0.1764705926179886\n",
      "Epoch 70, Loss: 0.04319975897669792, Test Accuracy: 0.1764705926179886\n",
      "Epoch 80, Loss: 0.05221278592944145, Test Accuracy: 0.1764705926179886\n",
      "Epoch 90, Loss: 0.11351022869348526, Test Accuracy: 0.1764705926179886\n",
      "Epoch 100, Loss: 0.08539934456348419, Test Accuracy: 0.1764705926179886\n",
      "Epoch 110, Loss: 0.04930278658866882, Test Accuracy: 0.1764705926179886\n",
      "Epoch 120, Loss: 0.07640104740858078, Test Accuracy: 0.1764705926179886\n",
      "Epoch 130, Loss: 0.04928115755319595, Test Accuracy: 0.1764705926179886\n",
      "Epoch 140, Loss: 0.006733568850904703, Test Accuracy: 0.1764705926179886\n",
      "Epoch 150, Loss: 0.0534423366189003, Test Accuracy: 0.1764705926179886\n",
      "Epoch 160, Loss: 0.009981018491089344, Test Accuracy: 0.1764705926179886\n",
      "Epoch 170, Loss: 0.055013202130794525, Test Accuracy: 0.1764705926179886\n",
      "Epoch 180, Loss: 0.055711813271045685, Test Accuracy: 0.1764705926179886\n",
      "Epoch 190, Loss: 0.010668686591088772, Test Accuracy: 0.23529411852359772\n",
      "Epoch 200, Loss: 0.018249189481139183, Test Accuracy: 0.23529411852359772\n",
      "Epoch 210, Loss: 0.008334159851074219, Test Accuracy: 0.23529411852359772\n",
      "Epoch 220, Loss: 0.0871046707034111, Test Accuracy: 0.23529411852359772\n",
      "Epoch 230, Loss: 0.002739088376984, Test Accuracy: 0.47058823704719543\n",
      "Epoch 240, Loss: 0.0035315172281116247, Test Accuracy: 0.529411792755127\n",
      "Epoch 250, Loss: 0.002494038315489888, Test Accuracy: 0.529411792755127\n",
      "Epoch 260, Loss: 0.004069506656378508, Test Accuracy: 0.529411792755127\n",
      "Epoch 270, Loss: 0.0013636338990181684, Test Accuracy: 0.529411792755127\n",
      "Epoch 280, Loss: 0.041023846715688705, Test Accuracy: 0.529411792755127\n",
      "Epoch 290, Loss: 0.004459042102098465, Test Accuracy: 0.5882353186607361\n",
      "Epoch 300, Loss: 0.0026677597779780626, Test Accuracy: 0.5882353186607361\n",
      "Epoch 310, Loss: 0.004044829402118921, Test Accuracy: 0.5882353186607361\n",
      "Epoch 320, Loss: 0.16575872898101807, Test Accuracy: 0.5882353186607361\n",
      "Epoch 330, Loss: 0.002140803961083293, Test Accuracy: 0.7058823704719543\n",
      "Epoch 340, Loss: 0.002672355156391859, Test Accuracy: 0.7058823704719543\n",
      "Epoch 350, Loss: 0.04532095044851303, Test Accuracy: 0.7647058963775635\n",
      "Epoch 360, Loss: 0.011681475676596165, Test Accuracy: 0.7647058963775635\n",
      "Epoch 370, Loss: 0.04578189179301262, Test Accuracy: 0.7647058963775635\n",
      "Epoch 380, Loss: 0.08389278501272202, Test Accuracy: 0.7058823704719543\n",
      "Epoch 390, Loss: 0.08331949263811111, Test Accuracy: 0.7647058963775635\n",
      "Epoch 400, Loss: 0.042420219630002975, Test Accuracy: 0.8235294222831726\n",
      "Epoch 410, Loss: 0.003305745543912053, Test Accuracy: 0.7647058963775635\n",
      "Epoch 420, Loss: 0.04214196279644966, Test Accuracy: 0.7647058963775635\n",
      "Epoch 430, Loss: 0.0020417547784745693, Test Accuracy: 0.8235294222831726\n",
      "Epoch 440, Loss: 0.041076961904764175, Test Accuracy: 0.7647058963775635\n",
      "Epoch 450, Loss: 0.04356420412659645, Test Accuracy: 0.7647058963775635\n",
      "Epoch 460, Loss: 0.04171474650502205, Test Accuracy: 0.9411764740943909\n",
      "Epoch 470, Loss: 0.0021892492659389973, Test Accuracy: 0.9411764740943909\n",
      "Epoch 480, Loss: 0.04205116629600525, Test Accuracy: 0.8823529481887817\n",
      "Epoch 490, Loss: 0.0017021291423588991, Test Accuracy: 0.8823529481887817\n",
      "Final Test Accuracy: 0.9411764740943909\n"
     ]
    }
   ],
   "source": [
    "import tensorflow as tf\n",
    "import numpy as np\n",
    "import networkx as nx\n",
    "import scipy.sparse as sp\n",
    "from tensorflow.keras.layers import Layer\n",
    "from sklearn.preprocessing import StandardScaler\n",
    "\n",
    "# Load the Karate Club dataset\n",
    "G = nx.karate_club_graph()\n",
    "num_nodes = len(G)\n",
    "\n",
    "# Compute adjacency matrix and normalize it\n",
    "adj = nx.adjacency_matrix(G).astype(np.float32)\n",
    "adj += sp.eye(adj.shape[0])  # Add self-loops\n",
    "degree_matrix = np.array(adj.sum(axis=1)).flatten()\n",
    "D_inv_sqrt = np.diag(1.0 / np.sqrt(degree_matrix))\n",
    "adj_normalized = D_inv_sqrt @ adj @ D_inv_sqrt\n",
    "adj = tf.convert_to_tensor(adj_normalized, dtype=tf.float32)\n",
    "\n",
    "# Compute node features\n",
    "one_hot_features = np.eye(num_nodes, dtype=np.float32)\n",
    "degrees = np.array([G.degree(n) for n in G.nodes()], dtype=np.float32).reshape(-1, 1)\n",
    "clustering_coeffs = np.array([nx.clustering(G, n) for n in G.nodes()], dtype=np.float32).reshape(-1, 1)\n",
    "betweenness = np.array(list(nx.betweenness_centrality(G).values()), dtype=np.float32).reshape(-1, 1)\n",
    "pagerank = np.array(list(nx.pagerank(G).values()), dtype=np.float32).reshape(-1, 1)\n",
    "\n",
    "# Standardize numerical features\n",
    "scaler = StandardScaler()\n",
    "numeric_features = scaler.fit_transform(np.hstack([degrees, clustering_coeffs, betweenness, pagerank]))\n",
    "\n",
    "# Concatenate all features\n",
    "features = np.hstack([one_hot_features, numeric_features])\n",
    "features = tf.convert_to_tensor(features, dtype=tf.float32)\n",
    "\n",
    "# Convert labels (0 for 'Mr. Hi' club, 1 for 'Officer' club)\n",
    "labels = np.array([G.nodes[i]['club'] != 'Mr. Hi' for i in range(num_nodes)], dtype=np.int32)\n",
    "\n",
    "# Train/test split\n",
    "train_mask = np.zeros(num_nodes, dtype=bool)\n",
    "train_mask[:17] = True  # First 17 nodes for training\n",
    "test_mask = ~train_mask\n",
    "train_mask = tf.convert_to_tensor(train_mask)\n",
    "test_mask = tf.convert_to_tensor(test_mask)\n",
    "\n",
    "# Define GCN layer\n",
    "class GCNLayer(Layer):\n",
    "    def __init__(self, units, activation=None, l2_reg=1e-3, **kwargs):\n",
    "        super(GCNLayer, self).__init__(**kwargs)\n",
    "        self.units = units\n",
    "        self.activation = tf.keras.activations.get(activation)\n",
    "        self.l2_reg = l2_reg\n",
    "\n",
    "    def build(self, input_shape):\n",
    "        num_features = input_shape[0][-1]\n",
    "        self.w = self.add_weight(shape=(num_features, self.units),\n",
    "                                 initializer='glorot_uniform',\n",
    "                                 regularizer=tf.keras.regularizers.l2(self.l2_reg),\n",
    "                                 trainable=True)\n",
    "        self.b = self.add_weight(shape=(self.units,), initializer='zeros', trainable=True)\n",
    "\n",
    "    def call(self, inputs):\n",
    "        features, adj = inputs\n",
    "        support = tf.matmul(features, self.w)\n",
    "        adj_features = tf.matmul(adj, support)\n",
    "        output = adj_features + self.b\n",
    "        return self.activation(output) if self.activation else output\n",
    "\n",
    "# Define GCN Model\n",
    "class GCNModel(tf.keras.Model):\n",
    "    def __init__(self, hidden_units, num_classes, dropout_rate=0.2):\n",
    "        super(GCNModel, self).__init__()\n",
    "        self.gcn1 = GCNLayer(hidden_units, activation='relu')\n",
    "        self.dropout1 = tf.keras.layers.Dropout(dropout_rate)\n",
    "        self.gcn2 = GCNLayer(num_classes)  # Raw logits\n",
    "        self.dropout2 = tf.keras.layers.Dropout(dropout_rate)\n",
    "        self.batch_norm = tf.keras.layers.BatchNormalization()\n",
    "\n",
    "    def call(self, inputs, training=False):\n",
    "        features, adj = inputs\n",
    "        x = self.gcn1((features, adj))\n",
    "        x = self.batch_norm(x, training=training) # dropout is equal true only for training\n",
    "        x = self.dropout1(x, training=training)\n",
    "        x = self.gcn2((x, adj))\n",
    "        x = self.dropout2(x, training=training)\n",
    "        return x\n",
    "\n",
    "# Instantiate model\n",
    "model = GCNModel(hidden_units=16, num_classes=2, dropout_rate=0.2)\n",
    "\n",
    "# Define loss function and optimizer\n",
    "loss_fn = tf.keras.losses.SparseCategoricalCrossentropy(from_logits=True)\n",
    "optimizer = tf.keras.optimizers.Adam(learning_rate=0.005)\n",
    "\n",
    "# Training loop\n",
    "epochs = 500\n",
    "best_accuracy = 0\n",
    "for epoch in range(epochs):\n",
    "    with tf.GradientTape() as tape:\n",
    "        logits = model((features, adj), training=True)\n",
    "        loss_value = loss_fn(labels[train_mask], logits[train_mask])\n",
    "    \n",
    "    grads = tape.gradient(loss_value, model.trainable_variables)\n",
    "    optimizer.apply_gradients(zip(grads, model.trainable_variables))\n",
    "\n",
    "    # Compute test accuracy\n",
    "    logits = model((features, adj), training=False)\n",
    "    predictions = tf.argmax(logits, axis=1, output_type=tf.int32)\n",
    "    correct_predictions = tf.equal(predictions[test_mask], labels[test_mask])\n",
    "    accuracy = tf.reduce_mean(tf.cast(correct_predictions, tf.float32)).numpy()\n",
    "\n",
    "    if accuracy > best_accuracy:\n",
    "        best_accuracy = accuracy\n",
    "\n",
    "    if epoch % 10 == 0:\n",
    "        print(f\"Epoch {epoch}, Loss: {loss_value.numpy()}, Test Accuracy: {accuracy}\")\n",
    "\n",
    "print(f\"Final Test Accuracy: {best_accuracy}\")\n"
   ]
  },
  {
   "cell_type": "code",
   "execution_count": null,
   "id": "a3b4a24e",
   "metadata": {},
   "outputs": [],
   "source": []
  },
  {
   "cell_type": "code",
   "execution_count": null,
   "id": "bbf4b715",
   "metadata": {},
   "outputs": [],
   "source": []
  },
  {
   "cell_type": "code",
   "execution_count": null,
   "id": "b76b0e4b",
   "metadata": {},
   "outputs": [],
   "source": []
  },
  {
   "cell_type": "code",
   "execution_count": null,
   "id": "f6a409a3",
   "metadata": {},
   "outputs": [],
   "source": []
  },
  {
   "cell_type": "code",
   "execution_count": null,
   "id": "9ae8931e",
   "metadata": {},
   "outputs": [],
   "source": []
  },
  {
   "cell_type": "markdown",
   "id": "3263fcfd",
   "metadata": {},
   "source": [
    "\"\"\"\"\n",
    "If the model performs significantly better with from_logits=False, it's likely because the logits (raw scores) are already well-distributed, and applying an additional softmax inside the loss function helps stabilize training. However, conceptually, if the model outputs raw logits, from_logits=True is the correct setting.\n",
    "\n",
    "You can check if the outputs are logits or probabilities:\n",
    "\n",
    "python\n",
    "Copiar\n",
    "Editar\n",
    "logits = model((features, adj))\n",
    "print(tf.reduce_min(logits), tf.reduce_max(logits))\n",
    "If values are unbounded (e.g., negative and positive large values), they are logits.\n",
    "If values are between 0 and 1 and sum to 1 across classes, they are probabilities.\n",
    "If the model works better with from_logits=False, the activation might already behave like softmax due to certain weight initializations or training dynamics.\n",
    "\"\"\"\"\"\""
   ]
  },
  {
   "cell_type": "code",
   "execution_count": null,
   "id": "dbc7fd88",
   "metadata": {},
   "outputs": [],
   "source": []
  }
 ],
 "metadata": {
  "kernelspec": {
   "display_name": "Python 3 (ipykernel)",
   "language": "python",
   "name": "python3"
  },
  "language_info": {
   "codemirror_mode": {
    "name": "ipython",
    "version": 3
   },
   "file_extension": ".py",
   "mimetype": "text/x-python",
   "name": "python",
   "nbconvert_exporter": "python",
   "pygments_lexer": "ipython3",
   "version": "3.10.12"
  }
 },
 "nbformat": 4,
 "nbformat_minor": 5
}
