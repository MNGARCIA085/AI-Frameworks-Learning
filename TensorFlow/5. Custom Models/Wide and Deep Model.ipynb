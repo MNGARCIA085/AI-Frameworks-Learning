{
 "cells": [
  {
   "cell_type": "markdown",
   "id": "41cc500f",
   "metadata": {},
   "source": [
    "# <center> <b> <font color='#154360'> WIDE AND DEEP MODEL </font> </b> </center>"
   ]
  },
  {
   "cell_type": "markdown",
   "id": "624f11b9",
   "metadata": {},
   "source": [
    "## <font color='blue'> Table of Contents </font>\n",
    "\n",
    "1. [Introduction](#1)\n",
    "2. [Setup](#2)  \n",
    "3. [Data](#3)\n",
    "4. [Model](#4)\n",
    "5. [Training](#5)\n",
    "6. [Predictions](#6)\n",
    "7. [References](#references)"
   ]
  },
  {
   "cell_type": "markdown",
   "id": "fa561f46",
   "metadata": {},
   "source": [
    "<a name=\"1\"></a>\n",
    "## <font color='blue'> 1. Introduction </font>\n",
    "    \n",
    "In this notebook, we will explore how to build a **custom model** in TensorFlow using the **Wide and Deep architecture**. The goal is to demonstrate how to go beyond pre-built models by leveraging TensorFlow's flexibility to create tailored architectures that fit specific use cases.\n",
    "\n",
    "The **Wide and Deep Model** is a hybrid neural network that combines the benefits of both **memorization** (wide part) and **generalization** (deep part). Initially introduced by Google for recommendation systems, this architecture is particularly effective in scenarios where the data consists of both **sparse features** (e.g., categorical variables) and **dense features** (e.g., continuous variables).\n"
   ]
  },
  {
   "cell_type": "markdown",
   "id": "4e7b6cdd",
   "metadata": {},
   "source": [
    "<a name=\"2\"></a>\n",
    "## <font color='blue'> 2. Setup </font>"
   ]
  },
  {
   "cell_type": "code",
   "execution_count": 38,
   "id": "c9125188",
   "metadata": {},
   "outputs": [],
   "source": [
    "import tensorflow as tf\n",
    "from tensorflow.keras.layers import Dense\n",
    "from tensorflow.keras import Model\n",
    "from tensorflow.keras.layers import concatenate\n",
    "from tensorflow.keras.layers import Input\n",
    "from tensorflow.keras.utils import plot_model\n",
    "import numpy as np\n",
    "import random"
   ]
  },
  {
   "cell_type": "code",
   "execution_count": 39,
   "id": "6ef13a5c",
   "metadata": {},
   "outputs": [],
   "source": [
    "# Set random seeds for reproducibility\n",
    "SEED = 42\n",
    "random.seed(SEED)\n",
    "np.random.seed(SEED)\n",
    "tf.random.set_seed(SEED)"
   ]
  },
  {
   "cell_type": "markdown",
   "id": "5a9be83f",
   "metadata": {},
   "source": [
    "<a name=\"3\"></a>\n",
    "## <font color='blue'> 3. Data </font>\n",
    "\n",
    "To test the model we will generate synthetic data."
   ]
  },
  {
   "cell_type": "code",
   "execution_count": 41,
   "id": "67411307",
   "metadata": {},
   "outputs": [],
   "source": [
    "# Generate synthetic data for testing\n",
    "num_samples = 1000  # Number of samples\n",
    "\n",
    "# Create random data for input_A and input_B (e.g., 10 features each)\n",
    "input_A_data = np.random.rand(num_samples, 10)  # Shape (1000, 10)\n",
    "input_B_data = np.random.rand(num_samples, 20)  # Shape (1000, 20)\n",
    "\n",
    "# Generate random labels for the main and auxiliary outputs\n",
    "main_output_data = np.random.rand(num_samples, 1)  # Shape (1000, 1)\n",
    "aux_output_data = np.random.rand(num_samples, 1)   # Shape (1000, 1)"
   ]
  },
  {
   "cell_type": "markdown",
   "id": "18d0f132",
   "metadata": {},
   "source": [
    "<a name=\"4\"></a>\n",
    "## <font color='blue'> 4. Model </font>\n",
    "\n",
    "We will implement the following model:\n",
    "\n",
    "<br>\n",
    "    \n",
    "<img src=\"images/wide_deep.png\"/>"
   ]
  },
  {
   "cell_type": "markdown",
   "id": "53a5f4c1",
   "metadata": {},
   "source": [
    "Firts, we will use the Functional API:"
   ]
  },
  {
   "cell_type": "code",
   "execution_count": 42,
   "id": "c71c581b",
   "metadata": {},
   "outputs": [],
   "source": [
    "def build_compile_model(num_wide_features, num_deep_features):\n",
    "    # define inputs\n",
    "    input_wide = Input(shape=(num_wide_features, ), name=\"Wide_Input\")\n",
    "    input_deep = Input(shape=(num_deep_features, ), name=\"Deep_Input\")\n",
    "\n",
    "    # define deep path\n",
    "    hidden_1 = Dense(30, activation=\"relu\")(input_deep)\n",
    "    hidden_2 = Dense(30, activation=\"relu\")(hidden_1)\n",
    "\n",
    "    # define merged path\n",
    "    concat = concatenate([input_wide, hidden_2])\n",
    "    output = Dense(1, name=\"Output\")(concat)\n",
    "\n",
    "    # define another output for the deep path\n",
    "    aux_output = Dense(1,name=\"aux_Output\")(hidden_2)\n",
    "\n",
    "    # build the model\n",
    "    model = Model(inputs=[input_wide, input_deep], outputs=[output, aux_output])\n",
    "    \n",
    "    # return\n",
    "    return model\n",
    "    "
   ]
  },
  {
   "cell_type": "code",
   "execution_count": 43,
   "id": "dd1bb586",
   "metadata": {},
   "outputs": [],
   "source": [
    "model = build_compile_model(1, 1)"
   ]
  },
  {
   "cell_type": "code",
   "execution_count": 44,
   "id": "d5204f84",
   "metadata": {},
   "outputs": [
    {
     "name": "stdout",
     "output_type": "stream",
     "text": [
      "Model: \"model_15\"\n",
      "__________________________________________________________________________________________________\n",
      " Layer (type)                Output Shape                 Param #   Connected to                  \n",
      "==================================================================================================\n",
      " Deep_Input (InputLayer)     [(None, 1)]                  0         []                            \n",
      "                                                                                                  \n",
      " dense_46 (Dense)            (None, 30)                   60        ['Deep_Input[0][0]']          \n",
      "                                                                                                  \n",
      " Wide_Input (InputLayer)     [(None, 1)]                  0         []                            \n",
      "                                                                                                  \n",
      " dense_47 (Dense)            (None, 30)                   930       ['dense_46[0][0]']            \n",
      "                                                                                                  \n",
      " concatenate_9 (Concatenate  (None, 31)                   0         ['Wide_Input[0][0]',          \n",
      " )                                                                   'dense_47[0][0]']            \n",
      "                                                                                                  \n",
      " Output (Dense)              (None, 1)                    32        ['concatenate_9[0][0]']       \n",
      "                                                                                                  \n",
      " aux_Output (Dense)          (None, 1)                    31        ['dense_47[0][0]']            \n",
      "                                                                                                  \n",
      "==================================================================================================\n",
      "Total params: 1053 (4.11 KB)\n",
      "Trainable params: 1053 (4.11 KB)\n",
      "Non-trainable params: 0 (0.00 Byte)\n",
      "__________________________________________________________________________________________________\n"
     ]
    }
   ],
   "source": [
    "model.summary()"
   ]
  },
  {
   "cell_type": "code",
   "execution_count": 45,
   "id": "9bd1cca2",
   "metadata": {},
   "outputs": [
    {
     "data": {
      "image/png": "[encoded data removed]",
      "text/plain": [
       "<IPython.core.display.Image object>"
      ]
     },
     "execution_count": 45,
     "metadata": {},
     "output_type": "execute_result"
    }
   ],
   "source": [
    "plot_model(model)"
   ]
  },
  {
   "cell_type": "markdown",
   "id": "8b465913",
   "metadata": {},
   "source": [
    "Now, we will implement it as a class.\n",
    "\n",
    "To do this, we define a class that inherits from the Model class.\n",
    "By inheriting from the Model class, we can use built-in methods like compile(), fit(), and evaluate().\n",
    "\n",
    "\n",
    "When subclassing Model, we need to define at least two methods:\n",
    "\n",
    "- ```__init__():``` \n",
    "    - Where we initialize the instance attributes and set up the layers.\n",
    "    \n",
    "    \n",
    "- call(): \n",
    "    - Where we build the forward pass by connecting the layers and returning the output.\n",
    "\n",
    "While the overall structure stays similar to other approaches, using a class allows us to define all the layers in ```__init__``` and then connect them in call, giving us more flexibility when designing custom architectures.\n",
    "\n"
   ]
  },
  {
   "cell_type": "code",
   "execution_count": 46,
   "id": "97e1ddff",
   "metadata": {},
   "outputs": [],
   "source": [
    "class WideAndDeepModel(Model):\n",
    "    \"\"\"\n",
    "    A model that combines the Wide and Deep learning architectures.\n",
    "    \n",
    "    The model has two hidden layers, one for the deep part (input_B) and one for the wide part (input_A).\n",
    "    It outputs two predictions: the main output and an auxiliary output. This model is designed for use cases\n",
    "    that benefit from both wide and deep learning components.\n",
    "    \"\"\"\n",
    "\n",
    "    def __init__(self, units=30, activation='relu', **kwargs):\n",
    "        \"\"\"\n",
    "        Initializes the instance attributes.\n",
    "        \n",
    "        Args:\n",
    "            units (int): The number of units in the hidden layers.\n",
    "            activation (str): The activation function for the hidden layers.\n",
    "            **kwargs: Additional arguments passed to the base class `Model`.\n",
    "        \"\"\"\n",
    "        super().__init__(**kwargs)  # Initialize the parent Model class\n",
    "        self.hidden1 = Dense(units, activation=activation)  # First hidden layer (deep part)\n",
    "        self.hidden2 = Dense(units, activation=activation)  # Second hidden layer (deep part)\n",
    "        self.main_output = Dense(1)  # Main output layer\n",
    "        self.aux_output = Dense(1)  # Auxiliary output layer\n",
    "\n",
    "    def call(self, inputs):\n",
    "        \"\"\"\n",
    "        Defines the forward pass of the model, specifying how the data flows through the network.\n",
    "        \n",
    "        Args:\n",
    "            inputs (list): A list of two inputs: input_A and input_B.\n",
    "        \n",
    "        Returns:\n",
    "            tuple: A tuple containing the main output and auxiliary output.\n",
    "        \"\"\"\n",
    "        input_A, input_B = inputs  # Unpack the inputs\n",
    "        hidden1 = self.hidden1(input_B)  # Pass input_B through the first hidden layer\n",
    "        hidden2 = self.hidden2(hidden1)  # Pass the result through the second hidden layer\n",
    "        concat = concatenate([input_A, hidden2])  # Concatenate input_A with the deep network output\n",
    "        main_output = self.main_output(concat)  # Compute the main output\n",
    "        aux_output = self.aux_output(hidden2)  # Compute the auxiliary output\n",
    "        \n",
    "        return main_output, aux_output  # Return both outputs\n"
   ]
  },
  {
   "cell_type": "markdown",
   "id": "c2a8dfa9",
   "metadata": {},
   "source": [
    "<a name=\"5\"></a>\n",
    "## <font color='blue'> 5. Training </font>\n",
    "\n",
    "Let's train our model."
   ]
  },
  {
   "cell_type": "code",
   "execution_count": 49,
   "id": "e0bf53cb",
   "metadata": {},
   "outputs": [
    {
     "data": {
      "text/plain": [
       "<keras.src.callbacks.History at 0x79eff2d27d90>"
      ]
     },
     "execution_count": 49,
     "metadata": {},
     "output_type": "execute_result"
    }
   ],
   "source": [
    "# Define the input layers for the model\n",
    "input_A = Input(shape=(input_A_data.shape[1],))  # 10 features\n",
    "input_B = Input(shape=(input_B_data.shape[1],))  # 20 features\n",
    "\n",
    "# Initialize the model\n",
    "model = WideAndDeepModel(units=64, activation='relu')\n",
    "\n",
    "# Define the model's inputs and outputs\n",
    "main_output, aux_output = model([input_A, input_B])\n",
    "\n",
    "# Create the final model\n",
    "final_model = Model(inputs=[input_A, input_B], outputs=[main_output, aux_output])\n",
    "\n",
    "# Compile the model\n",
    "final_model.compile(optimizer=Adam(), loss='mse', metrics=['mae'])\n",
    "\n",
    "# Train the model with the synthetic data\n",
    "final_model.fit([input_A_data, input_B_data], [main_output_data, aux_output_data], \n",
    "                 verbose=0, epochs=10, batch_size=32)"
   ]
  },
  {
   "cell_type": "markdown",
   "id": "bc2f9e2c",
   "metadata": {},
   "source": [
    "<a name=\"6\"></a>\n",
    "## <font color='blue'> 6. Predictions </font>\n",
    "\n",
    "Finally, let's make predictions."
   ]
  },
  {
   "cell_type": "code",
   "execution_count": 48,
   "id": "be732b91",
   "metadata": {},
   "outputs": [
    {
     "name": "stdout",
     "output_type": "stream",
     "text": [
      "1/1 [==============================] - 0s 75ms/step\n",
      "Main Output Predictions:\n",
      " [[0.29950747]\n",
      " [0.44180724]\n",
      " [0.25185195]\n",
      " [0.56478745]\n",
      " [0.45130977]]\n",
      "\n",
      "Auxiliary Output Predictions:\n",
      " [[0.41137284]\n",
      " [0.47043952]\n",
      " [0.50082964]\n",
      " [0.40682563]\n",
      " [0.4181565 ]]\n"
     ]
    }
   ],
   "source": [
    "# Generate new synthetic data for prediction\n",
    "new_input_A = np.random.rand(5, 10)  # 5 new samples for input A\n",
    "new_input_B = np.random.rand(5, 20)  # 5 new samples for input B\n",
    "\n",
    "# Make predictions\n",
    "predictions = final_model.predict([new_input_A, new_input_B])\n",
    "\n",
    "# Display predictions\n",
    "main_pred, aux_pred = predictions\n",
    "print(\"Main Output Predictions:\\n\", main_pred)\n",
    "print(\"\\nAuxiliary Output Predictions:\\n\", aux_pred)"
   ]
  },
  {
   "cell_type": "markdown",
   "id": "977a2ba1",
   "metadata": {},
   "source": [
    "<a name=\"references\"></a>\n",
    "## <font color='blue'> 7. References </font>\n",
    "\n",
    "[TensorFlow Advanced Techniques Specialization](https://www.coursera.org/specializations/tensorflow-advanced-techniques)\n"
   ]
  }
 ],
 "metadata": {
  "kernelspec": {
   "display_name": "Python 3 (ipykernel)",
   "language": "python",
   "name": "python3"
  },
  "language_info": {
   "codemirror_mode": {
    "name": "ipython",
    "version": 3
   },
   "file_extension": ".py",
   "mimetype": "text/x-python",
   "name": "python",
   "nbconvert_exporter": "python",
   "pygments_lexer": "ipython3",
   "version": "3.10.12"
  }
 },
 "nbformat": 4,
 "nbformat_minor": 5
}
